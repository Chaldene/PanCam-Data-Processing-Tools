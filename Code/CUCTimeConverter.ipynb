{
 "nbformat": 4,
 "nbformat_minor": 2,
 "metadata": {
  "language_info": {
   "name": "python",
   "codemirror_mode": {
    "name": "ipython",
    "version": 3
   },
   "version": "3.7.6-final"
  },
  "orig_nbformat": 2,
  "file_extension": ".py",
  "mimetype": "text/x-python",
  "name": "python",
  "npconvert_exporter": "python",
  "pygments_lexer": "ipython3",
  "version": 3,
  "kernelspec": {
   "name": "python37664bitprocessorconda4f323e9960824ce38e2301e05c58c044",
   "display_name": "Python 3.7.6 64-bit ('Processor': conda)"
  }
 },
 "cells": [
  {
   "source": [
    "import datetime\n",
    "import pandas as pd\n",
    "from pathlib import Path\n",
    "from astropy.time import TimeDelta, Time\n",
    "from astropy import units\n",
    "import PC_Fns"
   ],
   "cell_type": "code",
   "outputs": [],
   "metadata": {},
   "execution_count": 1
  },
  {
   "source": [
    "CUC = 0x25AF1828AA44\n",
    "CUCsec = CUC>>16\n",
    "CUCfrac = CUC & 0xFFFF #0x8000 #0x242D\n",
    "ms = CUCfrac/0x10000\n",
    "# Expected time is 11:32 14 Jan\n",
    "# File 12033 12032 10496 11008\n",
    "\n",
    "# Solution from \n",
    "print(CUC)\n",
    "print(\"ms: \", ms)\n",
    "print(TimeDelta(ms,format='sec'))"
   ],
   "cell_type": "code",
   "outputs": [
    {
     "output_type": "stream",
     "name": "stdout",
     "text": "41433954822724\nms:  0.66510009765625\n0.66510009765625\n"
    }
   ],
   "metadata": {},
   "execution_count": 2
  },
  {
   "source": [
    "print((Time(2000, format='jyear') + TimeDelta(CUCsec*units.s) - TimeDelta(12*60*60, format='sec') + TimeDelta(ms, format='sec')).iso)"
   ],
   "cell_type": "code",
   "outputs": [
    {
     "output_type": "stream",
     "name": "stdout",
     "text": "2020-01-13 11:59:36.665\n"
    }
   ],
   "metadata": {},
   "execution_count": 3
  },
  {
   "source": [
    "PROC_DIR = Path(r'C:\\Users\\ucasbwh\\Desktop\\Ha Dev2\\PROC')\n",
    "\n",
    "# Search for PanCam Processed Files\n",
    "PikFile = PC_Fns.Find_Files(PROC_DIR, \"*RAW_HKTM.pickle\")\n",
    "if not PikFile:\n",
    "    print(\"No files found - ABORTING\")\n",
    "\n",
    "# Read RAW TM pickle file\n",
    "RAW = pd.read_pickle(PikFile[0])\n",
    "CalTM = pd.DataFrame()"
   ],
   "cell_type": "code",
   "outputs": [],
   "metadata": {},
   "execution_count": 4
  },
  {
   "source": [
    "RAW['Pkt_CUC']\n",
    "\n",
    "RAW['CUCfrac'] = RAW['Pkt_CUC'].apply(lambda x: (x & 0xFFFF)/0x10000)\n",
    "\n",
    "Test = RAW.apply(lambda row: (Time(2000, format='jyear') + TimeDelta((row['Pkt_CUC']>>16)*units.s) - TimeDelta(12*60*60, format='sec') + TimeDelta((row['CUCfrac']), format='sec')).iso, axis=1)\n",
    "print(Test)"
   ],
   "cell_type": "code",
   "outputs": [
    {
     "output_type": "stream",
     "name": "stdout",
     "text": "0      2020-01-13 11:50:47.665\n1      2020-01-13 11:50:48.665\n2      2020-01-13 11:50:49.665\n3      2020-01-13 11:50:50.665\n4      2020-01-13 11:50:51.665\n                ...           \n571    2020-01-13 12:00:18.665\n572    2020-01-13 12:00:19.665\n573    2020-01-13 12:00:20.665\n574    2020-01-13 12:00:21.665\n575    2020-01-13 12:00:22.665\nLength: 576, dtype: object\n"
    }
   ],
   "metadata": {},
   "execution_count": 21
  }
 ]
}