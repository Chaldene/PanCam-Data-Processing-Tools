{
 "nbformat": 4,
 "nbformat_minor": 2,
 "metadata": {
  "language_info": {
   "name": "python",
   "codemirror_mode": {
    "name": "ipython",
    "version": 3
   },
   "version": "3.7.6-final"
  },
  "orig_nbformat": 2,
  "file_extension": ".py",
  "mimetype": "text/x-python",
  "name": "python",
  "npconvert_exporter": "python",
  "pygments_lexer": "ipython3",
  "version": 3,
  "kernelspec": {
   "name": "python3",
   "display_name": "Python 3"
  }
 },
 "cells": [
  {
   "cell_type": "code",
   "execution_count": 10,
   "metadata": {},
   "outputs": [],
   "source": [
    "from pathlib import Path\n",
    "import pandas as pd\n",
    "from bitstruct import unpack_from as upf\n",
    "import binascii"
   ]
  },
  {
   "cell_type": "code",
   "execution_count": 5,
   "metadata": {},
   "outputs": [],
   "source": [
    "def PandUPF(Column, Len, OffBy, OffBi):\n",
    "    \"\"\"Extracts a single RAW value from a binary pandas data column\"\"\"\n",
    "    if int(Len[1:]) > 63:\n",
    "        raise ValueError(\"PandUPF used for variable larger than 63 bits. Returned value is cast to an Int64\")\n",
    "    Extract = Column.apply(lambda x: upf(Len, x, offset=8*OffBy+OffBi)[0]).astype('Int64')\n",
    "    return Extract"
   ]
  },
  {
   "cell_type": "code",
   "execution_count": 6,
   "metadata": {},
   "outputs": [
    {
     "name": "stdout",
     "output_type": "stream",
     "text": "[WindowsPath('C:/Users/ucasbwh/Desktop/Proc Dev/191106_212023_Unproc_HKTM.pickle')]\n                       DT  Stat_PIU_Pw\n0 2019-11-06 21:20:23.587            0\n1 2019-11-06 21:20:24.585            0\n2 2019-11-06 21:20:25.475            0\n3 2019-11-06 21:20:26.587            0\n4 2019-11-06 21:20:27.596            0\n"
    }
   ],
   "source": [
    "DIR = Path(r\"C:\\Users\\ucasbwh\\Desktop\\Proc Dev\")\n",
    "\n",
    "HKfiles = sorted(DIR.rglob(\"*Unproc_HKTM.pickle\"))\n",
    "print(HKfiles)\n",
    "\n",
    "RTM = pd.read_pickle(HKfiles[0])\n",
    "Bin = RTM['RAW'].apply(lambda x: bytearray.fromhex(x))\n",
    "TM = pd.DataFrame()\n",
    "TM['DT'] = RTM['DT']\n",
    "TM['Stat_PIU_Pw'] = PandUPF(Bin, 'u8', 43, 0)\n",
    "print(TM.head())\n"
   ]
  },
  {
   "cell_type": "code",
   "execution_count": 8,
   "metadata": {},
   "outputs": [
    {
     "name": "stdout",
     "output_type": "stream",
     "text": "0       [0, 0, 0, 0, 0, 0, 0, 0, 0, 0, 0, 0, 0, 0, 0, ...\n1       [0, 0, 0, 0, 0, 0, 0, 0, 0, 0, 0, 0, 0, 0, 0, ...\n2       [0, 0, 0, 0, 0, 0, 0, 0, 0, 0, 0, 0, 0, 0, 0, ...\n3       [0, 0, 0, 0, 0, 0, 0, 0, 0, 0, 0, 0, 0, 0, 0, ...\n4       [0, 0, 0, 0, 0, 0, 0, 0, 0, 0, 0, 0, 0, 0, 0, ...\n                              ...                        \n1737    [0, 50, 95, 74, 9, 0, 0, 2, 0, 0, 0, 0, 0, 0, ...\n1738    [0, 50, 95, 74, 9, 0, 0, 2, 0, 0, 0, 0, 0, 0, ...\n1739    [0, 50, 95, 75, 192, 0, 0, 2, 0, 0, 0, 0, 0, 0...\n1740    [0, 50, 95, 75, 192, 0, 0, 2, 0, 0, 0, 0, 0, 0...\n1741    [0, 50, 95, 75, 192, 0, 0, 2, 0, 0, 0, 0, 0, 0...\nName: RAW, Length: 1742, dtype: object\n"
    }
   ],
   "source": [
    "CamResSeries = Bin.apply(lambda x: x[44:64])\n",
    "print(CamResSeries)"
   ]
  },
  {
   "cell_type": "code",
   "execution_count": 23,
   "metadata": {},
   "outputs": [
    {
     "name": "stdout",
     "output_type": "stream",
     "text": "Bin  \\\n0  [0, 0, 0, 0, 0, 0, 0, 0, 0, 0, 0, 0, 0, 0, 0, ...   \n1  [0, 0, 0, 0, 0, 0, 0, 0, 0, 0, 0, 0, 0, 0, 0, ...   \n2  [0, 0, 0, 0, 0, 0, 0, 0, 0, 0, 0, 0, 0, 0, 0, ...   \n3  [0, 0, 0, 0, 0, 0, 0, 0, 0, 0, 0, 0, 0, 0, 0, ...   \n4  [0, 0, 0, 0, 0, 0, 0, 0, 0, 0, 0, 0, 0, 0, 0, ...   \n\n                                        String  \n0  b'0000000000000000000000000000000000000000'  \n1  b'0000000000000000000000000000000000000000'  \n2  b'0000000000000000000000000000000000000000'  \n3  b'0000000000000000000000000000000000000000'  \n4  b'0000000000000000000000000000000000000000'  \n"
    }
   ],
   "source": [
    "CamRes = pd.DataFrame({ 'Bin': CamResSeries,\n",
    "                        'String': CamResSeries.apply(lambda x: str(binascii.hexlify(x))) })\n",
    "print(CamRes.head())"
   ]
  },
  {
   "cell_type": "code",
   "execution_count": 20,
   "metadata": {},
   "outputs": [
    {
     "name": "stdout",
     "output_type": "stream",
     "text": "<class 'bytes'>\n"
    }
   ],
   "source": [
    "test = CamRes.Bin[0]\n",
    "end = binascii.hexlify(test)\n",
    "print(type(end))"
   ]
  },
  {
   "cell_type": "code",
   "execution_count": 35,
   "metadata": {},
   "outputs": [
    {
     "name": "stdout",
     "output_type": "stream",
     "text": "Bin  \\\n0     [0, 0, 0, 0, 0, 0, 0, 0, 0, 0, 0, 0, 0, 0, 0, ...   \n1     [0, 0, 0, 0, 0, 0, 0, 0, 0, 0, 0, 0, 0, 0, 0, ...   \n2     [0, 0, 0, 0, 0, 0, 0, 0, 0, 0, 0, 0, 0, 0, 0, ...   \n3     [0, 0, 0, 0, 0, 0, 0, 0, 0, 0, 0, 0, 0, 0, 0, ...   \n4     [0, 0, 0, 0, 0, 0, 0, 0, 0, 0, 0, 0, 0, 0, 0, ...   \n...                                                 ...   \n1737  [0, 50, 95, 74, 9, 0, 0, 2, 0, 0, 0, 0, 0, 0, ...   \n1738  [0, 50, 95, 74, 9, 0, 0, 2, 0, 0, 0, 0, 0, 0, ...   \n1739  [0, 50, 95, 75, 192, 0, 0, 2, 0, 0, 0, 0, 0, 0...   \n1740  [0, 50, 95, 75, 192, 0, 0, 2, 0, 0, 0, 0, 0, 0...   \n1741  [0, 50, 95, 75, 192, 0, 0, 2, 0, 0, 0, 0, 0, 0...   \n\n                                           String  Change  BinChange  \\\n0     b'0000000000000000000000000000000000000000'    True       True   \n1     b'0000000000000000000000000000000000000000'   False      False   \n2     b'0000000000000000000000000000000000000000'   False      False   \n3     b'0000000000000000000000000000000000000000'   False      False   \n4     b'0000000000000000000000000000000000000000'   False      False   \n...                                           ...     ...        ...   \n1737  b'00325f4a09000002000000000000000000000000'    True       True   \n1738  b'00325f4a09000002000000000000000000000000'   False      False   \n1739  b'00325f4bc0000002000000000000000000000000'    True       True   \n1740  b'00325f4bc0000002000000000000000000000000'   False      False   \n1741  b'00325f4bc0000002000000000000000000000000'   False      False   \n\n      CamChange  \n0          True  \n1         False  \n2         False  \n3         False  \n4         False  \n...         ...  \n1737      False  \n1738      False  \n1739      False  \n1740       True  \n1741      False  \n\n[1742 rows x 5 columns]\n"
    }
   ],
   "source": [
    "#CamRes['Change'] = CamRes['String'].diff()\n",
    "#dataframe['changed'] = dataframe['ColumnB'] == dataframe['ColumnB'].shift(1).fillna(dataframe['ColumnB'])\n",
    "CamRes['BinChange'] = CamRes['Bin'] != CamRes['Bin'].shift(1)\n",
    "CamRes['CamChange'] = TM['Stat_PIU_Pw'].diff() != 0\n",
    "print(CamRes) "
   ]
  }
 ]
}