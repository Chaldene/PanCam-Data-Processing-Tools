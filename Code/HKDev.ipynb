{
 "nbformat": 4,
 "nbformat_minor": 2,
 "metadata": {
  "language_info": {
   "name": "python",
   "codemirror_mode": {
    "name": "ipython",
    "version": 3
   },
   "version": "3.7.6-final"
  },
  "orig_nbformat": 2,
  "file_extension": ".py",
  "mimetype": "text/x-python",
  "name": "python",
  "npconvert_exporter": "python",
  "pygments_lexer": "ipython3",
  "version": 3,
  "kernelspec": {
   "name": "python37664bitd19f5fc5bb3f42ae87eec491771892ef",
   "display_name": "Python 3.7.6 64-bit"
  }
 },
 "cells": [
  {
   "cell_type": "code",
   "execution_count": 2,
   "metadata": {},
   "outputs": [],
   "source": [
    "import pandas as pd\n",
    "from pathlib import Path"
   ]
  },
  {
   "cell_type": "code",
   "execution_count": 4,
   "metadata": {},
   "outputs": [
    {
     "name": "stdout",
     "output_type": "stream",
     "text": "Index(['DT', 'Block_Type', 'TM_Criticality', 'MMS_Dest', 'Instr_ID',\n       'TM_Type_ID', 'Seq_Flag', 'Pkt_CUC', 'Data_Len', 'Volt_Ref', 'Volt_6V0',\n       'Volt_1V5', 'Temp_LFW', 'Temp_RFW', 'Temp_HRC', 'Temp_LWAC',\n       'Temp_RWAC', 'Temp_LDO', 'Temp_HRCA', 'Stat_Temp_On', 'Stat_Temp_Mo',\n       'Stat_Temp_He', 'Stat_Temp_Se', 'ERR_1_CMD', 'ERR_1_FW', 'ERR_2_LWAC',\n       'ERR_2_RWAC', 'ERR_3_HRC', 'Stat_FWL_Op', 'Stat_FWL_Ho', 'Stat_FWL_Id',\n       'Stat_FWL_Po', 'Stat_FWR_Op', 'Stat_FWR_Ho', 'Stat_FWR_Id',\n       'Stat_FWR_Po', 'FWL_ABS', 'FWR_ABS', 'FWL_REL', 'FWR_REL',\n       'Stat_PIU_En', 'Stat_PIU_Pw', 'IMG_SOL', 'IMG_Task_ID', 'IMG_Task_RNO',\n       'IMG_Cam', 'IMG_FW', 'IMG_No', 'PIU_Ver', 'FWL_RTi', 'FWL_Spe',\n       'FWR_Spe', 'FWL_Cur', 'FWR_Cur', 'FWR_RTi', 'FWL_StL', 'FWR_StR',\n       'HRC_ACK', 'HRC_CS', 'HRC_TP', 'HRC_ENC', 'HRC_EPF', 'HRC_AIF',\n       'HRC_AFF', 'HRC_MMF', 'HRC_IFC', 'HRC_GA', 'HRC_ESF', 'HRC_EIF',\n       'HRC_ERR_EN', 'HRC_ERR_AI', 'HRC_ERR_AF', 'HRC_MD_STP', 'HRC_MD_INT',\n       'HRC_MD_FXC', 'HRC_MD_FYC', 'HRC_MD_SFS', 'HRC_MD_FWZ', 'HRC_Res_CA'],\n      dtype='object')\n"
    }
   ],
   "source": [
    "wkdir = Path(r\"C:\\Users\\ucasbwh\\Desktop\\20190911_110400_HRC Geometric Initial Check\\PROC\")\n",
    "RAW = pd.read_pickle(wkdir/\"RAW_HKTM.pickle\")\n",
    "print(RAW.columns)"
   ]
  },
  {
   "cell_type": "code",
   "execution_count": 9,
   "metadata": {},
   "outputs": [
    {
     "data": {
      "text/plain": "2      1218\n181      27\n6        13\n11        5\n10        2\n15        2\n18        1\nName: HRC_ACK, dtype: int64"
     },
     "execution_count": 9,
     "metadata": {},
     "output_type": "execute_result"
    }
   ],
   "source": [
    "RAW['HRC_ACK'].value_counts()"
   ]
  },
  {
   "cell_type": "code",
   "execution_count": 11,
   "metadata": {},
   "outputs": [
    {
     "name": "stdout",
     "output_type": "stream",
     "text": "Yes\n"
    }
   ],
   "source": [
    "if ('HRC_ACK' in RAW):\n",
    "    if 0x02 in RAW['HRC_ACK'].values:\n",
    "        print(\"Yes\")\n",
    "    else:\n",
    "else: print(\"No\")"
   ]
  },
  {
   "cell_type": "code",
   "execution_count": null,
   "metadata": {},
   "outputs": [],
   "source": []
  }
 ]
}