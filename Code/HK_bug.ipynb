{
 "nbformat": 4,
 "nbformat_minor": 2,
 "metadata": {
  "language_info": {
   "name": "python",
   "codemirror_mode": {
    "name": "ipython",
    "version": 3
   },
   "version": "3.7.6-final"
  },
  "orig_nbformat": 2,
  "file_extension": ".py",
  "mimetype": "text/x-python",
  "name": "python",
  "npconvert_exporter": "python",
  "pygments_lexer": "ipython3",
  "version": 3,
  "kernelspec": {
   "name": "python37664bitd19f5fc5bb3f42ae87eec491771892ef",
   "display_name": "Python 3.7.6 64-bit"
  }
 },
 "cells": [
  {
   "cell_type": "code",
   "execution_count": 44,
   "metadata": {},
   "outputs": [],
   "source": [
    "import pandas as pd\n",
    "from pathlib import Path\n",
    "import PC_Fns"
   ]
  },
  {
   "cell_type": "code",
   "execution_count": 45,
   "metadata": {},
   "outputs": [
    {
     "data": {
      "text/html": "<div>\n<style scoped>\n    .dataframe tbody tr th:only-of-type {\n        vertical-align: middle;\n    }\n\n    .dataframe tbody tr th {\n        vertical-align: top;\n    }\n\n    .dataframe thead th {\n        text-align: right;\n    }\n</style>\n<table border=\"1\" class=\"dataframe\">\n  <thead>\n    <tr style=\"text-align: right;\">\n      <th></th>\n      <th>SPW_RAW</th>\n      <th>RAW</th>\n      <th>Source</th>\n      <th>Unix_Time</th>\n    </tr>\n  </thead>\n  <tbody>\n    <tr>\n      <th>0</th>\n      <td>21010C00410010000000589D150700000F1231AA00004D...</td>\n      <td>150700000F1231AA00004D0007090484073B06B806B806...</td>\n      <td>SWIS</td>\n      <td>1581692534774</td>\n    </tr>\n    <tr>\n      <th>1</th>\n      <td>21010C0041001600000058A8150700000F1331AA00004D...</td>\n      <td>150700000F1331AA00004D0007090484073B06B806B806...</td>\n      <td>SWIS</td>\n      <td>1581692535780</td>\n    </tr>\n    <tr>\n      <th>2</th>\n      <td>21010C0041001C00000048EB350300000F1431AA00003D...</td>\n      <td>350300000F1431AA00003D0007090484073B06B806B806...</td>\n      <td>SWIS</td>\n      <td>1581692536778</td>\n    </tr>\n    <tr>\n      <th>3</th>\n      <td>21010C0041002200000058E7150700000F1531AA00004D...</td>\n      <td>150700000F1531AA00004D0007090484073B06B806B806...</td>\n      <td>SWIS</td>\n      <td>1581692537783</td>\n    </tr>\n    <tr>\n      <th>4</th>\n      <td>21010C0041002800000058B8150700000F1631AA00004D...</td>\n      <td>150700000F1631AA00004D0007090484073B06B806B806...</td>\n      <td>SWIS</td>\n      <td>1581692538793</td>\n    </tr>\n    <tr>\n      <th>...</th>\n      <td>...</td>\n      <td>...</td>\n      <td>...</td>\n      <td>...</td>\n    </tr>\n    <tr>\n      <th>186</th>\n      <td>21010C0041087700000058EA150700000F7131AA00004D...</td>\n      <td>150700000F7131AA00004D0007090484073B06B806B806...</td>\n      <td>SWIS</td>\n      <td>1581692829863</td>\n    </tr>\n    <tr>\n      <th>187</th>\n      <td>21010C004108820000004835350300000F7231AA00003D...</td>\n      <td>350300000F7231AA00003D0007090484073B06B806B806...</td>\n      <td>SWIS</td>\n      <td>1581692830863</td>\n    </tr>\n    <tr>\n      <th>188</th>\n      <td>21010C0041088D00000058B9150700000F7331AA00004D...</td>\n      <td>150700000F7331AA00004D0007090484073B06B806B806...</td>\n      <td>SWIS</td>\n      <td>1581692831895</td>\n    </tr>\n    <tr>\n      <th>189</th>\n      <td>21010C00410897000000587E150700000F7431AA00004D...</td>\n      <td>150700000F7431AA00004D0007090484073B06B806B806...</td>\n      <td>SWIS</td>\n      <td>1581692832818</td>\n    </tr>\n    <tr>\n      <th>190</th>\n      <td>21010C004108A200000058D8150700000F7531AA00004D...</td>\n      <td>150700000F7531AA00004D0007090484073B06B806B806...</td>\n      <td>SWIS</td>\n      <td>1581692833848</td>\n    </tr>\n  </tbody>\n</table>\n<p>191 rows × 4 columns</p>\n</div>",
      "text/plain": "                                               SPW_RAW  \\\n0    21010C00410010000000589D150700000F1231AA00004D...   \n1    21010C0041001600000058A8150700000F1331AA00004D...   \n2    21010C0041001C00000048EB350300000F1431AA00003D...   \n3    21010C0041002200000058E7150700000F1531AA00004D...   \n4    21010C0041002800000058B8150700000F1631AA00004D...   \n..                                                 ...   \n186  21010C0041087700000058EA150700000F7131AA00004D...   \n187  21010C004108820000004835350300000F7231AA00003D...   \n188  21010C0041088D00000058B9150700000F7331AA00004D...   \n189  21010C00410897000000587E150700000F7431AA00004D...   \n190  21010C004108A200000058D8150700000F7531AA00004D...   \n\n                                                   RAW Source      Unix_Time  \n0    150700000F1231AA00004D0007090484073B06B806B806...   SWIS  1581692534774  \n1    150700000F1331AA00004D0007090484073B06B806B806...   SWIS  1581692535780  \n2    350300000F1431AA00003D0007090484073B06B806B806...   SWIS  1581692536778  \n3    150700000F1531AA00004D0007090484073B06B806B806...   SWIS  1581692537783  \n4    150700000F1631AA00004D0007090484073B06B806B806...   SWIS  1581692538793  \n..                                                 ...    ...            ...  \n186  150700000F7131AA00004D0007090484073B06B806B806...   SWIS  1581692829863  \n187  350300000F7231AA00003D0007090484073B06B806B806...   SWIS  1581692830863  \n188  150700000F7331AA00004D0007090484073B06B806B806...   SWIS  1581692831895  \n189  150700000F7431AA00004D0007090484073B06B806B806...   SWIS  1581692832818  \n190  150700000F7531AA00004D0007090484073B06B806B806...   SWIS  1581692833848  \n\n[191 rows x 4 columns]"
     },
     "execution_count": 45,
     "metadata": {},
     "output_type": "execute_result"
    }
   ],
   "source": [
    "dir = Path(r\"C:\\Users\\ucasbwh\\OneDrive - University College London\\PanCam Documents\\SWIS\\200214 TB200131 PC1_9_0\\Pancam_20200130_testbench3.1.12\\bin\\PROC\\PANCAM_HRC_Calibration_NCR_72_HK\")\n",
    "\n",
    "file = \"PANCAM_HRC_Calibration_NCR_72_HK_Unproc_HKTM.pickle\"\n",
    "\n",
    "RTM = pd.read_pickle(dir / file)\n",
    "RTM"
   ]
  },
  {
   "cell_type": "code",
   "execution_count": 47,
   "metadata": {},
   "outputs": [
    {
     "data": {
      "text/plain": "0    [21, 7, 0, 0, 15, 18, 49, 170, 0, 0, 77, 0, 7,...\n1    [21, 7, 0, 0, 15, 19, 49, 170, 0, 0, 77, 0, 7,...\n2    [53, 3, 0, 0, 15, 20, 49, 170, 0, 0, 61, 0, 7,...\n3    [21, 7, 0, 0, 15, 21, 49, 170, 0, 0, 77, 0, 7,...\n4    [21, 7, 0, 0, 15, 22, 49, 170, 0, 0, 77, 0, 7,...\nName: RAW, dtype: object"
     },
     "execution_count": 47,
     "metadata": {},
     "output_type": "execute_result"
    }
   ],
   "source": [
    "Bin = RTM['RAW'].apply(lambda x: bytearray.fromhex(x))\n",
    "Bin.head()"
   ]
  },
  {
   "cell_type": "code",
   "execution_count": 49,
   "metadata": {},
   "outputs": [
    {
     "data": {
      "text/plain": "90    []\nName: RAW, dtype: object"
     },
     "execution_count": 49,
     "metadata": {},
     "output_type": "execute_result"
    }
   ],
   "source": [
    "TM = pd.DataFrame()\n",
    "verify = Bin.apply(len) == 0\n",
    "err_df = Bin[verify]\n",
    "err_df"
   ]
  },
  {
   "cell_type": "code",
   "execution_count": 58,
   "metadata": {},
   "outputs": [
    {
     "data": {
      "text/plain": "85    [21, 7, 0, 0, 15, 103, 49, 170, 0, 0, 77, 0, 7...\n86    [53, 3, 0, 0, 15, 104, 49, 170, 0, 0, 61, 0, 7...\n87    [21, 7, 0, 0, 15, 105, 49, 170, 0, 0, 77, 0, 7...\n88    [21, 7, 0, 0, 15, 106, 49, 170, 0, 0, 77, 0, 7...\n89    [21, 7, 0, 0, 15, 107, 49, 170, 0, 0, 77, 0, 7...\n91    [21, 7, 0, 0, 15, 18, 49, 170, 0, 0, 77, 0, 7,...\n92    [21, 7, 0, 0, 15, 19, 49, 170, 0, 0, 77, 0, 7,...\n93    [53, 3, 0, 0, 15, 20, 49, 170, 0, 0, 61, 0, 7,...\n94    [21, 7, 0, 0, 15, 21, 49, 170, 0, 0, 77, 0, 7,...\n95    [21, 7, 0, 0, 15, 22, 49, 170, 0, 0, 77, 0, 7,...\nName: RAW, dtype: object"
     },
     "execution_count": 58,
     "metadata": {},
     "output_type": "execute_result"
    }
   ],
   "source": [
    "if not err_df.empty:\n",
    "    Bin = Bin.drop(item for item in err_df.index.tolist())\n",
    "Bin[85:95]"
   ]
  },
  {
   "cell_type": "code",
   "execution_count": null,
   "metadata": {},
   "outputs": [],
   "source": []
  }
 ]
}