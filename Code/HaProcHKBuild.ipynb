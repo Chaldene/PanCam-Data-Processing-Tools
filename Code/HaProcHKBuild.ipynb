{
 "nbformat": 4,
 "nbformat_minor": 2,
 "metadata": {
  "language_info": {
   "name": "python",
   "codemirror_mode": {
    "name": "ipython",
    "version": 3
   },
   "version": "3.7.6-final"
  },
  "orig_nbformat": 2,
  "file_extension": ".py",
  "mimetype": "text/x-python",
  "name": "python",
  "npconvert_exporter": "python",
  "pygments_lexer": "ipython3",
  "version": 3,
  "kernelspec": {
   "name": "python37664bitprocessorconda4f323e9960824ce38e2301e05c58c044",
   "display_name": "Python 3.7.6 64-bit ('Processor': conda)"
  }
 },
 "cells": [
  {
   "cell_type": "code",
   "execution_count": 1,
   "metadata": {},
   "outputs": [],
   "source": [
    "## Notebook to develop .ha HK assembling to Unproc_HKTM.pickle\n",
    "\n",
    "from pathlib import Path\n",
    "import PC_Fns\n",
    "import pandas as pd\n",
    "import numpy as np"
   ]
  },
  {
   "cell_type": "code",
   "execution_count": 2,
   "metadata": {},
   "outputs": [
    {
     "name": "stdout",
     "output_type": "stream",
     "text": "[WindowsPath('C:/Users/ucasbwh/OneDrive - University College London/PanCam Documents/Rover Level Testing/Data/200113 - RV Cal 4_4 - PanCam to ISEM/PROC/PanCam_11011.HKES_raw')]\n[WindowsPath('C:/Users/ucasbwh/OneDrive - University College London/PanCam Documents/Rover Level Testing/Data/200113 - RV Cal 4_4 - PanCam to ISEM/PROC/PanCam_10499.HKNE_raw')]\n"
    }
   ],
   "source": [
    "DIR = Path(r\"C:\\Users\\ucasbwh\\OneDrive - University College London\\PanCam Documents\\Rover Level Testing\\Data\\200113 - RV Cal 4_4 - PanCam to ISEM\\PROC\")\n",
    "\n",
    "RAW_ES = PC_Fns.Find_Files(DIR, \"*.HKES_raw\")\n",
    "RAW_NE = PC_Fns.Find_Files(DIR, \"*.HKNE_raw\")\n",
    "\n",
    "print(RAW_ES)\n",
    "print(RAW_)"
   ]
  },
  {
   "cell_type": "code",
   "execution_count": 6,
   "metadata": {},
   "outputs": [
    {
     "name": "stdout",
     "output_type": "stream",
     "text": "RAW         Pkt_CUC\n0      b'5\\x03%\\xaf0\\xd3\\x90D\\x00\\x00=\\x00\\x07\\x10\\x0...  41434368675908\n1      b'5\\x03%\\xaf0\\xdd\\x90D\\x00\\x00=\\x00\\x07\\x10\\x0...  41434369331268\n2      b'5\\x03%\\xaf0\\xe7\\x90D\\x00\\x00=\\x00\\x07\\x10\\x0...  41434369986628\n3      b'5\\x03%\\xaf0\\xf1\\x90D\\x00\\x00=\\x00\\x07\\x10\\x0...  41434370641988\n4      b'5\\x03%\\xaf0\\xfb\\x90D\\x00\\x00=\\x00\\x07\\x10\\x0...  41434371297348\n...                                                  ...             ...\n11976  b'\\x15\\x07%\\xafh1\\x90D\\x00\\x00M\\x00\\x07\\x12\\x0...  41435297583172\n11977  b'\\x15\\x07%\\xafh2\\x90D\\x00\\x00M\\x00\\x07\\x12\\x0...  41435297648708\n11978  b'\\x15\\x07%\\xafh4\\x90D\\x00\\x00M\\x00\\x07\\x12\\x0...  41435297779780\n11979  b'\\x15\\x07%\\xafh5\\x90D\\x00\\x00M\\x00\\x07\\x12\\x0...  41435297845316\n11980  b'\\x15\\x07%\\xafh6\\x90D\\x00\\x00M\\x00\\x07\\x10\\x0...  41435297910852\n\n[14188 rows x 2 columns]\n"
    }
   ],
   "source": [
    "ES = pd.DataFrame(columns=['RAW'])\n",
    "NE = pd.DataFrame(columns=['RAW'])\n",
    "raw_data = []\n",
    "for curfile in RAW_ES:\n",
    "    with open(curfile, \"rb\") as f:\n",
    "        line = f.read(72)\n",
    "        while len(line) == 72:\n",
    "            raw_data.append(line)\n",
    "            line = f.read(72)\n",
    "ES['RAW'] = raw_data\n",
    "\n",
    "raw_data = []\n",
    "for curfile in RAW_NE:\n",
    "    with open(curfile, \"rb\") as f:\n",
    "        line = f.read(88)\n",
    "        while len(line) == 88:\n",
    "            raw_data.append(line)\n",
    "            line = f.read(88)\n",
    "NE['RAW'] = raw_data\n",
    "\n",
    "RTM = pd.concat([ES, NE], axis=0, join='outer')\n",
    "RTM = PC_Fns.ReturnCUC_RAW(RTM, RTM['RAW'])\n",
    "RTM = RTM\n",
    "RTM = RTM.sort_values(['CUC_RAW'])\n",
    "print(RTM)\n",
    "#Final do a sort and then pickle :)"
   ]
  },
  {
   "cell_type": "code",
   "execution_count": 58,
   "metadata": {},
   "outputs": [
    {
     "name": "stdout",
     "output_type": "stream",
     "text": "float64\n"
    }
   ],
   "source": [
    "raw_data = np.empty(0)\n",
    "for curfile in RAW_ES:\n",
    "    cur_data = np.fromfile(curfile, dtype='u1')\n",
    "    raw_data = np.append(raw_data, cur_data)\n",
    "ES = raw_data.reshape(-1,72)\n",
    "\n",
    "raw_data = np.empty(0)\n",
    "for curfile in RAW_NE:\n",
    "    cur_data = np.fromfile(curfile, dtype=np.uint8)\n",
    "    raw_data = np.append(raw_data, cur_data)\n",
    "NE = pd.DataFrame()\n",
    "NE = raw_data.reshape(-1, 88)\n",
    "\n",
    "print(raw_data.dtype)"
   ]
  },
  {
   "cell_type": "code",
   "execution_count": 77,
   "metadata": {},
   "outputs": [
    {
     "ename": "ValueError",
     "evalue": "cannot reshape array of size 1 into shape (72)",
     "output_type": "error",
     "traceback": [
      "\u001b[1;31m---------------------------------------------------------------------------\u001b[0m",
      "\u001b[1;31mValueError\u001b[0m                                Traceback (most recent call last)",
      "\u001b[1;32m<ipython-input-77-c8cba46b187b>\u001b[0m in \u001b[0;36m<module>\u001b[1;34m\u001b[0m\n\u001b[0;32m      1\u001b[0m \u001b[1;32mfor\u001b[0m \u001b[0mcurfile\u001b[0m \u001b[1;32min\u001b[0m \u001b[0mRAW_ES\u001b[0m\u001b[1;33m:\u001b[0m\u001b[1;33m\u001b[0m\u001b[1;33m\u001b[0m\u001b[0m\n\u001b[0;32m      2\u001b[0m     \u001b[0mcurData\u001b[0m \u001b[1;33m=\u001b[0m \u001b[0mopen\u001b[0m\u001b[1;33m(\u001b[0m\u001b[0mcurfile\u001b[0m\u001b[1;33m,\u001b[0m \u001b[1;34m\"rb\"\u001b[0m\u001b[1;33m)\u001b[0m\u001b[1;33m.\u001b[0m\u001b[0mread\u001b[0m\u001b[1;33m(\u001b[0m\u001b[1;33m)\u001b[0m\u001b[1;33m\u001b[0m\u001b[1;33m\u001b[0m\u001b[0m\n\u001b[1;32m----> 3\u001b[1;33m \u001b[0msplit\u001b[0m \u001b[1;33m=\u001b[0m \u001b[0mnp\u001b[0m\u001b[1;33m.\u001b[0m\u001b[0marray\u001b[0m\u001b[1;33m(\u001b[0m\u001b[1;33m[\u001b[0m\u001b[0mcurData\u001b[0m\u001b[1;33m]\u001b[0m\u001b[1;33m)\u001b[0m\u001b[1;33m.\u001b[0m\u001b[0mreshape\u001b[0m\u001b[1;33m(\u001b[0m\u001b[1;33m-\u001b[0m\u001b[1;36m1\u001b[0m\u001b[1;33m,\u001b[0m\u001b[1;36m72\u001b[0m\u001b[1;33m)\u001b[0m\u001b[1;33m\u001b[0m\u001b[1;33m\u001b[0m\u001b[0m\n\u001b[0m\u001b[0;32m      4\u001b[0m \u001b[0mprint\u001b[0m\u001b[1;33m(\u001b[0m\u001b[0msplit\u001b[0m\u001b[1;33m)\u001b[0m\u001b[1;33m\u001b[0m\u001b[1;33m\u001b[0m\u001b[0m\n",
      "\u001b[1;31mValueError\u001b[0m: cannot reshape array of size 1 into shape (72)"
     ]
    }
   ],
   "source": [
    "for curfile in RAW_ES:\n",
    "    curData = open(curfile, \"rb\").read()\n",
    "split = np.array([curData]).reshape(-1,72)\n",
    "print(split)"
   ]
  },
  {
   "cell_type": "code",
   "execution_count": null,
   "metadata": {},
   "outputs": [],
   "source": [
    "for curfile in HKfiles:\n",
    "        DL = pd.DataFrame()\n",
    "        DT = pd.read_table(curfile, sep=']', header=None)\n",
    "\n",
    "        DL['SPW_RAW'] = DT[1].apply(\n",
    "            lambda x: x.replace('0x', '').replace(' ', ''))\n",
    "        DL['RAW'] = DL.SPW_RAW.apply(lambda x: x[108-84:-2])\n",
    "        DL['Source'] = 'SWIS'\n",
    "        DL['Unix_Time'] = DT[0].apply(lambda x: x[11:-12])\n",
    "\n",
    "        # Create individual folders and save here\n",
    "        curName = curfile.stem\n",
    "        curDIR = SWIS_DIR / \"PROC\" / curName\n",
    "        if curDIR.is_dir():\n",
    "            logger.info(\"Instance Processing Directory already exists\")\n",
    "        else:\n",
    "            logger.info(\"Generating Instance Processing Directory\")\n",
    "            curDIR.mkdir()\n",
    "        DL.to_pickle(curDIR / (curName + \"_Unproc_HKTM.pickle\"))"
   ]
  }
 ]
}