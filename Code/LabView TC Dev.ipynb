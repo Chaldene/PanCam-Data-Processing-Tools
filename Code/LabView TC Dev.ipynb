{
 "nbformat": 4,
 "nbformat_minor": 2,
 "metadata": {
  "language_info": {
   "name": "python",
   "codemirror_mode": {
    "name": "ipython",
    "version": 3
   },
   "version": "3.7.6-final"
  },
  "orig_nbformat": 2,
  "file_extension": ".py",
  "mimetype": "text/x-python",
  "name": "python",
  "npconvert_exporter": "python",
  "pygments_lexer": "ipython3",
  "version": 3,
  "kernelspec": {
   "name": "python37664bitd19f5fc5bb3f42ae87eec491771892ef",
   "display_name": "Python 3.7.6 64-bit"
  }
 },
 "cells": [
  {
   "cell_type": "code",
   "execution_count": 1,
   "metadata": {},
   "outputs": [],
   "source": [
    "import pandas as pd\n",
    "from pathlib import Path\n",
    "import PC_Fns\n",
    "import numpy as np"
   ]
  },
  {
   "cell_type": "code",
   "execution_count": 17,
   "metadata": {},
   "outputs": [
    {
     "name": "stdout",
     "output_type": "stream",
     "text": "1\n"
    }
   ],
   "source": [
    "wkdir = Path(r\"C:\\Users\\ucasbwh\\Desktop\\20190923_101047_WAC_L10_20C_ABSR\")\n",
    "\n",
    "files_tc = PC_Fns.Find_Files(wkdir, \"RMAP_CMD_*.txt\")\n",
    "print(len(files_tc))"
   ]
  },
  {
   "cell_type": "code",
   "execution_count": 20,
   "metadata": {},
   "outputs": [],
   "source": [
    "tc_hdr_strings = ['Date', 'Time', 'Description']\n",
    "tc_hdr_cmd = list(range(0,11))\n",
    "tc_hdr = tc_hdr_strings + tc_hdr_cmd\n",
    "tc_col = tc_hdr_cmd\n",
    "tc = pd.DataFrame()"
   ]
  },
  {
   "cell_type": "code",
   "execution_count": 21,
   "metadata": {},
   "outputs": [
    {
     "data": {
      "text/html": "<div>\n<style scoped>\n    .dataframe tbody tr th:only-of-type {\n        vertical-align: middle;\n    }\n\n    .dataframe tbody tr th {\n        vertical-align: top;\n    }\n\n    .dataframe thead th {\n        text-align: right;\n    }\n</style>\n<table border=\"1\" class=\"dataframe\">\n  <thead>\n    <tr style=\"text-align: right;\">\n      <th></th>\n      <th>Date</th>\n      <th>Time</th>\n      <th>Description</th>\n      <th>0</th>\n      <th>1</th>\n      <th>2</th>\n      <th>3</th>\n      <th>4</th>\n      <th>5</th>\n      <th>6</th>\n      <th>7</th>\n      <th>8</th>\n      <th>9</th>\n      <th>10</th>\n      <th>DT</th>\n      <th>BID</th>\n      <th>ACTION</th>\n    </tr>\n  </thead>\n  <tbody>\n    <tr>\n      <th>0</th>\n      <td>2019-09-23</td>\n      <td>10:11:04.334</td>\n      <td>PAN_TC_PIU_STIME</td>\n      <td>168</td>\n      <td>0</td>\n      <td>1</td>\n      <td>0</td>\n      <td>6</td>\n      <td>0</td>\n      <td>30</td>\n      <td>225</td>\n      <td>184</td>\n      <td>0</td>\n      <td>85</td>\n      <td>2019-09-23 10:11:04.334</td>\n      <td>0</td>\n      <td>STIME</td>\n    </tr>\n    <tr>\n      <th>1</th>\n      <td>2019-09-23</td>\n      <td>10:11:59.671</td>\n      <td>PAN_TC_PIU_CE</td>\n      <td>168</td>\n      <td>8</td>\n      <td>2</td>\n      <td>0</td>\n      <td>5</td>\n      <td>1</td>\n      <td>0</td>\n      <td>0</td>\n      <td>0</td>\n      <td>0</td>\n      <td>-1</td>\n      <td>2019-09-23 10:11:59.671</td>\n      <td>1</td>\n      <td>CE</td>\n    </tr>\n    <tr>\n      <th>2</th>\n      <td>2019-09-23</td>\n      <td>10:12:01.671</td>\n      <td>PAN_TC_PIU_PE</td>\n      <td>168</td>\n      <td>16</td>\n      <td>3</td>\n      <td>0</td>\n      <td>5</td>\n      <td>1</td>\n      <td>0</td>\n      <td>0</td>\n      <td>0</td>\n      <td>0</td>\n      <td>-1</td>\n      <td>2019-09-23 10:12:01.671</td>\n      <td>2</td>\n      <td>PE</td>\n    </tr>\n    <tr>\n      <th>3</th>\n      <td>2019-09-23</td>\n      <td>10:12:32.896</td>\n      <td>PAN_TC_PIU_FWL</td>\n      <td>168</td>\n      <td>48</td>\n      <td>4</td>\n      <td>0</td>\n      <td>5</td>\n      <td>3</td>\n      <td>10</td>\n      <td>0</td>\n      <td>0</td>\n      <td>0</td>\n      <td>-1</td>\n      <td>2019-09-23 10:12:32.896</td>\n      <td>6</td>\n      <td>FWL</td>\n    </tr>\n    <tr>\n      <th>4</th>\n      <td>2019-09-23</td>\n      <td>10:15:19.682</td>\n      <td>PAN_TC_PIU_WACL</td>\n      <td>170</td>\n      <td>0</td>\n      <td>5</td>\n      <td>0</td>\n      <td>12</td>\n      <td>32</td>\n      <td>3</td>\n      <td>169</td>\n      <td>112</td>\n      <td>0</td>\n      <td>0</td>\n      <td>2019-09-23 10:15:19.682</td>\n      <td>64</td>\n      <td>WACL</td>\n    </tr>\n    <tr>\n      <th>5</th>\n      <td>2019-09-23</td>\n      <td>10:15:50.701</td>\n      <td>PAN_TC_PIU_WACL</td>\n      <td>170</td>\n      <td>0</td>\n      <td>6</td>\n      <td>0</td>\n      <td>12</td>\n      <td>160</td>\n      <td>0</td>\n      <td>32</td>\n      <td>0</td>\n      <td>0</td>\n      <td>0</td>\n      <td>2019-09-23 10:15:50.701</td>\n      <td>64</td>\n      <td>WACL</td>\n    </tr>\n    <tr>\n      <th>6</th>\n      <td>2019-09-23</td>\n      <td>10:22:06.886</td>\n      <td>PAN_TC_PIU_WACL</td>\n      <td>170</td>\n      <td>0</td>\n      <td>7</td>\n      <td>0</td>\n      <td>12</td>\n      <td>32</td>\n      <td>3</td>\n      <td>169</td>\n      <td>112</td>\n      <td>0</td>\n      <td>0</td>\n      <td>2019-09-23 10:22:06.886</td>\n      <td>64</td>\n      <td>WACL</td>\n    </tr>\n    <tr>\n      <th>7</th>\n      <td>2019-09-23</td>\n      <td>10:22:26.886</td>\n      <td>PAN_TC_PIU_WACL</td>\n      <td>170</td>\n      <td>0</td>\n      <td>8</td>\n      <td>0</td>\n      <td>12</td>\n      <td>160</td>\n      <td>0</td>\n      <td>32</td>\n      <td>0</td>\n      <td>0</td>\n      <td>0</td>\n      <td>2019-09-23 10:22:26.886</td>\n      <td>64</td>\n      <td>WACL</td>\n    </tr>\n    <tr>\n      <th>8</th>\n      <td>2019-09-23</td>\n      <td>10:23:52.901</td>\n      <td>PAN_TC_PIU_WACL</td>\n      <td>170</td>\n      <td>0</td>\n      <td>9</td>\n      <td>0</td>\n      <td>12</td>\n      <td>32</td>\n      <td>4</td>\n      <td>225</td>\n      <td>240</td>\n      <td>0</td>\n      <td>0</td>\n      <td>2019-09-23 10:23:52.901</td>\n      <td>64</td>\n      <td>WACL</td>\n    </tr>\n    <tr>\n      <th>9</th>\n      <td>2019-09-23</td>\n      <td>10:24:16.901</td>\n      <td>PAN_TC_PIU_WACL</td>\n      <td>170</td>\n      <td>0</td>\n      <td>10</td>\n      <td>0</td>\n      <td>12</td>\n      <td>160</td>\n      <td>0</td>\n      <td>32</td>\n      <td>0</td>\n      <td>0</td>\n      <td>0</td>\n      <td>2019-09-23 10:24:16.901</td>\n      <td>64</td>\n      <td>WACL</td>\n    </tr>\n  </tbody>\n</table>\n</div>",
      "text/plain": "         Date           Time         Description    0   1   2  3   4    5   6  \\\n0  2019-09-23  10:11:04.334    PAN_TC_PIU_STIME   168   0   1  0   6    0  30   \n1  2019-09-23  10:11:59.671       PAN_TC_PIU_CE   168   8   2  0   5    1   0   \n2  2019-09-23  10:12:01.671       PAN_TC_PIU_PE   168  16   3  0   5    1   0   \n3  2019-09-23  10:12:32.896      PAN_TC_PIU_FWL   168  48   4  0   5    3  10   \n4  2019-09-23  10:15:19.682     PAN_TC_PIU_WACL   170   0   5  0  12   32   3   \n5  2019-09-23  10:15:50.701     PAN_TC_PIU_WACL   170   0   6  0  12  160   0   \n6  2019-09-23  10:22:06.886     PAN_TC_PIU_WACL   170   0   7  0  12   32   3   \n7  2019-09-23  10:22:26.886     PAN_TC_PIU_WACL   170   0   8  0  12  160   0   \n8  2019-09-23  10:23:52.901     PAN_TC_PIU_WACL   170   0   9  0  12   32   4   \n9  2019-09-23  10:24:16.901     PAN_TC_PIU_WACL   170   0  10  0  12  160   0   \n\n     7    8  9  10                      DT  BID  ACTION  \n0  225  184  0  85 2019-09-23 10:11:04.334    0  STIME   \n1    0    0  0  -1 2019-09-23 10:11:59.671    1     CE   \n2    0    0  0  -1 2019-09-23 10:12:01.671    2     PE   \n3    0    0  0  -1 2019-09-23 10:12:32.896    6    FWL   \n4  169  112  0   0 2019-09-23 10:15:19.682   64   WACL   \n5   32    0  0   0 2019-09-23 10:15:50.701   64   WACL   \n6  169  112  0   0 2019-09-23 10:22:06.886   64   WACL   \n7   32    0  0   0 2019-09-23 10:22:26.886   64   WACL   \n8  225  240  0   0 2019-09-23 10:23:52.901   64   WACL   \n9   32    0  0   0 2019-09-23 10:24:16.901   64   WACL   "
     },
     "execution_count": 21,
     "metadata": {},
     "output_type": "execute_result"
    }
   ],
   "source": [
    "for curfile in files_tc:\n",
    "    dt = pd.read_csv(curfile, sep='\\t', names=tc_hdr, dtype=object)\n",
    "    if dt.size == 0: continue\n",
    "    if dt['Description'].iloc[-1] == '  ': dt = dt[:-1]\n",
    "    dt[tc_col] = dt[tc_col].fillna('-1')\n",
    "    dt[tc_col] = dt[tc_col].applymap(lambda x: int(x, base=16))\n",
    "    dt[tc_col] = dt[tc_col].replace('-1', np.nan)\n",
    "    dt['DT'] = dt['Date'] + dt['Time']\n",
    "    dt['BID'] = ((dt[0]*256+dt[1])&0x7F8).values>>3\n",
    "    dt['DT'] = pd.to_datetime(dt['DT'], format='%Y-%m-%d%H:%M:%S.%f ')\n",
    "    tc = tc.append(dt, ignore_index = True)\n",
    "\n",
    "tc['ACTION'] = tc['Description'].map(lambda x: x[12:])\n",
    "\n",
    "tc.head(10)"
   ]
  },
  {
   "cell_type": "code",
   "execution_count": 2,
   "metadata": {},
   "outputs": [],
   "source": [
    "from datetime import datetime\n",
    "from astropy.time import TimeDelta, Time\n",
    "from astropy import units"
   ]
  },
  {
   "cell_type": "code",
   "execution_count": 3,
   "metadata": {},
   "outputs": [
    {
     "data": {
      "text/html": "<div>\n<style scoped>\n    .dataframe tbody tr th:only-of-type {\n        vertical-align: middle;\n    }\n\n    .dataframe tbody tr th {\n        vertical-align: top;\n    }\n\n    .dataframe thead th {\n        text-align: right;\n    }\n</style>\n<table border=\"1\" class=\"dataframe\">\n  <thead>\n    <tr style=\"text-align: right;\">\n      <th></th>\n      <th>Time</th>\n      <th>RAW</th>\n      <th>Source</th>\n    </tr>\n  </thead>\n  <tbody>\n    <tr>\n      <th>0</th>\n      <td>2019-09-23\\t10:11:05.656</td>\n      <td>15 07 00 1E E1 B9 00 53 00 00 4D 00 07 18 04 8...</td>\n      <td>LabView</td>\n    </tr>\n    <tr>\n      <th>1</th>\n      <td>2019-09-23\\t10:11:06.657</td>\n      <td>15 07 00 1E E1 BA 00 53 00 00 4D 00 07 18 04 8...</td>\n      <td>LabView</td>\n    </tr>\n    <tr>\n      <th>2</th>\n      <td>2019-09-23\\t10:11:07.656</td>\n      <td>15 07 00 1E E1 BB 00 53 00 00 4D 00 07 18 04 8...</td>\n      <td>LabView</td>\n    </tr>\n    <tr>\n      <th>3</th>\n      <td>2019-09-23\\t10:11:08.656</td>\n      <td>15 07 00 1E E1 BC 00 53 00 00 4D 00 07 18 04 8...</td>\n      <td>LabView</td>\n    </tr>\n    <tr>\n      <th>4</th>\n      <td>2019-09-23\\t10:11:09.656</td>\n      <td>15 07 00 1E E1 BD 00 53 00 00 4D 00 07 18 04 8...</td>\n      <td>LabView</td>\n    </tr>\n  </tbody>\n</table>\n</div>",
      "text/plain": "                       Time  \\\n0  2019-09-23\\t10:11:05.656   \n1  2019-09-23\\t10:11:06.657   \n2  2019-09-23\\t10:11:07.656   \n3  2019-09-23\\t10:11:08.656   \n4  2019-09-23\\t10:11:09.656   \n\n                                                 RAW   Source  \n0  15 07 00 1E E1 B9 00 53 00 00 4D 00 07 18 04 8...  LabView  \n1  15 07 00 1E E1 BA 00 53 00 00 4D 00 07 18 04 8...  LabView  \n2  15 07 00 1E E1 BB 00 53 00 00 4D 00 07 18 04 8...  LabView  \n3  15 07 00 1E E1 BC 00 53 00 00 4D 00 07 18 04 8...  LabView  \n4  15 07 00 1E E1 BD 00 53 00 00 4D 00 07 18 04 8...  LabView  "
     },
     "execution_count": 3,
     "metadata": {},
     "output_type": "execute_result"
    }
   ],
   "source": [
    "wkdir = Path(r\"C:\\Users\\ucasbwh\\Desktop\\20190923_101047_WAC_L10_20C_ABSR\\PROC\")\n",
    "RTM = pd.read_pickle(wkdir / \"Unproc_HKTM.pickle\")\n",
    "RTM.head()"
   ]
  },
  {
   "cell_type": "code",
   "execution_count": 4,
   "metadata": {},
   "outputs": [],
   "source": [
    "Bin = RTM['RAW'].apply(lambda x: bytearray.fromhex(x))\n",
    "RTM = PC_Fns.ReturnCUC_RAW(RTM, Bin)"
   ]
  },
  {
   "cell_type": "code",
   "execution_count": 5,
   "metadata": {},
   "outputs": [
    {
     "data": {
      "text/html": "<div>\n<style scoped>\n    .dataframe tbody tr th:only-of-type {\n        vertical-align: middle;\n    }\n\n    .dataframe tbody tr th {\n        vertical-align: top;\n    }\n\n    .dataframe thead th {\n        text-align: right;\n    }\n</style>\n<table border=\"1\" class=\"dataframe\">\n  <thead>\n    <tr style=\"text-align: right;\">\n      <th></th>\n      <th>Time</th>\n      <th>RAW</th>\n      <th>Source</th>\n      <th>Pkt_CUC</th>\n      <th>DT</th>\n    </tr>\n  </thead>\n  <tbody>\n    <tr>\n      <th>0</th>\n      <td>2019-09-23\\t10:11:05.656</td>\n      <td>15 07 00 1E E1 B9 00 53 00 00 4D 00 07 18 04 8...</td>\n      <td>LabView</td>\n      <td>132636016723</td>\n      <td>2019-09-23 10:11:05.656</td>\n    </tr>\n    <tr>\n      <th>1</th>\n      <td>2019-09-23\\t10:11:06.657</td>\n      <td>15 07 00 1E E1 BA 00 53 00 00 4D 00 07 18 04 8...</td>\n      <td>LabView</td>\n      <td>132636082259</td>\n      <td>2019-09-23 10:11:06.657</td>\n    </tr>\n    <tr>\n      <th>2</th>\n      <td>2019-09-23\\t10:11:07.656</td>\n      <td>15 07 00 1E E1 BB 00 53 00 00 4D 00 07 18 04 8...</td>\n      <td>LabView</td>\n      <td>132636147795</td>\n      <td>2019-09-23 10:11:07.656</td>\n    </tr>\n    <tr>\n      <th>3</th>\n      <td>2019-09-23\\t10:11:08.656</td>\n      <td>15 07 00 1E E1 BC 00 53 00 00 4D 00 07 18 04 8...</td>\n      <td>LabView</td>\n      <td>132636213331</td>\n      <td>2019-09-23 10:11:08.656</td>\n    </tr>\n    <tr>\n      <th>4</th>\n      <td>2019-09-23\\t10:11:09.656</td>\n      <td>15 07 00 1E E1 BD 00 53 00 00 4D 00 07 18 04 8...</td>\n      <td>LabView</td>\n      <td>132636278867</td>\n      <td>2019-09-23 10:11:09.656</td>\n    </tr>\n  </tbody>\n</table>\n</div>",
      "text/plain": "                       Time  \\\n0  2019-09-23\\t10:11:05.656   \n1  2019-09-23\\t10:11:06.657   \n2  2019-09-23\\t10:11:07.656   \n3  2019-09-23\\t10:11:08.656   \n4  2019-09-23\\t10:11:09.656   \n\n                                                 RAW   Source       Pkt_CUC  \\\n0  15 07 00 1E E1 B9 00 53 00 00 4D 00 07 18 04 8...  LabView  132636016723   \n1  15 07 00 1E E1 BA 00 53 00 00 4D 00 07 18 04 8...  LabView  132636082259   \n2  15 07 00 1E E1 BB 00 53 00 00 4D 00 07 18 04 8...  LabView  132636147795   \n3  15 07 00 1E E1 BC 00 53 00 00 4D 00 07 18 04 8...  LabView  132636213331   \n4  15 07 00 1E E1 BD 00 53 00 00 4D 00 07 18 04 8...  LabView  132636278867   \n\n                       DT  \n0 2019-09-23 10:11:05.656  \n1 2019-09-23 10:11:06.657  \n2 2019-09-23 10:11:07.656  \n3 2019-09-23 10:11:08.656  \n4 2019-09-23 10:11:09.656  "
     },
     "execution_count": 5,
     "metadata": {},
     "output_type": "execute_result"
    }
   ],
   "source": [
    "RTM['DT'] = pd.to_datetime(RTM['Time'], format='%Y-%m-%d\\t%H:%M:%S.%f')\n",
    "RTM.head()"
   ]
  },
  {
   "cell_type": "code",
   "execution_count": 6,
   "metadata": {},
   "outputs": [],
   "source": [
    "# First extract the year and month\n",
    "RTM['Year'] = RTM['DT'].dt.year\n",
    "RTM['Month'] = RTM['DT'].dt.month\n",
    "year = RTM['Year'][0]\n",
    "month = RTM['Month'][0]"
   ]
  },
  {
   "cell_type": "code",
   "execution_count": 7,
   "metadata": {},
   "outputs": [
    {
     "name": "stdout",
     "output_type": "stream",
     "text": "2019-09-23 10:11:08.001\n"
    }
   ],
   "source": [
    "RTM['CUCfrac'] = RTM['Pkt_CUC'].apply(lambda x: (x & 0xFFFF)/0x10000)\n",
    "test = RTM.iloc[3]\n",
    "CalcTime = (Time(datetime(year, month, 1, 0, 0, 0)) - TimeDelta(1, format='jd') + TimeDelta((test['Pkt_CUC'] >> 16)*units.s) + TimeDelta(test['CUCfrac'], format='sec')).iso\n",
    "print(CalcTime)"
   ]
  },
  {
   "cell_type": "code",
   "execution_count": 9,
   "metadata": {},
   "outputs": [
    {
     "name": "stdout",
     "output_type": "stream",
     "text": "0       2019-09-23 10:11:05.001\n1       2019-09-23 10:11:06.001\n2       2019-09-23 10:11:07.001\n3       2019-09-23 10:11:08.001\n4       2019-09-23 10:11:09.001\n                 ...           \n1609    2019-09-23 10:37:54.001\n1610    2019-09-23 10:37:55.001\n1611    2019-09-23 10:37:56.001\n1612    2019-09-23 10:37:57.001\n1613    2019-09-23 10:37:58.001\nLength: 1614, dtype: object\n"
    }
   ],
   "source": [
    "RTM['CUCfrac'] = RTM['Pkt_CUC'].apply(lambda x: (x & 0xFFFF)/0x10000)\n",
    "\n",
    "CalcTime = RTM.apply(lambda row: (Time(datetime(row['Year'], row['Month'], 1, 0, 0, 0)) - TimeDelta(1, format='jd') + TimeDelta((row['Pkt_CUC'] >> 16)*units.s) + TimeDelta(row['CUCfrac'], format='sec')).iso, axis=1)\n",
    "print(CalcTime)"
   ]
  },
  {
   "cell_type": "code",
   "execution_count": null,
   "metadata": {},
   "outputs": [],
   "source": []
  }
 ]
}