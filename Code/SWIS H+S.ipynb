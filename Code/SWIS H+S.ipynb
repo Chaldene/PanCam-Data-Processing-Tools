{
 "nbformat": 4,
 "nbformat_minor": 2,
 "metadata": {
  "language_info": {
   "name": "python",
   "codemirror_mode": {
    "name": "ipython",
    "version": 3
   },
   "version": "3.7.6-final"
  },
  "orig_nbformat": 2,
  "file_extension": ".py",
  "mimetype": "text/x-python",
  "name": "python",
  "npconvert_exporter": "python",
  "pygments_lexer": "ipython3",
  "version": 3,
  "kernelspec": {
   "name": "python37664bitprocessorconda4f323e9960824ce38e2301e05c58c044",
   "display_name": "Python 3.7.6 64-bit ('Processor': conda)"
  }
 },
 "cells": [
  {
   "cell_type": "code",
   "execution_count": 1,
   "metadata": {},
   "outputs": [],
   "source": [
    "# Notebook to create H&S text file for easy browsing\n",
    "\n",
    "import PC_Fns\n",
    "from pathlib import Path"
   ]
  },
  {
   "cell_type": "code",
   "execution_count": 2,
   "metadata": {},
   "outputs": [
    {
     "name": "stdout",
     "output_type": "stream",
     "text": "[WindowsPath('C:/Users/ucasbwh/OneDrive - University College London/PanCam Documents/SWIS/200127 Peter Revised 3.1.12/HRC Test with Error Injection r5 - Power Cycle/PANCAM_HRC_Calibration_NCR_72.txt')]\n"
    }
   ],
   "source": [
    "SWIS_DIR = Path(r'C:\\Users\\ucasbwh\\OneDrive - University College London\\PanCam Documents\\SWIS\\200127 Peter Revised 3.1.12\\HRC Test with Error Injection r5 - Power Cycle')\n",
    "\n",
    "txtFiles = PC_Fns.Find_Files(SWIS_DIR, \"*.txt\")\n",
    "HKFiles = PC_Fns.Find_Files(SWIS_DIR, \"*HK.txt\")\n",
    "HSFiles = list(set(txtFiles) - set(HKFiles))\n",
    "\n",
    "print(HSFiles)"
   ]
  },
  {
   "source": [
    "for curFile in HSFiles:\n",
    "    write_file = curFile.with_name(curFile.stem + \"_HS.txt\")\n",
    "    if write_file.exists():\n",
    "        write_file.unlink()\n",
    "    wf = open(write_file, 'w')\n",
    "\n",
    "    with open(curFile, 'r') as f:\n",
    "        line = f.readline()\n",
    "        HS = []\n",
    "        while line != \"\":\n",
    "            line = f.readline()\n",
    "            if \"Requested\" in line:\n",
    "                if \"message with 45 bytes\" in line:\n",
    "                    wf.write(line)\n",
    "            line = f.readline()\n",
    "    wf.close()"
   ],
   "cell_type": "code",
   "outputs": [],
   "metadata": {},
   "execution_count": 15
  },
  {
   "source": [
    "curFile = HSFiles[0]\n",
    "print(curFile.with_name(curFile.stem + \"_HS.txt\"))\n",
    "wf.close()"
   ],
   "cell_type": "code",
   "outputs": [
    {
     "output_type": "stream",
     "name": "stdout",
     "text": "C:\\Users\\ucasbwh\\OneDrive - University College London\\PanCam Documents\\SWIS\\200127 Peter Revised 3.1.12\\HRC Test with Error Injection r5 - Power Cycle\\PANCAM_HRC_Calibration_NCR_72_HS.txt\n"
    }
   ],
   "metadata": {},
   "execution_count": 14
  }
 ]
}