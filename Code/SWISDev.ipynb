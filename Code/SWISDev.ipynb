{
 "nbformat": 4,
 "nbformat_minor": 2,
 "metadata": {
  "language_info": {
   "name": "python",
   "codemirror_mode": {
    "name": "ipython",
    "version": 3
   },
   "version": "3.7.6-final"
  },
  "orig_nbformat": 2,
  "file_extension": ".py",
  "mimetype": "text/x-python",
  "name": "python",
  "npconvert_exporter": "python",
  "pygments_lexer": "ipython3",
  "version": 3,
  "kernelspec": {
   "name": "python37664bitd19f5fc5bb3f42ae87eec491771892ef",
   "display_name": "Python 3.7.6 64-bit"
  }
 },
 "cells": [
  {
   "cell_type": "code",
   "execution_count": 1,
   "metadata": {},
   "outputs": [],
   "source": [
    "import csv\n",
    "from pathlib import Path\n",
    "import PC_Fns"
   ]
  },
  {
   "cell_type": "code",
   "execution_count": 6,
   "metadata": {},
   "outputs": [
    {
     "output_type": "stream",
     "name": "stdout",
     "text": "7\n"
    }
   ],
   "source": [
    "wkdir = Path(r\"C:\\Users\\ucasbwh\\Desktop\\bin\\PROC\\PANCAM_HRC_Calibration_HEAT_ON\")\n",
    "sci_file = wkdir / \"PANCAM_HRC_Calibration_HEAT_ON_SC.txt\"\n",
    "img_raw_dir = wkdir / \"PROC\" / \"IMG_RAW\"\n",
    "\n",
    "num_pkts = sum(1 for line in open(sci_file))\n",
    "print(num_pkts)\n",
    "num_imgs = num_pkts // 7"
   ]
  },
  {
   "cell_type": "code",
   "execution_count": 7,
   "metadata": {},
   "outputs": [
    {
     "output_type": "stream",
     "name": "stdout",
     "text": "Warning last LDT length incorrect:  297152\n"
    }
   ],
   "source": [
    "img_lst = list(range(num_imgs))\n",
    "f = img_lst\n",
    "for item in img_lst:\n",
    "    write_file = img_raw_dir / (str(item).zfill(2) + \".pci_raw\")\n",
    "    f[item] = open(write_file, 'w+b')\n",
    "\n",
    "tmp_file = img_raw_dir / \"SC_Bin_Comp.bin\"\n",
    "f_tmp = open(tmp_file, 'w+b')\n",
    "\n",
    "pkts = 7\n",
    "cur_img = 0\n",
    "cur_pkt = 1\n",
    "with open(sci_file) as sci:\n",
    "    line = sci.readline()\n",
    "    while line != \"\":\n",
    "        line_red = line.replace(\"Timestamp: \", \"\")\n",
    "        # Remove TimeStamp and [Informative]\n",
    "        line_red = line_red[26:]\n",
    "        line_red = line_red.replace(\"0x\", \"\")\n",
    "        line_red = line_red.replace(\"\\n\", \"\").replace(\"\\r\", \"\")\n",
    "        binary_format = bytes.fromhex(line_red)\n",
    "        f_tmp.write(binary_format)\n",
    "        data = binary_format[12:-1]\n",
    "        if cur_pkt < 7:\n",
    "            if len(data) != 307200:\n",
    "                print(\"Warning LDT length incorrect\")\n",
    "\n",
    "        elif cur_pkt == 7:\n",
    "            if len(data) != 254000:\n",
    "                print(\"Warning last LDT length incorrect: \", len(data))\n",
    "        f[cur_img].write(data)\n",
    "        # Limit to writing 7 packets to each binary file\n",
    "        if cur_pkt == pkts:\n",
    "            cur_img += 1\n",
    "            cur_pkt = 1\n",
    "        else:\n",
    "            cur_pkt += 1\n",
    "        line = sci.readline()\n",
    "\n",
    "for file in f:\n",
    "    file.close()\n",
    "\n",
    "f_tmp.close()"
   ]
  },
  {
   "cell_type": "code",
   "execution_count": 17,
   "metadata": {},
   "outputs": [
    {
     "name": "stdout",
     "output_type": "stream",
     "text": "Files Match\n"
    }
   ],
   "source": [
    "# Recreate the binary file and then compare them\n",
    "\n",
    "ref = wkdir / \"PANCAM_WAC_RR_SC.bin\"\n",
    "\n",
    "if filecmp.cmp(tmp_file, ref, shallow=False):\n",
    "    print(\"Files Match\")\n",
    "else:\n",
    "    print(\"Files do not Match\")"
   ]
  },
  {
   "cell_type": "code",
   "execution_count": 21,
   "metadata": {},
   "outputs": [
    {
     "output_type": "stream",
     "name": "stdout",
     "text": "[WindowsPath('C:/Users/ucasbwh/Desktop/WAC_RR Test/PANCAM_WAC_RR_SC.txt')]\n"
    }
   ],
   "source": [
    "sci_files = PC_Fns.Find_Files(\n",
    "            wkdir, '*SC.txt', SingleFile=False, Recursive=False)\n",
    "print(sci_files)"
   ]
  },
  {
   "cell_type": "code",
   "execution_count": null,
   "metadata": {},
   "outputs": [],
   "source": []
  }
 ]
}