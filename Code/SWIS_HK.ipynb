{
 "nbformat": 4,
 "nbformat_minor": 2,
 "metadata": {
  "language_info": {
   "name": "python",
   "codemirror_mode": {
    "name": "ipython",
    "version": 3
   },
   "version": "3.7.6-final"
  },
  "orig_nbformat": 2,
  "file_extension": ".py",
  "mimetype": "text/x-python",
  "name": "python",
  "npconvert_exporter": "python",
  "pygments_lexer": "ipython3",
  "version": 3,
  "kernelspec": {
   "name": "python3",
   "display_name": "Python 3"
  }
 },
 "cells": [
  {
   "cell_type": "code",
   "execution_count": 1,
   "metadata": {},
   "outputs": [],
   "source": [
    "from pathlib import Path\n",
    "import pandas as pd\n",
    "from bitstruct import unpack_from as upf"
   ]
  },
  {
   "cell_type": "code",
   "execution_count": 25,
   "metadata": {},
   "outputs": [
    {
     "name": "stdout",
     "output_type": "stream",
     "text": "[]\n"
    }
   ],
   "source": [
    "DIR = Path(r\"C:\\Users\\ucasbwh\\Desktop\\Proc Dev\")\n",
    "\n",
    "HKfiles = sorted(DIR.rglob(\"*HK.txt\"))\n",
    "print(HKfiles)"
   ]
  },
  {
   "cell_type": "code",
   "execution_count": 3,
   "metadata": {},
   "outputs": [
    {
     "ename": "NameError",
     "evalue": "name 'reading' is not defined",
     "output_type": "error",
     "traceback": [
      "\u001b[1;31m---------------------------------------------------------------------------\u001b[0m",
      "\u001b[1;31mNameError\u001b[0m                                 Traceback (most recent call last)",
      "\u001b[1;32m<ipython-input-3-0f66d4438f4d>\u001b[0m in \u001b[0;36m<module>\u001b[1;34m\u001b[0m\n\u001b[1;32m----> 1\u001b[1;33m \u001b[0mreading\u001b[0m\u001b[1;33m.\u001b[0m\u001b[0mstem\u001b[0m\u001b[1;33m\u001b[0m\u001b[1;33m\u001b[0m\u001b[0m\n\u001b[0m",
      "\u001b[1;31mNameError\u001b[0m: name 'reading' is not defined"
     ]
    }
   ],
   "source": [
    "reading.stem"
   ]
  },
  {
   "cell_type": "code",
   "execution_count": 0,
   "metadata": {},
   "outputs": [],
   "source": [
    "reading = HKfiles[-1]\n",
    "log_data = open(reading, 'r')\n",
    "#columns = ['Text', 'TS_Byte', 'RAW']\n",
    "DT = pd.read_table(reading, sep=']', header=None)\n",
    "DT.head()"
   ]
  },
  {
   "cell_type": "code",
   "execution_count": 0,
   "metadata": {},
   "outputs": [],
   "source": [
    "DL = pd.DataFrame()\n",
    "DL['SPW_RAW'] = DT[1].apply(lambda x: x.replace('0x','').replace(' ',''))\n",
    "DL.head()"
   ]
  },
  {
   "cell_type": "code",
   "execution_count": 0,
   "metadata": {},
   "outputs": [],
   "source": [
    "DL['HK_RAW'] = DL.SPW_RAW.apply(lambda x: x[108-84:-2])"
   ]
  },
  {
   "cell_type": "code",
   "execution_count": 0,
   "metadata": {},
   "outputs": [],
   "source": [
    "DT['Unix'] = DT[0].apply(lambda x: x[11:-12])"
   ]
  },
  {
   "cell_type": "code",
   "execution_count": 0,
   "metadata": {},
   "outputs": [],
   "source": [
    "DL['DT'] = pd.to_datetime(DT['Unix'], unit='ms')\n",
    "DL.head()"
   ]
  },
  {
   "cell_type": "code",
   "execution_count": 0,
   "metadata": {},
   "outputs": [],
   "source": [
    "Bin = DL['HK_RAW'].apply(lambda x: bytearray.fromhex(x))\n",
    "Bin.head()"
   ]
  },
  {
   "cell_type": "code",
   "execution_count": 0,
   "metadata": {},
   "outputs": [],
   "source": [
    "## Test 1 Block Type is always 0\n",
    "Extract = Bin.apply(lambda x: upf('u1', x, offset=0)[0]).astype('int64')\n",
    "if True in (Extract !=0).unique():\n",
    "    print(\"Fail\")"
   ]
  },
  {
   "cell_type": "code",
   "execution_count": 0,
   "metadata": {},
   "outputs": [],
   "source": [
    "## Test 2 PanCam ID is always 5\n",
    "Extract = Bin.apply(lambda x: upf('u4', x, offset=4)[0]).astype('int64')\n",
    "if True in (Extract !=5).unique():\n",
    "    print(\"Fail\")"
   ]
  },
  {
   "cell_type": "code",
   "execution_count": 0,
   "metadata": {},
   "outputs": [],
   "source": [
    "## Test 3 Reserved Byte is always 0\n",
    "Extract = Bin.apply(lambda x: upf('u8', x, offset=11*8)[0]).astype('int64')\n",
    "if True in (Extract !=0).unique():\n",
    "    print(\"Fail\")"
   ]
  },
  {
   "source": [
    "DIR = Path(r\"C:\\Users\\ucasbwh\\Desktop\\Proc Dev\")\n",
    "\n",
    "HKfiles = sorted(DIR.rglob(\"*Unproc_HKTM.pickle\"))\n",
    "print(HKfiles)\n",
    "\n",
    "RTM = pd.read_pickle(HKfiles[0])"
   ],
   "cell_type": "code",
   "outputs": [
    {
     "output_type": "stream",
     "name": "stdout",
     "text": "[WindowsPath('C:/Users/ucasbwh/Desktop/Proc Dev/191106_212023_Unproc_HKTM.pickle')]\n"
    }
   ],
   "metadata": {},
   "execution_count": 27
  },
  {
   "cell_type": "code",
   "execution_count": 0,
   "metadata": {},
   "outputs": [],
   "source": [
    "RTM"
   ]
  },
  {
   "cell_type": "code",
   "execution_count": 0,
   "metadata": {},
   "outputs": [],
   "source": [
    "Bin = RTM['RAW'].apply(lambda x: bytearray.fromhex(x))"
   ]
  },
  {
   "cell_type": "code",
   "execution_count": 0,
   "metadata": {},
   "outputs": [],
   "source": [
    "def PandUPF(Column, Len, OffBy, OffBi):\n",
    "    \"\"\"Extracts a single RAW value from a binary pandas data column\"\"\"\n",
    "    if int(Len[1:]) > 63:\n",
    "        raise ValueError(\"PandUPF used for variable larger than 63 bits. Returned value is cast to an Int64\")\n",
    "    Extract = Column.apply(lambda x: upf(Len, x, offset=8*OffBy+OffBi)[0]).astype('Int64')\n",
    "    return Extract"
   ]
  },
  {
   "cell_type": "code",
   "execution_count": 0,
   "metadata": {},
   "outputs": [],
   "source": [
    "TM = pd.DataFrame()\n",
    "TM['TM_Type_ID']     = PandUPF(Bin, 'u6', 0, 8)\n",
    "TM"
   ]
  },
  {
   "cell_type": "code",
   "execution_count": 0,
   "metadata": {},
   "outputs": [],
   "source": [
    "NEBin = Bin[TM['TM_Type_ID']==1]\n",
    "display(NEBin)"
   ]
  },
  {
   "cell_type": "code",
   "execution_count": 0,
   "metadata": {},
   "outputs": [],
   "source": [
    "TM['TM_Type_ID'].head()"
   ]
  },
  {
   "cell_type": "code",
   "execution_count": 0,
   "metadata": {},
   "outputs": [],
   "source": [
    "Bin.head()"
   ]
  },
  {
   "cell_type": "code",
   "execution_count": 0,
   "metadata": {},
   "outputs": [],
   "source": [
    "NEBin.head()"
   ]
  },
  {
   "cell_type": "code",
   "execution_count": 0,
   "metadata": {},
   "outputs": [],
   "source": [
    "NEBin[82:83]"
   ]
  },
  {
   "cell_type": "code",
   "execution_count": 0,
   "metadata": {},
   "outputs": [],
   "source": [
    "## Test 4 Reserved Byte is always 0\n",
    "Extract = Bin.apply(lambda x: upf('u16', x, offset=12*8)[0]).astype('int64')\n",
    "if True in (Extract !=1801).unique():\n",
    "    print(\"Fail\")"
   ]
  }
 ]
}