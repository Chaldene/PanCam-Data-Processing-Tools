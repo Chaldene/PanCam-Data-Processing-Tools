{
 "nbformat": 4,
 "nbformat_minor": 2,
 "metadata": {
  "language_info": {
   "name": "python",
   "codemirror_mode": {
    "name": "ipython",
    "version": 3
   },
   "version": "3.7.5"
  },
  "orig_nbformat": 2,
  "file_extension": ".py",
  "mimetype": "text/x-python",
  "name": "python",
  "npconvert_exporter": "python",
  "pygments_lexer": "ipython3",
  "version": 3
 },
 "cells": [
  {
   "cell_type": "code",
   "execution_count": 19,
   "metadata": {},
   "outputs": [],
   "source": [
    "from pathlib import Path\n",
    "import pandas as pd\n",
    "from bitstruct import unpack_from as upf"
   ]
  },
  {
   "cell_type": "code",
   "execution_count": 15,
   "metadata": {},
   "outputs": [
    {
     "name": "stdout",
     "output_type": "stream",
     "text": "[WindowsPath('C:/Users/ucasbwh/Desktop/bin/ERR_INJ_1_FWL_HK.txt'), WindowsPath('C:/Users/ucasbwh/Desktop/bin/ERR_INJ_2_WACR_CMD_LOST_IAO_STUCK_HK.txt'), WindowsPath('C:/Users/ucasbwh/Desktop/bin/ERR_INJ_3_HRC_MM_STUCK_HK.txt'), WindowsPath('C:/Users/ucasbwh/Desktop/bin/ERR_INJ_4_BUILD_IN_ERRORS_HK.txt'), WindowsPath('C:/Users/ucasbwh/Desktop/bin/PANCAM_HRC_Calibration_HK.txt'), WindowsPath('C:/Users/ucasbwh/Desktop/bin/PANCAM_WAC_RR_HK.txt')]\n"
    }
   ],
   "source": [
    "DIR = Path(r\"C:\\Users\\ucasbwh\\Desktop\\bin\")\n",
    "\n",
    "HKfiles = sorted(DIR.rglob(\"*HK.txt\"))\n",
    "print(HKfiles)"
   ]
  },
  {
   "cell_type": "code",
   "execution_count": 96,
   "metadata": {},
   "outputs": [
    {
     "data": {
      "text/plain": "'PANCAM_WAC_RR_HK'"
     },
     "execution_count": 96,
     "metadata": {},
     "output_type": "execute_result"
    }
   ],
   "source": [
    "reading.stem"
   ]
  },
  {
   "cell_type": "code",
   "execution_count": 6,
   "metadata": {},
   "outputs": [
    {
     "data": {
      "text/html": "<div>\n<style scoped>\n    .dataframe tbody tr th:only-of-type {\n        vertical-align: middle;\n    }\n\n    .dataframe tbody tr th {\n        vertical-align: top;\n    }\n\n    .dataframe thead th {\n        text-align: right;\n    }\n</style>\n<table border=\"1\" class=\"dataframe\">\n  <thead>\n    <tr style=\"text-align: right;\">\n      <th></th>\n      <th>0</th>\n      <th>1</th>\n    </tr>\n  </thead>\n  <tbody>\n    <tr>\n      <th>0</th>\n      <td>Timestamp: 1554829292559[Informative</td>\n      <td>0x21 0x01 0x0C 0x00 0x41 0x00 0x03 0x00 0x00 0...</td>\n    </tr>\n    <tr>\n      <th>1</th>\n      <td>Timestamp: 1554829293129[Informative</td>\n      <td>0x21 0x01 0x0C 0x00 0x41 0x00 0x08 0x00 0x00 0...</td>\n    </tr>\n    <tr>\n      <th>2</th>\n      <td>Timestamp: 1554829294159[Informative</td>\n      <td>0x21 0x01 0x0C 0x00 0x41 0x00 0x11 0x00 0x00 0...</td>\n    </tr>\n    <tr>\n      <th>3</th>\n      <td>Timestamp: 1554829295216[Informative</td>\n      <td>0x21 0x01 0x0C 0x00 0x41 0x00 0x1A 0x00 0x00 0...</td>\n    </tr>\n    <tr>\n      <th>4</th>\n      <td>Timestamp: 1554829296239[Informative</td>\n      <td>0x21 0x01 0x0C 0x00 0x41 0x00 0x23 0x00 0x00 0...</td>\n    </tr>\n  </tbody>\n</table>\n</div>",
      "text/plain": "                                      0  \\\n0  Timestamp: 1554829292559[Informative   \n1  Timestamp: 1554829293129[Informative   \n2  Timestamp: 1554829294159[Informative   \n3  Timestamp: 1554829295216[Informative   \n4  Timestamp: 1554829296239[Informative   \n\n                                                   1  \n0  0x21 0x01 0x0C 0x00 0x41 0x00 0x03 0x00 0x00 0...  \n1  0x21 0x01 0x0C 0x00 0x41 0x00 0x08 0x00 0x00 0...  \n2  0x21 0x01 0x0C 0x00 0x41 0x00 0x11 0x00 0x00 0...  \n3  0x21 0x01 0x0C 0x00 0x41 0x00 0x1A 0x00 0x00 0...  \n4  0x21 0x01 0x0C 0x00 0x41 0x00 0x23 0x00 0x00 0...  "
     },
     "execution_count": 6,
     "metadata": {},
     "output_type": "execute_result"
    }
   ],
   "source": [
    "reading = HKfiles[-1]\n",
    "log_data = open(reading, 'r')\n",
    "#columns = ['Text', 'TS_Byte', 'RAW']\n",
    "DT = pd.read_table(reading, sep=']', header=None)\n",
    "DT.head()"
   ]
  },
  {
   "cell_type": "code",
   "execution_count": 51,
   "metadata": {},
   "outputs": [
    {
     "data": {
      "text/html": "<div>\n<style scoped>\n    .dataframe tbody tr th:only-of-type {\n        vertical-align: middle;\n    }\n\n    .dataframe tbody tr th {\n        vertical-align: top;\n    }\n\n    .dataframe thead th {\n        text-align: right;\n    }\n</style>\n<table border=\"1\" class=\"dataframe\">\n  <thead>\n    <tr style=\"text-align: right;\">\n      <th></th>\n      <th>SPW_RAW</th>\n    </tr>\n  </thead>\n  <tbody>\n    <tr>\n      <th>0</th>\n      <td>21010C0041000300000058FF150700000504000000004D...</td>\n    </tr>\n    <tr>\n      <th>1</th>\n      <td>21010C004100080000005849150700000505000000004D...</td>\n    </tr>\n    <tr>\n      <th>2</th>\n      <td>21010C0041001100000048683503000006BF03D700003D...</td>\n    </tr>\n    <tr>\n      <th>3</th>\n      <td>21010C0041001A00000058C21507000006C003D700004D...</td>\n    </tr>\n    <tr>\n      <th>4</th>\n      <td>21010C00410023000000580E1507000006C103D700004D...</td>\n    </tr>\n  </tbody>\n</table>\n</div>",
      "text/plain": "                                             SPW_RAW\n0  21010C0041000300000058FF150700000504000000004D...\n1  21010C004100080000005849150700000505000000004D...\n2  21010C0041001100000048683503000006BF03D700003D...\n3  21010C0041001A00000058C21507000006C003D700004D...\n4  21010C00410023000000580E1507000006C103D700004D..."
     },
     "execution_count": 51,
     "metadata": {},
     "output_type": "execute_result"
    }
   ],
   "source": [
    "DL = pd.DataFrame()\n",
    "DL['SPW_RAW'] = DT[1].apply(lambda x: x.replace('0x','').replace(' ',''))\n",
    "DL.head()"
   ]
  },
  {
   "cell_type": "code",
   "execution_count": 76,
   "metadata": {},
   "outputs": [],
   "source": [
    "DL['HK_RAW'] = DL.SPW_RAW.apply(lambda x: x[108-84:-2])"
   ]
  },
  {
   "cell_type": "code",
   "execution_count": 60,
   "metadata": {},
   "outputs": [],
   "source": [
    "DT['Unix'] = DT[0].apply(lambda x: x[11:-12])"
   ]
  },
  {
   "cell_type": "code",
   "execution_count": 77,
   "metadata": {},
   "outputs": [
    {
     "data": {
      "text/html": "<div>\n<style scoped>\n    .dataframe tbody tr th:only-of-type {\n        vertical-align: middle;\n    }\n\n    .dataframe tbody tr th {\n        vertical-align: top;\n    }\n\n    .dataframe thead th {\n        text-align: right;\n    }\n</style>\n<table border=\"1\" class=\"dataframe\">\n  <thead>\n    <tr style=\"text-align: right;\">\n      <th></th>\n      <th>SPW_RAW</th>\n      <th>HK_RAW</th>\n      <th>DT</th>\n    </tr>\n  </thead>\n  <tbody>\n    <tr>\n      <th>0</th>\n      <td>21010C0041000300000058FF150700000504000000004D...</td>\n      <td>150700000504000000004D0007090484073B06B806B806...</td>\n      <td>2019-04-09 17:01:32.559</td>\n    </tr>\n    <tr>\n      <th>1</th>\n      <td>21010C004100080000005849150700000505000000004D...</td>\n      <td>150700000505000000004D0007090484073B06B806B806...</td>\n      <td>2019-04-09 17:01:33.129</td>\n    </tr>\n    <tr>\n      <th>2</th>\n      <td>21010C0041001100000048683503000006BF03D700003D...</td>\n      <td>3503000006BF03D700003D0007090484073B06B806B806...</td>\n      <td>2019-04-09 17:01:34.159</td>\n    </tr>\n    <tr>\n      <th>3</th>\n      <td>21010C0041001A00000058C21507000006C003D700004D...</td>\n      <td>1507000006C003D700004D0007090484073B06B806B806...</td>\n      <td>2019-04-09 17:01:35.216</td>\n    </tr>\n    <tr>\n      <th>4</th>\n      <td>21010C00410023000000580E1507000006C103D700004D...</td>\n      <td>1507000006C103D700004D0007090484073B06B806B806...</td>\n      <td>2019-04-09 17:01:36.239</td>\n    </tr>\n  </tbody>\n</table>\n</div>",
      "text/plain": "                                             SPW_RAW  \\\n0  21010C0041000300000058FF150700000504000000004D...   \n1  21010C004100080000005849150700000505000000004D...   \n2  21010C0041001100000048683503000006BF03D700003D...   \n3  21010C0041001A00000058C21507000006C003D700004D...   \n4  21010C00410023000000580E1507000006C103D700004D...   \n\n                                              HK_RAW                      DT  \n0  150700000504000000004D0007090484073B06B806B806... 2019-04-09 17:01:32.559  \n1  150700000505000000004D0007090484073B06B806B806... 2019-04-09 17:01:33.129  \n2  3503000006BF03D700003D0007090484073B06B806B806... 2019-04-09 17:01:34.159  \n3  1507000006C003D700004D0007090484073B06B806B806... 2019-04-09 17:01:35.216  \n4  1507000006C103D700004D0007090484073B06B806B806... 2019-04-09 17:01:36.239  "
     },
     "execution_count": 77,
     "metadata": {},
     "output_type": "execute_result"
    }
   ],
   "source": [
    "DL['DT'] = pd.to_datetime(DT['Unix'], unit='ms')\n",
    "DL.head()"
   ]
  },
  {
   "cell_type": "code",
   "execution_count": 84,
   "metadata": {},
   "outputs": [
    {
     "data": {
      "text/plain": "0    [21, 7, 0, 0, 5, 4, 0, 0, 0, 0, 77, 0, 7, 9, 4...\n1    [21, 7, 0, 0, 5, 5, 0, 0, 0, 0, 77, 0, 7, 9, 4...\n2    [53, 3, 0, 0, 6, 191, 3, 215, 0, 0, 61, 0, 7, ...\n3    [21, 7, 0, 0, 6, 192, 3, 215, 0, 0, 77, 0, 7, ...\n4    [21, 7, 0, 0, 6, 193, 3, 215, 0, 0, 77, 0, 7, ...\nName: HK_RAW, dtype: object"
     },
     "execution_count": 84,
     "metadata": {},
     "output_type": "execute_result"
    }
   ],
   "source": [
    "Bin = DL['HK_RAW'].apply(lambda x: bytearray.fromhex(x))\n",
    "Bin.head()"
   ]
  },
  {
   "cell_type": "code",
   "execution_count": 85,
   "metadata": {},
   "outputs": [],
   "source": [
    "## Test 1 Block Type is always 0\n",
    "Extract = Bin.apply(lambda x: upf('u1', x, offset=0)[0]).astype('int64')\n",
    "if True in (Extract !=0).unique():\n",
    "    print(\"Fail\")"
   ]
  },
  {
   "cell_type": "code",
   "execution_count": 86,
   "metadata": {},
   "outputs": [],
   "source": [
    "## Test 2 PanCam ID is always 5\n",
    "Extract = Bin.apply(lambda x: upf('u4', x, offset=4)[0]).astype('int64')\n",
    "if True in (Extract !=5).unique():\n",
    "    print(\"Fail\")"
   ]
  },
  {
   "cell_type": "code",
   "execution_count": 87,
   "metadata": {},
   "outputs": [],
   "source": [
    "## Test 3 Reserved Byte is always 0\n",
    "Extract = Bin.apply(lambda x: upf('u8', x, offset=11*8)[0]).astype('int64')\n",
    "if True in (Extract !=0).unique():\n",
    "    print(\"Fail\")"
   ]
  },
  {
   "cell_type": "code",
   "execution_count": 102,
   "metadata": {},
   "outputs": [
    {
     "name": "stdout",
     "output_type": "stream",
     "text": "[WindowsPath('C:/Users/ucasbwh/Desktop/bin/PROC/PANCAM_WAC_RR_HK/PANCAM_WAC_RR_HK_Unproc_HKTM.pickle')]\n"
    }
   ],
   "source": [
    "DIR = Path(r\"C:\\Users\\ucasbwh\\Desktop\\bin\\PROC\\PANCAM_WAC_RR_HK\")\n",
    "\n",
    "HKfiles = sorted(DIR.rglob(\"*HKTM*\"))\n",
    "print(HKfiles)\n",
    "\n",
    "RTM = pd.read_pickle(HKfiles[0])"
   ]
  },
  {
   "cell_type": "code",
   "execution_count": 103,
   "metadata": {},
   "outputs": [
    {
     "data": {
      "text/html": "<div>\n<style scoped>\n    .dataframe tbody tr th:only-of-type {\n        vertical-align: middle;\n    }\n\n    .dataframe tbody tr th {\n        vertical-align: top;\n    }\n\n    .dataframe thead th {\n        text-align: right;\n    }\n</style>\n<table border=\"1\" class=\"dataframe\">\n  <thead>\n    <tr style=\"text-align: right;\">\n      <th></th>\n      <th>SPW_RAW</th>\n      <th>RAW</th>\n      <th>Unix</th>\n      <th>DT</th>\n    </tr>\n  </thead>\n  <tbody>\n    <tr>\n      <th>0</th>\n      <td>21010C0041000300000058FF150700000504000000004D...</td>\n      <td>150700000504000000004D0007090484073B06B806B806...</td>\n      <td>1554829292559</td>\n      <td>2019-04-09 17:01:32.559</td>\n    </tr>\n    <tr>\n      <th>1</th>\n      <td>21010C004100080000005849150700000505000000004D...</td>\n      <td>150700000505000000004D0007090484073B06B806B806...</td>\n      <td>1554829293129</td>\n      <td>2019-04-09 17:01:33.129</td>\n    </tr>\n    <tr>\n      <th>2</th>\n      <td>21010C0041001100000048683503000006BF03D700003D...</td>\n      <td>3503000006BF03D700003D0007090484073B06B806B806...</td>\n      <td>1554829294159</td>\n      <td>2019-04-09 17:01:34.159</td>\n    </tr>\n    <tr>\n      <th>3</th>\n      <td>21010C0041001A00000058C21507000006C003D700004D...</td>\n      <td>1507000006C003D700004D0007090484073B06B806B806...</td>\n      <td>1554829295216</td>\n      <td>2019-04-09 17:01:35.216</td>\n    </tr>\n    <tr>\n      <th>4</th>\n      <td>21010C00410023000000580E1507000006C103D700004D...</td>\n      <td>1507000006C103D700004D0007090484073B06B806B806...</td>\n      <td>1554829296239</td>\n      <td>2019-04-09 17:01:36.239</td>\n    </tr>\n    <tr>\n      <th>...</th>\n      <td>...</td>\n      <td>...</td>\n      <td>...</td>\n      <td>...</td>\n    </tr>\n    <tr>\n      <th>115</th>\n      <td>21010C004103F900000048E935030000073103D700003D...</td>\n      <td>35030000073103D700003D0007090484073B06B806B806...</td>\n      <td>1554829408981</td>\n      <td>2019-04-09 17:03:28.981</td>\n    </tr>\n    <tr>\n      <th>116</th>\n      <td>21010C0041040000000058D915070000073203D700004D...</td>\n      <td>15070000073203D700004D0007090484073B06B806B806...</td>\n      <td>1554829409810</td>\n      <td>2019-04-09 17:03:29.810</td>\n    </tr>\n    <tr>\n      <th>117</th>\n      <td>21010C00410409000000587C15070000073303D700004D...</td>\n      <td>15070000073303D700004D0007090484073B06B806B806...</td>\n      <td>1554829410849</td>\n      <td>2019-04-09 17:03:30.849</td>\n    </tr>\n    <tr>\n      <th>118</th>\n      <td>21010C00410412000000585215070000073403D700004D...</td>\n      <td>15070000073403D700004D0007090484073B06B806B806...</td>\n      <td>1554829411879</td>\n      <td>2019-04-09 17:03:31.879</td>\n    </tr>\n    <tr>\n      <th>119</th>\n      <td>21010C0041041B00000058F715070000073503D700004D...</td>\n      <td>15070000073503D700004D0007090484073B06B806B806...</td>\n      <td>1554829412909</td>\n      <td>2019-04-09 17:03:32.909</td>\n    </tr>\n  </tbody>\n</table>\n<p>120 rows × 4 columns</p>\n</div>",
      "text/plain": "                                               SPW_RAW  \\\n0    21010C0041000300000058FF150700000504000000004D...   \n1    21010C004100080000005849150700000505000000004D...   \n2    21010C0041001100000048683503000006BF03D700003D...   \n3    21010C0041001A00000058C21507000006C003D700004D...   \n4    21010C00410023000000580E1507000006C103D700004D...   \n..                                                 ...   \n115  21010C004103F900000048E935030000073103D700003D...   \n116  21010C0041040000000058D915070000073203D700004D...   \n117  21010C00410409000000587C15070000073303D700004D...   \n118  21010C00410412000000585215070000073403D700004D...   \n119  21010C0041041B00000058F715070000073503D700004D...   \n\n                                                   RAW           Unix  \\\n0    150700000504000000004D0007090484073B06B806B806...  1554829292559   \n1    150700000505000000004D0007090484073B06B806B806...  1554829293129   \n2    3503000006BF03D700003D0007090484073B06B806B806...  1554829294159   \n3    1507000006C003D700004D0007090484073B06B806B806...  1554829295216   \n4    1507000006C103D700004D0007090484073B06B806B806...  1554829296239   \n..                                                 ...            ...   \n115  35030000073103D700003D0007090484073B06B806B806...  1554829408981   \n116  15070000073203D700004D0007090484073B06B806B806...  1554829409810   \n117  15070000073303D700004D0007090484073B06B806B806...  1554829410849   \n118  15070000073403D700004D0007090484073B06B806B806...  1554829411879   \n119  15070000073503D700004D0007090484073B06B806B806...  1554829412909   \n\n                         DT  \n0   2019-04-09 17:01:32.559  \n1   2019-04-09 17:01:33.129  \n2   2019-04-09 17:01:34.159  \n3   2019-04-09 17:01:35.216  \n4   2019-04-09 17:01:36.239  \n..                      ...  \n115 2019-04-09 17:03:28.981  \n116 2019-04-09 17:03:29.810  \n117 2019-04-09 17:03:30.849  \n118 2019-04-09 17:03:31.879  \n119 2019-04-09 17:03:32.909  \n\n[120 rows x 4 columns]"
     },
     "execution_count": 103,
     "metadata": {},
     "output_type": "execute_result"
    }
   ],
   "source": [
    "RTM"
   ]
  },
  {
   "cell_type": "code",
   "execution_count": 104,
   "metadata": {},
   "outputs": [],
   "source": [
    "Bin = RTM['RAW'].apply(lambda x: bytearray.fromhex(x))"
   ]
  },
  {
   "cell_type": "code",
   "execution_count": 107,
   "metadata": {},
   "outputs": [],
   "source": [
    "def PandUPF(Column, Len, OffBy, OffBi):\n",
    "    \"\"\"Extracts a single RAW value from a binary pandas data column\"\"\"\n",
    "    if int(Len[1:]) > 63:\n",
    "        raise ValueError(\"PandUPF used for variable larger than 63 bits. Returned value is cast to an Int64\")\n",
    "    Extract = Column.apply(lambda x: upf(Len, x, offset=8*OffBy+OffBi)[0]).astype('Int64')\n",
    "    return Extract"
   ]
  },
  {
   "cell_type": "code",
   "execution_count": 109,
   "metadata": {},
   "outputs": [
    {
     "data": {
      "text/html": "<div>\n<style scoped>\n    .dataframe tbody tr th:only-of-type {\n        vertical-align: middle;\n    }\n\n    .dataframe tbody tr th {\n        vertical-align: top;\n    }\n\n    .dataframe thead th {\n        text-align: right;\n    }\n</style>\n<table border=\"1\" class=\"dataframe\">\n  <thead>\n    <tr style=\"text-align: right;\">\n      <th></th>\n      <th>TM_Type_ID</th>\n    </tr>\n  </thead>\n  <tbody>\n    <tr>\n      <th>0</th>\n      <td>1</td>\n    </tr>\n    <tr>\n      <th>1</th>\n      <td>1</td>\n    </tr>\n    <tr>\n      <th>2</th>\n      <td>0</td>\n    </tr>\n    <tr>\n      <th>3</th>\n      <td>1</td>\n    </tr>\n    <tr>\n      <th>4</th>\n      <td>1</td>\n    </tr>\n    <tr>\n      <th>...</th>\n      <td>...</td>\n    </tr>\n    <tr>\n      <th>115</th>\n      <td>0</td>\n    </tr>\n    <tr>\n      <th>116</th>\n      <td>1</td>\n    </tr>\n    <tr>\n      <th>117</th>\n      <td>1</td>\n    </tr>\n    <tr>\n      <th>118</th>\n      <td>1</td>\n    </tr>\n    <tr>\n      <th>119</th>\n      <td>1</td>\n    </tr>\n  </tbody>\n</table>\n<p>120 rows × 1 columns</p>\n</div>",
      "text/plain": "     TM_Type_ID\n0             1\n1             1\n2             0\n3             1\n4             1\n..          ...\n115           0\n116           1\n117           1\n118           1\n119           1\n\n[120 rows x 1 columns]"
     },
     "execution_count": 109,
     "metadata": {},
     "output_type": "execute_result"
    }
   ],
   "source": [
    "TM = pd.DataFrame()\n",
    "TM['TM_Type_ID']     = PandUPF(Bin, 'u6', 0, 8)\n",
    "TM"
   ]
  },
  {
   "cell_type": "code",
   "execution_count": 114,
   "metadata": {},
   "outputs": [
    {
     "data": {
      "text/plain": "0      [21, 7, 0, 0, 5, 4, 0, 0, 0, 0, 77, 0, 7, 9, 4...\n1      [21, 7, 0, 0, 5, 5, 0, 0, 0, 0, 77, 0, 7, 9, 4...\n3      [21, 7, 0, 0, 6, 192, 3, 215, 0, 0, 77, 0, 7, ...\n4      [21, 7, 0, 0, 6, 193, 3, 215, 0, 0, 77, 0, 7, ...\n5      [21, 7, 0, 0, 6, 194, 3, 215, 0, 0, 77, 0, 7, ...\n                             ...                        \n114    [21, 7, 0, 0, 7, 48, 3, 215, 0, 0, 77, 0, 7, 9...\n116    [21, 7, 0, 0, 7, 50, 3, 215, 0, 0, 77, 0, 7, 9...\n117    [21, 7, 0, 0, 7, 51, 3, 215, 0, 0, 77, 0, 7, 9...\n118    [21, 7, 0, 0, 7, 52, 3, 215, 0, 0, 77, 0, 7, 9...\n119    [21, 7, 0, 0, 7, 53, 3, 215, 0, 0, 77, 0, 7, 9...\nName: RAW, Length: 93, dtype: object"
     },
     "metadata": {},
     "output_type": "display_data"
    }
   ],
   "source": [
    "NEBin = Bin[TM['TM_Type_ID']==1]\n",
    "display(NEBin)"
   ]
  },
  {
   "cell_type": "code",
   "execution_count": 129,
   "metadata": {},
   "outputs": [
    {
     "data": {
      "text/plain": "0    1\n1    1\n2    0\n3    1\n4    1\nName: TM_Type_ID, dtype: Int64"
     },
     "execution_count": 129,
     "metadata": {},
     "output_type": "execute_result"
    }
   ],
   "source": [
    "TM['TM_Type_ID'].head()"
   ]
  },
  {
   "cell_type": "code",
   "execution_count": 130,
   "metadata": {},
   "outputs": [
    {
     "data": {
      "text/plain": "0    [21, 7, 0, 0, 5, 4, 0, 0, 0, 0, 77, 0, 7, 9, 4...\n1    [21, 7, 0, 0, 5, 5, 0, 0, 0, 0, 77, 0, 7, 9, 4...\n2    [53, 3, 0, 0, 6, 191, 3, 215, 0, 0, 61, 0, 7, ...\n3    [21, 7, 0, 0, 6, 192, 3, 215, 0, 0, 77, 0, 7, ...\n4    [21, 7, 0, 0, 6, 193, 3, 215, 0, 0, 77, 0, 7, ...\nName: RAW, dtype: object"
     },
     "execution_count": 130,
     "metadata": {},
     "output_type": "execute_result"
    }
   ],
   "source": [
    "Bin.head()"
   ]
  },
  {
   "cell_type": "code",
   "execution_count": 131,
   "metadata": {},
   "outputs": [
    {
     "data": {
      "text/plain": "0    [21, 7, 0, 0, 5, 4, 0, 0, 0, 0, 77, 0, 7, 9, 4...\n1    [21, 7, 0, 0, 5, 5, 0, 0, 0, 0, 77, 0, 7, 9, 4...\n3    [21, 7, 0, 0, 6, 192, 3, 215, 0, 0, 77, 0, 7, ...\n4    [21, 7, 0, 0, 6, 193, 3, 215, 0, 0, 77, 0, 7, ...\n5    [21, 7, 0, 0, 6, 194, 3, 215, 0, 0, 77, 0, 7, ...\nName: RAW, dtype: object"
     },
     "execution_count": 131,
     "metadata": {},
     "output_type": "execute_result"
    }
   ],
   "source": [
    "NEBin.head()"
   ]
  },
  {
   "cell_type": "code",
   "execution_count": 133,
   "metadata": {},
   "outputs": [
    {
     "data": {
      "text/plain": "108    [21, 7, 0, 0, 7, 43, 3, 215, 0, 0, 77, 0, 7, 9...\nName: RAW, dtype: object"
     },
     "execution_count": 133,
     "metadata": {},
     "output_type": "execute_result"
    }
   ],
   "source": [
    "NEBin[82:83]"
   ]
  },
  {
   "cell_type": "code",
   "execution_count": 93,
   "metadata": {},
   "outputs": [],
   "source": [
    "## Test 4 Reserved Byte is always 0\n",
    "Extract = Bin.apply(lambda x: upf('u16', x, offset=12*8)[0]).astype('int64')\n",
    "if True in (Extract !=1801).unique():\n",
    "    print(\"Fail\")"
   ]
  }
 ]
}