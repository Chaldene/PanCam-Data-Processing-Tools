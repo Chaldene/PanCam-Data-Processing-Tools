{
 "nbformat": 4,
 "nbformat_minor": 2,
 "metadata": {
  "language_info": {
   "name": "python",
   "codemirror_mode": {
    "name": "ipython",
    "version": 3
   }
  },
  "orig_nbformat": 2,
  "file_extension": ".py",
  "mimetype": "text/x-python",
  "name": "python",
  "npconvert_exporter": "python",
  "pygments_lexer": "ipython3",
  "version": 3
 },
 "cells": [
  {
   "cell_type": "code",
   "execution_count": 12,
   "metadata": {},
   "outputs": [
    {
     "ename": "ModuleNotFoundError",
     "evalue": "No module named 'hs'",
     "output_type": "error",
     "traceback": [
      "\u001b[1;31m---------------------------------------------------------------------------\u001b[0m",
      "\u001b[1;31mModuleNotFoundError\u001b[0m                       Traceback (most recent call last)",
      "\u001b[1;32m<ipython-input-12-4e8f03825c73>\u001b[0m in \u001b[0;36m<module>\u001b[1;34m\u001b[0m\n\u001b[0;32m      1\u001b[0m \u001b[1;32mimport\u001b[0m \u001b[0mpandas\u001b[0m \u001b[1;32mas\u001b[0m \u001b[0mpd\u001b[0m\u001b[1;33m\u001b[0m\u001b[1;33m\u001b[0m\u001b[0m\n\u001b[0;32m      2\u001b[0m \u001b[1;32mfrom\u001b[0m \u001b[0mpathlib\u001b[0m \u001b[1;32mimport\u001b[0m \u001b[0mPath\u001b[0m\u001b[1;33m\u001b[0m\u001b[1;33m\u001b[0m\u001b[0m\n\u001b[1;32m----> 3\u001b[1;33m \u001b[1;32mimport\u001b[0m \u001b[0mhs\u001b[0m\u001b[1;33m\u001b[0m\u001b[1;33m\u001b[0m\u001b[0m\n\u001b[0m",
      "\u001b[1;31mModuleNotFoundError\u001b[0m: No module named 'hs'"
     ]
    }
   ],
   "source": [
    "import pandas as pd\n",
    "from pathlib import Path\n",
    "import hs"
   ]
  },
  {
   "cell_type": "code",
   "execution_count": 6,
   "metadata": {},
   "outputs": [
    {
     "data": {
      "text/html": "<div>\n<style scoped>\n    .dataframe tbody tr th:only-of-type {\n        vertical-align: middle;\n    }\n\n    .dataframe tbody tr th {\n        vertical-align: top;\n    }\n\n    .dataframe thead th {\n        text-align: right;\n    }\n</style>\n<table border=\"1\" class=\"dataframe\">\n  <thead>\n    <tr style=\"text-align: right;\">\n      <th></th>\n      <th>Time</th>\n      <th>RAW</th>\n    </tr>\n  </thead>\n  <tbody>\n    <tr>\n      <th>0</th>\n      <td>[296:058:009:386]</td>\n      <td>21 01 0C 00 41 00 3A 00 00 00 20 69 80 00 00 ...</td>\n    </tr>\n    <tr>\n      <th>1</th>\n      <td>[296:258:009:386]</td>\n      <td>21 01 0C 00 41 00 40 00 00 00 20 7C 80 00 00 ...</td>\n    </tr>\n    <tr>\n      <th>2</th>\n      <td>[296:456:009:386]</td>\n      <td>21 01 0C 00 41 00 45 00 00 00 20 B3 80 00 00 ...</td>\n    </tr>\n    <tr>\n      <th>3</th>\n      <td>[296:656:009:386]</td>\n      <td>21 01 0C 00 41 00 4A 00 00 00 20 23 80 00 00 ...</td>\n    </tr>\n    <tr>\n      <th>4</th>\n      <td>[296:856:009:386]</td>\n      <td>21 01 0C 00 41 00 4F 00 00 00 20 EC 80 00 00 ...</td>\n    </tr>\n  </tbody>\n</table>\n</div>",
      "text/plain": "                Time                                                RAW\n0  [296:058:009:386]   21 01 0C 00 41 00 3A 00 00 00 20 69 80 00 00 ...\n1  [296:258:009:386]   21 01 0C 00 41 00 40 00 00 00 20 7C 80 00 00 ...\n2  [296:456:009:386]   21 01 0C 00 41 00 45 00 00 00 20 B3 80 00 00 ...\n3  [296:656:009:386]   21 01 0C 00 41 00 4A 00 00 00 20 23 80 00 00 ...\n4  [296:856:009:386]   21 01 0C 00 41 00 4F 00 00 00 20 EC 80 00 00 ..."
     },
     "execution_count": 6,
     "metadata": {},
     "output_type": "execute_result"
    }
   ],
   "source": [
    "dir = Path(r\"C:\\Users\\ucasbwh\\OneDrive - University College London\\PanCam Documents\\SWIS\\200131 SWIS L2 3.1.12\\NSVF Logs\\PanCam_v2.0B_Delay10_RUN_1\\PROC\")\n",
    "file = \"hs_raw.pickle\"\n",
    "\n",
    "hs = pd.read_pickle(dir / file)\n",
    "hs.head()"
   ]
  },
  {
   "cell_type": "code",
   "execution_count": 10,
   "metadata": {},
   "outputs": [
    {
     "data": {
      "text/html": "<div>\n<style scoped>\n    .dataframe tbody tr th:only-of-type {\n        vertical-align: middle;\n    }\n\n    .dataframe tbody tr th {\n        vertical-align: top;\n    }\n\n    .dataframe thead th {\n        text-align: right;\n    }\n</style>\n<table border=\"1\" class=\"dataframe\">\n  <thead>\n    <tr style=\"text-align: right;\">\n      <th></th>\n      <th>Time</th>\n      <th>RAW</th>\n    </tr>\n  </thead>\n  <tbody>\n    <tr>\n      <th>0</th>\n      <td>1581698323623 (2020-02-14 16:38:43.623)</td>\n      <td>21 1 C 0 41 0 1 0 0 0 20 B6 80 0 0 0 0 0 0 0 C...</td>\n    </tr>\n    <tr>\n      <th>1</th>\n      <td>1581698323830 (2020-02-14 16:38:43.830)</td>\n      <td>21 1 C 0 41 0 2 0 0 0 20 4C 80 0 0 0 0 0 0 0 C...</td>\n    </tr>\n    <tr>\n      <th>2</th>\n      <td>1581698324030 (2020-02-14 16:38:44.030)</td>\n      <td>21 1 C 0 41 0 3 0 0 0 20 A5 80 0 0 0 0 0 0 0 C...</td>\n    </tr>\n    <tr>\n      <th>3</th>\n      <td>1581698324235 (2020-02-14 16:38:44.235)</td>\n      <td>21 1 C 0 41 0 4 0 0 0 20 79 80 0 0 0 0 0 0 0 C...</td>\n    </tr>\n    <tr>\n      <th>4</th>\n      <td>1581698324431 (2020-02-14 16:38:44.431)</td>\n      <td>21 1 C 0 41 0 5 0 0 0 20 90 80 0 0 0 0 0 0 0 C...</td>\n    </tr>\n  </tbody>\n</table>\n</div>",
      "text/plain": "                                      Time  \\\n0  1581698323623 (2020-02-14 16:38:43.623)   \n1  1581698323830 (2020-02-14 16:38:43.830)   \n2  1581698324030 (2020-02-14 16:38:44.030)   \n3  1581698324235 (2020-02-14 16:38:44.235)   \n4  1581698324431 (2020-02-14 16:38:44.431)   \n\n                                                 RAW  \n0  21 1 C 0 41 0 1 0 0 0 20 B6 80 0 0 0 0 0 0 0 C...  \n1  21 1 C 0 41 0 2 0 0 0 20 4C 80 0 0 0 0 0 0 0 C...  \n2  21 1 C 0 41 0 3 0 0 0 20 A5 80 0 0 0 0 0 0 0 C...  \n3  21 1 C 0 41 0 4 0 0 0 20 79 80 0 0 0 0 0 0 0 C...  \n4  21 1 C 0 41 0 5 0 0 0 20 90 80 0 0 0 0 0 0 0 C...  "
     },
     "execution_count": 10,
     "metadata": {},
     "output_type": "execute_result"
    }
   ],
   "source": [
    "dir = Path(r\"C:\\Users\\ucasbwh\\OneDrive - University College London\\PanCam Documents\\SWIS\\200214 TB200131 PC1_9_0\\Pancam_20200130_testbench3.1.12\\bin\\PROC\\ERR_INJ_1_FWL_HK\")\n",
    "\n",
    "write_file = dir / \"ERR_INJ_1_FWL_HS.log\"\n",
    "pickle_file = dir / \"hs_raw.pickle\"\n",
    "\n",
    "hs_head = ['Time', 'RAW']\n",
    "#hs = pd.read_csv(write_file, sep=';', header=None, names=hs_head)\n",
    "#hs.to_pickle(dir / \"hs_raw.pickle\")\n",
    "hs = pd.read_pickle(pickle_file)\n",
    "hs.head()"
   ]
  },
  {
   "cell_type": "code",
   "execution_count": 11,
   "metadata": {},
   "outputs": [
    {
     "ename": "AttributeError",
     "evalue": "'DataFrame' object has no attribute 'decode'",
     "output_type": "error",
     "traceback": [
      "\u001b[1;31m---------------------------------------------------------------------------\u001b[0m",
      "\u001b[1;31mAttributeError\u001b[0m                            Traceback (most recent call last)",
      "\u001b[1;32m<ipython-input-11-8bc1c5d81911>\u001b[0m in \u001b[0;36m<module>\u001b[1;34m\u001b[0m\n\u001b[1;32m----> 1\u001b[1;33m \u001b[0mhs\u001b[0m\u001b[1;33m.\u001b[0m\u001b[0mdecode\u001b[0m\u001b[1;33m(\u001b[0m\u001b[0mdir\u001b[0m\u001b[1;33m)\u001b[0m\u001b[1;33m\u001b[0m\u001b[1;33m\u001b[0m\u001b[0m\n\u001b[0m",
      "\u001b[1;32m~\\.conda\\envs\\Processor\\lib\\site-packages\\pandas\\core\\generic.py\u001b[0m in \u001b[0;36m__getattr__\u001b[1;34m(self, name)\u001b[0m\n\u001b[0;32m   5177\u001b[0m             \u001b[1;32mif\u001b[0m \u001b[0mself\u001b[0m\u001b[1;33m.\u001b[0m\u001b[0m_info_axis\u001b[0m\u001b[1;33m.\u001b[0m\u001b[0m_can_hold_identifiers_and_holds_name\u001b[0m\u001b[1;33m(\u001b[0m\u001b[0mname\u001b[0m\u001b[1;33m)\u001b[0m\u001b[1;33m:\u001b[0m\u001b[1;33m\u001b[0m\u001b[1;33m\u001b[0m\u001b[0m\n\u001b[0;32m   5178\u001b[0m                 \u001b[1;32mreturn\u001b[0m \u001b[0mself\u001b[0m\u001b[1;33m[\u001b[0m\u001b[0mname\u001b[0m\u001b[1;33m]\u001b[0m\u001b[1;33m\u001b[0m\u001b[1;33m\u001b[0m\u001b[0m\n\u001b[1;32m-> 5179\u001b[1;33m             \u001b[1;32mreturn\u001b[0m \u001b[0mobject\u001b[0m\u001b[1;33m.\u001b[0m\u001b[0m__getattribute__\u001b[0m\u001b[1;33m(\u001b[0m\u001b[0mself\u001b[0m\u001b[1;33m,\u001b[0m \u001b[0mname\u001b[0m\u001b[1;33m)\u001b[0m\u001b[1;33m\u001b[0m\u001b[1;33m\u001b[0m\u001b[0m\n\u001b[0m\u001b[0;32m   5180\u001b[0m \u001b[1;33m\u001b[0m\u001b[0m\n\u001b[0;32m   5181\u001b[0m     \u001b[1;32mdef\u001b[0m \u001b[0m__setattr__\u001b[0m\u001b[1;33m(\u001b[0m\u001b[0mself\u001b[0m\u001b[1;33m,\u001b[0m \u001b[0mname\u001b[0m\u001b[1;33m,\u001b[0m \u001b[0mvalue\u001b[0m\u001b[1;33m)\u001b[0m\u001b[1;33m:\u001b[0m\u001b[1;33m\u001b[0m\u001b[1;33m\u001b[0m\u001b[0m\n",
      "\u001b[1;31mAttributeError\u001b[0m: 'DataFrame' object has no attribute 'decode'"
     ]
    }
   ],
   "source": [
    "hs.decode(dir)"
   ]
  },
  {
   "cell_type": "code",
   "execution_count": null,
   "metadata": {},
   "outputs": [],
   "source": []
  }
 ]
}