{
 "nbformat": 4,
 "nbformat_minor": 2,
 "metadata": {
  "language_info": {
   "name": "python",
   "codemirror_mode": {
    "name": "ipython",
    "version": 3
   },
   "version": "3.7.6-final"
  },
  "orig_nbformat": 2,
  "file_extension": ".py",
  "mimetype": "text/x-python",
  "name": "python",
  "npconvert_exporter": "python",
  "pygments_lexer": "ipython3",
  "version": 3,
  "kernelspec": {
   "name": "python37664bitprocessorconda4f323e9960824ce38e2301e05c58c044",
   "display_name": "Python 3.7.6 64-bit ('Processor': conda)"
  }
 },
 "cells": [
  {
   "cell_type": "code",
   "execution_count": 11,
   "metadata": {},
   "outputs": [],
   "source": [
    "import csv\n",
    "import re\n",
    "import pandas as pd\n",
    "from pathlib import Path\n",
    "import filecmp\n",
    "from bitstruct import unpack_from as upf\n",
    "\n",
    "import PC_Fns"
   ]
  },
  {
   "cell_type": "code",
   "execution_count": 16,
   "metadata": {},
   "outputs": [
    {
     "name": "stdout",
     "output_type": "stream",
     "text": "Yeah is a file\n"
    }
   ],
   "source": [
    "nsvf_file = Path(r\"C:\\Users\\ucasbwh\\OneDrive - University College London\\PanCam Documents\\SWIS\\200131 SWIS L2 3.1.12\\NSVF Logs\\PanCam_v2.0B_Delay10_RUN_1\\Test.log\")\n",
    "nsvf_file = Path(r\"C:\\Users\\ucasbwh\\OneDrive - University College London\\PanCam Documents\\SWIS\\200131 SWIS L2 3.1.12\\NSVF Logs\\PanCam_v2.0B_Delay10_RUN_1\\Router_A_packet.log\")\n",
    "\n",
    "if not nsvf_file.exists():\n",
    "    print(\"Yeah not a file\")\n",
    "else:\n",
    "    print(\"Yeah is a file\")\n",
    "\n",
    "test_file = Path(r\"C:\\Users\\ucasbwh\\OneDrive - University College London\\PanCam Documents\\SWIS\\200131 SWIS L2 3.1.12\\NSVF Logs\\PanCam_v2.0B_Delay10_RUN_1\\Output.log\")\n",
    "hs_file = Path(r\"C:\\Users\\ucasbwh\\OneDrive - University College London\\PanCam Documents\\SWIS\\200131 SWIS L2 3.1.12\\NSVF Logs\\PanCam_v2.0B_Delay10_RUN_1\\H&S.log\")\n",
    "hk_file = Path(r\"C:\\Users\\ucasbwh\\OneDrive - University College London\\PanCam Documents\\SWIS\\200131 SWIS L2 3.1.12\\NSVF Logs\\PanCam_v2.0B_Delay10_RUN_1\\HK.log\")\n",
    "tc_file = Path(r\"C:\\Users\\ucasbwh\\OneDrive - University College London\\PanCam Documents\\SWIS\\200131 SWIS L2 3.1.12\\NSVF Logs\\PanCam_v2.0B_Delay10_RUN_1\\TC.log\")"
   ]
  },
  {
   "cell_type": "code",
   "execution_count": 110,
   "metadata": {},
   "outputs": [
    {
     "name": "stdout",
     "output_type": "stream",
     "text": "Done\n"
    }
   ],
   "source": [
    "# Check initial format is as expected, #[IN=..], #[SZ=..], [EOP] at end\n",
    "\n",
    "# Checks to perform\n",
    "# Is a file and readable\n",
    "# That each line:\n",
    "#       ends with \"[EOP]\"\n",
    "#       contains [IN=$I$] with $I$ some integer\n",
    "#       contains [SZ=$I$] with $I$ some integer\n",
    "#       that the size in [SZ..] matches packet size\n",
    "\n",
    "in_re = re.compile(\"^\\[IN=[0-9]+\\]$\")\n",
    "sz_re = re.compile(\"^\\[SZ=[0-9]+\\]$\")\n",
    "\n",
    "# First check that #[IN=..]\n",
    "outputfile = open(test_file, 'w')\n",
    "linewriter = csv.writer(outputfile, delimiter=' ', lineterminator='\\r')\n",
    "hsfile = open(hs_file, 'w')\n",
    "hs_writer = csv.writer(hsfile, delimiter=' ', lineterminator='\\r')\n",
    "hkfile = open(hk_file, 'w')\n",
    "hk_writer = csv.writer(hkfile, delimiter=' ', lineterminator='\\r')\n",
    "tcfile = open(tc_file, 'w')\n",
    "tc_writer = csv.writer(tcfile, delimiter=' ', lineterminator='\\r')\n",
    "\n",
    "with open(nsvf_file) as logfile:\n",
    "    reader = csv.reader(logfile, delimiter=' ')\n",
    "    for row in reader:\n",
    "        #print(row)\n",
    "        if row[-1] != '[EOP]': print(\"Error Found\")\n",
    "        if not in_re.match(row[1]): print(\"No Match for [IN]\")\n",
    "        if not sz_re.match(row[2]): print(\"No Match for [SZ]\")\n",
    "        row_size = int(row[2][4:-1])\n",
    "        if row_size != len(row[4:-1]): print(\"Packet does not match expected size\")\n",
    "\n",
    "        # Filter by packet types\n",
    "        # If SZ = 45 and start = [80 00 00 00] then H&S\n",
    "        # Then determine TM Header\n",
    "\n",
    "        log_addr = int(row[8], 16)\n",
    "        if log_addr == 0x41:\n",
    "            if row_size == 45:\n",
    "                row_reduced = row\n",
    "                row_reduced[1:4] = []\n",
    "                row_reduced[-1:] = []\n",
    "                row_reduced[0] += ';'\n",
    "                hs_writer.writerow(row)\n",
    "            elif row_size == 8:\n",
    "                tc_writer.writerow(row)\n",
    "            else:\n",
    "                tm_type = int(row[17], 16) >> 2\n",
    "                if tm_type < 2:\n",
    "                    hk_writer.writerow(row)\n",
    "                else:\n",
    "                    linewriter.writerow(row)\n",
    "\n",
    "outputfile.close()\n",
    "hsfile.close()\n",
    "hkfile.close()\n",
    "tcfile.close()\n",
    "\n",
    "print(\"Done\")\n"
   ]
  },
  {
   "cell_type": "code",
   "execution_count": 111,
   "metadata": {},
   "outputs": [],
   "source": [
    "pc_hk_addr = 0x80000000\n",
    "pc_hk_lens = [0, 72, 88]\n",
    "pc_sci_addr = 0xC0000000\n",
    "pc_sci_len  = [0x200030]"
   ]
  },
  {
   "cell_type": "code",
   "execution_count": 113,
   "metadata": {},
   "outputs": [
    {
     "name": "stdout",
     "output_type": "stream",
     "text": "HS HK Count not increasing, %d occurances 1\nOccurance\n                   Time                                                RAW  \\\n1104  [515:838:009:386]   21 01 0C 00 41 00 B9 00 00 00 20 D5 80 00 00 ...   \n1105  [533:620:009:386]   21 01 0C 00 41 00 31 00 00 00 20 DF 80 00 00 ...   \n1106  [533:820:009:386]   21 01 0C 00 41 00 32 00 00 00 20 25 80 00 00 ...   \n\n         HK_Addr  HK_Len  HK_Cnt    Sci_Addr  Sci_Len  LDT  Sci_Cnt  \n1104  2147483648      88     219  3221225472  2097200    0        1  \n1105  2147483648       0       0  3221225472  2097200    0        0  \n1106  2147483648       0       0  3221225472  2097200    0        0  \nHS Sci count not increasing, %d occurances 1\nOccurance\n                   Time                                                RAW  \\\n1104  [515:838:009:386]   21 01 0C 00 41 00 B9 00 00 00 20 D5 80 00 00 ...   \n1105  [533:620:009:386]   21 01 0C 00 41 00 31 00 00 00 20 DF 80 00 00 ...   \n1106  [533:820:009:386]   21 01 0C 00 41 00 32 00 00 00 20 25 80 00 00 ...   \n\n         HK_Addr  HK_Len  HK_Cnt    Sci_Addr  Sci_Len  LDT  Sci_Cnt  \n1104  2147483648      88     219  3221225472  2097200    0        1  \n1105  2147483648       0       0  3221225472  2097200    0        0  \n1106  2147483648       0       0  3221225472  2097200    0        0  \nA total of %d images generated over session 2\n"
    }
   ],
   "source": [
    "# HS Verify\n",
    "# Check that the HK address is always 0x80 00 00 00\n",
    "# Check that the HK counter is always increasing\n",
    "# Check that the Sci address is always 0xC0 00 00 00\n",
    "# Check that the Sci counter increases\n",
    "# Count number of images generated\n",
    "# Ensure LDT count is always <7\n",
    "\n",
    "hs_head = ['Time', 'RAW']\n",
    "hs = pd.read_csv(hs_file, sep=';', header=None, names=hs_head)\n",
    "\n",
    "#DL['RAW'] = DL.RAW_DATA.apply(lambda x: x[38:-4])\n",
    "\n",
    "raw = hs['RAW'].apply(lambda x: bytearray.fromhex(x))\n",
    "\n",
    "# HS Decode\n",
    "hs['HK_Addr'] = PandUPF(raw, 'u32', 12, 0)\n",
    "hs['HK_Len'] = PandUPF(raw, 'u16', 16, 0)\n",
    "hs['HK_Cnt'] = PandUPF(raw, 'u16', 18, 0)\n",
    "hs['Sci_Addr'] = PandUPF(raw, 'u32', 20, 0)\n",
    "hs['Sci_Len'] = PandUPF(raw, 'u24', 24, 0)\n",
    "hs['LDT'] = PandUPF(raw, 'u8', 27, 0)\n",
    "hs['Sci_Cnt'] = PandUPF(raw, 'u16', 28, 0)\n",
    "\n",
    "# Verify HK Address is always 0x80 00 00 00\n",
    "# Check first value is as expected\n",
    "verify = pd.DataFrame()\n",
    "err_df = pd.DataFrame()\n",
    "verify['HK_Addr'] = ~(hs['HK_Addr'] == pc_hk_addr)\n",
    "err_df = hs[verify['HK_Addr']] \n",
    "if err_df.shape[0] != 0:\n",
    "    print(\"HS HK Address not as expected %d occurances\", err_df.shape[0])\n",
    "    print(err_df)\n",
    "\n",
    "# Verify the HK Length is either 72 or 88 bytes\n",
    "verify['HK_Len'] = ~hs['HK_Len'].isin(pc_hk_lens)\n",
    "err_df = hs[verify['HK_Len']]\n",
    "if err_df.shape[0] != 0:\n",
    "    print(\"HS HK unexpected length %d occurances\", err_df.shape[0])\n",
    "    print(err_df)\n",
    "\n",
    "# Verify HK counter is always increasing\n",
    "verify['HK_Cnt'] = hs['HK_Cnt'].diff() < 0\n",
    "err_df = hs[verify['HK_Cnt']]\n",
    "if err_df.shape[0] != 0:\n",
    "    print(\"HS HK Count not increasing, %d occurances\", err_df.shape[0])\n",
    "    for row in err_df.index.values:\n",
    "        print(\"Occurance\")\n",
    "        print(hs.iloc[row-1:row+2])\n",
    "\n",
    "# Verify Sci Address is always 0xC0 00 00 00\n",
    "# Check first value is as expected\n",
    "verify['Sci_Addr'] = ~(hs['Sci_Addr'] == pc_sci_addr)\n",
    "err_df = hs[verify['Sci_Addr']]\n",
    "if err_df.shape[0] != 0:\n",
    "    print(\"HS Sci Address not as expected %d occurances\", err_df.shape[0])\n",
    "    print(err_df)\n",
    "\n",
    "# Verify the Sci Length is always 2,097,200 bytes\n",
    "verify['Sci_Len'] = ~hs['Sci_Len'].isin(pc_sci_len)\n",
    "err_df = hs[verify['Sci_Len']]\n",
    "if err_df.shape[0] != 0:\n",
    "    print(\"HS Sci unexpected length %d occurances\", err_df.shape[0])\n",
    "    print(err_df) \n",
    "\n",
    "# Verify the LDT Ctrl is always <7\n",
    "verify['LDT'] = ~(hs['LDT'] < 8)\n",
    "err_df = hs[verify['LDT']]\n",
    "if err_df.shape[0] != 0:\n",
    "    print(\"HS LDT not in expected range of 0 to 7, %d occurances\", err_df.shape[0])\n",
    "    print(err_df)\n",
    "\n",
    "# Check that the Sci counter is always increasing\n",
    "verify['Sci_Cnt'] = hs['Sci_Cnt'].diff() < 0\n",
    "err_df = hs[verify['Sci_Cnt']]\n",
    "if err_df.shape[0] != 0:\n",
    "    print(\"HS Sci count not increasing, %d occurances\", err_df.shape[0])\n",
    "    for row in err_df.index.values:\n",
    "        print(\"Occurance\")\n",
    "        print(hs.iloc[row-1:row+2])\n",
    "\n",
    "# Count number of images generated\n",
    "# First find last count\n",
    "img_cnt = hs['Sci_Cnt'].iloc[-1]\n",
    "\n",
    "# Find all instances where it has reset and add to total\n",
    "cnt_rst = hs.Sci_Cnt[hs['Sci_Cnt'].diff(-1) > 0]\n",
    "img_cnt += cnt_rst.sum()\n",
    "print(\"A total of %d images generated over session\", img_cnt)"
   ]
  },
  {
   "cell_type": "code",
   "execution_count": 106,
   "metadata": {},
   "outputs": [
    {
     "name": "stdout",
     "output_type": "stream",
     "text": "3\n"
    }
   ],
   "source": [
    "cnt_rst = hs.Sci_Cnt[hs['Sci_Cnt'].diff(-1) >0]\n",
    "print(cnt_rst.sum())"
   ]
  },
  {
   "cell_type": "code",
   "execution_count": 44,
   "metadata": {},
   "outputs": [
    {
     "name": "stdout",
     "output_type": "stream",
     "text": "Number of lines =  14\n"
    }
   ],
   "source": [
    "proc_dir = Path(r\"C:\\Users\\ucasbwh\\Desktop\\NSVF Dev\\PROC\")\n",
    "\n",
    "sci_file = PC_Fns.Find_Files(proc_dir, 'Sci.txt')[0]\n",
    "num_lines = sum(1 for line in open(sci_file))\n",
    "print(\"Number of lines = \", num_lines)\n",
    "\n",
    "write_file = sci_file.parent / \"RAW.bin\"\n",
    "f = open(write_file, 'w+b')\n",
    "\n",
    "with open(sci_file) as txtfile:\n",
    "    reader = csv.reader(txtfile, delimiter=' ')\n",
    "    for row in reader:\n",
    "        test = row[16:-2]\n",
    "        output = ''.join(test)\n",
    "        binary_format = bytearray.fromhex(output)\n",
    "        f.write(binary_format)\n",
    "\n",
    "f.close()"
   ]
  },
  {
   "cell_type": "code",
   "execution_count": 57,
   "metadata": {},
   "outputs": [
    {
     "name": "stdout",
     "output_type": "stream",
     "text": "[0, 1]\n00\n"
    }
   ],
   "source": [
    "num_imgs = 2\n",
    "img_name = list(range(num_imgs))\n",
    "print(img_name)\n",
    "print(str(img_name[0]).zfill(2))"
   ]
  },
  {
   "cell_type": "code",
   "execution_count": 40,
   "metadata": {},
   "outputs": [
    {
     "output_type": "stream",
     "name": "stdout",
     "text": "2\nFiles do not match\nFiles Match\n"
    }
   ],
   "source": [
    "## Compare science files\n",
    "proc_dir = Path(r\"C:\\Users\\ucasbwh\\Desktop\\NSVF Dev\\PROC\")\n",
    "sci_files = PC_Fns.Find_Files(proc_dir, '*.pci_raw')\n",
    "print(len(sci_files))\n",
    "\n",
    "ref_dir = Path().parent.absolute().parent / \"data\" / \"SWIS_Reference\"\n",
    "\n",
    "for sci in sci_files:\n",
    "    #Chop off header\n",
    "    gen = open(sci, 'rb')\n",
    "    header = gen.read(48)\n",
    "    cam =  upf('u2', header, offset=130)[0]   \n",
    "\n",
    "    # Determine Cam Type\n",
    "    if cam == 1:\n",
    "        # WACL Image Reference\n",
    "        ref = ref_dir / \"pfm_wacl.raw\"\n",
    "    else:\n",
    "        print(\"Wrong Type\")\n",
    "    \n",
    "    #Generate temporary file\n",
    "    tmp_file = sci.with_suffix(\".tmp\")\n",
    "    tmp = open(tmp_file, 'wb')\n",
    "    tmp.write(gen.read())\n",
    "    tmp.close()\n",
    "\n",
    "    #Compare files\n",
    "    if filecmp.cmp(tmp_file, ref, shallow=False):\n",
    "        print(\"Files Match\")\n",
    "    else:\n",
    "        print(\"Files do not match\")\n",
    "\n",
    "    tmp_file.unlink()\n",
    "    gen.close()"
   ]
  },
  {
   "cell_type": "code",
   "execution_count": 24,
   "metadata": {},
   "outputs": [
    {
     "name": "stdout",
     "output_type": "stream",
     "text": "c:\\Users\\ucasbwh\\Documents\\GitHub\\PanCam-Data-Processing-Tools\\data\\SWIS_Reference\nTrue\n"
    }
   ],
   "source": [
    "p = Path().parent.absolute().parent / \"data\" / \"SWIS_Reference\"\n",
    "print(p)\n",
    "print(p.is_dir())"
   ]
  }
 ]
}