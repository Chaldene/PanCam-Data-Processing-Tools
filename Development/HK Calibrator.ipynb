{
 "nbformat": 4,
 "nbformat_minor": 2,
 "metadata": {
  "language_info": {
   "name": "python",
   "codemirror_mode": {
    "name": "ipython",
    "version": 3
   },
   "version": "3.6.9"
  },
  "orig_nbformat": 2,
  "file_extension": ".py",
  "mimetype": "text/x-python",
  "name": "python",
  "npconvert_exporter": "python",
  "pygments_lexer": "ipython3",
  "version": 3
 },
 "cells": [
  {
   "cell_type": "code",
   "execution_count": 8,
   "metadata": {},
   "outputs": [
    {
     "name": "stdout",
     "output_type": "stream",
     "text": "RAW_TM Files Found: 1\nWe got em\n"
    }
   ],
   "source": [
    "import pandas as pd\n",
    "import numpy as np\n",
    "from pathlib import Path\n",
    "\n",
    "#DIR = Path(input(\"Type the path to the PROC folder where the processed files are stored: \"))\n",
    "DIR = Path(r\"C:\\Users\\ucasbwh\\OneDrive - University College London\\PanCam Documents\\Rover Level Testing\\Data\\191107 - TVAC TP02 Testing\\20191106_1734_ERJPMW_CRUISE_CHECKOUTS\\PROC\")\n",
    "\n",
    "FILT_DIR = \"*RAW_TM.pickle\"\n",
    "Pik = sorted(DIR.rglob(FILT_DIR))\n",
    "print(\"RAW_TM Files Found: \" + str(len(Pik)))\n",
    "\n",
    "if  len(Pik) != 0:\n",
    "    print(\"We got em\")\n",
    "else:\n",
    "    print(\"No RAW_TM files found, cannot run cal_HK\")"
   ]
  },
  {
   "cell_type": "code",
   "execution_count": 27,
   "metadata": {},
   "outputs": [
    {
     "name": "stdout",
     "output_type": "stream",
     "text": "['DT' 'Block_Type' 'TM_Criticality' 'MMS_Dest' 'Instr_ID' 'TM_Type_ID'\n 'Seq_Flag' 'Pkt_CUC' 'Data_Len' 'Volt_Ref' 'Volt_6V0' 'Volt_1V5'\n 'Temp_LFW' 'Temp_RFW' 'Temp_HRC' 'Temp_LWAC' 'Temp_RWAC' 'Temp_LDO'\n 'Temp_HRCA' 'ERR_1' 'ERR_2' 'ERR_3' 'Stat_Temp_On' 'Stat_Temp_Mo'\n 'Stat_Temp_He' 'Stat_Temp_Se' 'Stat_FWL_Op' 'Stat_FWL_Ho' 'Stat_FWL_Id'\n 'Stat_FWL_Po' 'Stat_FWR_Op' 'Stat_FWR_Ho' 'Stat_FWR_Id' 'Stat_FWR_Po'\n 'Stat_PIU_En' 'Stat_PIU_Pw' 'FWL_ABS' 'FWR_ABS' 'FWL_REL' 'FWR_REL'\n 'IMG_SOL' 'IMG_Task_ID' 'IMG_Task_RNO' 'IMG_Cam' 'IMG_FW' 'IMG_No'\n 'PIU_Ver' 'FWL_RTi' 'FWL_Spe' 'FWR_Spe' 'FWL_Cur' 'FWR_Cur' 'FWR_RTi'\n 'FWL_StL' 'FWR_StR' 'WAC_CID' 'WAC_WID' 'WAC_WTS' 'WAC_SUM' 'WAC_HK_MCK'\n 'WAC_HK_TAT' 'WAC_HK_LTP' 'WAC_HK_INH' 'WAC_HK_IAO' 'WAC_HK_TAO'\n 'WAC_HK_MCO' 'WAC_DT_BIN' 'WAC_DT_ITS' 'WAC_DT_INT' 'WAC_DT_STP'\n 'WAC_DT_INH' 'WAC_DT_AE' 'WAC_DT_PAD' 'WAC_DT_GAS' 'WAC_DT_DD'\n 'WAC_DT_AES' 'WAC_DT_CRC' 'HRC_ACK' 'HRC_CS' 'HRC_TP' 'HRC_ENC' 'HRC_EPF'\n 'HRC_AIF' 'HRC_AFF' 'HRC_MMF' 'HRC_IFC' 'HRC_GA' 'HRC_ESF' 'HRC_EIF'\n 'HRC_ERR_EN' 'HRC_ERR_AI' 'HRC_ERR_AF' 'HRC_R2_INT' 'HRC_R2_FXC'\n 'HRC_R2_FYC' 'HRC_R2_SFS' 'HRC_R2_FWZ' 'HRC_MD_STP' 'HRC_MD_INT'\n 'HRC_MD_FXC' 'HRC_MD_FYC' 'HRC_MD_SFS' 'HRC_MD_FWZ' 'HRC_Res_CA']\n"
    }
   ],
   "source": [
    "RAW = pd.read_pickle(Pik[0])\n",
    "CalTM = RAW['DT'].copy()\n",
    "print(RAW.columns.values)"
   ]
  },
  {
   "source": [
    "## Voltages\n",
    "ratio = 4096*1.45914\n",
    "\n",
    "CalTM['Volt_Ref'] = ratio / RAW['Volt_Ref']\n",
    "CalTM['Volt_6V0'] = CalTM['Volt_Ref'] / 4096 * 6.4945 * RAW['Volt_6V0']\n",
    "CalTM['Volt_1V5'] = CalTM['Volt_Ref'] * RAW['Volt_1V5']/4096\n",
    "\n",
    "## Temperatures\n",
    "Cal_A = [306.90, 308.57, 313.57, 307.91, 307.17, 310.42, 304.15]\n",
    "Cal_B = [-268.21, -268.14, -274.94, -267.41, -266.71, -270.04, -264.52]\n",
    "\n",
    "CalTM['Temp_LFW']  = RAW['Temp_LFW']  * Cal_A[0] / CalTM['Volt_Ref'] + Cal_B[0]\n",
    "CalTM['Temp_RFW']  = RAW['Temp_RFW']  * Cal_A[1] / CalTM['Volt_Ref'] + Cal_B[1]\n",
    "CalTM['Temp_HRC']  = RAW['Temp_HRC']  * Cal_A[2] / CalTM['Volt_Ref'] + Cal_B[2]\n",
    "CalTM['Temp_LWAC'] = RAW['Temp_LWAC'] * Cal_A[3] / CalTM['Volt_Ref'] + Cal_B[3]\n",
    "CalTM['Temp_RWAC'] = RAW['Temp_RWAC'] * Cal_A[4] / CalTM['Volt_Ref'] + Cal_B[4]\n",
    "CalTM['Temp_LDO']  = RAW['Temp_LDO']  * Cal_A[5] / CalTM['Volt_Ref'] + Cal_B[5]\n",
    "CalTM['Temp_HRCA'] = RAW['Temp_HRCA'] * Cal_A[6] / CalTM['Volt_Ref'] + Cal_B[6]"
   ],
   "cell_type": "code",
   "outputs": [],
   "metadata": {},
   "execution_count": 29
  },
  {
   "cell_type": "code",
   "execution_count": null,
   "metadata": {},
   "outputs": [],
   "source": []
  }
 ]
}