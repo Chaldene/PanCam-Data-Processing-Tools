{
 "nbformat": 4,
 "nbformat_minor": 2,
 "metadata": {
  "language_info": {
   "name": "python",
   "codemirror_mode": {
    "name": "ipython",
    "version": 3
   },
   "version": "3.6.9"
  },
  "orig_nbformat": 2,
  "file_extension": ".py",
  "mimetype": "text/x-python",
  "name": "python",
  "npconvert_exporter": "python",
  "pygments_lexer": "ipython3",
  "version": 3
 },
 "cells": [
  {
   "cell_type": "code",
   "execution_count": 1,
   "metadata": {},
   "outputs": [],
   "source": [
    "### Notebook to test decoding of HK\n",
    "import pandas as pd\n",
    "import numpy as np\n",
    "from pathlib import Path\n",
    "from bitstruct import unpack_from as upf\n",
    "from pathlib import Path\n",
    "\n",
    "\n",
    "#Proc_DIR = Path(input(\"Type the path to the folder where the PROC folder is stored: \"))\n",
    "Proc_DIR = Path('C:/Users/ucasbwh/OneDrive - University College London/PanCam Documents/Rover Level Testing/Data/190809 - PAN_FIT_01/PROC')\n",
    "## Search for PanCam TM Files\n",
    "FILT_DIR = \"*RAW_TM.pickle\"\n",
    "PikFile = sorted(Proc_DIR.rglob(FILT_DIR))\n",
    "\n",
    "RTM = pd.read_pickle(PikFile[0])"
   ]
  },
  {
   "cell_type": "code",
   "execution_count": 2,
   "metadata": {},
   "outputs": [
    {
     "data": {
      "text/plain": "0      [21, 7, 0, 0, 3, 250, 123, 144, 0, 0, 77, 0, 0...\n1      [21, 7, 0, 0, 3, 251, 123, 144, 0, 0, 77, 0, 0...\n2      [21, 7, 0, 0, 3, 252, 123, 144, 0, 0, 77, 0, 0...\n3      [21, 7, 0, 0, 3, 253, 123, 144, 0, 0, 77, 0, 0...\n4      [21, 7, 0, 0, 3, 254, 123, 144, 0, 0, 77, 0, 0...\n                             ...                        \n465    [53, 3, 0, 0, 5, 203, 123, 144, 0, 0, 61, 0, 7...\n466    [53, 3, 0, 0, 5, 204, 123, 144, 0, 0, 61, 0, 7...\n467    [53, 3, 0, 0, 5, 205, 123, 144, 0, 0, 61, 0, 7...\n468    [21, 7, 0, 0, 5, 206, 123, 144, 0, 0, 77, 0, 7...\n469    [21, 7, 0, 0, 5, 207, 123, 144, 0, 0, 77, 0, 7...\nName: RAW, Length: 470, dtype: object"
     },
     "execution_count": 2,
     "metadata": {},
     "output_type": "execute_result"
    }
   ],
   "source": [
    "Bin = RTM['RAW'].apply(lambda x: bytearray.fromhex(x))\n",
    "Bin"
   ]
  },
  {
   "cell_type": "code",
   "execution_count": 3,
   "metadata": {},
   "outputs": [],
   "source": [
    "from bitstruct import unpack_from as upf\n",
    "import pandas as pd\n",
    "\n",
    "def PandUPF(Column, Len, OffBy, OffBi):\n",
    "    \"\"\"Extracts the RAW value from a binary pandas data column\"\"\"\n",
    "    Extract = Column.apply(lambda x: upf(Len, x, offset=8*OffBy+OffBi)[0]).astype('Int64')\n",
    "    return Extract"
   ]
  },
  {
   "cell_type": "code",
   "execution_count": 5,
   "metadata": {},
   "outputs": [],
   "source": [
    "class decodeRAW_IMGHDR_Error(Exception):\n",
    "    \"\"\"error for unexpected things\"\"\"\n",
    "    pass"
   ]
  },
  {
   "cell_type": "code",
   "execution_count": 6,
   "metadata": {},
   "outputs": [
    {
     "data": {
      "text/plain": "Block_Type    Int64\nInstr_ID      int64\nReserved      int64\ndtype: object"
     },
     "execution_count": 6,
     "metadata": {},
     "output_type": "execute_result"
    }
   ],
   "source": [
    "TM.dtypes"
   ]
  },
  {
   "cell_type": "code",
   "execution_count": 34,
   "metadata": {},
   "outputs": [
    {
     "name": "stdout",
     "output_type": "stream",
     "text": "Done\n"
    }
   ],
   "source": [
    "TM = pd.DataFrame()\n",
    "\n",
    "# Byte 0-10 TM Block Header\n",
    "TM['Block_Type']     = PandUPF(Bin, 'u1', 0, 0)\n",
    "TM['TM_Criticality'] = PandUPF(Bin, 'u2', 0, 1)\n",
    "TM['MMS_Dest']       = PandUPF(Bin, 'u1', 0, 3)\n",
    "TM['Instr_ID']       = PandUPF(Bin, 'u4', 0, 4)\n",
    "TM['TM_Type_ID']     = PandUPF(Bin, 'u6', 0, 8)\n",
    "TM['Seq_Flag']       = PandUPF(Bin, 'u2', 0, 14)\n",
    "TM['Pkt_CUC']        = PandUPF(Bin, 'u48', 0, 16)\n",
    "TM['Data_Len']       = PandUPF(Bin, 'u24', 0, 64)\n",
    "#Byte 11\n",
    "if True in (PandUPF(Bin, 'u8', 11, 0) != 0).unique():\n",
    "    raise decodeRAW_HK_Error(\"TM Byte 11 not 0\")\n",
    "\n",
    "#Byte 12-17 Voltages\n",
    "TM['Volt_Ref'] = PandUPF(Bin, 'u16', 12, 0)\n",
    "TM['Volt_6V0'] = PandUPF(Bin, 'u16', 14, 0)\n",
    "TM['Volt_1V5'] = PandUPF(Bin, 'u16', 16, 0)\n",
    "\n",
    "#Byte 18-31 Temperatures\n",
    "TM['Temp_LFW']  = PandUPF(Bin, 'u16', 18, 0)\n",
    "TM['Temp_RFW']  = PandUPF(Bin, 'u16', 20, 0)\n",
    "TM['Temp_HRC']  = PandUPF(Bin, 'u16', 22, 0)\n",
    "TM['Temp_LWAC'] = PandUPF(Bin, 'u16', 24, 0)\n",
    "TM['Temp_RWAC'] = PandUPF(Bin, 'u16', 26, 0)\n",
    "\n",
    "#Byte 32-33 Error Codes\n",
    "TM['ERR_1'] = PandUPF(Bin, 'u16', 32, 0)\n",
    "TM['ERR_2'] = PandUPF(Bin, 'u16', 34, 0)\n",
    "TM['ERR_3'] = PandUPF(Bin, 'u16', 36, 0)\n",
    "\n",
    "#Byte 38-39 PIU Htr Status\n",
    "TM['Stat_Temp_Fl'] = PandUPF(Bin, 'u1' , 38, 0)\n",
    "TM['Stat_Temp_Mo'] = PandUPF(Bin, 'u1' , 38, 1)\n",
    "TM['Stat_Temp_He'] = PandUPF(Bin, 'u2' , 38, 2)\n",
    "TM['Stat_Temp_Se'] = PandUPF(Bin, 'u12', 38, 4)\n",
    "\n",
    "#Byte 40-41 PIU FW Status\n",
    "if True in (PandUPF(Bin, 'u1', 40, 0) != 0).unique():\n",
    "    raise decodeRAW_HK_Error(\"TM Byte 40 bit 0 not 0\")\n",
    "TM['Stat_FWL_Op']  = PandUPF(Bin, 'u1' , 40, 1)\n",
    "TM['Stat_FWL_Ho']  = PandUPF(Bin, 'u1' , 40, 2)\n",
    "TM['Stat_FWL_Id']  = PandUPF(Bin, 'u1' , 40, 3)\n",
    "TM['Stat_FWL_Po']  = PandUPF(Bin, 'u4' , 40, 4)\n",
    "if True in (PandUPF(Bin, 'u1', 41, 0) !=0).unique():\n",
    "    raise decodeRAW_HK_Error(\"TM Byte 41 bit 0 not 0\")\n",
    "TM['Stat_FWR_Op']  = PandUPF(Bin, 'u1' , 41, 1)\n",
    "TM['Stat_FWR_Ho']  = PandUPF(Bin, 'u1' , 41, 2)\n",
    "TM['Stat_FWR_Id']  = PandUPF(Bin, 'u1' , 41, 3)\n",
    "TM['Stat_FWR_Po']  = PandUPF(Bin, 'u4' , 41, 4)\n",
    "\n",
    "#Byte 42-43 PIU Cam Status\n",
    "TM['Stat_PIU_En']  = PandUPF(Bin, 'u8', 42, 0)\n",
    "TM['Stat_PIU_Pw']  = PandUPF(Bin, 'u8', 43, 0)\n",
    "\n",
    "#Byte 44-45 Camera Response\n",
    "\n",
    "#Byte 64-71 Filter Wheel\n",
    "TM['FWL_ABS'] = PandUPF(Bin, 'u16', 64, 0)\n",
    "TM['FWR_ABS'] = PandUPF(Bin, 'u16', 66, 0)\n",
    "TM['FWL_REL'] = PandUPF(Bin, 'u16', 68, 0)\n",
    "TM['FWR_REL'] = PandUPF(Bin, 'u16', 70, 0)\n",
    "\n",
    "## Non-Essential Only HK\n",
    "NEBin = Bin[TM['TM_Type_ID']==1]\n",
    "if not NEBin.empty:\n",
    "    #Byte 72-77 Image ID\n",
    "    TM['IMG_SOL'] = PandUPF(NEBin, 'u12', 72, 0)\n",
    "    TM['IMG_Task_ID'] = PandUPF(NEBin, 'u7', 73, 4)\n",
    "    TM['IMG_Task_Run_No'] = PandUPF(NEBin, 'u7', 74, 3)\n",
    "    TM['IMG_Cam'] = PandUPF(NEBin, 'u2', 75, 2)\n",
    "    TM['IMG_FW'] = PandUPF(NEBin, 'u4', 75, 4)\n",
    "    TM['IMG_No'] = PandUPF(NEBin, 'u8', 76, 0)\n",
    "    if True in (PandUPF(NEBin, 'u1', 77, 0) !=0).unique():\n",
    "        raise decodeRAW_HK_Error(\"TM Byte 77 not 0\")\n",
    "    \n",
    "    #Byte 78-79 PIU Version\n",
    "    TM['PIU_Ver'] = PandUPF(NEBin, 'u16', 78, 0)\n",
    "\n",
    "    #Byte 80-87 FW Config\n",
    "    TM['FWL_RTi'] = PandUPF(NEBin, 'u8',  80, 0)\n",
    "    TM['FWL_Spe'] = PandUPF(NEBin, 'u4',  81, 0)\n",
    "    TM['FWR_Spe'] = PandUPF(NEBin, 'u4',  81, 4)\n",
    "    TM['FWL_Cur'] = PandUPF(NEBin, 'u16', 82, 0)\n",
    "    TM['FWR_Cur'] = PandUPF(NEBin, 'u16', 84, 0)\n",
    "    TM['FWR_RTi'] = PandUPF(NEBin, 'u8',  86, 0)\n",
    "    TM['FWL_StL'] = PandUPF(NEBin, 'u4',  87, 0)\n",
    "    TM['FWR_StR'] = PandUPF(NEBin, 'u4',  87, 4)\n",
    "    del NEBin\n",
    "\n",
    "##Byte 44-63 WAC Camera Responses\n",
    "WACBin = Bin[TM['Stat_PIU_Pw'].between(1,2)]\n",
    "HRCBin = Bin[TM['Stat_PIU_Pw'] == 3]\n",
    "if not WACBin.empty:\n",
    "    TM['WAC_CID'] = PandUPF(CamBin, 'u2', 44, 0)\n",
    "    if False in PandUPF(CamBin, 'u1', 44, 2):\n",
    "        raise decodeRAW_HK_Error(\"TM Byte 44 bit 2 not 0 for WAC\")\n",
    "    TM['WAC_WID'] = PandUPF(CamBin, 'u3', 44, 5)\n",
    "    TM['WAC_WTS'] = PandUPF(CamBin, 'u48', 51, 0)\n",
    "    TM['WAC_SUM'] = PandUPF(CamBin, 'u8', 59, 0) #Needs to be cleared for WAC HK though\n",
    "\n",
    "\n",
    "    #WAC IA\n",
    "    WIA = WACBin[TM['WAC_CID'] == 0]\n",
    "    if not WIA.empty:\n",
    "        TM['WAC_IAS'] = PandUPF(WIA, 'u2', 44, 3)\n",
    "        if True in (PandUPF(WIA, 'u48', 45, 0) !=0).unique():\n",
    "            raise decodeRAW_HK_Error(\"TM Bytes 45-50 not 0 for WAC IA\")\n",
    "        if True in (PandUPF(WIA, 'u16', 57, 0) !=0).unique():\n",
    "            raise decodeRAW_HK_Error(\"TM Bytes 57-58 not 0 for WAC IA\")\n",
    "        if True in (PandUPF(WIA, 'u32', 60, 0) !=0).unique():\n",
    "            raise decodeRAW_HK_Error(\"TM Bytes 60-63 not 0 for WAC IA\")\n",
    "        del WIA\n",
    "\n",
    "    #WAC HK\n",
    "    WHK = WACBin[TM]\n",
    "       \n",
    "\n",
    "\n",
    "\n",
    "print(\"Done\")"
   ]
  },
  {
   "cell_type": "code",
   "execution_count": 32,
   "metadata": {},
   "outputs": [
    {
     "ename": "TypeError",
     "evalue": "unsupported operand type(s) for |: 'bytearray' and 'bool'",
     "output_type": "error",
     "traceback": [
      "\u001b[1;31m---------------------------------------------------------------------------\u001b[0m",
      "\u001b[1;31mTypeError\u001b[0m                                 Traceback (most recent call last)",
      "\u001b[1;32m~\\AppData\\Local\\Continuum\\anaconda3\\lib\\site-packages\\pandas\\core\\ops\\__init__.py\u001b[0m in \u001b[0;36mna_op\u001b[1;34m(x, y)\u001b[0m\n\u001b[0;32m   1253\u001b[0m         \u001b[1;32mtry\u001b[0m\u001b[1;33m:\u001b[0m\u001b[1;33m\u001b[0m\u001b[1;33m\u001b[0m\u001b[0m\n\u001b[1;32m-> 1254\u001b[1;33m             \u001b[0mresult\u001b[0m \u001b[1;33m=\u001b[0m \u001b[0mop\u001b[0m\u001b[1;33m(\u001b[0m\u001b[0mx\u001b[0m\u001b[1;33m,\u001b[0m \u001b[0my\u001b[0m\u001b[1;33m)\u001b[0m\u001b[1;33m\u001b[0m\u001b[1;33m\u001b[0m\u001b[0m\n\u001b[0m\u001b[0;32m   1255\u001b[0m         \u001b[1;32mexcept\u001b[0m \u001b[0mTypeError\u001b[0m\u001b[1;33m:\u001b[0m\u001b[1;33m\u001b[0m\u001b[1;33m\u001b[0m\u001b[0m\n",
      "\u001b[1;31mTypeError\u001b[0m: unsupported operand type(s) for |: 'bytearray' and 'bool'",
      "\nDuring handling of the above exception, another exception occurred:\n",
      "\u001b[1;31mTypeError\u001b[0m                                 Traceback (most recent call last)",
      "\u001b[1;32m<ipython-input-32-bbe3e6114afe>\u001b[0m in \u001b[0;36m<module>\u001b[1;34m\u001b[0m\n\u001b[1;32m----> 1\u001b[1;33m \u001b[0mprint\u001b[0m\u001b[1;33m(\u001b[0m\u001b[0mWACBin\u001b[0m \u001b[1;33m|\u001b[0m \u001b[0mHRCBin\u001b[0m\u001b[1;33m)\u001b[0m\u001b[1;33m\u001b[0m\u001b[1;33m\u001b[0m\u001b[0m\n\u001b[0m",
      "\u001b[1;32m~\\AppData\\Local\\Continuum\\anaconda3\\lib\\site-packages\\pandas\\core\\ops\\__init__.py\u001b[0m in \u001b[0;36mwrapper\u001b[1;34m(self, other)\u001b[0m\n\u001b[0;32m   1319\u001b[0m         \u001b[1;31m#   integer dtypes.  Otherwise these are boolean ops\u001b[0m\u001b[1;33m\u001b[0m\u001b[1;33m\u001b[0m\u001b[1;33m\u001b[0m\u001b[0m\n\u001b[0;32m   1320\u001b[0m         \u001b[0mfiller\u001b[0m \u001b[1;33m=\u001b[0m \u001b[0mfill_int\u001b[0m \u001b[1;32mif\u001b[0m \u001b[0mis_self_int_dtype\u001b[0m \u001b[1;32mand\u001b[0m \u001b[0mis_other_int_dtype\u001b[0m \u001b[1;32melse\u001b[0m \u001b[0mfill_bool\u001b[0m\u001b[1;33m\u001b[0m\u001b[1;33m\u001b[0m\u001b[0m\n\u001b[1;32m-> 1321\u001b[1;33m         \u001b[0mres_values\u001b[0m \u001b[1;33m=\u001b[0m \u001b[0mna_op\u001b[0m\u001b[1;33m(\u001b[0m\u001b[0mself\u001b[0m\u001b[1;33m.\u001b[0m\u001b[0mvalues\u001b[0m\u001b[1;33m,\u001b[0m \u001b[0movalues\u001b[0m\u001b[1;33m)\u001b[0m\u001b[1;33m\u001b[0m\u001b[1;33m\u001b[0m\u001b[0m\n\u001b[0m\u001b[0;32m   1322\u001b[0m         \u001b[0munfilled\u001b[0m \u001b[1;33m=\u001b[0m \u001b[0mself\u001b[0m\u001b[1;33m.\u001b[0m\u001b[0m_constructor\u001b[0m\u001b[1;33m(\u001b[0m\u001b[0mres_values\u001b[0m\u001b[1;33m,\u001b[0m \u001b[0mindex\u001b[0m\u001b[1;33m=\u001b[0m\u001b[0mself\u001b[0m\u001b[1;33m.\u001b[0m\u001b[0mindex\u001b[0m\u001b[1;33m,\u001b[0m \u001b[0mname\u001b[0m\u001b[1;33m=\u001b[0m\u001b[0mres_name\u001b[0m\u001b[1;33m)\u001b[0m\u001b[1;33m\u001b[0m\u001b[1;33m\u001b[0m\u001b[0m\n\u001b[0;32m   1323\u001b[0m         \u001b[0mfilled\u001b[0m \u001b[1;33m=\u001b[0m \u001b[0mfiller\u001b[0m\u001b[1;33m(\u001b[0m\u001b[0munfilled\u001b[0m\u001b[1;33m)\u001b[0m\u001b[1;33m\u001b[0m\u001b[1;33m\u001b[0m\u001b[0m\n",
      "\u001b[1;32m~\\AppData\\Local\\Continuum\\anaconda3\\lib\\site-packages\\pandas\\core\\ops\\__init__.py\u001b[0m in \u001b[0;36mna_op\u001b[1;34m(x, y)\u001b[0m\n\u001b[0;32m   1260\u001b[0m                 \u001b[0mx\u001b[0m \u001b[1;33m=\u001b[0m \u001b[0mensure_object\u001b[0m\u001b[1;33m(\u001b[0m\u001b[0mx\u001b[0m\u001b[1;33m)\u001b[0m\u001b[1;33m\u001b[0m\u001b[1;33m\u001b[0m\u001b[0m\n\u001b[0;32m   1261\u001b[0m                 \u001b[0my\u001b[0m \u001b[1;33m=\u001b[0m \u001b[0mensure_object\u001b[0m\u001b[1;33m(\u001b[0m\u001b[0my\u001b[0m\u001b[1;33m)\u001b[0m\u001b[1;33m\u001b[0m\u001b[1;33m\u001b[0m\u001b[0m\n\u001b[1;32m-> 1262\u001b[1;33m                 \u001b[0mresult\u001b[0m \u001b[1;33m=\u001b[0m \u001b[0mlibops\u001b[0m\u001b[1;33m.\u001b[0m\u001b[0mvec_binop\u001b[0m\u001b[1;33m(\u001b[0m\u001b[0mx\u001b[0m\u001b[1;33m,\u001b[0m \u001b[0my\u001b[0m\u001b[1;33m,\u001b[0m \u001b[0mop\u001b[0m\u001b[1;33m)\u001b[0m\u001b[1;33m\u001b[0m\u001b[1;33m\u001b[0m\u001b[0m\n\u001b[0m\u001b[0;32m   1263\u001b[0m             \u001b[1;32melse\u001b[0m\u001b[1;33m:\u001b[0m\u001b[1;33m\u001b[0m\u001b[1;33m\u001b[0m\u001b[0m\n\u001b[0;32m   1264\u001b[0m                 \u001b[1;31m# let null fall thru\u001b[0m\u001b[1;33m\u001b[0m\u001b[1;33m\u001b[0m\u001b[1;33m\u001b[0m\u001b[0m\n",
      "\u001b[1;32mpandas\\_libs\\ops.pyx\u001b[0m in \u001b[0;36mpandas._libs.ops.vec_binop\u001b[1;34m()\u001b[0m\n",
      "\u001b[1;32mpandas\\_libs\\ops.pyx\u001b[0m in \u001b[0;36mpandas._libs.ops.vec_binop\u001b[1;34m()\u001b[0m\n",
      "\u001b[1;31mTypeError\u001b[0m: unsupported operand type(s) for |: 'bytearray' and 'bool'"
     ]
    }
   ],
   "source": [
    "## Select all Cam Response when a camera is powered off\n",
    "print(TM['Stat_PIU_Pw']WACBin | HRCBin)"
   ]
  }
 ]
}