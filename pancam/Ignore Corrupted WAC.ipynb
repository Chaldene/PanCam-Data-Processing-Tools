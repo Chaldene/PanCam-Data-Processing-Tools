{
 "nbformat": 4,
 "nbformat_minor": 2,
 "metadata": {
  "language_info": {
   "name": "python",
   "codemirror_mode": {
    "name": "ipython",
    "version": 3
   },
   "version": "3.7.6-final"
  },
  "orig_nbformat": 2,
  "file_extension": ".py",
  "mimetype": "text/x-python",
  "name": "python",
  "npconvert_exporter": "python",
  "pygments_lexer": "ipython3",
  "version": 3,
  "kernelspec": {
   "name": "python37664bitd19f5fc5bb3f42ae87eec491771892ef",
   "display_name": "Python 3.7.6 64-bit"
  }
 },
 "cells": [
  {
   "cell_type": "code",
   "execution_count": 66,
   "metadata": {},
   "outputs": [],
   "source": [
    "import pandas as pd\n",
    "from pathlib import Path\n",
    "import shutil\n",
    "\n",
    "import PC_Fns\n",
    "from PC_Fns import PandUPF\n",
    "import decodeRAW_HK"
   ]
  },
  {
   "cell_type": "code",
   "execution_count": 73,
   "metadata": {},
   "outputs": [
    {
     "output_type": "execute_result",
     "data": {
      "text/plain": "                       Time  \\\n0  2019-10-11\\t09:54:35.576   \n1  2019-10-11\\t09:54:36.576   \n2  2019-10-11\\t09:54:37.576   \n3  2019-10-11\\t09:54:38.576   \n4  2019-10-11\\t09:54:39.576   \n\n                                                 RAW   Source  \n0  15 07 00 0F 0B DB 02 04 00 00 4D 00 07 18 04 8...  LabView  \n1  15 07 00 0F 0B DC 02 04 00 00 4D 00 07 18 04 8...  LabView  \n2  15 07 00 0F 0B DD 02 04 00 00 4D 00 07 18 04 8...  LabView  \n3  15 07 00 0F 0B DE 02 04 00 00 4D 00 07 18 04 8...  LabView  \n4  15 07 00 0F 0B DF 02 04 00 00 4D 00 07 18 04 8...  LabView  ",
      "text/html": "<div>\n<style scoped>\n    .dataframe tbody tr th:only-of-type {\n        vertical-align: middle;\n    }\n\n    .dataframe tbody tr th {\n        vertical-align: top;\n    }\n\n    .dataframe thead th {\n        text-align: right;\n    }\n</style>\n<table border=\"1\" class=\"dataframe\">\n  <thead>\n    <tr style=\"text-align: right;\">\n      <th></th>\n      <th>Time</th>\n      <th>RAW</th>\n      <th>Source</th>\n    </tr>\n  </thead>\n  <tbody>\n    <tr>\n      <th>0</th>\n      <td>2019-10-11\\t09:54:35.576</td>\n      <td>15 07 00 0F 0B DB 02 04 00 00 4D 00 07 18 04 8...</td>\n      <td>LabView</td>\n    </tr>\n    <tr>\n      <th>1</th>\n      <td>2019-10-11\\t09:54:36.576</td>\n      <td>15 07 00 0F 0B DC 02 04 00 00 4D 00 07 18 04 8...</td>\n      <td>LabView</td>\n    </tr>\n    <tr>\n      <th>2</th>\n      <td>2019-10-11\\t09:54:37.576</td>\n      <td>15 07 00 0F 0B DD 02 04 00 00 4D 00 07 18 04 8...</td>\n      <td>LabView</td>\n    </tr>\n    <tr>\n      <th>3</th>\n      <td>2019-10-11\\t09:54:38.576</td>\n      <td>15 07 00 0F 0B DE 02 04 00 00 4D 00 07 18 04 8...</td>\n      <td>LabView</td>\n    </tr>\n    <tr>\n      <th>4</th>\n      <td>2019-10-11\\t09:54:39.576</td>\n      <td>15 07 00 0F 0B DF 02 04 00 00 4D 00 07 18 04 8...</td>\n      <td>LabView</td>\n    </tr>\n  </tbody>\n</table>\n</div>"
     },
     "metadata": {},
     "execution_count": 73
    }
   ],
   "source": [
    "# First load pickle and create a unedited copy\n",
    "proc_dir = Path(r\"C:\\WDir\\PanCam EGSE\\Logs\\FS Calibration Reprocessed\\20191011_095418_WAC_R5_-50c_ABSR\\PROC\")\n",
    "unproc = \"Unproc_HKTM.pickle\"\n",
    "curfile = proc_dir / unproc\n",
    "\n",
    "RTM = pd.read_pickle(proc_dir / unproc)\n",
    "curfile.rename(proc_dir / (unproc + \".orig\"))\n",
    "\n",
    "RTM.head()"
   ]
  },
  {
   "cell_type": "code",
   "execution_count": 74,
   "metadata": {},
   "outputs": [
    {
     "output_type": "execute_result",
     "data": {
      "text/plain": "127     [53, 3, 0, 15, 12, 90, 2, 4, 0, 0, 61, 0, 7, 2...\n1306    [53, 3, 0, 15, 16, 250, 2, 4, 0, 0, 61, 0, 7, ...\n1308    [53, 3, 0, 15, 16, 252, 2, 4, 0, 0, 61, 0, 7, ...\n1309    [53, 3, 0, 15, 16, 253, 2, 4, 0, 0, 61, 0, 7, ...\n1310    [53, 3, 0, 15, 16, 254, 2, 4, 0, 0, 61, 0, 7, ...\nName: RAW, dtype: object"
     },
     "metadata": {},
     "execution_count": 74
    }
   ],
   "source": [
    "# Determine problem range\n",
    "\n",
    "Bin = RTM['RAW'].apply(lambda x: bytearray.fromhex(x))\n",
    "\n",
    "TM = pd.DataFrame()\n",
    "TM['Stat_PIU_En'] = PandUPF(Bin, 'u8', 42, 0)\n",
    "TM['Stat_PIU_Pw'] = PandUPF(Bin, 'u8', 43, 0)\n",
    "\n",
    "WACBin, HRCBin = decodeRAW_HK.Determ_CamRes(TM, Bin)\n",
    "WACBin.head()"
   ]
  },
  {
   "cell_type": "code",
   "execution_count": 75,
   "metadata": {},
   "outputs": [
    {
     "output_type": "execute_result",
     "data": {
      "text/plain": "                          Time  \\\n1300  2019-10-11\\t10:16:20.376   \n1301  2019-10-11\\t10:16:21.376   \n1302  2019-10-11\\t10:16:22.376   \n1303  2019-10-11\\t10:16:23.376   \n1304  2019-10-11\\t10:16:24.376   \n1305  2019-10-11\\t10:16:25.376   \n1306  2019-10-11\\t10:16:26.376   \n1307  2019-10-11\\t10:16:27.376   \n1308  2019-10-11\\t10:16:28.376   \n1309  2019-10-11\\t10:16:29.377   \n1310  2019-10-11\\t10:16:30.376   \n1311  2019-10-11\\t10:16:31.376   \n1312  2019-10-11\\t10:16:32.376   \n1313  2019-10-11\\t10:16:33.377   \n1314  2019-10-11\\t10:16:34.377   \n1315  2019-10-11\\t10:16:35.376   \n1316  2019-10-11\\t10:16:36.377   \n1317  2019-10-11\\t10:16:37.376   \n1318  2019-10-11\\t10:16:38.376   \n1319  2019-10-11\\t10:16:39.376   \n\n                                                    RAW   Source  \n1300  15 07 00 0F 10 F4 02 04 00 00 4D 00 07 1A 04 8...  LabView  \n1301  15 07 00 0F 10 F5 02 04 00 00 4D 00 07 1A 04 8...  LabView  \n1302  15 07 00 0F 10 F6 02 04 00 00 4D 00 07 1A 04 8...  LabView  \n1303  15 07 00 0F 10 F7 02 04 00 00 4D 00 07 1A 04 8...  LabView  \n1304  35 03 00 0F 10 F8 02 04 00 00 3D 00 07 19 04 8...  LabView  \n1305  15 07 00 0F 10 F9 02 04 00 00 4D 00 07 1A 04 8...  LabView  \n1306  35 03 00 0F 10 FA 02 04 00 00 3D 00 07 1A 04 8...  LabView  \n1307  15 07 00 0F 10 FB 02 04 00 00 4D 00 07 1A 04 8...  LabView  \n1308  35 03 00 0F 10 FC 02 04 00 00 3D 00 07 1A 04 8...  LabView  \n1309  35 03 00 0F 10 FD 02 04 00 00 3D 00 07 1A 04 8...  LabView  \n1310  35 03 00 0F 10 FE 02 04 00 00 3D 00 07 19 04 8...  LabView  \n1311  15 07 00 0F 10 FF 02 04 00 00 4D 00 07 1A 04 8...  LabView  \n1312  15 07 00 0F 11 00 02 04 00 00 4D 00 07 1A 04 8...  LabView  \n1313  15 07 00 0F 11 01 02 04 00 00 4D 00 07 1B 04 8...  LabView  \n1314  35 03 00 0F 11 02 02 04 00 00 3D 00 07 1A 04 8...  LabView  \n1315  15 07 00 0F 11 03 02 04 00 00 4D 00 07 1A 04 8...  LabView  \n1316  15 07 00 0F 11 04 02 04 00 00 4D 00 07 1A 04 8...  LabView  \n1317  15 07 00 0F 11 05 02 04 00 00 4D 00 07 1A 04 8...  LabView  \n1318  15 07 00 0F 11 06 02 04 00 00 4D 00 07 1A 04 8...  LabView  \n1319  15 07 00 0F 11 07 02 04 00 00 4D 00 07 19 04 8...  LabView  ",
      "text/html": "<div>\n<style scoped>\n    .dataframe tbody tr th:only-of-type {\n        vertical-align: middle;\n    }\n\n    .dataframe tbody tr th {\n        vertical-align: top;\n    }\n\n    .dataframe thead th {\n        text-align: right;\n    }\n</style>\n<table border=\"1\" class=\"dataframe\">\n  <thead>\n    <tr style=\"text-align: right;\">\n      <th></th>\n      <th>Time</th>\n      <th>RAW</th>\n      <th>Source</th>\n    </tr>\n  </thead>\n  <tbody>\n    <tr>\n      <th>1300</th>\n      <td>2019-10-11\\t10:16:20.376</td>\n      <td>15 07 00 0F 10 F4 02 04 00 00 4D 00 07 1A 04 8...</td>\n      <td>LabView</td>\n    </tr>\n    <tr>\n      <th>1301</th>\n      <td>2019-10-11\\t10:16:21.376</td>\n      <td>15 07 00 0F 10 F5 02 04 00 00 4D 00 07 1A 04 8...</td>\n      <td>LabView</td>\n    </tr>\n    <tr>\n      <th>1302</th>\n      <td>2019-10-11\\t10:16:22.376</td>\n      <td>15 07 00 0F 10 F6 02 04 00 00 4D 00 07 1A 04 8...</td>\n      <td>LabView</td>\n    </tr>\n    <tr>\n      <th>1303</th>\n      <td>2019-10-11\\t10:16:23.376</td>\n      <td>15 07 00 0F 10 F7 02 04 00 00 4D 00 07 1A 04 8...</td>\n      <td>LabView</td>\n    </tr>\n    <tr>\n      <th>1304</th>\n      <td>2019-10-11\\t10:16:24.376</td>\n      <td>35 03 00 0F 10 F8 02 04 00 00 3D 00 07 19 04 8...</td>\n      <td>LabView</td>\n    </tr>\n    <tr>\n      <th>1305</th>\n      <td>2019-10-11\\t10:16:25.376</td>\n      <td>15 07 00 0F 10 F9 02 04 00 00 4D 00 07 1A 04 8...</td>\n      <td>LabView</td>\n    </tr>\n    <tr>\n      <th>1306</th>\n      <td>2019-10-11\\t10:16:26.376</td>\n      <td>35 03 00 0F 10 FA 02 04 00 00 3D 00 07 1A 04 8...</td>\n      <td>LabView</td>\n    </tr>\n    <tr>\n      <th>1307</th>\n      <td>2019-10-11\\t10:16:27.376</td>\n      <td>15 07 00 0F 10 FB 02 04 00 00 4D 00 07 1A 04 8...</td>\n      <td>LabView</td>\n    </tr>\n    <tr>\n      <th>1308</th>\n      <td>2019-10-11\\t10:16:28.376</td>\n      <td>35 03 00 0F 10 FC 02 04 00 00 3D 00 07 1A 04 8...</td>\n      <td>LabView</td>\n    </tr>\n    <tr>\n      <th>1309</th>\n      <td>2019-10-11\\t10:16:29.377</td>\n      <td>35 03 00 0F 10 FD 02 04 00 00 3D 00 07 1A 04 8...</td>\n      <td>LabView</td>\n    </tr>\n    <tr>\n      <th>1310</th>\n      <td>2019-10-11\\t10:16:30.376</td>\n      <td>35 03 00 0F 10 FE 02 04 00 00 3D 00 07 19 04 8...</td>\n      <td>LabView</td>\n    </tr>\n    <tr>\n      <th>1311</th>\n      <td>2019-10-11\\t10:16:31.376</td>\n      <td>15 07 00 0F 10 FF 02 04 00 00 4D 00 07 1A 04 8...</td>\n      <td>LabView</td>\n    </tr>\n    <tr>\n      <th>1312</th>\n      <td>2019-10-11\\t10:16:32.376</td>\n      <td>15 07 00 0F 11 00 02 04 00 00 4D 00 07 1A 04 8...</td>\n      <td>LabView</td>\n    </tr>\n    <tr>\n      <th>1313</th>\n      <td>2019-10-11\\t10:16:33.377</td>\n      <td>15 07 00 0F 11 01 02 04 00 00 4D 00 07 1B 04 8...</td>\n      <td>LabView</td>\n    </tr>\n    <tr>\n      <th>1314</th>\n      <td>2019-10-11\\t10:16:34.377</td>\n      <td>35 03 00 0F 11 02 02 04 00 00 3D 00 07 1A 04 8...</td>\n      <td>LabView</td>\n    </tr>\n    <tr>\n      <th>1315</th>\n      <td>2019-10-11\\t10:16:35.376</td>\n      <td>15 07 00 0F 11 03 02 04 00 00 4D 00 07 1A 04 8...</td>\n      <td>LabView</td>\n    </tr>\n    <tr>\n      <th>1316</th>\n      <td>2019-10-11\\t10:16:36.377</td>\n      <td>15 07 00 0F 11 04 02 04 00 00 4D 00 07 1A 04 8...</td>\n      <td>LabView</td>\n    </tr>\n    <tr>\n      <th>1317</th>\n      <td>2019-10-11\\t10:16:37.376</td>\n      <td>15 07 00 0F 11 05 02 04 00 00 4D 00 07 1A 04 8...</td>\n      <td>LabView</td>\n    </tr>\n    <tr>\n      <th>1318</th>\n      <td>2019-10-11\\t10:16:38.376</td>\n      <td>15 07 00 0F 11 06 02 04 00 00 4D 00 07 1A 04 8...</td>\n      <td>LabView</td>\n    </tr>\n    <tr>\n      <th>1319</th>\n      <td>2019-10-11\\t10:16:39.376</td>\n      <td>15 07 00 0F 11 07 02 04 00 00 4D 00 07 19 04 8...</td>\n      <td>LabView</td>\n    </tr>\n  </tbody>\n</table>\n</div>"
     },
     "metadata": {},
     "execution_count": 75
    }
   ],
   "source": [
    "# CamRes bytes at [44:64]\n",
    "# 3 characters per byte\n",
    "\n",
    "camresnul = RTM.RAW[127:1306].apply(lambda x: x[:44*3] + x[44*3:64*3].replace('FF', '00') + x[64*3:])\n",
    "\n",
    "RTM['RAW'].at[127:1305] = camresnul\n",
    "RTM[1300:].head(20)"
   ]
  },
  {
   "cell_type": "code",
   "execution_count": 76,
   "metadata": {},
   "outputs": [],
   "source": [
    "# Check RTM\n",
    "Bin = RTM['RAW'].apply(lambda x: bytearray.fromhex(x))\n",
    "\n",
    "TM = pd.DataFrame()\n",
    "TM['Stat_PIU_En'] = PandUPF(Bin, 'u8', 42, 0)\n",
    "TM['Stat_PIU_Pw'] = PandUPF(Bin, 'u8', 43, 0)\n",
    "\n",
    "WACBin, HRCBin = decodeRAW_HK.Determ_CamRes(TM, Bin)\n",
    "WACBin.head()\n",
    "TM = decodeRAW_HK.DecodeWAC_CamRes(TM, WACBin)"
   ]
  },
  {
   "cell_type": "code",
   "execution_count": 77,
   "metadata": {},
   "outputs": [],
   "source": [
    "# Finally write new pickle\n",
    "RTM.to_pickle(proc_dir / unproc)"
   ]
  }
 ]
}