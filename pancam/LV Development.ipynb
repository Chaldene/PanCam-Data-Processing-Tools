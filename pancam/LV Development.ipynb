{
 "nbformat": 4,
 "nbformat_minor": 2,
 "metadata": {
  "language_info": {
   "name": "python",
   "codemirror_mode": {
    "name": "ipython",
    "version": 3
   },
   "version": "3.7.6-final"
  },
  "orig_nbformat": 2,
  "file_extension": ".py",
  "mimetype": "text/x-python",
  "name": "python",
  "npconvert_exporter": "python",
  "pygments_lexer": "ipython3",
  "version": 3,
  "kernelspec": {
   "name": "python37664bitd19f5fc5bb3f42ae87eec491771892ef",
   "display_name": "Python 3.7.6 64-bit"
  }
 },
 "cells": [
  {
   "cell_type": "code",
   "execution_count": 1,
   "metadata": {},
   "outputs": [],
   "source": [
    "import pandas as pd\n",
    "from pathlib import Path\n",
    "_\n",
    "import PC_Fns\n",
    "import hs\n",
    "import filecmp\n",
    "import numpy as np \n",
    "import imageio\n",
    "import tarfile\n",
    "import shutil\n",
    "from PC_Fns import PandUPF\n",
    "import decodeRAW_HK"
   ]
  },
  {
   "cell_type": "code",
   "execution_count": 39,
   "metadata": {},
   "outputs": [
    {
     "output_type": "stream",
     "name": "stdout",
     "text": "762030\n[6, 13, 20, 27, 34, 41, 42, 49, 56, 57, 64, 71, 78, 85, 86, 93, 100, 107, 114, 121, 128, 135, 142, 149]\n[42, 57, 86]\n[WindowsPath('C:/Users/ucasbwh/Desktop/20190925_101155_HRC_-20C_ABSR_MID/RMAP_Sci_20190925_101155_043.txt'), WindowsPath('C:/Users/ucasbwh/Desktop/20190925_101155_HRC_-20C_ABSR_MID/RMAP_Sci_20190925_101155_058.txt'), WindowsPath('C:/Users/ucasbwh/Desktop/20190925_101155_HRC_-20C_ABSR_MID/RMAP_Sci_20190925_101155_087.txt')]\n[WindowsPath('C:/Users/ucasbwh/Desktop/20190925_101155_HRC_-20C_ABSR_MID/RMAP_Sci_20190925_101155_001.txt'), WindowsPath('C:/Users/ucasbwh/Desktop/20190925_101155_HRC_-20C_ABSR_MID/RMAP_Sci_20190925_101155_002.txt'), WindowsPath('C:/Users/ucasbwh/Desktop/20190925_101155_HRC_-20C_ABSR_MID/RMAP_Sci_20190925_101155_003.txt'), WindowsPath('C:/Users/ucasbwh/Desktop/20190925_101155_HRC_-20C_ABSR_MID/RMAP_Sci_20190925_101155_004.txt'), WindowsPath('C:/Users/ucasbwh/Desktop/20190925_101155_HRC_-20C_ABSR_MID/RMAP_Sci_20190925_101155_005.txt'), WindowsPath('C:/Users/ucasbwh/Desktop/20190925_101155_HRC_-20C_ABSR_MID/RMAP_Sci_20190925_101155_006.txt'), WindowsPath('C:/Users/ucasbwh/Desktop/20190925_101155_HRC_-20C_ABSR_MID/RMAP_Sci_20190925_101155_007.txt'), WindowsPath('C:/Users/ucasbwh/Desktop/20190925_101155_HRC_-20C_ABSR_MID/RMAP_Sci_20190925_101155_008.txt'), WindowsPath('C:/Users/ucasbwh/Desktop/20190925_101155_HRC_-20C_ABSR_MID/RMAP_Sci_20190925_101155_009.txt'), WindowsPath('C:/Users/ucasbwh/Desktop/20190925_101155_HRC_-20C_ABSR_MID/RMAP_Sci_20190925_101155_010.txt'), WindowsPath('C:/Users/ucasbwh/Desktop/20190925_101155_HRC_-20C_ABSR_MID/RMAP_Sci_20190925_101155_011.txt'), WindowsPath('C:/Users/ucasbwh/Desktop/20190925_101155_HRC_-20C_ABSR_MID/RMAP_Sci_20190925_101155_012.txt'), WindowsPath('C:/Users/ucasbwh/Desktop/20190925_101155_HRC_-20C_ABSR_MID/RMAP_Sci_20190925_101155_013.txt'), WindowsPath('C:/Users/ucasbwh/Desktop/20190925_101155_HRC_-20C_ABSR_MID/RMAP_Sci_20190925_101155_014.txt'), WindowsPath('C:/Users/ucasbwh/Desktop/20190925_101155_HRC_-20C_ABSR_MID/RMAP_Sci_20190925_101155_015.txt'), WindowsPath('C:/Users/ucasbwh/Desktop/20190925_101155_HRC_-20C_ABSR_MID/RMAP_Sci_20190925_101155_016.txt'), WindowsPath('C:/Users/ucasbwh/Desktop/20190925_101155_HRC_-20C_ABSR_MID/RMAP_Sci_20190925_101155_017.txt'), WindowsPath('C:/Users/ucasbwh/Desktop/20190925_101155_HRC_-20C_ABSR_MID/RMAP_Sci_20190925_101155_018.txt'), WindowsPath('C:/Users/ucasbwh/Desktop/20190925_101155_HRC_-20C_ABSR_MID/RMAP_Sci_20190925_101155_019.txt'), WindowsPath('C:/Users/ucasbwh/Desktop/20190925_101155_HRC_-20C_ABSR_MID/RMAP_Sci_20190925_101155_020.txt'), WindowsPath('C:/Users/ucasbwh/Desktop/20190925_101155_HRC_-20C_ABSR_MID/RMAP_Sci_20190925_101155_021.txt'), WindowsPath('C:/Users/ucasbwh/Desktop/20190925_101155_HRC_-20C_ABSR_MID/RMAP_Sci_20190925_101155_022.txt'), WindowsPath('C:/Users/ucasbwh/Desktop/20190925_101155_HRC_-20C_ABSR_MID/RMAP_Sci_20190925_101155_023.txt'), WindowsPath('C:/Users/ucasbwh/Desktop/20190925_101155_HRC_-20C_ABSR_MID/RMAP_Sci_20190925_101155_024.txt'), WindowsPath('C:/Users/ucasbwh/Desktop/20190925_101155_HRC_-20C_ABSR_MID/RMAP_Sci_20190925_101155_025.txt'), WindowsPath('C:/Users/ucasbwh/Desktop/20190925_101155_HRC_-20C_ABSR_MID/RMAP_Sci_20190925_101155_026.txt'), WindowsPath('C:/Users/ucasbwh/Desktop/20190925_101155_HRC_-20C_ABSR_MID/RMAP_Sci_20190925_101155_027.txt'), WindowsPath('C:/Users/ucasbwh/Desktop/20190925_101155_HRC_-20C_ABSR_MID/RMAP_Sci_20190925_101155_028.txt'), WindowsPath('C:/Users/ucasbwh/Desktop/20190925_101155_HRC_-20C_ABSR_MID/RMAP_Sci_20190925_101155_029.txt'), WindowsPath('C:/Users/ucasbwh/Desktop/20190925_101155_HRC_-20C_ABSR_MID/RMAP_Sci_20190925_101155_030.txt'), WindowsPath('C:/Users/ucasbwh/Desktop/20190925_101155_HRC_-20C_ABSR_MID/RMAP_Sci_20190925_101155_031.txt'), WindowsPath('C:/Users/ucasbwh/Desktop/20190925_101155_HRC_-20C_ABSR_MID/RMAP_Sci_20190925_101155_032.txt'), WindowsPath('C:/Users/ucasbwh/Desktop/20190925_101155_HRC_-20C_ABSR_MID/RMAP_Sci_20190925_101155_033.txt'), WindowsPath('C:/Users/ucasbwh/Desktop/20190925_101155_HRC_-20C_ABSR_MID/RMAP_Sci_20190925_101155_034.txt'), WindowsPath('C:/Users/ucasbwh/Desktop/20190925_101155_HRC_-20C_ABSR_MID/RMAP_Sci_20190925_101155_035.txt'), WindowsPath('C:/Users/ucasbwh/Desktop/20190925_101155_HRC_-20C_ABSR_MID/RMAP_Sci_20190925_101155_036.txt'), WindowsPath('C:/Users/ucasbwh/Desktop/20190925_101155_HRC_-20C_ABSR_MID/RMAP_Sci_20190925_101155_037.txt'), WindowsPath('C:/Users/ucasbwh/Desktop/20190925_101155_HRC_-20C_ABSR_MID/RMAP_Sci_20190925_101155_038.txt'), WindowsPath('C:/Users/ucasbwh/Desktop/20190925_101155_HRC_-20C_ABSR_MID/RMAP_Sci_20190925_101155_039.txt'), WindowsPath('C:/Users/ucasbwh/Desktop/20190925_101155_HRC_-20C_ABSR_MID/RMAP_Sci_20190925_101155_040.txt'), WindowsPath('C:/Users/ucasbwh/Desktop/20190925_101155_HRC_-20C_ABSR_MID/RMAP_Sci_20190925_101155_041.txt'), WindowsPath('C:/Users/ucasbwh/Desktop/20190925_101155_HRC_-20C_ABSR_MID/RMAP_Sci_20190925_101155_042.txt'), WindowsPath('C:/Users/ucasbwh/Desktop/20190925_101155_HRC_-20C_ABSR_MID/RMAP_Sci_20190925_101155_044.txt'), WindowsPath('C:/Users/ucasbwh/Desktop/20190925_101155_HRC_-20C_ABSR_MID/RMAP_Sci_20190925_101155_045.txt'), WindowsPath('C:/Users/ucasbwh/Desktop/20190925_101155_HRC_-20C_ABSR_MID/RMAP_Sci_20190925_101155_046.txt'), WindowsPath('C:/Users/ucasbwh/Desktop/20190925_101155_HRC_-20C_ABSR_MID/RMAP_Sci_20190925_101155_047.txt'), WindowsPath('C:/Users/ucasbwh/Desktop/20190925_101155_HRC_-20C_ABSR_MID/RMAP_Sci_20190925_101155_048.txt'), WindowsPath('C:/Users/ucasbwh/Desktop/20190925_101155_HRC_-20C_ABSR_MID/RMAP_Sci_20190925_101155_049.txt'), WindowsPath('C:/Users/ucasbwh/Desktop/20190925_101155_HRC_-20C_ABSR_MID/RMAP_Sci_20190925_101155_050.txt'), WindowsPath('C:/Users/ucasbwh/Desktop/20190925_101155_HRC_-20C_ABSR_MID/RMAP_Sci_20190925_101155_051.txt'), WindowsPath('C:/Users/ucasbwh/Desktop/20190925_101155_HRC_-20C_ABSR_MID/RMAP_Sci_20190925_101155_052.txt'), WindowsPath('C:/Users/ucasbwh/Desktop/20190925_101155_HRC_-20C_ABSR_MID/RMAP_Sci_20190925_101155_053.txt'), WindowsPath('C:/Users/ucasbwh/Desktop/20190925_101155_HRC_-20C_ABSR_MID/RMAP_Sci_20190925_101155_054.txt'), WindowsPath('C:/Users/ucasbwh/Desktop/20190925_101155_HRC_-20C_ABSR_MID/RMAP_Sci_20190925_101155_055.txt'), WindowsPath('C:/Users/ucasbwh/Desktop/20190925_101155_HRC_-20C_ABSR_MID/RMAP_Sci_20190925_101155_056.txt'), WindowsPath('C:/Users/ucasbwh/Desktop/20190925_101155_HRC_-20C_ABSR_MID/RMAP_Sci_20190925_101155_057.txt'), WindowsPath('C:/Users/ucasbwh/Desktop/20190925_101155_HRC_-20C_ABSR_MID/RMAP_Sci_20190925_101155_059.txt'), WindowsPath('C:/Users/ucasbwh/Desktop/20190925_101155_HRC_-20C_ABSR_MID/RMAP_Sci_20190925_101155_060.txt'), WindowsPath('C:/Users/ucasbwh/Desktop/20190925_101155_HRC_-20C_ABSR_MID/RMAP_Sci_20190925_101155_061.txt'), WindowsPath('C:/Users/ucasbwh/Desktop/20190925_101155_HRC_-20C_ABSR_MID/RMAP_Sci_20190925_101155_062.txt'), WindowsPath('C:/Users/ucasbwh/Desktop/20190925_101155_HRC_-20C_ABSR_MID/RMAP_Sci_20190925_101155_063.txt'), WindowsPath('C:/Users/ucasbwh/Desktop/20190925_101155_HRC_-20C_ABSR_MID/RMAP_Sci_20190925_101155_064.txt'), WindowsPath('C:/Users/ucasbwh/Desktop/20190925_101155_HRC_-20C_ABSR_MID/RMAP_Sci_20190925_101155_065.txt'), WindowsPath('C:/Users/ucasbwh/Desktop/20190925_101155_HRC_-20C_ABSR_MID/RMAP_Sci_20190925_101155_066.txt'), WindowsPath('C:/Users/ucasbwh/Desktop/20190925_101155_HRC_-20C_ABSR_MID/RMAP_Sci_20190925_101155_067.txt'), WindowsPath('C:/Users/ucasbwh/Desktop/20190925_101155_HRC_-20C_ABSR_MID/RMAP_Sci_20190925_101155_068.txt'), WindowsPath('C:/Users/ucasbwh/Desktop/20190925_101155_HRC_-20C_ABSR_MID/RMAP_Sci_20190925_101155_069.txt'), WindowsPath('C:/Users/ucasbwh/Desktop/20190925_101155_HRC_-20C_ABSR_MID/RMAP_Sci_20190925_101155_070.txt'), WindowsPath('C:/Users/ucasbwh/Desktop/20190925_101155_HRC_-20C_ABSR_MID/RMAP_Sci_20190925_101155_071.txt'), WindowsPath('C:/Users/ucasbwh/Desktop/20190925_101155_HRC_-20C_ABSR_MID/RMAP_Sci_20190925_101155_072.txt'), WindowsPath('C:/Users/ucasbwh/Desktop/20190925_101155_HRC_-20C_ABSR_MID/RMAP_Sci_20190925_101155_073.txt'), WindowsPath('C:/Users/ucasbwh/Desktop/20190925_101155_HRC_-20C_ABSR_MID/RMAP_Sci_20190925_101155_074.txt'), WindowsPath('C:/Users/ucasbwh/Desktop/20190925_101155_HRC_-20C_ABSR_MID/RMAP_Sci_20190925_101155_075.txt'), WindowsPath('C:/Users/ucasbwh/Desktop/20190925_101155_HRC_-20C_ABSR_MID/RMAP_Sci_20190925_101155_076.txt'), WindowsPath('C:/Users/ucasbwh/Desktop/20190925_101155_HRC_-20C_ABSR_MID/RMAP_Sci_20190925_101155_077.txt'), WindowsPath('C:/Users/ucasbwh/Desktop/20190925_101155_HRC_-20C_ABSR_MID/RMAP_Sci_20190925_101155_078.txt'), WindowsPath('C:/Users/ucasbwh/Desktop/20190925_101155_HRC_-20C_ABSR_MID/RMAP_Sci_20190925_101155_079.txt'), WindowsPath('C:/Users/ucasbwh/Desktop/20190925_101155_HRC_-20C_ABSR_MID/RMAP_Sci_20190925_101155_080.txt'), WindowsPath('C:/Users/ucasbwh/Desktop/20190925_101155_HRC_-20C_ABSR_MID/RMAP_Sci_20190925_101155_081.txt'), WindowsPath('C:/Users/ucasbwh/Desktop/20190925_101155_HRC_-20C_ABSR_MID/RMAP_Sci_20190925_101155_082.txt'), WindowsPath('C:/Users/ucasbwh/Desktop/20190925_101155_HRC_-20C_ABSR_MID/RMAP_Sci_20190925_101155_083.txt'), WindowsPath('C:/Users/ucasbwh/Desktop/20190925_101155_HRC_-20C_ABSR_MID/RMAP_Sci_20190925_101155_084.txt'), WindowsPath('C:/Users/ucasbwh/Desktop/20190925_101155_HRC_-20C_ABSR_MID/RMAP_Sci_20190925_101155_085.txt'), WindowsPath('C:/Users/ucasbwh/Desktop/20190925_101155_HRC_-20C_ABSR_MID/RMAP_Sci_20190925_101155_086.txt'), WindowsPath('C:/Users/ucasbwh/Desktop/20190925_101155_HRC_-20C_ABSR_MID/RMAP_Sci_20190925_101155_088.txt'), WindowsPath('C:/Users/ucasbwh/Desktop/20190925_101155_HRC_-20C_ABSR_MID/RMAP_Sci_20190925_101155_089.txt'), WindowsPath('C:/Users/ucasbwh/Desktop/20190925_101155_HRC_-20C_ABSR_MID/RMAP_Sci_20190925_101155_090.txt'), WindowsPath('C:/Users/ucasbwh/Desktop/20190925_101155_HRC_-20C_ABSR_MID/RMAP_Sci_20190925_101155_091.txt'), WindowsPath('C:/Users/ucasbwh/Desktop/20190925_101155_HRC_-20C_ABSR_MID/RMAP_Sci_20190925_101155_092.txt'), WindowsPath('C:/Users/ucasbwh/Desktop/20190925_101155_HRC_-20C_ABSR_MID/RMAP_Sci_20190925_101155_093.txt'), WindowsPath('C:/Users/ucasbwh/Desktop/20190925_101155_HRC_-20C_ABSR_MID/RMAP_Sci_20190925_101155_094.txt'), WindowsPath('C:/Users/ucasbwh/Desktop/20190925_101155_HRC_-20C_ABSR_MID/RMAP_Sci_20190925_101155_095.txt'), WindowsPath('C:/Users/ucasbwh/Desktop/20190925_101155_HRC_-20C_ABSR_MID/RMAP_Sci_20190925_101155_096.txt'), WindowsPath('C:/Users/ucasbwh/Desktop/20190925_101155_HRC_-20C_ABSR_MID/RMAP_Sci_20190925_101155_097.txt'), WindowsPath('C:/Users/ucasbwh/Desktop/20190925_101155_HRC_-20C_ABSR_MID/RMAP_Sci_20190925_101155_098.txt'), WindowsPath('C:/Users/ucasbwh/Desktop/20190925_101155_HRC_-20C_ABSR_MID/RMAP_Sci_20190925_101155_099.txt'), WindowsPath('C:/Users/ucasbwh/Desktop/20190925_101155_HRC_-20C_ABSR_MID/RMAP_Sci_20190925_101155_100.txt'), WindowsPath('C:/Users/ucasbwh/Desktop/20190925_101155_HRC_-20C_ABSR_MID/RMAP_Sci_20190925_101155_101.txt'), WindowsPath('C:/Users/ucasbwh/Desktop/20190925_101155_HRC_-20C_ABSR_MID/RMAP_Sci_20190925_101155_102.txt'), WindowsPath('C:/Users/ucasbwh/Desktop/20190925_101155_HRC_-20C_ABSR_MID/RMAP_Sci_20190925_101155_103.txt'), WindowsPath('C:/Users/ucasbwh/Desktop/20190925_101155_HRC_-20C_ABSR_MID/RMAP_Sci_20190925_101155_104.txt'), WindowsPath('C:/Users/ucasbwh/Desktop/20190925_101155_HRC_-20C_ABSR_MID/RMAP_Sci_20190925_101155_105.txt'), WindowsPath('C:/Users/ucasbwh/Desktop/20190925_101155_HRC_-20C_ABSR_MID/RMAP_Sci_20190925_101155_106.txt'), WindowsPath('C:/Users/ucasbwh/Desktop/20190925_101155_HRC_-20C_ABSR_MID/RMAP_Sci_20190925_101155_107.txt'), WindowsPath('C:/Users/ucasbwh/Desktop/20190925_101155_HRC_-20C_ABSR_MID/RMAP_Sci_20190925_101155_108.txt'), WindowsPath('C:/Users/ucasbwh/Desktop/20190925_101155_HRC_-20C_ABSR_MID/RMAP_Sci_20190925_101155_109.txt'), WindowsPath('C:/Users/ucasbwh/Desktop/20190925_101155_HRC_-20C_ABSR_MID/RMAP_Sci_20190925_101155_110.txt'), WindowsPath('C:/Users/ucasbwh/Desktop/20190925_101155_HRC_-20C_ABSR_MID/RMAP_Sci_20190925_101155_111.txt'), WindowsPath('C:/Users/ucasbwh/Desktop/20190925_101155_HRC_-20C_ABSR_MID/RMAP_Sci_20190925_101155_112.txt'), WindowsPath('C:/Users/ucasbwh/Desktop/20190925_101155_HRC_-20C_ABSR_MID/RMAP_Sci_20190925_101155_113.txt'), WindowsPath('C:/Users/ucasbwh/Desktop/20190925_101155_HRC_-20C_ABSR_MID/RMAP_Sci_20190925_101155_114.txt'), WindowsPath('C:/Users/ucasbwh/Desktop/20190925_101155_HRC_-20C_ABSR_MID/RMAP_Sci_20190925_101155_115.txt'), WindowsPath('C:/Users/ucasbwh/Desktop/20190925_101155_HRC_-20C_ABSR_MID/RMAP_Sci_20190925_101155_116.txt'), WindowsPath('C:/Users/ucasbwh/Desktop/20190925_101155_HRC_-20C_ABSR_MID/RMAP_Sci_20190925_101155_117.txt'), WindowsPath('C:/Users/ucasbwh/Desktop/20190925_101155_HRC_-20C_ABSR_MID/RMAP_Sci_20190925_101155_118.txt'), WindowsPath('C:/Users/ucasbwh/Desktop/20190925_101155_HRC_-20C_ABSR_MID/RMAP_Sci_20190925_101155_119.txt'), WindowsPath('C:/Users/ucasbwh/Desktop/20190925_101155_HRC_-20C_ABSR_MID/RMAP_Sci_20190925_101155_120.txt'), WindowsPath('C:/Users/ucasbwh/Desktop/20190925_101155_HRC_-20C_ABSR_MID/RMAP_Sci_20190925_101155_121.txt'), WindowsPath('C:/Users/ucasbwh/Desktop/20190925_101155_HRC_-20C_ABSR_MID/RMAP_Sci_20190925_101155_122.txt'), WindowsPath('C:/Users/ucasbwh/Desktop/20190925_101155_HRC_-20C_ABSR_MID/RMAP_Sci_20190925_101155_123.txt'), WindowsPath('C:/Users/ucasbwh/Desktop/20190925_101155_HRC_-20C_ABSR_MID/RMAP_Sci_20190925_101155_124.txt'), WindowsPath('C:/Users/ucasbwh/Desktop/20190925_101155_HRC_-20C_ABSR_MID/RMAP_Sci_20190925_101155_125.txt'), WindowsPath('C:/Users/ucasbwh/Desktop/20190925_101155_HRC_-20C_ABSR_MID/RMAP_Sci_20190925_101155_126.txt'), WindowsPath('C:/Users/ucasbwh/Desktop/20190925_101155_HRC_-20C_ABSR_MID/RMAP_Sci_20190925_101155_127.txt'), WindowsPath('C:/Users/ucasbwh/Desktop/20190925_101155_HRC_-20C_ABSR_MID/RMAP_Sci_20190925_101155_128.txt'), WindowsPath('C:/Users/ucasbwh/Desktop/20190925_101155_HRC_-20C_ABSR_MID/RMAP_Sci_20190925_101155_129.txt'), WindowsPath('C:/Users/ucasbwh/Desktop/20190925_101155_HRC_-20C_ABSR_MID/RMAP_Sci_20190925_101155_130.txt'), WindowsPath('C:/Users/ucasbwh/Desktop/20190925_101155_HRC_-20C_ABSR_MID/RMAP_Sci_20190925_101155_131.txt'), WindowsPath('C:/Users/ucasbwh/Desktop/20190925_101155_HRC_-20C_ABSR_MID/RMAP_Sci_20190925_101155_132.txt'), WindowsPath('C:/Users/ucasbwh/Desktop/20190925_101155_HRC_-20C_ABSR_MID/RMAP_Sci_20190925_101155_133.txt'), WindowsPath('C:/Users/ucasbwh/Desktop/20190925_101155_HRC_-20C_ABSR_MID/RMAP_Sci_20190925_101155_134.txt'), WindowsPath('C:/Users/ucasbwh/Desktop/20190925_101155_HRC_-20C_ABSR_MID/RMAP_Sci_20190925_101155_135.txt'), WindowsPath('C:/Users/ucasbwh/Desktop/20190925_101155_HRC_-20C_ABSR_MID/RMAP_Sci_20190925_101155_136.txt'), WindowsPath('C:/Users/ucasbwh/Desktop/20190925_101155_HRC_-20C_ABSR_MID/RMAP_Sci_20190925_101155_137.txt'), WindowsPath('C:/Users/ucasbwh/Desktop/20190925_101155_HRC_-20C_ABSR_MID/RMAP_Sci_20190925_101155_138.txt'), WindowsPath('C:/Users/ucasbwh/Desktop/20190925_101155_HRC_-20C_ABSR_MID/RMAP_Sci_20190925_101155_139.txt'), WindowsPath('C:/Users/ucasbwh/Desktop/20190925_101155_HRC_-20C_ABSR_MID/RMAP_Sci_20190925_101155_140.txt'), WindowsPath('C:/Users/ucasbwh/Desktop/20190925_101155_HRC_-20C_ABSR_MID/RMAP_Sci_20190925_101155_141.txt'), WindowsPath('C:/Users/ucasbwh/Desktop/20190925_101155_HRC_-20C_ABSR_MID/RMAP_Sci_20190925_101155_142.txt'), WindowsPath('C:/Users/ucasbwh/Desktop/20190925_101155_HRC_-20C_ABSR_MID/RMAP_Sci_20190925_101155_143.txt'), WindowsPath('C:/Users/ucasbwh/Desktop/20190925_101155_HRC_-20C_ABSR_MID/RMAP_Sci_20190925_101155_144.txt'), WindowsPath('C:/Users/ucasbwh/Desktop/20190925_101155_HRC_-20C_ABSR_MID/RMAP_Sci_20190925_101155_145.txt'), WindowsPath('C:/Users/ucasbwh/Desktop/20190925_101155_HRC_-20C_ABSR_MID/RMAP_Sci_20190925_101155_146.txt'), WindowsPath('C:/Users/ucasbwh/Desktop/20190925_101155_HRC_-20C_ABSR_MID/RMAP_Sci_20190925_101155_147.txt'), WindowsPath('C:/Users/ucasbwh/Desktop/20190925_101155_HRC_-20C_ABSR_MID/RMAP_Sci_20190925_101155_148.txt'), WindowsPath('C:/Users/ucasbwh/Desktop/20190925_101155_HRC_-20C_ABSR_MID/RMAP_Sci_20190925_101155_149.txt'), WindowsPath('C:/Users/ucasbwh/Desktop/20190925_101155_HRC_-20C_ABSR_MID/RMAP_Sci_20190925_101155_150.txt')]\n"
    }
   ],
   "source": [
    "wkdir = Path(r\"C:\\Users\\ucasbwh\\Desktop\\20190925_101155_HRC_-20C_ABSR_MID\")\n",
    "files_sci = PC_Fns.Find_Files(wkdir, \"RMAP_Sci*.txt\", Recursive=False)\n",
    "\n",
    "# Check for first file being empty due to labview bug\n",
    "if files_sci[0].stat().st_size == 0:\n",
    "    files_sci[0].unlink()\n",
    "    del files_sci[0]\n",
    "print(files_sci[6].stat().st_size)\n",
    "\n",
    "# Find all last LDT parts\n",
    "small_chunks = [files_sci.index(chunk) for chunk in files_sci if chunk.stat().st_size == 762030]\n",
    "\n",
    "\n",
    "# Look for consecutive chunks and replace with .ignore\n",
    "print(small_chunks)\n",
    "repeat_chunks = [small_chunks[i+1] for i, x in enumerate(np.diff(small_chunks)==1) if x]\n",
    "print(repeat_chunks)\n",
    "\n",
    "wrong_files = [files_sci[i] for i in repeat_chunks]\n",
    "print(wrong_files)\n",
    "\n",
    "for wrong_item in wrong_files:\n",
    "    #wrong_item.rename(wrong_item.with_suffix('.txt.ignore'))\n",
    "    files_sci.remove(wrong_item)\n",
    "print(files_sci)"
   ]
  },
  {
   "cell_type": "code",
   "execution_count": 46,
   "metadata": {},
   "outputs": [
    {
     "output_type": "execute_result",
     "data": {
      "text/plain": "127     [53, 3, 0, 15, 12, 90, 2, 4, 0, 0, 61, 0, 7, 2...\n1306    [53, 3, 0, 15, 16, 250, 2, 4, 0, 0, 61, 0, 7, ...\n1308    [53, 3, 0, 15, 16, 252, 2, 4, 0, 0, 61, 0, 7, ...\n1309    [53, 3, 0, 15, 16, 253, 2, 4, 0, 0, 61, 0, 7, ...\n1310    [53, 3, 0, 15, 16, 254, 2, 4, 0, 0, 61, 0, 7, ...\nName: RAW, dtype: object"
     },
     "metadata": {},
     "execution_count": 46
    }
   ],
   "source": [
    "proc_dir = Path(r\"C:\\WDir\\PanCam EGSE\\Logs\\FS Calibration Reprocessed\\20191011_095418_WAC_R5_-50c_ABSR\\PROC\")\n",
    "unproc = \"Unproc_HKTM.pickle\"\n",
    "\n",
    "RTM = pd.read_pickle(proc_dir / unproc)\n",
    "Bin = RTM['RAW'].apply(lambda x: bytearray.fromhex(x))\n",
    "\n",
    "TM = pd.DataFrame()\n",
    "TM['Stat_PIU_En'] = PandUPF(Bin, 'u8', 42, 0)\n",
    "TM['Stat_PIU_Pw'] = PandUPF(Bin, 'u8', 43, 0)\n",
    "\n",
    "WACBin, HRCBin = decodeRAW_HK.Determ_CamRes(TM, Bin)\n",
    "WACBin.head()"
   ]
  },
  {
   "cell_type": "code",
   "execution_count": 47,
   "metadata": {},
   "outputs": [
    {
     "output_type": "execute_result",
     "data": {
      "text/plain": "     Stat_PIU_En  Stat_PIU_Pw  WAC_CID\n44             2            2      NaN\n45             2            2      NaN\n46             2            2      NaN\n47             2            2      NaN\n48             2            2      NaN\n49             2            2      NaN\n50             2            2      NaN\n51             2            2      NaN\n52             2            2      NaN\n53             2            2      NaN\n54             2            2      NaN\n55             2            2      NaN\n56             2            2      NaN\n57             2            2      NaN\n58             2            2      NaN\n59             2            2      NaN\n60             2            2      NaN\n61             2            2      NaN\n62             2            2      NaN\n63             2            2      NaN\n64             2            2      NaN\n65             2            2      NaN\n66             2            2      NaN\n67             2            2      NaN\n68             2            2      NaN\n69             2            2      NaN\n70             2            2      NaN\n71             2            2      NaN\n72             2            2      NaN\n73             2            2      NaN\n74             2            2      NaN\n75             2            2      NaN\n76             2            2      NaN\n77             2            2      NaN\n78             2            2      NaN\n79             2            2      NaN\n80             2            2      NaN\n81             2            2      NaN\n82             2            2      NaN\n83             2            2      NaN\n84             2            2      NaN\n85             2            2      NaN\n86             2            2      NaN\n87             2            2      NaN\n88             2            2      NaN\n89             2            2      NaN\n90             2            2      NaN\n91             2            2      NaN\n92             2            2      NaN\n93             2            2      NaN\n94             2            2      NaN\n95             2            2      NaN\n96             2            2      NaN\n97             2            2      NaN\n98             2            2      NaN\n99             2            2      NaN\n100            2            2      NaN\n101            2            2      NaN\n102            2            2      NaN\n103            2            2      NaN",
      "text/html": "<div>\n<style scoped>\n    .dataframe tbody tr th:only-of-type {\n        vertical-align: middle;\n    }\n\n    .dataframe tbody tr th {\n        vertical-align: top;\n    }\n\n    .dataframe thead th {\n        text-align: right;\n    }\n</style>\n<table border=\"1\" class=\"dataframe\">\n  <thead>\n    <tr style=\"text-align: right;\">\n      <th></th>\n      <th>Stat_PIU_En</th>\n      <th>Stat_PIU_Pw</th>\n      <th>WAC_CID</th>\n    </tr>\n  </thead>\n  <tbody>\n    <tr>\n      <th>44</th>\n      <td>2</td>\n      <td>2</td>\n      <td>NaN</td>\n    </tr>\n    <tr>\n      <th>45</th>\n      <td>2</td>\n      <td>2</td>\n      <td>NaN</td>\n    </tr>\n    <tr>\n      <th>46</th>\n      <td>2</td>\n      <td>2</td>\n      <td>NaN</td>\n    </tr>\n    <tr>\n      <th>47</th>\n      <td>2</td>\n      <td>2</td>\n      <td>NaN</td>\n    </tr>\n    <tr>\n      <th>48</th>\n      <td>2</td>\n      <td>2</td>\n      <td>NaN</td>\n    </tr>\n    <tr>\n      <th>49</th>\n      <td>2</td>\n      <td>2</td>\n      <td>NaN</td>\n    </tr>\n    <tr>\n      <th>50</th>\n      <td>2</td>\n      <td>2</td>\n      <td>NaN</td>\n    </tr>\n    <tr>\n      <th>51</th>\n      <td>2</td>\n      <td>2</td>\n      <td>NaN</td>\n    </tr>\n    <tr>\n      <th>52</th>\n      <td>2</td>\n      <td>2</td>\n      <td>NaN</td>\n    </tr>\n    <tr>\n      <th>53</th>\n      <td>2</td>\n      <td>2</td>\n      <td>NaN</td>\n    </tr>\n    <tr>\n      <th>54</th>\n      <td>2</td>\n      <td>2</td>\n      <td>NaN</td>\n    </tr>\n    <tr>\n      <th>55</th>\n      <td>2</td>\n      <td>2</td>\n      <td>NaN</td>\n    </tr>\n    <tr>\n      <th>56</th>\n      <td>2</td>\n      <td>2</td>\n      <td>NaN</td>\n    </tr>\n    <tr>\n      <th>57</th>\n      <td>2</td>\n      <td>2</td>\n      <td>NaN</td>\n    </tr>\n    <tr>\n      <th>58</th>\n      <td>2</td>\n      <td>2</td>\n      <td>NaN</td>\n    </tr>\n    <tr>\n      <th>59</th>\n      <td>2</td>\n      <td>2</td>\n      <td>NaN</td>\n    </tr>\n    <tr>\n      <th>60</th>\n      <td>2</td>\n      <td>2</td>\n      <td>NaN</td>\n    </tr>\n    <tr>\n      <th>61</th>\n      <td>2</td>\n      <td>2</td>\n      <td>NaN</td>\n    </tr>\n    <tr>\n      <th>62</th>\n      <td>2</td>\n      <td>2</td>\n      <td>NaN</td>\n    </tr>\n    <tr>\n      <th>63</th>\n      <td>2</td>\n      <td>2</td>\n      <td>NaN</td>\n    </tr>\n    <tr>\n      <th>64</th>\n      <td>2</td>\n      <td>2</td>\n      <td>NaN</td>\n    </tr>\n    <tr>\n      <th>65</th>\n      <td>2</td>\n      <td>2</td>\n      <td>NaN</td>\n    </tr>\n    <tr>\n      <th>66</th>\n      <td>2</td>\n      <td>2</td>\n      <td>NaN</td>\n    </tr>\n    <tr>\n      <th>67</th>\n      <td>2</td>\n      <td>2</td>\n      <td>NaN</td>\n    </tr>\n    <tr>\n      <th>68</th>\n      <td>2</td>\n      <td>2</td>\n      <td>NaN</td>\n    </tr>\n    <tr>\n      <th>69</th>\n      <td>2</td>\n      <td>2</td>\n      <td>NaN</td>\n    </tr>\n    <tr>\n      <th>70</th>\n      <td>2</td>\n      <td>2</td>\n      <td>NaN</td>\n    </tr>\n    <tr>\n      <th>71</th>\n      <td>2</td>\n      <td>2</td>\n      <td>NaN</td>\n    </tr>\n    <tr>\n      <th>72</th>\n      <td>2</td>\n      <td>2</td>\n      <td>NaN</td>\n    </tr>\n    <tr>\n      <th>73</th>\n      <td>2</td>\n      <td>2</td>\n      <td>NaN</td>\n    </tr>\n    <tr>\n      <th>74</th>\n      <td>2</td>\n      <td>2</td>\n      <td>NaN</td>\n    </tr>\n    <tr>\n      <th>75</th>\n      <td>2</td>\n      <td>2</td>\n      <td>NaN</td>\n    </tr>\n    <tr>\n      <th>76</th>\n      <td>2</td>\n      <td>2</td>\n      <td>NaN</td>\n    </tr>\n    <tr>\n      <th>77</th>\n      <td>2</td>\n      <td>2</td>\n      <td>NaN</td>\n    </tr>\n    <tr>\n      <th>78</th>\n      <td>2</td>\n      <td>2</td>\n      <td>NaN</td>\n    </tr>\n    <tr>\n      <th>79</th>\n      <td>2</td>\n      <td>2</td>\n      <td>NaN</td>\n    </tr>\n    <tr>\n      <th>80</th>\n      <td>2</td>\n      <td>2</td>\n      <td>NaN</td>\n    </tr>\n    <tr>\n      <th>81</th>\n      <td>2</td>\n      <td>2</td>\n      <td>NaN</td>\n    </tr>\n    <tr>\n      <th>82</th>\n      <td>2</td>\n      <td>2</td>\n      <td>NaN</td>\n    </tr>\n    <tr>\n      <th>83</th>\n      <td>2</td>\n      <td>2</td>\n      <td>NaN</td>\n    </tr>\n    <tr>\n      <th>84</th>\n      <td>2</td>\n      <td>2</td>\n      <td>NaN</td>\n    </tr>\n    <tr>\n      <th>85</th>\n      <td>2</td>\n      <td>2</td>\n      <td>NaN</td>\n    </tr>\n    <tr>\n      <th>86</th>\n      <td>2</td>\n      <td>2</td>\n      <td>NaN</td>\n    </tr>\n    <tr>\n      <th>87</th>\n      <td>2</td>\n      <td>2</td>\n      <td>NaN</td>\n    </tr>\n    <tr>\n      <th>88</th>\n      <td>2</td>\n      <td>2</td>\n      <td>NaN</td>\n    </tr>\n    <tr>\n      <th>89</th>\n      <td>2</td>\n      <td>2</td>\n      <td>NaN</td>\n    </tr>\n    <tr>\n      <th>90</th>\n      <td>2</td>\n      <td>2</td>\n      <td>NaN</td>\n    </tr>\n    <tr>\n      <th>91</th>\n      <td>2</td>\n      <td>2</td>\n      <td>NaN</td>\n    </tr>\n    <tr>\n      <th>92</th>\n      <td>2</td>\n      <td>2</td>\n      <td>NaN</td>\n    </tr>\n    <tr>\n      <th>93</th>\n      <td>2</td>\n      <td>2</td>\n      <td>NaN</td>\n    </tr>\n    <tr>\n      <th>94</th>\n      <td>2</td>\n      <td>2</td>\n      <td>NaN</td>\n    </tr>\n    <tr>\n      <th>95</th>\n      <td>2</td>\n      <td>2</td>\n      <td>NaN</td>\n    </tr>\n    <tr>\n      <th>96</th>\n      <td>2</td>\n      <td>2</td>\n      <td>NaN</td>\n    </tr>\n    <tr>\n      <th>97</th>\n      <td>2</td>\n      <td>2</td>\n      <td>NaN</td>\n    </tr>\n    <tr>\n      <th>98</th>\n      <td>2</td>\n      <td>2</td>\n      <td>NaN</td>\n    </tr>\n    <tr>\n      <th>99</th>\n      <td>2</td>\n      <td>2</td>\n      <td>NaN</td>\n    </tr>\n    <tr>\n      <th>100</th>\n      <td>2</td>\n      <td>2</td>\n      <td>NaN</td>\n    </tr>\n    <tr>\n      <th>101</th>\n      <td>2</td>\n      <td>2</td>\n      <td>NaN</td>\n    </tr>\n    <tr>\n      <th>102</th>\n      <td>2</td>\n      <td>2</td>\n      <td>NaN</td>\n    </tr>\n    <tr>\n      <th>103</th>\n      <td>2</td>\n      <td>2</td>\n      <td>NaN</td>\n    </tr>\n  </tbody>\n</table>\n</div>"
     },
     "metadata": {},
     "execution_count": 47
    }
   ],
   "source": [
    "TM['WAC_CID'] = PandUPF(WACBin, 'u2', 44, 0)\n",
    "TM[TM.WAC_CID == 3].head()\n",
    "TM[44:].head(60)"
   ]
  },
  {
   "cell_type": "code",
   "execution_count": 53,
   "metadata": {},
   "outputs": [],
   "source": [
    "CamResSeries = Bin.apply(lambda x: x[44: 64])\n",
    "repaired = Bin[127:1306].apply(lambda x: x[:44] + x[44: 64].replace(b'\\xFF', b'\\x00') + x[64:])\n",
    "Bin[127:1306] = repaired\n"
   ]
  },
  {
   "cell_type": "code",
   "execution_count": 16,
   "metadata": {},
   "outputs": [
    {
     "name": "stdout",
     "output_type": "stream",
     "text": "[WindowsPath('C:/Users/ucasbwh/Desktop/LabView Dev/RMAP_H&S_20200204_154341_000.txt')]\n[WindowsPath('C:/Users/ucasbwh/Desktop/LabView Dev/RMAP_HK_20200204_154341_000.txt')]\n"
    }
   ],
   "source": [
    "lv_dir = Path(r\"C:\\Users\\ucasbwh\\Desktop\\LabView Dev\")\n",
    "files_hs = PC_Fns.Find_Files(lv_dir, \"RMAP_H&S*.txt\")\n",
    "files_hk = PC_Fns.Find_Files(lv_dir, \"RMAP_HK*.txt\")\n",
    "\n",
    "proc_dir = lv_dir / \"PROC\"\n",
    "#proc_dir.mkdir()\n",
    "\n",
    "print(files_hs)\n",
    "print(files_hk)"
   ]
  },
  {
   "cell_type": "code",
   "execution_count": 17,
   "metadata": {},
   "outputs": [
    {
     "data": {
      "text/html": "<div>\n<style scoped>\n    .dataframe tbody tr th:only-of-type {\n        vertical-align: middle;\n    }\n\n    .dataframe tbody tr th {\n        vertical-align: top;\n    }\n\n    .dataframe thead th {\n        text-align: right;\n    }\n</style>\n<table border=\"1\" class=\"dataframe\">\n  <thead>\n    <tr style=\"text-align: right;\">\n      <th></th>\n      <th>Time</th>\n      <th>RAW</th>\n    </tr>\n  </thead>\n  <tbody>\n    <tr>\n      <th>0</th>\n      <td>2020-02-04\\t15:44:45.975</td>\n      <td>80 00 00 00 00 58 00 00 C0 00 00 00 00 00 00 0...</td>\n    </tr>\n    <tr>\n      <th>1</th>\n      <td>2020-02-04\\t15:44:46.011</td>\n      <td>80 00 00 00 00 58 00 00 C0 00 00 00 00 00 00 0...</td>\n    </tr>\n    <tr>\n      <th>2</th>\n      <td>2020-02-04\\t15:44:46.211</td>\n      <td>80 00 00 00 00 58 00 00 C0 00 00 00 00 00 00 0...</td>\n    </tr>\n    <tr>\n      <th>3</th>\n      <td>2020-02-04\\t15:44:46.411</td>\n      <td>80 00 00 00 00 58 00 00 C0 00 00 00 00 00 00 0...</td>\n    </tr>\n    <tr>\n      <th>4</th>\n      <td>2020-02-04\\t15:44:46.611</td>\n      <td>80 00 00 00 00 58 00 00 C0 00 00 00 00 00 00 0...</td>\n    </tr>\n    <tr>\n      <th>5</th>\n      <td>2020-02-04\\t15:44:46.811</td>\n      <td>80 00 00 00 00 58 00 00 C0 00 00 00 00 00 00 0...</td>\n    </tr>\n    <tr>\n      <th>6</th>\n      <td>2020-02-04\\t15:44:47.011</td>\n      <td>80 00 00 00 00 58 00 01 C0 00 00 00 00 00 00 0...</td>\n    </tr>\n    <tr>\n      <th>7</th>\n      <td>2020-02-04\\t15:44:47.211</td>\n      <td>80 00 00 00 00 58 00 01 C0 00 00 00 00 00 00 0...</td>\n    </tr>\n    <tr>\n      <th>8</th>\n      <td>2020-02-04\\t15:44:47.411</td>\n      <td>80 00 00 00 00 58 00 01 C0 00 00 00 00 00 00 0...</td>\n    </tr>\n    <tr>\n      <th>9</th>\n      <td>2020-02-04\\t15:44:47.611</td>\n      <td>80 00 00 00 00 58 00 01 C0 00 00 00 00 00 00 0...</td>\n    </tr>\n    <tr>\n      <th>10</th>\n      <td>2020-02-04\\t15:44:47.811</td>\n      <td>80 00 00 00 00 58 00 01 C0 00 00 00 00 00 00 0...</td>\n    </tr>\n    <tr>\n      <th>11</th>\n      <td>2020-02-04\\t15:44:48.011</td>\n      <td>80 00 00 00 00 58 00 02 C0 00 00 00 00 00 00 0...</td>\n    </tr>\n    <tr>\n      <th>12</th>\n      <td>2020-02-04\\t15:44:48.211</td>\n      <td>80 00 00 00 00 58 00 02 C0 00 00 00 00 00 00 0...</td>\n    </tr>\n    <tr>\n      <th>13</th>\n      <td>2020-02-04\\t15:44:48.411</td>\n      <td>80 00 00 00 00 58 00 02 C0 00 00 00 00 00 00 0...</td>\n    </tr>\n    <tr>\n      <th>14</th>\n      <td>2020-02-04\\t15:44:48.611</td>\n      <td>80 00 00 00 00 58 00 02 C0 00 00 00 00 00 00 0...</td>\n    </tr>\n    <tr>\n      <th>15</th>\n      <td>2020-02-04\\t15:44:48.811</td>\n      <td>80 00 00 00 00 58 00 02 C0 00 00 00 00 00 00 0...</td>\n    </tr>\n    <tr>\n      <th>16</th>\n      <td>2020-02-04\\t15:44:49.011</td>\n      <td>80 00 00 00 00 58 00 03 C0 00 00 00 00 00 00 0...</td>\n    </tr>\n    <tr>\n      <th>17</th>\n      <td>2020-02-04\\t15:44:49.211</td>\n      <td>80 00 00 00 00 58 00 03 C0 00 00 00 00 00 00 0...</td>\n    </tr>\n    <tr>\n      <th>18</th>\n      <td>2020-02-04\\t15:44:49.411</td>\n      <td>80 00 00 00 00 58 00 03 C0 00 00 00 00 00 00 0...</td>\n    </tr>\n    <tr>\n      <th>19</th>\n      <td>2020-02-04\\t15:44:49.611</td>\n      <td>80 00 00 00 00 58 00 03 C0 00 00 00 00 00 00 0...</td>\n    </tr>\n  </tbody>\n</table>\n</div>",
      "text/plain": "                        Time  \\\n0   2020-02-04\\t15:44:45.975   \n1   2020-02-04\\t15:44:46.011   \n2   2020-02-04\\t15:44:46.211   \n3   2020-02-04\\t15:44:46.411   \n4   2020-02-04\\t15:44:46.611   \n5   2020-02-04\\t15:44:46.811   \n6   2020-02-04\\t15:44:47.011   \n7   2020-02-04\\t15:44:47.211   \n8   2020-02-04\\t15:44:47.411   \n9   2020-02-04\\t15:44:47.611   \n10  2020-02-04\\t15:44:47.811   \n11  2020-02-04\\t15:44:48.011   \n12  2020-02-04\\t15:44:48.211   \n13  2020-02-04\\t15:44:48.411   \n14  2020-02-04\\t15:44:48.611   \n15  2020-02-04\\t15:44:48.811   \n16  2020-02-04\\t15:44:49.011   \n17  2020-02-04\\t15:44:49.211   \n18  2020-02-04\\t15:44:49.411   \n19  2020-02-04\\t15:44:49.611   \n\n                                                  RAW  \n0   80 00 00 00 00 58 00 00 C0 00 00 00 00 00 00 0...  \n1   80 00 00 00 00 58 00 00 C0 00 00 00 00 00 00 0...  \n2   80 00 00 00 00 58 00 00 C0 00 00 00 00 00 00 0...  \n3   80 00 00 00 00 58 00 00 C0 00 00 00 00 00 00 0...  \n4   80 00 00 00 00 58 00 00 C0 00 00 00 00 00 00 0...  \n5   80 00 00 00 00 58 00 00 C0 00 00 00 00 00 00 0...  \n6   80 00 00 00 00 58 00 01 C0 00 00 00 00 00 00 0...  \n7   80 00 00 00 00 58 00 01 C0 00 00 00 00 00 00 0...  \n8   80 00 00 00 00 58 00 01 C0 00 00 00 00 00 00 0...  \n9   80 00 00 00 00 58 00 01 C0 00 00 00 00 00 00 0...  \n10  80 00 00 00 00 58 00 01 C0 00 00 00 00 00 00 0...  \n11  80 00 00 00 00 58 00 02 C0 00 00 00 00 00 00 0...  \n12  80 00 00 00 00 58 00 02 C0 00 00 00 00 00 00 0...  \n13  80 00 00 00 00 58 00 02 C0 00 00 00 00 00 00 0...  \n14  80 00 00 00 00 58 00 02 C0 00 00 00 00 00 00 0...  \n15  80 00 00 00 00 58 00 02 C0 00 00 00 00 00 00 0...  \n16  80 00 00 00 00 58 00 03 C0 00 00 00 00 00 00 0...  \n17  80 00 00 00 00 58 00 03 C0 00 00 00 00 00 00 0...  \n18  80 00 00 00 00 58 00 03 C0 00 00 00 00 00 00 0...  \n19  80 00 00 00 00 58 00 03 C0 00 00 00 00 00 00 0...  "
     },
     "execution_count": 17,
     "metadata": {},
     "output_type": "execute_result"
    }
   ],
   "source": [
    "for curfile in files_hs:\n",
    "    cur_name = curfile.stem\n",
    "    hs_head = ['Time', 'RAW']\n",
    "    hs_df = pd.read_csv(curfile, sep=r' \\t ', header=None, names=hs_head)\n",
    "    hs_df['RAW'] = hs_df['RAW'].apply(lambda x: x.replace('\\t', ' '))\n",
    "hs_df.to_pickle(proc_dir / \"hs_raw.pickle\")\n",
    "hs_df.head(20)"
   ]
  },
  {
   "cell_type": "code",
   "execution_count": 18,
   "metadata": {},
   "outputs": [
    {
     "data": {
      "text/html": "<div>\n<style scoped>\n    .dataframe tbody tr th:only-of-type {\n        vertical-align: middle;\n    }\n\n    .dataframe tbody tr th {\n        vertical-align: top;\n    }\n\n    .dataframe thead th {\n        text-align: right;\n    }\n</style>\n<table border=\"1\" class=\"dataframe\">\n  <thead>\n    <tr style=\"text-align: right;\">\n      <th></th>\n      <th>Time</th>\n      <th>RAW</th>\n    </tr>\n  </thead>\n  <tbody>\n    <tr>\n      <th>0</th>\n      <td>[296:058:009:386]</td>\n      <td>21 01 0C 00 41 00 3A 00 00 00 20 69 80 00 00 ...</td>\n    </tr>\n    <tr>\n      <th>1</th>\n      <td>[296:258:009:386]</td>\n      <td>21 01 0C 00 41 00 40 00 00 00 20 7C 80 00 00 ...</td>\n    </tr>\n    <tr>\n      <th>2</th>\n      <td>[296:456:009:386]</td>\n      <td>21 01 0C 00 41 00 45 00 00 00 20 B3 80 00 00 ...</td>\n    </tr>\n    <tr>\n      <th>3</th>\n      <td>[296:656:009:386]</td>\n      <td>21 01 0C 00 41 00 4A 00 00 00 20 23 80 00 00 ...</td>\n    </tr>\n    <tr>\n      <th>4</th>\n      <td>[296:856:009:386]</td>\n      <td>21 01 0C 00 41 00 4F 00 00 00 20 EC 80 00 00 ...</td>\n    </tr>\n    <tr>\n      <th>5</th>\n      <td>[297:056:009:386]</td>\n      <td>21 01 0C 00 41 00 54 00 00 00 20 C2 80 00 00 ...</td>\n    </tr>\n    <tr>\n      <th>6</th>\n      <td>[297:256:009:386]</td>\n      <td>21 01 0C 00 41 00 5B 00 00 00 20 52 80 00 00 ...</td>\n    </tr>\n    <tr>\n      <th>7</th>\n      <td>[297:456:009:386]</td>\n      <td>21 01 0C 00 41 00 60 00 00 00 20 8D 80 00 00 ...</td>\n    </tr>\n    <tr>\n      <th>8</th>\n      <td>[297:656:009:386]</td>\n      <td>21 01 0C 00 41 00 65 00 00 00 20 42 80 00 00 ...</td>\n    </tr>\n    <tr>\n      <th>9</th>\n      <td>[297:856:009:386]</td>\n      <td>21 01 0C 00 41 00 6A 00 00 00 20 D2 80 00 00 ...</td>\n    </tr>\n    <tr>\n      <th>10</th>\n      <td>[298:056:009:386]</td>\n      <td>21 01 0C 00 41 00 6F 00 00 00 20 1D 80 00 00 ...</td>\n    </tr>\n    <tr>\n      <th>11</th>\n      <td>[298:254:009:386]</td>\n      <td>21 01 0C 00 41 00 75 00 00 00 20 DA 80 00 00 ...</td>\n    </tr>\n    <tr>\n      <th>12</th>\n      <td>[298:456:009:386]</td>\n      <td>21 01 0C 00 41 00 7A 00 00 00 20 4A 80 00 00 ...</td>\n    </tr>\n    <tr>\n      <th>13</th>\n      <td>[298:656:009:386]</td>\n      <td>21 01 0C 00 41 00 7F 00 00 00 20 85 80 00 00 ...</td>\n    </tr>\n    <tr>\n      <th>14</th>\n      <td>[298:854:009:386]</td>\n      <td>21 01 0C 00 41 00 84 00 00 00 20 3F 80 00 00 ...</td>\n    </tr>\n    <tr>\n      <th>15</th>\n      <td>[299:054:009:386]</td>\n      <td>21 01 0C 00 41 00 89 00 00 00 20 BC 80 00 00 ...</td>\n    </tr>\n    <tr>\n      <th>16</th>\n      <td>[299:254:009:386]</td>\n      <td>21 01 0C 00 41 00 8F 00 00 00 20 89 80 00 00 ...</td>\n    </tr>\n    <tr>\n      <th>17</th>\n      <td>[299:454:009:386]</td>\n      <td>21 01 0C 00 41 00 94 00 00 00 20 A7 80 00 00 ...</td>\n    </tr>\n    <tr>\n      <th>18</th>\n      <td>[299:654:009:386]</td>\n      <td>21 01 0C 00 41 00 99 00 00 00 20 24 80 00 00 ...</td>\n    </tr>\n    <tr>\n      <th>19</th>\n      <td>[299:854:009:386]</td>\n      <td>21 01 0C 00 41 00 9E 00 00 00 20 F8 80 00 00 ...</td>\n    </tr>\n  </tbody>\n</table>\n</div>",
      "text/plain": "                 Time                                                RAW\n0   [296:058:009:386]   21 01 0C 00 41 00 3A 00 00 00 20 69 80 00 00 ...\n1   [296:258:009:386]   21 01 0C 00 41 00 40 00 00 00 20 7C 80 00 00 ...\n2   [296:456:009:386]   21 01 0C 00 41 00 45 00 00 00 20 B3 80 00 00 ...\n3   [296:656:009:386]   21 01 0C 00 41 00 4A 00 00 00 20 23 80 00 00 ...\n4   [296:856:009:386]   21 01 0C 00 41 00 4F 00 00 00 20 EC 80 00 00 ...\n5   [297:056:009:386]   21 01 0C 00 41 00 54 00 00 00 20 C2 80 00 00 ...\n6   [297:256:009:386]   21 01 0C 00 41 00 5B 00 00 00 20 52 80 00 00 ...\n7   [297:456:009:386]   21 01 0C 00 41 00 60 00 00 00 20 8D 80 00 00 ...\n8   [297:656:009:386]   21 01 0C 00 41 00 65 00 00 00 20 42 80 00 00 ...\n9   [297:856:009:386]   21 01 0C 00 41 00 6A 00 00 00 20 D2 80 00 00 ...\n10  [298:056:009:386]   21 01 0C 00 41 00 6F 00 00 00 20 1D 80 00 00 ...\n11  [298:254:009:386]   21 01 0C 00 41 00 75 00 00 00 20 DA 80 00 00 ...\n12  [298:456:009:386]   21 01 0C 00 41 00 7A 00 00 00 20 4A 80 00 00 ...\n13  [298:656:009:386]   21 01 0C 00 41 00 7F 00 00 00 20 85 80 00 00 ...\n14  [298:854:009:386]   21 01 0C 00 41 00 84 00 00 00 20 3F 80 00 00 ...\n15  [299:054:009:386]   21 01 0C 00 41 00 89 00 00 00 20 BC 80 00 00 ...\n16  [299:254:009:386]   21 01 0C 00 41 00 8F 00 00 00 20 89 80 00 00 ...\n17  [299:454:009:386]   21 01 0C 00 41 00 94 00 00 00 20 A7 80 00 00 ...\n18  [299:654:009:386]   21 01 0C 00 41 00 99 00 00 00 20 24 80 00 00 ...\n19  [299:854:009:386]   21 01 0C 00 41 00 9E 00 00 00 20 F8 80 00 00 ..."
     },
     "execution_count": 18,
     "metadata": {},
     "output_type": "execute_result"
    }
   ],
   "source": [
    "# Compare output\n",
    "swis_dir = Path(r\"C:\\Users\\ucasbwh\\Desktop\\NSVF Dev\\PROC\")\n",
    "swis_hs = \"hs_raw.pickle\"\n",
    "\n",
    "swis = pd.read_pickle(swis_dir / swis_hs)\n",
    "swis.head(20)\n"
   ]
  },
  {
   "cell_type": "code",
   "execution_count": 4,
   "metadata": {},
   "outputs": [
    {
     "name": "stdout",
     "output_type": "stream",
     "text": "SpW Offset: %d 0\n"
    }
   ],
   "source": [
    "hs.decode(proc_dir)"
   ]
  },
  {
   "cell_type": "code",
   "execution_count": 6,
   "metadata": {},
   "outputs": [
    {
     "data": {
      "text/plain": "0    [128, 0, 0, 0, 0, 88, 0, 0, 192, 0, 0, 0, 0, 0...\n1    [128, 0, 0, 0, 0, 88, 0, 0, 192, 0, 0, 0, 0, 0...\n2    [128, 0, 0, 0, 0, 88, 0, 0, 192, 0, 0, 0, 0, 0...\n3    [128, 0, 0, 0, 0, 88, 0, 0, 192, 0, 0, 0, 0, 0...\n4    [128, 0, 0, 0, 0, 88, 0, 0, 192, 0, 0, 0, 0, 0...\nName: RAW, dtype: object"
     },
     "execution_count": 6,
     "metadata": {},
     "output_type": "execute_result"
    }
   ],
   "source": [
    "raw = hs_df['RAW'].apply(lambda x: bytearray.fromhex(x))\n",
    "raw.head()"
   ]
  },
  {
   "cell_type": "code",
   "execution_count": 34,
   "metadata": {},
   "outputs": [
    {
     "data": {
      "text/plain": "0    [33, 1, 12, 0, 65, 0, 58, 0, 0, 0, 32, 105, 12...\n1    [33, 1, 12, 0, 65, 0, 64, 0, 0, 0, 32, 124, 12...\n2    [33, 1, 12, 0, 65, 0, 69, 0, 0, 0, 32, 179, 12...\n3    [33, 1, 12, 0, 65, 0, 74, 0, 0, 0, 32, 35, 128...\n4    [33, 1, 12, 0, 65, 0, 79, 0, 0, 0, 32, 236, 12...\nName: RAW, dtype: object"
     },
     "execution_count": 34,
     "metadata": {},
     "output_type": "execute_result"
    }
   ],
   "source": [
    "swis = swis['RAW'].apply(lambda x: bytearray.fromhex(x))\n",
    "swis.head()"
   ]
  },
  {
   "cell_type": "code",
   "execution_count": 13,
   "metadata": {},
   "outputs": [
    {
     "data": {
      "text/plain": "2097200    4381\n0          1673\nName: Sci_Len, dtype: int64"
     },
     "execution_count": 13,
     "metadata": {},
     "output_type": "execute_result"
    }
   ],
   "source": [
    "fftest = pd.read_pickle(proc_dir / \"hs.pickle\")\n",
    "test['Sci_Len'].value_counts()"
   ]
  },
  {
   "cell_type": "code",
   "execution_count": null,
   "metadata": {},
   "outputs": [],
   "source": [
    "f"
   ]
  },
  {
   "cell_type": "code",
   "execution_count": null,
   "metadata": {},
   "outputs": [],
   "source": []
  },
  {
   "cell_type": "code",
   "execution_count": 5,
   "metadata": {},
   "outputs": [],
   "source": [
    "hs.verify(proc_dir)aa"
   ]
  },
  {
   "cell_type": "code",
   "execution_count": 14,
   "metadata": {},
   "outputs": [],
   "source": [
    "hk_head = ['Time', 'RAW']\n",
    "for curfile in files_hk:\n",
    "    dl = pd.read_csv(curfile, sep=r' \\t ', header=None, names=hk_head, engine='python')\n",
    "    dl['RAW'] = dl['RAW'].apply(lambda x: x.replace('\\t', ' '))\n",
    "    dl['Source'] = 'LabView'\n",
    "\n",
    "dl.head()\n",
    "dl.to_pickle(proc_dir / \"Unproc_HKTM.pickle\")"
   ]
  },
  {
   "cell_type": "code",
   "execution_count": null,
   "metadata": {},
   "outputs": [],
   "source": []
  },
  {
   "cell_type": "code",
   "execution_count": 20,
   "metadata": {},
   "outputs": [
    {
     "name": "stdout",
     "output_type": "stream",
     "text": "50\n[WindowsPath('C:/Users/ucasbwh/Desktop/LabView Dev/RMAP_Sci_20200204_154341_000.txt'), WindowsPath('C:/Users/ucasbwh/Desktop/LabView Dev/RMAP_Sci_20200204_154341_001.txt')]\n"
    }
   ],
   "source": [
    "# Create RMAP_Sci versions and compare\n",
    "files_sci = PC_Fns.Find_Files(lv_dir, \"RMAP_Sci*.txt\")\n",
    "print(len(files_sci))\n",
    "print(files_sci[0:2aa])"
   ]
  },
  {
   "cell_type": "code",
   "execution_count": 65,
   "metadata": {},
   "outputs": [],
   "source": [
    "sci_head = ['Time', 'RAW']\n",
    "dl = pd.read_csv(files_sci[1], sep=r' \\t ', header=None, names=sci_head)\n",
    "dl['RAW'] = dl['RAW'].apply(lambda x: x.replace('\\t', ' '))\n",
    "raw = dl['RAW'].apply(lambda x: bytearray.fromhex(x))\n",
    "write_dir = proc_dir / \"IMG_SPW\"\n",
    "write_dir.mkdir()\n",
    "write_file = write_dir / \"test.pci_raw\"\n",
    "wf = open(write_file, 'w+b')\n",
    "wf.write(raw[0])\n",
    "wf.close()\n"
   ]
  },
  {
   "cell_type": "code",
   "execution_count": 66,
   "metadata": {},
   "outputs": [],
   "source": [
    "write_file = write_dir / '000.pci_spw'\n",
    "wf = open(write_file, 'w+b')\n",
    "\n",
    "for curfile in files_sci:\n",
    "    dl = pd.read_csv(curfile, sep=r' \\t ', header=None, names=sci_head)\n",
    "    if dl.shape[0] == 0:\n",
    "        next\n",
    "    elif dl.shape[0] > 1:\n",
    "        print(\"Warning two lines in single file\")\n",
    "    else:\n",
    "        dl['RAW'] = dl['RAW'].apply(lambda x: x.replace('\\t', ' '))\n",
    "        raw = dl['RAW'].apply(lambda x: bytearray.fromhex(x))\n",
    "        if write_file.stat().st_size >= 2097200:\n",
    "            wf.close()\n",
    "            cur_ldt = curfile.stem.split('_')[-1]\n",
    "            write_file = write_dir / (cur_ldt + \".pci_spw\")\n",
    "            wf = open(write_file, 'w+b')\n",
    "        wf.write(raw[0])\n",
    "\n",
    "wf.close()\n",
    "        "
   ]
  },
  {
   "cell_type": "code",
   "execution_count": 109,
   "metadata": {},
   "outputs": [
    {
     "name": "stdout",
     "output_type": "stream",
     "text": "Files match 200204_155027_FS-L01_+163_601ms_PH-0.00000 000.pci_spw\nFiles match 200204_155216_FS-R01_+149_488ms_PH-0.00000 008.pci_spw\nNo match    200204_160316_FS_HRC_+0_0.0000ms_PH-0.00000 015.pci_spw\nNo match    200204_160316_FS_HRC_+0_0.0000ms_PH-0.00000 022.pci_spw\nNo match    200204_160316_FS_HRC_+0_0.0000ms_PH-0.00000 029.pci_spw\nNo match    200204_160316_FS_HRC_+0_0.0000ms_PH-0.00000 036.pci_spw\nFiles match 200204_160316_FS_HRC_+0_0.0000ms_PH-0.00000 043.pci_spw\n"
    }
   ],
   "source": [
    "from shutil import copyfile\n",
    "\n",
    "bin_files = PC_Fns.Find_Files(lv_dir, '*.bin')\n",
    "spw_files = PC_Fns.Find_Files(lv_dir, '*.pci_spw')\n",
    "img_dir = proc_dir / \"IMG_RAW\"\n",
    "#img_dir.mkdir()\n",
    "unmatched = [];\n",
    "\n",
    "for curfile in bin_files:\n",
    "    matched = False\n",
    "\n",
    "    for ref in spw_files:\n",
    "        if filecmp.cmp(curfile, ref, shallow=False):\n",
    "            print(\"Files match\", curfile.stem, ref.name)\n",
    "            spw_files.remove(ref)\n",
    "            #ref.unlink()\n",
    "            copyfile(curfile, img_dir / (curfile.stem + \".pci_raw\"))\n",
    "            matched = True\n",
    "            break\n",
    "            \n",
    "        else:\n",
    "            print(\"No match   \", curfile.stem, ref.name)\n",
    "            \n",
    "    if not matched: print(\"Nothing here mate\")\n"
   ]
  },
  {
   "cell_type": "code",
   "execution_count": 32,
   "metadata": {},
   "outputs": [
    {
     "name": "stdout",
     "output_type": "stream",
     "text": "C:\\Users\\ucasbwh\\Desktop\\20200205_135646_GeomCal\\ARCHIVE\\RMAP_Sci\\RMAP_Sci_20200205_135646_007.txt 762030\nC:\\Users\\ucasbwh\\Desktop\\20200205_135646_GeomCal\\ARCHIVE\\RMAP_Sci\\RMAP_Sci_20200205_135646_014.txt 762030\nC:\\Users\\ucasbwh\\Desktop\\20200205_135646_GeomCal\\ARCHIVE\\RMAP_Sci\\RMAP_Sci_20200205_135646_021.txt 762030\nC:\\Users\\ucasbwh\\Desktop\\20200205_135646_GeomCal\\ARCHIVE\\RMAP_Sci\\RMAP_Sci_20200205_135646_028.txt 762030\nC:\\Users\\ucasbwh\\Desktop\\20200205_135646_GeomCal\\ARCHIVE\\RMAP_Sci\\RMAP_Sci_20200205_135646_035.txt 762030\nC:\\Users\\ucasbwh\\Desktop\\20200205_135646_GeomCal\\ARCHIVE\\RMAP_Sci\\RMAP_Sci_20200205_135646_042.txt 762030\nC:\\Users\\ucasbwh\\Desktop\\20200205_135646_GeomCal\\ARCHIVE\\RMAP_Sci\\RMAP_Sci_20200205_135646_049.txt 762030\nC:\\Users\\ucasbwh\\Desktop\\20200205_135646_GeomCal\\ARCHIVE\\RMAP_Sci\\RMAP_Sci_20200205_135646_056.txt 762030\nC:\\Users\\ucasbwh\\Desktop\\20200205_135646_GeomCal\\ARCHIVE\\RMAP_Sci\\RMAP_Sci_20200205_135646_063.txt 762030\nC:\\Users\\ucasbwh\\Desktop\\20200205_135646_GeomCal\\ARCHIVE\\RMAP_Sci\\RMAP_Sci_20200205_135646_070.txt 762030\nC:\\Users\\ucasbwh\\Desktop\\20200205_135646_GeomCal\\ARCHIVE\\RMAP_Sci\\RMAP_Sci_20200205_135646_077.txt 762030\nC:\\Users\\ucasbwh\\Desktop\\20200205_135646_GeomCal\\ARCHIVE\\RMAP_Sci\\RMAP_Sci_20200205_135646_084.txt 762030\nC:\\Users\\ucasbwh\\Desktop\\20200205_135646_GeomCal\\ARCHIVE\\RMAP_Sci\\RMAP_Sci_20200205_135646_091.txt 762030\nC:\\Users\\ucasbwh\\Desktop\\20200205_135646_GeomCal\\ARCHIVE\\RMAP_Sci\\RMAP_Sci_20200205_135646_098.txt 762030\nC:\\Users\\ucasbwh\\Desktop\\20200205_135646_GeomCal\\ARCHIVE\\RMAP_Sci\\RMAP_Sci_20200205_135646_106.txt 762030\nC:\\Users\\ucasbwh\\Desktop\\20200205_135646_GeomCal\\ARCHIVE\\RMAP_Sci\\RMAP_Sci_20200205_135646_113.txt 762030\nC:\\Users\\ucasbwh\\Desktop\\20200205_135646_GeomCal\\ARCHIVE\\RMAP_Sci\\RMAP_Sci_20200205_135646_120.txt 762030\nC:\\Users\\ucasbwh\\Desktop\\20200205_135646_GeomCal\\ARCHIVE\\RMAP_Sci\\RMAP_Sci_20200205_135646_127.txt 762030\nC:\\Users\\ucasbwh\\Desktop\\20200205_135646_GeomCal\\ARCHIVE\\RMAP_Sci\\RMAP_Sci_20200205_135646_134.txt 762030\nC:\\Users\\ucasbwh\\Desktop\\20200205_135646_GeomCal\\ARCHIVE\\RMAP_Sci\\RMAP_Sci_20200205_135646_141.txt 762030\nC:\\Users\\ucasbwh\\Desktop\\20200205_135646_GeomCal\\ARCHIVE\\RMAP_Sci\\RMAP_Sci_20200205_135646_148.txt 762030\nC:\\Users\\ucasbwh\\Desktop\\20200205_135646_GeomCal\\ARCHIVE\\RMAP_Sci\\RMAP_Sci_20200205_135646_155.txt 762030\nC:\\Users\\ucasbwh\\Desktop\\20200205_135646_GeomCal\\ARCHIVE\\RMAP_Sci\\RMAP_Sci_20200205_135646_162.txt 762030\nC:\\Users\\ucasbwh\\Desktop\\20200205_135646_GeomCal\\ARCHIVE\\RMAP_Sci\\RMAP_Sci_20200205_135646_169.txt 762030\nC:\\Users\\ucasbwh\\Desktop\\20200205_135646_GeomCal\\ARCHIVE\\RMAP_Sci\\RMAP_Sci_20200205_135646_176.txt 762030\nC:\\Users\\ucasbwh\\Desktop\\20200205_135646_GeomCal\\ARCHIVE\\RMAP_Sci\\RMAP_Sci_20200205_135646_183.txt 762030\nC:\\Users\\ucasbwh\\Desktop\\20200205_135646_GeomCal\\ARCHIVE\\RMAP_Sci\\RMAP_Sci_20200205_135646_190.txt 762030\nC:\\Users\\ucasbwh\\Desktop\\20200205_135646_GeomCal\\ARCHIVE\\RMAP_Sci\\RMAP_Sci_20200205_135646_197.txt 762030\nC:\\Users\\ucasbwh\\Desktop\\20200205_135646_GeomCal\\ARCHIVE\\RMAP_Sci\\RMAP_Sci_20200205_135646_204.txt 762030\nC:\\Users\\ucasbwh\\Desktop\\20200205_135646_GeomCal\\ARCHIVE\\RMAP_Sci\\RMAP_Sci_20200205_135646_211.txt 762030\nC:\\Users\\ucasbwh\\Desktop\\20200205_135646_GeomCal\\ARCHIVE\\RMAP_Sci\\RMAP_Sci_20200205_135646_218.txt 762030\nC:\\Users\\ucasbwh\\Desktop\\20200205_135646_GeomCal\\ARCHIVE\\RMAP_Sci\\RMAP_Sci_20200205_135646_225.txt 762030\nC:\\Users\\ucasbwh\\Desktop\\20200205_135646_GeomCal\\ARCHIVE\\RMAP_Sci\\RMAP_Sci_20200205_135646_232.txt 762030\nC:\\Users\\ucasbwh\\Desktop\\20200205_135646_GeomCal\\ARCHIVE\\RMAP_Sci\\RMAP_Sci_20200205_135646_239.txt 762030\nC:\\Users\\ucasbwh\\Desktop\\20200205_135646_GeomCal\\ARCHIVE\\RMAP_Sci\\RMAP_Sci_20200205_135646_246.txt 762030\nC:\\Users\\ucasbwh\\Desktop\\20200205_135646_GeomCal\\ARCHIVE\\RMAP_Sci\\RMAP_Sci_20200205_135646_253.txt 762030\nC:\\Users\\ucasbwh\\Desktop\\20200205_135646_GeomCal\\ARCHIVE\\RMAP_Sci\\RMAP_Sci_20200205_135646_260.txt 762030\nC:\\Users\\ucasbwh\\Desktop\\20200205_135646_GeomCal\\ARCHIVE\\RMAP_Sci\\RMAP_Sci_20200205_135646_267.txt 762030\nC:\\Users\\ucasbwh\\Desktop\\20200205_135646_GeomCal\\ARCHIVE\\RMAP_Sci\\RMAP_Sci_20200205_135646_274.txt 762030\nC:\\Users\\ucasbwh\\Desktop\\20200205_135646_GeomCal\\ARCHIVE\\RMAP_Sci\\RMAP_Sci_20200205_135646_281.txt 762030\nC:\\Users\\ucasbwh\\Desktop\\20200205_135646_GeomCal\\ARCHIVE\\RMAP_Sci\\RMAP_Sci_20200205_135646_288.txt 762030\nC:\\Users\\ucasbwh\\Desktop\\20200205_135646_GeomCal\\ARCHIVE\\RMAP_Sci\\RMAP_Sci_20200205_135646_295.txt 762030\nC:\\Users\\ucasbwh\\Desktop\\20200205_135646_GeomCal\\ARCHIVE\\RMAP_Sci\\RMAP_Sci_20200205_135646_302.txt 762030\nC:\\Users\\ucasbwh\\Desktop\\20200205_135646_GeomCal\\ARCHIVE\\RMAP_Sci\\RMAP_Sci_20200205_135646_309.txt 762030\nC:\\Users\\ucasbwh\\Desktop\\20200205_135646_GeomCal\\ARCHIVE\\RMAP_Sci\\RMAP_Sci_20200205_135646_316.txt 762030\nC:\\Users\\ucasbwh\\Desktop\\20200205_135646_GeomCal\\ARCHIVE\\RMAP_Sci\\RMAP_Sci_20200205_135646_323.txt 762030\nC:\\Users\\ucasbwh\\Desktop\\20200205_135646_GeomCal\\ARCHIVE\\RMAP_Sci\\RMAP_Sci_20200205_135646_330.txt 762030\nC:\\Users\\ucasbwh\\Desktop\\20200205_135646_GeomCal\\ARCHIVE\\RMAP_Sci\\RMAP_Sci_20200205_135646_337.txt 762030\nC:\\Users\\ucasbwh\\Desktop\\20200205_135646_GeomCal\\ARCHIVE\\RMAP_Sci\\RMAP_Sci_20200205_135646_344.txt 762030\nC:\\Users\\ucasbwh\\Desktop\\20200205_135646_GeomCal\\ARCHIVE\\RMAP_Sci\\RMAP_Sci_20200205_135646_351.txt 762030\nC:\\Users\\ucasbwh\\Desktop\\20200205_135646_GeomCal\\ARCHIVE\\RMAP_Sci\\RMAP_Sci_20200205_135646_358.txt 762030\nC:\\Users\\ucasbwh\\Desktop\\20200205_135646_GeomCal\\ARCHIVE\\RMAP_Sci\\RMAP_Sci_20200205_135646_365.txt 762030\nC:\\Users\\ucasbwh\\Desktop\\20200205_135646_GeomCal\\ARCHIVE\\RMAP_Sci\\RMAP_Sci_20200205_135646_372.txt 762030\nC:\\Users\\ucasbwh\\Desktop\\20200205_135646_GeomCal\\ARCHIVE\\RMAP_Sci\\RMAP_Sci_20200205_135646_379.txt 762030\nC:\\Users\\ucasbwh\\Desktop\\20200205_135646_GeomCal\\ARCHIVE\\RMAP_Sci\\RMAP_Sci_20200205_135646_386.txt 762030\nC:\\Users\\ucasbwh\\Desktop\\20200205_135646_GeomCal\\ARCHIVE\\RMAP_Sci\\RMAP_Sci_20200205_135646_393.txt 762030\nC:\\Users\\ucasbwh\\Desktop\\20200205_135646_GeomCal\\ARCHIVE\\RMAP_Sci\\RMAP_Sci_20200205_135646_400.txt 762030\nC:\\Users\\ucasbwh\\Desktop\\20200205_135646_GeomCal\\ARCHIVE\\RMAP_Sci\\RMAP_Sci_20200205_135646_407.txt 762030\nC:\\Users\\ucasbwh\\Desktop\\20200205_135646_GeomCal\\ARCHIVE\\RMAP_Sci\\RMAP_Sci_20200205_135646_414.txt 762030\nC:\\Users\\ucasbwh\\Desktop\\20200205_135646_GeomCal\\ARCHIVE\\RMAP_Sci\\RMAP_Sci_20200205_135646_421.txt 762030\nC:\\Users\\ucasbwh\\Desktop\\20200205_135646_GeomCal\\ARCHIVE\\RMAP_Sci\\RMAP_Sci_20200205_135646_428.txt 762030\nC:\\Users\\ucasbwh\\Desktop\\20200205_135646_GeomCal\\ARCHIVE\\RMAP_Sci\\RMAP_Sci_20200205_135646_435.txt 762030\nC:\\Users\\ucasbwh\\Desktop\\20200205_135646_GeomCal\\ARCHIVE\\RMAP_Sci\\RMAP_Sci_20200205_135646_442.txt 762030\nC:\\Users\\ucasbwh\\Desktop\\20200205_135646_GeomCal\\ARCHIVE\\RMAP_Sci\\RMAP_Sci_20200205_135646_449.txt 762030\nC:\\Users\\ucasbwh\\Desktop\\20200205_135646_GeomCal\\ARCHIVE\\RMAP_Sci\\RMAP_Sci_20200205_135646_456.txt 762030\nC:\\Users\\ucasbwh\\Desktop\\20200205_135646_GeomCal\\ARCHIVE\\RMAP_Sci\\RMAP_Sci_20200205_135646_463.txt 762030\nC:\\Users\\ucasbwh\\Desktop\\20200205_135646_GeomCal\\ARCHIVE\\RMAP_Sci\\RMAP_Sci_20200205_135646_470.txt 762030\nC:\\Users\\ucasbwh\\Desktop\\20200205_135646_GeomCal\\ARCHIVE\\RMAP_Sci\\RMAP_Sci_20200205_135646_477.txt 762030\nC:\\Users\\ucasbwh\\Desktop\\20200205_135646_GeomCal\\ARCHIVE\\RMAP_Sci\\RMAP_Sci_20200205_135646_484.txt 762030\nC:\\Users\\ucasbwh\\Desktop\\20200205_135646_GeomCal\\ARCHIVE\\RMAP_Sci\\RMAP_Sci_20200205_135646_491.txt 762030\nC:\\Users\\ucasbwh\\Desktop\\20200205_135646_GeomCal\\ARCHIVE\\RMAP_Sci\\RMAP_Sci_20200205_135646_498.txt 762030\nC:\\Users\\ucasbwh\\Desktop\\20200205_135646_GeomCal\\ARCHIVE\\RMAP_Sci\\RMAP_Sci_20200205_135646_505.txt 762030\nC:\\Users\\ucasbwh\\Desktop\\20200205_135646_GeomCal\\ARCHIVE\\RMAP_Sci\\RMAP_Sci_20200205_135646_512.txt 762030\nC:\\Users\\ucasbwh\\Desktop\\20200205_135646_GeomCal\\ARCHIVE\\RMAP_Sci\\RMAP_Sci_20200205_135646_519.txt 762030\nC:\\Users\\ucasbwh\\Desktop\\20200205_135646_GeomCal\\ARCHIVE\\RMAP_Sci\\RMAP_Sci_20200205_135646_526.txt 762030\nC:\\Users\\ucasbwh\\Desktop\\20200205_135646_GeomCal\\ARCHIVE\\RMAP_Sci\\RMAP_Sci_20200205_135646_533.txt 762030\nC:\\Users\\ucasbwh\\Desktop\\20200205_135646_GeomCal\\ARCHIVE\\RMAP_Sci\\RMAP_Sci_20200205_135646_540.txt 762030\nC:\\Users\\ucasbwh\\Desktop\\20200205_135646_GeomCal\\ARCHIVE\\RMAP_Sci\\RMAP_Sci_20200205_135646_547.txt 762030\nC:\\Users\\ucasbwh\\Desktop\\20200205_135646_GeomCal\\ARCHIVE\\RMAP_Sci\\RMAP_Sci_20200205_135646_554.txt 762030\nC:\\Users\\ucasbwh\\Desktop\\20200205_135646_GeomCal\\ARCHIVE\\RMAP_Sci\\RMAP_Sci_20200205_135646_561.txt 762030\nC:\\Users\\ucasbwh\\Desktop\\20200205_135646_GeomCal\\ARCHIVE\\RMAP_Sci\\RMAP_Sci_20200205_135646_568.txt 762030\nC:\\Users\\ucasbwh\\Desktop\\20200205_135646_GeomCal\\ARCHIVE\\RMAP_Sci\\RMAP_Sci_20200205_135646_575.txt 762030\nC:\\Users\\ucasbwh\\Desktop\\20200205_135646_GeomCal\\ARCHIVE\\RMAP_Sci\\RMAP_Sci_20200205_135646_582.txt 762030\nC:\\Users\\ucasbwh\\Desktop\\20200205_135646_GeomCal\\ARCHIVE\\RMAP_Sci\\RMAP_Sci_20200205_135646_589.txt 762030\nC:\\Users\\ucasbwh\\Desktop\\20200205_135646_GeomCal\\ARCHIVE\\RMAP_Sci\\RMAP_Sci_20200205_135646_596.txt 762030\nC:\\Users\\ucasbwh\\Desktop\\20200205_135646_GeomCal\\ARCHIVE\\RMAP_Sci\\RMAP_Sci_20200205_135646_603.txt 762030\nC:\\Users\\ucasbwh\\Desktop\\20200205_135646_GeomCal\\ARCHIVE\\RMAP_Sci\\RMAP_Sci_20200205_135646_610.txt 762030\nC:\\Users\\ucasbwh\\Desktop\\20200205_135646_GeomCal\\ARCHIVE\\RMAP_Sci\\RMAP_Sci_20200205_135646_617.txt 762030\nC:\\Users\\ucasbwh\\Desktop\\20200205_135646_GeomCal\\ARCHIVE\\RMAP_Sci\\RMAP_Sci_20200205_135646_624.txt 762030\nC:\\Users\\ucasbwh\\Desktop\\20200205_135646_GeomCal\\ARCHIVE\\RMAP_Sci\\RMAP_Sci_20200205_135646_631.txt 762030\nC:\\Users\\ucasbwh\\Desktop\\20200205_135646_GeomCal\\ARCHIVE\\RMAP_Sci\\RMAP_Sci_20200205_135646_638.txt 762030\nC:\\Users\\ucasbwh\\Desktop\\20200205_135646_GeomCal\\ARCHIVE\\RMAP_Sci\\RMAP_Sci_20200205_135646_645.txt 762030\nC:\\Users\\ucasbwh\\Desktop\\20200205_135646_GeomCal\\ARCHIVE\\RMAP_Sci\\RMAP_Sci_20200205_135646_652.txt 762030\nC:\\Users\\ucasbwh\\Desktop\\20200205_135646_GeomCal\\ARCHIVE\\RMAP_Sci\\RMAP_Sci_20200205_135646_659.txt 762030\nC:\\Users\\ucasbwh\\Desktop\\20200205_135646_GeomCal\\ARCHIVE\\RMAP_Sci\\RMAP_Sci_20200205_135646_666.txt 762030\nC:\\Users\\ucasbwh\\Desktop\\20200205_135646_GeomCal\\ARCHIVE\\RMAP_Sci\\RMAP_Sci_20200205_135646_673.txt 762030\nC:\\Users\\ucasbwh\\Desktop\\20200205_135646_GeomCal\\ARCHIVE\\RMAP_Sci\\RMAP_Sci_20200205_135646_680.txt 762030\nC:\\Users\\ucasbwh\\Desktop\\20200205_135646_GeomCal\\ARCHIVE\\RMAP_Sci\\RMAP_Sci_20200205_135646_687.txt 762030\nC:\\Users\\ucasbwh\\Desktop\\20200205_135646_GeomCal\\ARCHIVE\\RMAP_Sci\\RMAP_Sci_20200205_135646_694.txt 762030\nC:\\Users\\ucasbwh\\Desktop\\20200205_135646_GeomCal\\ARCHIVE\\RMAP_Sci\\RMAP_Sci_20200205_135646_701.txt 762030\nC:\\Users\\ucasbwh\\Desktop\\20200205_135646_GeomCal\\ARCHIVE\\RMAP_Sci\\RMAP_Sci_20200205_135646_708.txt 762030\nC:\\Users\\ucasbwh\\Desktop\\20200205_135646_GeomCal\\ARCHIVE\\RMAP_Sci\\RMAP_Sci_20200205_135646_715.txt 762030\nC:\\Users\\ucasbwh\\Desktop\\20200205_135646_GeomCal\\ARCHIVE\\RMAP_Sci\\RMAP_Sci_20200205_135646_722.txt 762030\nC:\\Users\\ucasbwh\\Desktop\\20200205_135646_GeomCal\\ARCHIVE\\RMAP_Sci\\RMAP_Sci_20200205_135646_729.txt 762030\nC:\\Users\\ucasbwh\\Desktop\\20200205_135646_GeomCal\\ARCHIVE\\RMAP_Sci\\RMAP_Sci_20200205_135646_736.txt 762030\nC:\\Users\\ucasbwh\\Desktop\\20200205_135646_GeomCal\\ARCHIVE\\RMAP_Sci\\RMAP_Sci_20200205_135646_743.txt 762030\nC:\\Users\\ucasbwh\\Desktop\\20200205_135646_GeomCal\\ARCHIVE\\RMAP_Sci\\RMAP_Sci_20200205_135646_750.txt 762030\nC:\\Users\\ucasbwh\\Desktop\\20200205_135646_GeomCal\\ARCHIVE\\RMAP_Sci\\RMAP_Sci_20200205_135646_757.txt 762030\nC:\\Users\\ucasbwh\\Desktop\\20200205_135646_GeomCal\\ARCHIVE\\RMAP_Sci\\RMAP_Sci_20200205_135646_764.txt 762030\nC:\\Users\\ucasbwh\\Desktop\\20200205_135646_GeomCal\\ARCHIVE\\RMAP_Sci\\RMAP_Sci_20200205_135646_771.txt 762030\nC:\\Users\\ucasbwh\\Desktop\\20200205_135646_GeomCal\\ARCHIVE\\RMAP_Sci\\RMAP_Sci_20200205_135646_778.txt 762030\nC:\\Users\\ucasbwh\\Desktop\\20200205_135646_GeomCal\\ARCHIVE\\RMAP_Sci\\RMAP_Sci_20200205_135646_785.txt 762030\nC:\\Users\\ucasbwh\\Desktop\\20200205_135646_GeomCal\\ARCHIVE\\RMAP_Sci\\RMAP_Sci_20200205_135646_792.txt 762030\nC:\\Users\\ucasbwh\\Desktop\\20200205_135646_GeomCal\\ARCHIVE\\RMAP_Sci\\RMAP_Sci_20200205_135646_799.txt 762030\nC:\\Users\\ucasbwh\\Desktop\\20200205_135646_GeomCal\\ARCHIVE\\RMAP_Sci\\RMAP_Sci_20200205_135646_806.txt 762030\nC:\\Users\\ucasbwh\\Desktop\\20200205_135646_GeomCal\\ARCHIVE\\RMAP_Sci\\RMAP_Sci_20200205_135646_813.txt 762030\nC:\\Users\\ucasbwh\\Desktop\\20200205_135646_GeomCal\\ARCHIVE\\RMAP_Sci\\RMAP_Sci_20200205_135646_820.txt 762030\nC:\\Users\\ucasbwh\\Desktop\\20200205_135646_GeomCal\\ARCHIVE\\RMAP_Sci\\RMAP_Sci_20200205_135646_827.txt 762030\nC:\\Users\\ucasbwh\\Desktop\\20200205_135646_GeomCal\\ARCHIVE\\RMAP_Sci\\RMAP_Sci_20200205_135646_834.txt 762030\nC:\\Users\\ucasbwh\\Desktop\\20200205_135646_GeomCal\\ARCHIVE\\RMAP_Sci\\RMAP_Sci_20200205_135646_841.txt 762030\nC:\\Users\\ucasbwh\\Desktop\\20200205_135646_GeomCal\\ARCHIVE\\RMAP_Sci\\RMAP_Sci_20200205_135646_848.txt 762030\nC:\\Users\\ucasbwh\\Desktop\\20200205_135646_GeomCal\\ARCHIVE\\RMAP_Sci\\RMAP_Sci_20200205_135646_855.txt 762030\nC:\\Users\\ucasbwh\\Desktop\\20200205_135646_GeomCal\\ARCHIVE\\RMAP_Sci\\RMAP_Sci_20200205_135646_862.txt 762030\nC:\\Users\\ucasbwh\\Desktop\\20200205_135646_GeomCal\\ARCHIVE\\RMAP_Sci\\RMAP_Sci_20200205_135646_869.txt 762030\nC:\\Users\\ucasbwh\\Desktop\\20200205_135646_GeomCal\\ARCHIVE\\RMAP_Sci\\RMAP_Sci_20200205_135646_876.txt 762030\nC:\\Users\\ucasbwh\\Desktop\\20200205_135646_GeomCal\\ARCHIVE\\RMAP_Sci\\RMAP_Sci_20200205_135646_883.txt 762030\nC:\\Users\\ucasbwh\\Desktop\\20200205_135646_GeomCal\\ARCHIVE\\RMAP_Sci\\RMAP_Sci_20200205_135646_890.txt 762030\nC:\\Users\\ucasbwh\\Desktop\\20200205_135646_GeomCal\\ARCHIVE\\RMAP_Sci\\RMAP_Sci_20200205_135646_897.txt 762030\nC:\\Users\\ucasbwh\\Desktop\\20200205_135646_GeomCal\\ARCHIVE\\RMAP_Sci\\RMAP_Sci_20200205_135646_904.txt 762030\nC:\\Users\\ucasbwh\\Desktop\\20200205_135646_GeomCal\\ARCHIVE\\RMAP_Sci\\RMAP_Sci_20200205_135646_911.txt 762030\nC:\\Users\\ucasbwh\\Desktop\\20200205_135646_GeomCal\\ARCHIVE\\RMAP_Sci\\RMAP_Sci_20200205_135646_918.txt 762030\nC:\\Users\\ucasbwh\\Desktop\\20200205_135646_GeomCal\\ARCHIVE\\RMAP_Sci\\RMAP_Sci_20200205_135646_925.txt 762030\nC:\\Users\\ucasbwh\\Desktop\\20200205_135646_GeomCal\\ARCHIVE\\RMAP_Sci\\RMAP_Sci_20200205_135646_932.txt 762030\nC:\\Users\\ucasbwh\\Desktop\\20200205_135646_GeomCal\\ARCHIVE\\RMAP_Sci\\RMAP_Sci_20200205_135646_939.txt 762030\nC:\\Users\\ucasbwh\\Desktop\\20200205_135646_GeomCal\\ARCHIVE\\RMAP_Sci\\RMAP_Sci_20200205_135646_946.txt 762030\nC:\\Users\\ucasbwh\\Desktop\\20200205_135646_GeomCal\\ARCHIVE\\RMAP_Sci\\RMAP_Sci_20200205_135646_953.txt 762030\nC:\\Users\\ucasbwh\\Desktop\\20200205_135646_GeomCal\\ARCHIVE\\RMAP_Sci\\RMAP_Sci_20200205_135646_960.txt 762030\nC:\\Users\\ucasbwh\\Desktop\\20200205_135646_GeomCal\\ARCHIVE\\RMAP_Sci\\RMAP_Sci_20200205_135646_967.txt 762030\nC:\\Users\\ucasbwh\\Desktop\\20200205_135646_GeomCal\\ARCHIVE\\RMAP_Sci\\RMAP_Sci_20200205_135646_974.txt 762030\nC:\\Users\\ucasbwh\\Desktop\\20200205_135646_GeomCal\\ARCHIVE\\RMAP_Sci\\RMAP_Sci_20200205_135646_981.txt 762030\nC:\\Users\\ucasbwh\\Desktop\\20200205_135646_GeomCal\\ARCHIVE\\RMAP_Sci\\RMAP_Sci_20200205_135646_988.txt 762030\nC:\\Users\\ucasbwh\\Desktop\\20200205_135646_GeomCal\\ARCHIVE\\RMAP_Sci\\RMAP_Sci_20200205_135646_995.txt 762030\nC:\\Users\\ucasbwh\\Desktop\\20200205_135646_GeomCal\\ARCHIVE\\RMAP_Sci\\RMAP_Sci_20200205_135646_1002.txt 762030\nC:\\Users\\ucasbwh\\Desktop\\20200205_135646_GeomCal\\ARCHIVE\\RMAP_Sci\\RMAP_Sci_20200205_135646_1009.txt 762030\nC:\\Users\\ucasbwh\\Desktop\\20200205_135646_GeomCal\\ARCHIVE\\RMAP_Sci\\RMAP_Sci_20200205_135646_1016.txt 762030\nC:\\Users\\ucasbwh\\Desktop\\20200205_135646_GeomCal\\ARCHIVE\\RMAP_Sci\\RMAP_Sci_20200205_135646_1023.txt 762030\nC:\\Users\\ucasbwh\\Desktop\\20200205_135646_GeomCal\\ARCHIVE\\RMAP_Sci\\RMAP_Sci_20200205_135646_1030.txt 762030\nC:\\Users\\ucasbwh\\Desktop\\20200205_135646_GeomCal\\ARCHIVE\\RMAP_Sci\\RMAP_Sci_20200205_135646_1037.txt 762030\nC:\\Users\\ucasbwh\\Desktop\\20200205_135646_GeomCal\\ARCHIVE\\RMAP_Sci\\RMAP_Sci_20200205_135646_1044.txt 762030\nC:\\Users\\ucasbwh\\Desktop\\20200205_135646_GeomCal\\ARCHIVE\\RMAP_Sci\\RMAP_Sci_20200205_135646_1051.txt 762030\nC:\\Users\\ucasbwh\\Desktop\\20200205_135646_GeomCal\\ARCHIVE\\RMAP_Sci\\RMAP_Sci_20200205_135646_1058.txt 762030\nC:\\Users\\ucasbwh\\Desktop\\20200205_135646_GeomCal\\ARCHIVE\\RMAP_Sci\\RMAP_Sci_20200205_135646_1065.txt 762030\nC:\\Users\\ucasbwh\\Desktop\\20200205_135646_GeomCal\\ARCHIVE\\RMAP_Sci\\RMAP_Sci_20200205_135646_1072.txt 762030\nC:\\Users\\ucasbwh\\Desktop\\20200205_135646_GeomCal\\ARCHIVE\\RMAP_Sci\\RMAP_Sci_20200205_135646_1079.txt 762030\nC:\\Users\\ucasbwh\\Desktop\\20200205_135646_GeomCal\\ARCHIVE\\RMAP_Sci\\RMAP_Sci_20200205_135646_1086.txt 762030\nC:\\Users\\ucasbwh\\Desktop\\20200205_135646_GeomCal\\ARCHIVE\\RMAP_Sci\\RMAP_Sci_20200205_135646_1093.txt 762030\nC:\\Users\\ucasbwh\\Desktop\\20200205_135646_GeomCal\\ARCHIVE\\RMAP_Sci\\RMAP_Sci_20200205_135646_1100.txt 762030\nC:\\Users\\ucasbwh\\Desktop\\20200205_135646_GeomCal\\ARCHIVE\\RMAP_Sci\\RMAP_Sci_20200205_135646_1107.txt 762030\nC:\\Users\\ucasbwh\\Desktop\\20200205_135646_GeomCal\\ARCHIVE\\RMAP_Sci\\RMAP_Sci_20200205_135646_1114.txt 762030\nC:\\Users\\ucasbwh\\Desktop\\20200205_135646_GeomCal\\ARCHIVE\\RMAP_Sci\\RMAP_Sci_20200205_135646_1121.txt 762030\nC:\\Users\\ucasbwh\\Desktop\\20200205_135646_GeomCal\\ARCHIVE\\RMAP_Sci\\RMAP_Sci_20200205_135646_1128.txt 762030\nC:\\Users\\ucasbwh\\Desktop\\20200205_135646_GeomCal\\ARCHIVE\\RMAP_Sci\\RMAP_Sci_20200205_135646_1135.txt 762030\nC:\\Users\\ucasbwh\\Desktop\\20200205_135646_GeomCal\\ARCHIVE\\RMAP_Sci\\RMAP_Sci_20200205_135646_1142.txt 762030\nC:\\Users\\ucasbwh\\Desktop\\20200205_135646_GeomCal\\ARCHIVE\\RMAP_Sci\\RMAP_Sci_20200205_135646_1149.txt 762030\nC:\\Users\\ucasbwh\\Desktop\\20200205_135646_GeomCal\\ARCHIVE\\RMAP_Sci\\RMAP_Sci_20200205_135646_1156.txt 762030\nC:\\Users\\ucasbwh\\Desktop\\20200205_135646_GeomCal\\ARCHIVE\\RMAP_Sci\\RMAP_Sci_20200205_135646_1163.txt 762030\nC:\\Users\\ucasbwh\\Desktop\\20200205_135646_GeomCal\\ARCHIVE\\RMAP_Sci\\RMAP_Sci_20200205_135646_1170.txt 762030\nC:\\Users\\ucasbwh\\Desktop\\20200205_135646_GeomCal\\ARCHIVE\\RMAP_Sci\\RMAP_Sci_20200205_135646_1177.txt 762030\nC:\\Users\\ucasbwh\\Desktop\\20200205_135646_GeomCal\\ARCHIVE\\RMAP_Sci\\RMAP_Sci_20200205_135646_1184.txt 762030\nC:\\Users\\ucasbwh\\Desktop\\20200205_135646_GeomCal\\ARCHIVE\\RMAP_Sci\\RMAP_Sci_20200205_135646_1191.txt 762030\nC:\\Users\\ucasbwh\\Desktop\\20200205_135646_GeomCal\\ARCHIVE\\RMAP_Sci\\RMAP_Sci_20200205_135646_1198.txt 762030\nC:\\Users\\ucasbwh\\Desktop\\20200205_135646_GeomCal\\ARCHIVE\\RMAP_Sci\\RMAP_Sci_20200205_135646_1205.txt 762030\nC:\\Users\\ucasbwh\\Desktop\\20200205_135646_GeomCal\\ARCHIVE\\RMAP_Sci\\RMAP_Sci_20200205_135646_1212.txt 762030\nC:\\Users\\ucasbwh\\Desktop\\20200205_135646_GeomCal\\ARCHIVE\\RMAP_Sci\\RMAP_Sci_20200205_135646_1219.txt 762030\nC:\\Users\\ucasbwh\\Desktop\\20200205_135646_GeomCal\\ARCHIVE\\RMAP_Sci\\RMAP_Sci_20200205_135646_1226.txt 762030\nC:\\Users\\ucasbwh\\Desktop\\20200205_135646_GeomCal\\ARCHIVE\\RMAP_Sci\\RMAP_Sci_20200205_135646_1233.txt 762030\nC:\\Users\\ucasbwh\\Desktop\\20200205_135646_GeomCal\\ARCHIVE\\RMAP_Sci\\RMAP_Sci_20200205_135646_1240.txt 762030\n"
    },
    {
     "data": {
      "text/plain": "[None,\n None,\n None,\n None,\n None,\n None,\n None,\n None,\n None,\n None,\n None,\n None,\n None,\n None,\n None,\n None,\n None,\n None,\n None,\n None,\n None,\n None,\n None,\n None,\n None,\n None,\n None,\n None,\n None,\n None,\n None,\n None,\n None,\n None,\n None,\n None,\n None,\n None,\n None,\n None,\n None,\n None,\n None,\n None,\n None,\n None,\n None,\n None,\n None,\n None,\n None,\n None,\n None,\n None,\n None,\n None,\n None,\n None,\n None,\n None,\n None,\n None,\n None,\n None,\n None,\n None,\n None,\n None,\n None,\n None,\n None,\n None,\n None,\n None,\n None,\n None,\n None,\n None,\n None,\n None,\n None,\n None,\n None,\n None,\n None,\n None,\n None,\n None,\n None,\n None,\n None,\n None,\n None,\n None,\n None,\n None,\n None,\n None,\n None,\n None,\n None,\n None,\n None,\n None,\n None,\n None,\n None,\n None,\n None,\n None,\n None,\n None,\n None,\n None,\n None,\n None,\n None,\n None,\n None,\n None,\n None,\n None,\n None,\n None,\n None,\n None,\n None,\n None,\n None,\n None,\n None,\n None,\n None,\n None,\n None,\n None,\n None,\n None,\n None,\n None,\n None,\n None,\n None,\n None,\n None,\n None,\n None,\n None,\n None,\n None,\n None,\n None,\n None,\n None,\n None,\n None,\n None,\n None,\n None,\n None,\n None,\n None,\n None,\n None,\n None,\n None,\n None,\n None,\n None,\n None,\n None,\n None,\n None,\n None,\n None,\n None,\n None]"
     },
     "execution_count": 32,
     "metadata": {},
     "output_type": "execute_result"
    }
   ],
   "source": [
    "lv_dir = Path(r\"C:\\Users\\ucasbwh\\Desktop\\20200205_135646_GeomCal\")\n",
    "spw_files = PC_Fns.Find_Files(lv_dir, 'RMAP_Sci*.txt')\n",
    "[print(item ,item.stat().st_size) for item in spw_files[7::7]]"
   ]
  },
  {
   "cell_type": "code",
   "execution_count": 29,
   "metadata": {},
   "outputs": [
    {
     "data": {
      "text/plain": "False"
     },
     "execution_count": 29,
     "metadata": {},
     "output_type": "execute_result"
    }
   ],
   "source": [
    "filecmp.cmp(spw_files[98], spw_files[99], shallow=False)"
   ]
  },
  {
   "cell_type": "code",
   "execution_count": 30,
   "metadata": {},
   "outputs": [
    {
     "data": {
      "text/plain": "0    True\nName: RAW, dtype: bool"
     },
     "execution_count": 30,
     "metadata": {},
     "output_type": "execute_result"
    }
   ],
   "source": [
    "d1 = pd.read_csv(spw_files[98], sep=r' \\t ', header=None, names=['Time', 'RAW'])\n",
    "d2 = pd.read_csv(spw_files[99], sep=r' \\t ', header=None, names=['Time', 'RAW'])\n",
    "\n",
    "d1.RAW == d2.RAW"
   ]
  },
  {
   "cell_type": "code",
   "execution_count": 34,
   "metadata": {},
   "outputs": [
    {
     "data": {
      "text/plain": "0"
     },
     "execution_count": 34,
     "metadata": {},
     "output_type": "execute_result"
    }
   ],
   "source": [
    "spw_files[0].stat().st_size"
   ]
  },
  {
   "cell_type": "code",
   "execution_count": 38,
   "metadata": {},
   "outputs": [
    {
     "data": {
      "text/plain": "1239"
     },
     "execution_count": 38,
     "metadata": {},
     "output_type": "execute_result"
    }
   ],
   "source": [
    "del spw_files[0]\n",
    "len(spw_files)"
   ]
  },
  {
   "cell_type": "code",
   "execution_count": 6,
   "metadata": {},
   "outputs": [
    {
     "name": "stdout",
     "output_type": "stream",
     "text": "28\n34\n"
    }
   ],
   "source": [
    "lv_dir = Path(r\"C:\\Users\\ucasbwh\\Desktop\\20200205_135646_GeomCal\")\n",
    "bin_files = PC_Fns.Find_Files(lv_dir, \"*.bin\", Recursive=False)\n",
    "spw_files = PC_Fns.Find_Files(lv_dir / \"PROC\", \"*.pci_spw\")\n",
    "print(len(bin_files))\n",
    "print(len(spw_files))"
   ]
  },
  {
   "cell_type": "code",
   "execution_count": 11,
   "metadata": {},
   "outputs": [
    {
     "name": "stdout",
     "output_type": "stream",
     "text": "True\n"
    }
   ],
   "source": [
    "bin_len = bin_files[0].stat().st_size\n",
    "tmp_file = lv_dir / \"PROC\" / \"tmp_cmp.bin\"\n",
    "tmp = open(tmp_file, 'wb')\n",
    "\n",
    "#for curfile in spw_files:\n",
    "ref = spw_files[0]\n",
    "with open(ref, 'rb') as sf:\n",
    "    tmp.write(sf.read(bin_len))\n",
    "    print(filecmp.cmp(bin_files[0], tmp_file, shallow=False))\n",
    "    spw_files.remove(ref)\n",
    "\n",
    "    pci_raw_file = img_dir / (bin_files[0].stem + \"_repaired\" + ref.stem + \".pci_raw\")\n",
    "    copyfile(ref, pci_raw_file)\n",
    "    #create_repairedjson(pci_raw_file)"
   ]
  },
  {
   "cell_type": "code",
   "execution_count": 12,
   "metadata": {},
   "outputs": [],
   "source": [
    "tmp.close()"
   ]
  },
  {
   "cell_type": "code",
   "execution_count": 15,
   "metadata": {},
   "outputs": [
    {
     "name": "stdout",
     "output_type": "stream",
     "text": "[WindowsPath('C:/Users/ucasbwh/Desktop/ImageCompare/200205_102357_FS-L01_+153_501ms_repaired162.pci_raw')]\n"
    }
   ],
   "source": [
    "wkdir = Path(r\"C:\\Users\\ucasbwh\\Desktop\\ImageCompare\")\n",
    "raw_file = PC_Fns.Find_Files(wkdir, \"*_repaired*.pci_raw\")\n",
    "print(raw_file)"
   ]
  },
  {
   "cell_type": "code",
   "execution_count": 21,
   "metadata": {},
   "outputs": [
    {
     "ename": "FileNotFoundError",
     "evalue": "[Errno 2] No such file or directory: 'C:\\\\Users\\\\ucasbwh\\\\Desktop\\\\ImageCompare\\\\200205_102357_FS-L01_+153_501ms_repaired162.pci_raw'",
     "output_type": "error",
     "traceback": [
      "\u001b[1;31m---------------------------------------------------------------------------\u001b[0m",
      "\u001b[1;31mFileNotFoundError\u001b[0m                         Traceback (most recent call last)",
      "\u001b[1;32m<ipython-input-21-ce4ccab7f3ac>\u001b[0m in \u001b[0;36m<module>\u001b[1;34m\u001b[0m\n\u001b[1;32m----> 1\u001b[1;33m \u001b[1;32mwith\u001b[0m \u001b[0mopen\u001b[0m\u001b[1;33m(\u001b[0m\u001b[0mraw_file\u001b[0m\u001b[1;33m[\u001b[0m\u001b[1;36m0\u001b[0m\u001b[1;33m]\u001b[0m\u001b[1;33m,\u001b[0m \u001b[1;34m'rb'\u001b[0m\u001b[1;33m)\u001b[0m \u001b[1;32mas\u001b[0m \u001b[0mf\u001b[0m\u001b[1;33m:\u001b[0m\u001b[1;33m\u001b[0m\u001b[1;33m\u001b[0m\u001b[0m\n\u001b[0m\u001b[0;32m      2\u001b[0m     \u001b[0mimg_rawheader\u001b[0m \u001b[1;33m=\u001b[0m \u001b[0mf\u001b[0m\u001b[1;33m.\u001b[0m\u001b[0mread\u001b[0m\u001b[1;33m(\u001b[0m\u001b[1;36m48\u001b[0m\u001b[1;33m)\u001b[0m\u001b[1;33m\u001b[0m\u001b[1;33m\u001b[0m\u001b[0m\n\u001b[0;32m      3\u001b[0m     \u001b[0mraw_data\u001b[0m \u001b[1;33m=\u001b[0m \u001b[0mnp\u001b[0m\u001b[1;33m.\u001b[0m\u001b[0mfromfile\u001b[0m\u001b[1;33m(\u001b[0m\u001b[0mf\u001b[0m\u001b[1;33m,\u001b[0m \u001b[0mdtype\u001b[0m\u001b[1;33m=\u001b[0m\u001b[1;34m'>u2'\u001b[0m\u001b[1;33m)\u001b[0m\u001b[1;33m\u001b[0m\u001b[1;33m\u001b[0m\u001b[0m\n\u001b[0;32m      4\u001b[0m \u001b[1;33m\u001b[0m\u001b[0m\n\u001b[0;32m      5\u001b[0m     \u001b[0mimg\u001b[0m \u001b[1;33m=\u001b[0m \u001b[0mraw_data\u001b[0m\u001b[1;33m.\u001b[0m\u001b[0mreshape\u001b[0m\u001b[1;33m(\u001b[0m\u001b[1;36m1024\u001b[0m\u001b[1;33m,\u001b[0m\u001b[1;36m1024\u001b[0m\u001b[1;33m)\u001b[0m\u001b[1;33m\u001b[0m\u001b[1;33m\u001b[0m\u001b[0m\n",
      "\u001b[1;31mFileNotFoundError\u001b[0m: [Errno 2] No such file or directory: 'C:\\\\Users\\\\ucasbwh\\\\Desktop\\\\ImageCompare\\\\200205_102357_FS-L01_+153_501ms_repaired162.pci_raw'"
     ]
    }
   ],
   "source": [
    "with open(raw_file[0], 'rb') as f:\n",
    "    img_rawheader = f.read(48)\n",
    "    raw_data = np.fromfile(f, dtype='>u2')\n",
    "\n",
    "    img = raw_data.reshape(1024,1024)\n",
    "    Br_img = np.rot90(img, k=3)\n",
    "\n",
    "    write_filename = \"test.png\"\n",
    "    write_file = wkdir / write_filename\n",
    "\n",
    "    if write_file.exists():\n",
    "        write_file.unlink()\n",
    "    \n",
    "    imageio.imwrite(write_file, Br_img)"
   ]
  },
  {
   "cell_type": "code",
   "execution_count": 23,
   "metadata": {},
   "outputs": [
    {
     "data": {
      "text/html": "<div>\n<style scoped>\n    .dataframe tbody tr th:only-of-type {\n        vertical-align: middle;\n    }\n\n    .dataframe tbody tr th {\n        vertical-align: top;\n    }\n\n    .dataframe thead th {\n        text-align: right;\n    }\n</style>\n<table border=\"1\" class=\"dataframe\">\n  <thead>\n    <tr style=\"text-align: right;\">\n      <th></th>\n      <th>Time</th>\n      <th>RAW</th>\n      <th>Source</th>\n    </tr>\n  </thead>\n  <tbody>\n    <tr>\n      <th>0</th>\n      <td>2020-02-05\\t10:01:35.440</td>\n      <td>15 07 00 07 24 7F 03 CF 00 00 4D 00 07 18 04 8...</td>\n      <td>LabView</td>\n    </tr>\n    <tr>\n      <th>1</th>\n      <td>2020-02-05\\t10:01:36.440</td>\n      <td>15 07 00 07 24 80 03 CF 00 00 4D 00 07 17 04 8...</td>\n      <td>LabView</td>\n    </tr>\n    <tr>\n      <th>2</th>\n      <td>2020-02-05\\t10:01:37.441</td>\n      <td>15 07 00 07 24 81 03 CF 00 00 4D 00 07 18 04 8...</td>\n      <td>LabView</td>\n    </tr>\n    <tr>\n      <th>3</th>\n      <td>2020-02-05\\t10:01:38.439</td>\n      <td>15 07 00 07 24 82 03 CF 00 00 4D 00 07 18 04 8...</td>\n      <td>LabView</td>\n    </tr>\n    <tr>\n      <th>4</th>\n      <td>2020-02-05\\t10:01:39.441</td>\n      <td>15 07 00 07 24 83 03 CF 00 00 4D 00 07 17 04 8...</td>\n      <td>LabView</td>\n    </tr>\n  </tbody>\n</table>\n</div>",
      "text/plain": "                       Time  \\\n0  2020-02-05\\t10:01:35.440   \n1  2020-02-05\\t10:01:36.440   \n2  2020-02-05\\t10:01:37.441   \n3  2020-02-05\\t10:01:38.439   \n4  2020-02-05\\t10:01:39.441   \n\n                                                 RAW   Source  \n0  15 07 00 07 24 7F 03 CF 00 00 4D 00 07 18 04 8...  LabView  \n1  15 07 00 07 24 80 03 CF 00 00 4D 00 07 17 04 8...  LabView  \n2  15 07 00 07 24 81 03 CF 00 00 4D 00 07 18 04 8...  LabView  \n3  15 07 00 07 24 82 03 CF 00 00 4D 00 07 18 04 8...  LabView  \n4  15 07 00 07 24 83 03 CF 00 00 4D 00 07 17 04 8...  LabView  "
     },
     "execution_count": 23,
     "metadata": {},
     "output_type": "execute_result"
    }
   ],
   "source": [
    "wkdir = Path(r\"C:\\Users\\ucasbwh\\Desktop\\20200205_100115_GeomCal\\PROC\")\n",
    "file = \"Unproc_HKTM.pickle\"\n",
    "RTM = pd.read_pickle(wkdir / file)\n",
    "RTM.head()"
   ]
  },
  {
   "cell_type": "code",
   "execution_count": 27,
   "metadata": {},
   "outputs": [
    {
     "data": {
      "text/plain": "0    [21, 7, 0, 7, 36, 127, 3, 207, 0, 0, 77, 0, 7,...\n1    [21, 7, 0, 7, 36, 128, 3, 207, 0, 0, 77, 0, 7,...\n2    [21, 7, 0, 7, 36, 129, 3, 207, 0, 0, 77, 0, 7,...\n3    [21, 7, 0, 7, 36, 130, 3, 207, 0, 0, 77, 0, 7,...\n4    [21, 7, 0, 7, 36, 131, 3, 207, 0, 0, 77, 0, 7,...\nName: RAW, dtype: object"
     },
     "execution_count": 27,
     "metadata": {},
     "output_type": "execute_result"
    }
   ],
   "source": [
    "Bin = RTM['RAW'].apply(lambda x: bytearray.fromhex(x))\n",
    "TM = pd.DataFrame()\n",
    "Bin.head()"
   ]
  },
  {
   "cell_type": "code",
   "execution_count": 38,
   "metadata": {},
   "outputs": [
    {
     "data": {
      "text/html": "<div>\n<style scoped>\n    .dataframe tbody tr th:only-of-type {\n        vertical-align: middle;\n    }\n\n    .dataframe tbody tr th {\n        vertical-align: top;\n    }\n\n    .dataframe thead th {\n        text-align: right;\n    }\n</style>\n<table border=\"1\" class=\"dataframe\">\n  <thead>\n    <tr style=\"text-align: right;\">\n      <th></th>\n      <th>Stat_PIU_En</th>\n      <th>Stat_PIU_Pw</th>\n    </tr>\n  </thead>\n  <tbody>\n    <tr>\n      <th>40</th>\n      <td>3</td>\n      <td>0</td>\n    </tr>\n    <tr>\n      <th>41</th>\n      <td>3</td>\n      <td>0</td>\n    </tr>\n    <tr>\n      <th>42</th>\n      <td>3</td>\n      <td>0</td>\n    </tr>\n    <tr>\n      <th>43</th>\n      <td>3</td>\n      <td>0</td>\n    </tr>\n    <tr>\n      <th>44</th>\n      <td>3</td>\n      <td>0</td>\n    </tr>\n    <tr>\n      <th>45</th>\n      <td>3</td>\n      <td>0</td>\n    </tr>\n    <tr>\n      <th>46</th>\n      <td>3</td>\n      <td>0</td>\n    </tr>\n    <tr>\n      <th>47</th>\n      <td>3</td>\n      <td>0</td>\n    </tr>\n    <tr>\n      <th>48</th>\n      <td>3</td>\n      <td>0</td>\n    </tr>\n    <tr>\n      <th>49</th>\n      <td>3</td>\n      <td>3</td>\n    </tr>\n    <tr>\n      <th>50</th>\n      <td>3</td>\n      <td>3</td>\n    </tr>\n    <tr>\n      <th>51</th>\n      <td>3</td>\n      <td>3</td>\n    </tr>\n    <tr>\n      <th>52</th>\n      <td>3</td>\n      <td>3</td>\n    </tr>\n    <tr>\n      <th>53</th>\n      <td>3</td>\n      <td>3</td>\n    </tr>\n    <tr>\n      <th>54</th>\n      <td>3</td>\n      <td>3</td>\n    </tr>\n    <tr>\n      <th>55</th>\n      <td>3</td>\n      <td>3</td>\n    </tr>\n    <tr>\n      <th>56</th>\n      <td>3</td>\n      <td>3</td>\n    </tr>\n    <tr>\n      <th>57</th>\n      <td>3</td>\n      <td>3</td>\n    </tr>\n    <tr>\n      <th>58</th>\n      <td>3</td>\n      <td>3</td>\n    </tr>\n    <tr>\n      <th>59</th>\n      <td>3</td>\n      <td>3</td>\n    </tr>\n    <tr>\n      <th>60</th>\n      <td>3</td>\n      <td>3</td>\n    </tr>\n    <tr>\n      <th>61</th>\n      <td>3</td>\n      <td>3</td>\n    </tr>\n    <tr>\n      <th>62</th>\n      <td>3</td>\n      <td>3</td>\n    </tr>\n    <tr>\n      <th>63</th>\n      <td>3</td>\n      <td>3</td>\n    </tr>\n    <tr>\n      <th>64</th>\n      <td>3</td>\n      <td>3</td>\n    </tr>\n    <tr>\n      <th>65</th>\n      <td>3</td>\n      <td>3</td>\n    </tr>\n    <tr>\n      <th>66</th>\n      <td>3</td>\n      <td>3</td>\n    </tr>\n    <tr>\n      <th>67</th>\n      <td>3</td>\n      <td>3</td>\n    </tr>\n    <tr>\n      <th>68</th>\n      <td>3</td>\n      <td>3</td>\n    </tr>\n    <tr>\n      <th>69</th>\n      <td>3</td>\n      <td>3</td>\n    </tr>\n    <tr>\n      <th>70</th>\n      <td>3</td>\n      <td>3</td>\n    </tr>\n    <tr>\n      <th>71</th>\n      <td>3</td>\n      <td>3</td>\n    </tr>\n    <tr>\n      <th>72</th>\n      <td>3</td>\n      <td>3</td>\n    </tr>\n    <tr>\n      <th>73</th>\n      <td>3</td>\n      <td>3</td>\n    </tr>\n    <tr>\n      <th>74</th>\n      <td>3</td>\n      <td>3</td>\n    </tr>\n    <tr>\n      <th>75</th>\n      <td>3</td>\n      <td>3</td>\n    </tr>\n    <tr>\n      <th>76</th>\n      <td>3</td>\n      <td>3</td>\n    </tr>\n    <tr>\n      <th>77</th>\n      <td>3</td>\n      <td>3</td>\n    </tr>\n    <tr>\n      <th>78</th>\n      <td>3</td>\n      <td>3</td>\n    </tr>\n    <tr>\n      <th>79</th>\n      <td>3</td>\n      <td>3</td>\n    </tr>\n    <tr>\n      <th>80</th>\n      <td>3</td>\n      <td>3</td>\n    </tr>\n    <tr>\n      <th>81</th>\n      <td>3</td>\n      <td>3</td>\n    </tr>\n    <tr>\n      <th>82</th>\n      <td>3</td>\n      <td>3</td>\n    </tr>\n    <tr>\n      <th>83</th>\n      <td>3</td>\n      <td>3</td>\n    </tr>\n    <tr>\n      <th>84</th>\n      <td>3</td>\n      <td>3</td>\n    </tr>\n    <tr>\n      <th>85</th>\n      <td>3</td>\n      <td>3</td>\n    </tr>\n    <tr>\n      <th>86</th>\n      <td>3</td>\n      <td>3</td>\n    </tr>\n    <tr>\n      <th>87</th>\n      <td>3</td>\n      <td>3</td>\n    </tr>\n    <tr>\n      <th>88</th>\n      <td>3</td>\n      <td>3</td>\n    </tr>\n    <tr>\n      <th>89</th>\n      <td>3</td>\n      <td>3</td>\n    </tr>\n  </tbody>\n</table>\n</div>",
      "text/plain": "    Stat_PIU_En  Stat_PIU_Pw\n40            3            0\n41            3            0\n42            3            0\n43            3            0\n44            3            0\n45            3            0\n46            3            0\n47            3            0\n48            3            0\n49            3            3\n50            3            3\n51            3            3\n52            3            3\n53            3            3\n54            3            3\n55            3            3\n56            3            3\n57            3            3\n58            3            3\n59            3            3\n60            3            3\n61            3            3\n62            3            3\n63            3            3\n64            3            3\n65            3            3\n66            3            3\n67            3            3\n68            3            3\n69            3            3\n70            3            3\n71            3            3\n72            3            3\n73            3            3\n74            3            3\n75            3            3\n76            3            3\n77            3            3\n78            3            3\n79            3            3\n80            3            3\n81            3            3\n82            3            3\n83            3            3\n84            3            3\n85            3            3\n86            3            3\n87            3            3\n88            3            3\n89            3            3"
     },
     "execution_count": 38,
     "metadata": {},
     "output_type": "execute_result"
    }
   ],
   "source": [
    "from PC_Fns import PandUPF\n",
    "\n",
    "# Byte 42-43 PIU Cam Status                          #From PAN_TM_PIU_HKN_PCS and PAN_TM_PIU_HK_PCS\n",
    "# PAN_TM_PIU_HKN_PCS_CE / PAN_TM_PIU_HK_PCS_CE\n",
    "TM['Stat_PIU_En'] = PandUPF(Bin, 'u8', 42, 0)\n",
    "# PAN_TM_PIU_HKN_PCS_PSS / PAN_TM_PIU_HK_PCS_PSS\n",
    "TM['Stat_PIU_Pw'] = PandUPF(Bin, 'u8', 43, 0)\n",
    "TM[40:].head(50)"
   ]
  },
  {
   "cell_type": "code",
   "execution_count": 61,
   "metadata": {},
   "outputs": [
    {
     "data": {
      "text/plain": "40    [0, 0, 0, 0, 0, 0, 0, 0, 0, 0, 0, 0, 0, 0, 0, ...\n41    [0, 0, 0, 0, 0, 0, 0, 0, 0, 0, 0, 0, 0, 0, 0, ...\n42    [0, 0, 0, 0, 0, 0, 0, 0, 0, 0, 0, 0, 0, 0, 0, ...\n43    [0, 0, 0, 0, 0, 0, 0, 0, 0, 0, 0, 0, 0, 0, 0, ...\n44    [0, 0, 0, 0, 0, 0, 0, 0, 0, 0, 0, 0, 0, 0, 0, ...\n45    [0, 0, 0, 0, 0, 0, 0, 0, 0, 0, 0, 0, 0, 0, 0, ...\n46    [0, 0, 0, 0, 0, 0, 0, 0, 0, 0, 0, 0, 0, 0, 0, ...\n47    [0, 0, 0, 0, 0, 0, 0, 0, 0, 0, 0, 0, 0, 0, 0, ...\n48    [0, 0, 0, 0, 0, 0, 0, 0, 0, 0, 0, 0, 0, 0, 0, ...\n49    [0, 0, 0, 0, 0, 0, 0, 0, 0, 0, 0, 0, 0, 0, 0, ...\n50    [0, 0, 0, 0, 0, 0, 0, 0, 0, 0, 0, 0, 0, 0, 0, ...\n51    [0, 0, 0, 0, 0, 0, 0, 0, 0, 0, 0, 0, 0, 0, 0, ...\n52    [0, 0, 0, 0, 0, 0, 0, 0, 0, 0, 0, 0, 0, 0, 0, ...\n53    [0, 0, 0, 0, 0, 0, 0, 0, 0, 0, 0, 0, 0, 0, 0, ...\n54    [0, 0, 0, 0, 0, 0, 0, 0, 0, 0, 0, 0, 0, 0, 0, ...\n55    [0, 0, 0, 0, 0, 0, 0, 0, 0, 0, 0, 0, 0, 0, 0, ...\n56    [0, 0, 0, 0, 0, 0, 0, 0, 0, 0, 0, 0, 0, 0, 0, ...\n57    [0, 0, 0, 0, 0, 0, 0, 0, 0, 0, 0, 0, 0, 0, 0, ...\n58    [0, 0, 0, 0, 0, 0, 0, 0, 0, 0, 0, 0, 0, 0, 0, ...\n59    [0, 0, 0, 0, 0, 0, 0, 0, 0, 0, 0, 0, 0, 0, 0, ...\n60    [0, 0, 0, 0, 0, 0, 0, 0, 0, 0, 0, 0, 0, 0, 0, ...\n61    [0, 0, 0, 0, 0, 0, 0, 0, 0, 0, 0, 0, 0, 0, 0, ...\n62    [0, 0, 0, 0, 0, 0, 0, 0, 0, 0, 0, 0, 0, 0, 0, ...\n63    [0, 0, 0, 0, 0, 0, 0, 0, 0, 0, 0, 0, 0, 0, 0, ...\n64    [0, 0, 0, 0, 0, 0, 0, 0, 0, 0, 0, 0, 0, 0, 0, ...\n65    [0, 0, 0, 0, 0, 0, 0, 0, 0, 0, 0, 0, 0, 0, 0, ...\n66    [0, 0, 0, 0, 0, 0, 0, 0, 0, 0, 0, 0, 0, 0, 0, ...\n67    [0, 0, 0, 0, 0, 0, 0, 0, 0, 0, 0, 0, 0, 0, 0, ...\n68    [0, 0, 0, 0, 0, 0, 0, 0, 0, 0, 0, 0, 0, 0, 0, ...\n69    [0, 0, 0, 0, 0, 0, 0, 0, 0, 0, 0, 0, 0, 0, 0, ...\n70    [0, 0, 0, 0, 0, 0, 0, 0, 0, 0, 0, 0, 0, 0, 0, ...\n71    [0, 0, 0, 0, 0, 0, 0, 0, 0, 0, 0, 0, 0, 0, 0, ...\n72    [0, 0, 0, 0, 0, 0, 0, 0, 0, 0, 0, 0, 0, 0, 0, ...\n73    [0, 0, 0, 0, 0, 0, 0, 0, 0, 0, 0, 0, 0, 0, 0, ...\n74    [0, 0, 0, 0, 0, 0, 0, 0, 0, 0, 0, 0, 0, 0, 0, ...\n75    [6, 0, 0, 0, 0, 0, 0, 6, 0, 0, 0, 0, 0, 0, 0, ...\n76    [6, 0, 0, 0, 0, 0, 0, 6, 0, 0, 0, 0, 0, 0, 0, ...\n77    [6, 0, 0, 0, 0, 0, 0, 6, 0, 0, 0, 0, 0, 0, 0, ...\n78    [6, 0, 0, 0, 0, 0, 0, 6, 0, 0, 0, 0, 0, 0, 0, ...\n79    [6, 0, 0, 0, 0, 0, 0, 6, 0, 0, 0, 0, 0, 0, 0, ...\n80    [6, 0, 0, 0, 0, 0, 0, 6, 0, 0, 0, 0, 0, 0, 0, ...\n81    [6, 0, 0, 0, 0, 0, 0, 6, 0, 0, 0, 0, 0, 0, 0, ...\n82    [6, 0, 0, 0, 0, 0, 0, 6, 0, 0, 0, 0, 0, 0, 0, ...\n83    [6, 0, 0, 0, 0, 0, 0, 6, 0, 0, 0, 0, 0, 0, 0, ...\n84    [15, 0, 0, 0, 0, 0, 0, 15, 0, 0, 0, 0, 0, 0, 0...\n85    [15, 0, 0, 0, 0, 0, 0, 15, 0, 0, 0, 0, 0, 0, 0...\n86    [15, 0, 0, 0, 0, 0, 0, 15, 0, 0, 0, 0, 0, 0, 0...\n87    [3, 87, 143, 191, 249, 0, 0, 2, 0, 0, 0, 0, 0,...\n88    [3, 87, 143, 191, 249, 0, 0, 2, 0, 0, 0, 0, 0,...\n89    [3, 99, 143, 191, 249, 0, 0, 2, 0, 0, 0, 0, 0,...\nName: RAW, dtype: object"
     },
     "execution_count": 61,
     "metadata": {},
     "output_type": "execute_result"
    }
   ],
   "source": [
    "# First get CamRes\n",
    "CamRes = Bin.apply(lambda x: x[44:64])\n",
    "CamRes[40:].head(50)"
   ]
  },
  {
   "cell_type": "code",
   "execution_count": 111,
   "metadata": {},
   "outputs": [
    {
     "data": {
      "text/plain": "0     False\n1     False\n2     False\n3     False\n4     False\n5     False\n6     False\n7     False\n8     False\n9     False\n10    False\n11    False\n12    False\n13    False\n14    False\n15    False\n16    False\n17    False\n18    False\n19    False\n20    False\n21    False\n22    False\n23    False\n24    False\n25    False\n26    False\n27    False\n28    False\n29    False\n30    False\n31    False\n32    False\n33    False\n34    False\n35    False\n36    False\n37    False\n38    False\n39    False\n40    False\n41    False\n42    False\n43    False\n44    False\n45    False\n46    False\n47    False\n48    False\n49    False\n50    False\n51    False\n52    False\n53    False\n54    False\n55    False\n56    False\n57    False\n58    False\n59    False\nName: RAW, dtype: bool"
     },
     "execution_count": 111,
     "metadata": {},
     "output_type": "execute_result"
    }
   ],
   "source": [
    "# Determine if CamRes changed\n",
    "camres_chg = CamRes != CamRes.shift(1)\n",
    "camres_chg[0] = False\n",
    "camres_chg.head(60)"
   ]
  },
  {
   "cell_type": "code",
   "execution_count": 117,
   "metadata": {},
   "outputs": [
    {
     "data": {
      "text/plain": "75     [53, 3, 0, 7, 36, 202, 3, 207, 0, 0, 61, 0, 7,...\n84     [53, 3, 0, 7, 36, 211, 3, 207, 0, 0, 61, 0, 7,...\n87     [53, 3, 0, 7, 36, 214, 3, 207, 0, 0, 61, 0, 7,...\n89     [53, 3, 0, 7, 36, 216, 3, 207, 0, 0, 61, 0, 7,...\n93     [53, 3, 0, 7, 36, 220, 3, 207, 0, 0, 61, 0, 7,...\n97     [53, 3, 0, 7, 36, 224, 3, 207, 0, 0, 61, 0, 7,...\n101    [53, 3, 0, 7, 36, 228, 3, 207, 0, 0, 61, 0, 7,...\n102    [53, 3, 0, 7, 36, 229, 3, 207, 0, 0, 61, 0, 7,...\n105    [53, 3, 0, 7, 36, 232, 3, 207, 0, 0, 61, 0, 7,...\n110    [53, 3, 0, 7, 36, 237, 3, 207, 0, 0, 61, 0, 7,...\n114    [53, 3, 0, 7, 36, 241, 3, 207, 0, 0, 61, 0, 7,...\n118    [53, 3, 0, 7, 36, 245, 3, 207, 0, 0, 61, 0, 7,...\n120    [53, 3, 0, 7, 36, 247, 3, 207, 0, 0, 61, 0, 7,...\n121    [53, 3, 0, 7, 36, 248, 3, 207, 0, 0, 61, 0, 7,...\n122    [53, 3, 0, 7, 36, 249, 3, 207, 0, 0, 61, 0, 7,...\n123    [53, 3, 0, 7, 36, 250, 3, 207, 0, 0, 61, 0, 7,...\n124    [53, 3, 0, 7, 36, 251, 3, 207, 0, 0, 61, 0, 7,...\n125    [53, 3, 0, 7, 36, 252, 3, 207, 0, 0, 61, 0, 7,...\n126    [53, 3, 0, 7, 36, 253, 3, 207, 0, 0, 61, 0, 7,...\n127    [53, 3, 0, 7, 36, 254, 3, 207, 0, 0, 61, 0, 7,...\nName: RAW, dtype: object"
     },
     "execution_count": 117,
     "metadata": {},
     "output_type": "execute_result"
    }
   ],
   "source": [
    "# HRC Data is when CamRes has changed and Powered Cam is 3\n",
    "HRCBin = Bin[camres_chg & (TM['Stat_PIU_Pw'] == 3)]\n",
    "HRCBin.head(20)"
   ]
  },
  {
   "cell_type": "code",
   "execution_count": 119,
   "metadata": {},
   "outputs": [
    {
     "data": {
      "text/plain": "262    [53, 3, 0, 7, 37, 133, 3, 207, 0, 0, 61, 0, 7,...\n266    [53, 3, 0, 7, 37, 137, 3, 207, 0, 0, 61, 0, 7,...\n278    [53, 3, 0, 7, 37, 149, 3, 207, 0, 0, 61, 0, 7,...\n310    [53, 3, 0, 7, 37, 181, 3, 207, 0, 0, 61, 0, 7,...\n314    [53, 3, 0, 7, 37, 185, 3, 207, 0, 0, 61, 0, 7,...\n328    [53, 3, 0, 7, 37, 199, 3, 207, 0, 0, 61, 0, 7,...\n385    [53, 3, 0, 7, 38, 0, 3, 207, 0, 0, 61, 0, 7, 2...\n388    [53, 3, 0, 7, 38, 3, 3, 207, 0, 0, 61, 0, 7, 2...\n394    [53, 3, 0, 7, 38, 9, 3, 207, 0, 0, 61, 0, 7, 2...\n423    [53, 3, 0, 7, 38, 38, 3, 207, 0, 0, 61, 0, 7, ...\n458    [53, 3, 0, 7, 38, 73, 3, 207, 0, 0, 61, 0, 7, ...\n459    [53, 3, 0, 7, 38, 74, 3, 207, 0, 0, 61, 0, 7, ...\n464    [53, 3, 0, 7, 38, 79, 3, 207, 0, 0, 61, 0, 7, ...\n478    [53, 3, 0, 7, 38, 93, 3, 207, 0, 0, 61, 0, 7, ...\n480    [53, 3, 0, 7, 38, 95, 3, 207, 0, 0, 61, 0, 7, ...\n484    [53, 3, 0, 7, 38, 99, 3, 207, 0, 0, 61, 0, 7, ...\n517    [53, 3, 0, 7, 38, 132, 3, 207, 0, 0, 61, 0, 7,...\n520    [53, 3, 0, 7, 38, 135, 3, 207, 0, 0, 61, 0, 7,...\n557    [53, 3, 0, 7, 38, 172, 3, 207, 0, 0, 61, 0, 7,...\n558    [53, 3, 0, 7, 38, 173, 3, 207, 0, 0, 61, 0, 7,...\nName: RAW, dtype: object"
     },
     "execution_count": 119,
     "metadata": {},
     "output_type": "execute_result"
    }
   ],
   "source": [
    "# WAC Data is when CamRes has changed and Powered Cam is 1 or 2\n",
    "WACBin = Bin[camres_chg & (TM['Stat_PIU_Pw'].between(1,2))]\n",
    "WACBin.head(20)"
   ]
  },
  {
   "cell_type": "code",
   "execution_count": 123,
   "metadata": {},
   "outputs": [
    {
     "data": {
      "text/plain": "True"
     },
     "execution_count": 123,
     "metadata": {},
     "output_type": "execute_result"
    }
   ],
   "source": [
    "# Verify Null Bin is empty\n",
    "NulBin = Bin[camres_chg & (TM['Stat_PIU_Pw']==0)]\n",
    "NulBin.shape[0] == 0\n"
   ]
  },
  {
   "cell_type": "code",
   "execution_count": 135,
   "metadata": {},
   "outputs": [
    {
     "data": {
      "text/plain": "True"
     },
     "execution_count": 135,
     "metadata": {},
     "output_type": "execute_result"
    }
   ],
   "source": [
    "# Verify that there is no overlap between WACBin and HRCBin\n",
    "\n",
    "result = WACBin.to_frame().join(HRCBin.to_frame(), lsuffix='WAC', rsuffix='HRC', how='inner')\n",
    "result.shape[0] == 0"
   ]
  },
  {
   "cell_type": "markdown",
   "metadata": {},
   "source": []
  },
  {
   "cell_type": "code",
   "execution_count": 17,
   "metadata": {},
   "outputs": [],
   "source": [
    "wkdir = Path(r\"C:\\Users\\ucasbwh\\Desktop\\20200205_100115_GeomCal\")"
   ]
  },
  {
   "cell_type": "code",
   "execution_count": 18,
   "metadata": {},
   "outputs": [
    {
     "ename": "KeyboardInterrupt",
     "evalue": "",
     "output_type": "error",
     "traceback": [
      "\u001b[1;31m---------------------------------------------------------------------------\u001b[0m",
      "\u001b[1;31mKeyboardInterrupt\u001b[0m                         Traceback (most recent call last)",
      "\u001b[1;32m<ipython-input-18-c145e9d89c46>\u001b[0m in \u001b[0;36m<module>\u001b[1;34m\u001b[0m\n\u001b[0;32m      1\u001b[0m \u001b[0marchive_name\u001b[0m \u001b[1;33m=\u001b[0m \u001b[0mwkdir\u001b[0m \u001b[1;33m/\u001b[0m \u001b[1;34m\"ARCHIVE\"\u001b[0m\u001b[1;33m\u001b[0m\u001b[1;33m\u001b[0m\u001b[0m\n\u001b[0;32m      2\u001b[0m \u001b[0mtarget\u001b[0m \u001b[1;33m=\u001b[0m \u001b[0mwkdir\u001b[0m \u001b[1;33m/\u001b[0m \u001b[1;34m\"ARCHIVE\"\u001b[0m\u001b[1;33m\u001b[0m\u001b[1;33m\u001b[0m\u001b[0m\n\u001b[1;32m----> 3\u001b[1;33m \u001b[0mshutil\u001b[0m\u001b[1;33m.\u001b[0m\u001b[0mmake_archive\u001b[0m\u001b[1;33m(\u001b[0m\u001b[0marchive_name\u001b[0m\u001b[1;33m,\u001b[0m \u001b[1;34m'gztar'\u001b[0m\u001b[1;33m,\u001b[0m \u001b[0mtarget\u001b[0m\u001b[1;33m)\u001b[0m\u001b[1;33m\u001b[0m\u001b[1;33m\u001b[0m\u001b[0m\n\u001b[0m",
      "\u001b[1;32m~\\.conda\\envs\\Processor\\lib\\shutil.py\u001b[0m in \u001b[0;36mmake_archive\u001b[1;34m(base_name, format, root_dir, base_dir, verbose, dry_run, owner, group, logger)\u001b[0m\n\u001b[0;32m    820\u001b[0m \u001b[1;33m\u001b[0m\u001b[0m\n\u001b[0;32m    821\u001b[0m     \u001b[1;32mtry\u001b[0m\u001b[1;33m:\u001b[0m\u001b[1;33m\u001b[0m\u001b[1;33m\u001b[0m\u001b[0m\n\u001b[1;32m--> 822\u001b[1;33m         \u001b[0mfilename\u001b[0m \u001b[1;33m=\u001b[0m \u001b[0mfunc\u001b[0m\u001b[1;33m(\u001b[0m\u001b[0mbase_name\u001b[0m\u001b[1;33m,\u001b[0m \u001b[0mbase_dir\u001b[0m\u001b[1;33m,\u001b[0m \u001b[1;33m**\u001b[0m\u001b[0mkwargs\u001b[0m\u001b[1;33m)\u001b[0m\u001b[1;33m\u001b[0m\u001b[1;33m\u001b[0m\u001b[0m\n\u001b[0m\u001b[0;32m    823\u001b[0m     \u001b[1;32mfinally\u001b[0m\u001b[1;33m:\u001b[0m\u001b[1;33m\u001b[0m\u001b[1;33m\u001b[0m\u001b[0m\n\u001b[0;32m    824\u001b[0m         \u001b[1;32mif\u001b[0m \u001b[0mroot_dir\u001b[0m \u001b[1;32mis\u001b[0m \u001b[1;32mnot\u001b[0m \u001b[1;32mNone\u001b[0m\u001b[1;33m:\u001b[0m\u001b[1;33m\u001b[0m\u001b[1;33m\u001b[0m\u001b[0m\n",
      "\u001b[1;32m~\\.conda\\envs\\Processor\\lib\\shutil.py\u001b[0m in \u001b[0;36m_make_tarball\u001b[1;34m(base_name, base_dir, compress, verbose, dry_run, owner, group, logger)\u001b[0m\n\u001b[0;32m    674\u001b[0m         \u001b[0mtar\u001b[0m \u001b[1;33m=\u001b[0m \u001b[0mtarfile\u001b[0m\u001b[1;33m.\u001b[0m\u001b[0mopen\u001b[0m\u001b[1;33m(\u001b[0m\u001b[0marchive_name\u001b[0m\u001b[1;33m,\u001b[0m \u001b[1;34m'w|%s'\u001b[0m \u001b[1;33m%\u001b[0m \u001b[0mtar_compression\u001b[0m\u001b[1;33m)\u001b[0m\u001b[1;33m\u001b[0m\u001b[1;33m\u001b[0m\u001b[0m\n\u001b[0;32m    675\u001b[0m         \u001b[1;32mtry\u001b[0m\u001b[1;33m:\u001b[0m\u001b[1;33m\u001b[0m\u001b[1;33m\u001b[0m\u001b[0m\n\u001b[1;32m--> 676\u001b[1;33m             \u001b[0mtar\u001b[0m\u001b[1;33m.\u001b[0m\u001b[0madd\u001b[0m\u001b[1;33m(\u001b[0m\u001b[0mbase_dir\u001b[0m\u001b[1;33m,\u001b[0m \u001b[0mfilter\u001b[0m\u001b[1;33m=\u001b[0m\u001b[0m_set_uid_gid\u001b[0m\u001b[1;33m)\u001b[0m\u001b[1;33m\u001b[0m\u001b[1;33m\u001b[0m\u001b[0m\n\u001b[0m\u001b[0;32m    677\u001b[0m         \u001b[1;32mfinally\u001b[0m\u001b[1;33m:\u001b[0m\u001b[1;33m\u001b[0m\u001b[1;33m\u001b[0m\u001b[0m\n\u001b[0;32m    678\u001b[0m             \u001b[0mtar\u001b[0m\u001b[1;33m.\u001b[0m\u001b[0mclose\u001b[0m\u001b[1;33m(\u001b[0m\u001b[1;33m)\u001b[0m\u001b[1;33m\u001b[0m\u001b[1;33m\u001b[0m\u001b[0m\n",
      "\u001b[1;32m~\\.conda\\envs\\Processor\\lib\\tarfile.py\u001b[0m in \u001b[0;36madd\u001b[1;34m(self, name, arcname, recursive, filter)\u001b[0m\n\u001b[0;32m   1949\u001b[0m                 \u001b[1;32mfor\u001b[0m \u001b[0mf\u001b[0m \u001b[1;32min\u001b[0m \u001b[0msorted\u001b[0m\u001b[1;33m(\u001b[0m\u001b[0mos\u001b[0m\u001b[1;33m.\u001b[0m\u001b[0mlistdir\u001b[0m\u001b[1;33m(\u001b[0m\u001b[0mname\u001b[0m\u001b[1;33m)\u001b[0m\u001b[1;33m)\u001b[0m\u001b[1;33m:\u001b[0m\u001b[1;33m\u001b[0m\u001b[1;33m\u001b[0m\u001b[0m\n\u001b[0;32m   1950\u001b[0m                     self.add(os.path.join(name, f), os.path.join(arcname, f),\n\u001b[1;32m-> 1951\u001b[1;33m                             recursive, filter=filter)\n\u001b[0m\u001b[0;32m   1952\u001b[0m \u001b[1;33m\u001b[0m\u001b[0m\n\u001b[0;32m   1953\u001b[0m         \u001b[1;32melse\u001b[0m\u001b[1;33m:\u001b[0m\u001b[1;33m\u001b[0m\u001b[1;33m\u001b[0m\u001b[0m\n",
      "\u001b[1;32m~\\.conda\\envs\\Processor\\lib\\tarfile.py\u001b[0m in \u001b[0;36madd\u001b[1;34m(self, name, arcname, recursive, filter)\u001b[0m\n\u001b[0;32m   1949\u001b[0m                 \u001b[1;32mfor\u001b[0m \u001b[0mf\u001b[0m \u001b[1;32min\u001b[0m \u001b[0msorted\u001b[0m\u001b[1;33m(\u001b[0m\u001b[0mos\u001b[0m\u001b[1;33m.\u001b[0m\u001b[0mlistdir\u001b[0m\u001b[1;33m(\u001b[0m\u001b[0mname\u001b[0m\u001b[1;33m)\u001b[0m\u001b[1;33m)\u001b[0m\u001b[1;33m:\u001b[0m\u001b[1;33m\u001b[0m\u001b[1;33m\u001b[0m\u001b[0m\n\u001b[0;32m   1950\u001b[0m                     self.add(os.path.join(name, f), os.path.join(arcname, f),\n\u001b[1;32m-> 1951\u001b[1;33m                             recursive, filter=filter)\n\u001b[0m\u001b[0;32m   1952\u001b[0m \u001b[1;33m\u001b[0m\u001b[0m\n\u001b[0;32m   1953\u001b[0m         \u001b[1;32melse\u001b[0m\u001b[1;33m:\u001b[0m\u001b[1;33m\u001b[0m\u001b[1;33m\u001b[0m\u001b[0m\n",
      "\u001b[1;32m~\\.conda\\envs\\Processor\\lib\\tarfile.py\u001b[0m in \u001b[0;36madd\u001b[1;34m(self, name, arcname, recursive, filter)\u001b[0m\n\u001b[0;32m   1942\u001b[0m         \u001b[1;32mif\u001b[0m \u001b[0mtarinfo\u001b[0m\u001b[1;33m.\u001b[0m\u001b[0misreg\u001b[0m\u001b[1;33m(\u001b[0m\u001b[1;33m)\u001b[0m\u001b[1;33m:\u001b[0m\u001b[1;33m\u001b[0m\u001b[1;33m\u001b[0m\u001b[0m\n\u001b[0;32m   1943\u001b[0m             \u001b[1;32mwith\u001b[0m \u001b[0mbltn_open\u001b[0m\u001b[1;33m(\u001b[0m\u001b[0mname\u001b[0m\u001b[1;33m,\u001b[0m \u001b[1;34m\"rb\"\u001b[0m\u001b[1;33m)\u001b[0m \u001b[1;32mas\u001b[0m \u001b[0mf\u001b[0m\u001b[1;33m:\u001b[0m\u001b[1;33m\u001b[0m\u001b[1;33m\u001b[0m\u001b[0m\n\u001b[1;32m-> 1944\u001b[1;33m                 \u001b[0mself\u001b[0m\u001b[1;33m.\u001b[0m\u001b[0maddfile\u001b[0m\u001b[1;33m(\u001b[0m\u001b[0mtarinfo\u001b[0m\u001b[1;33m,\u001b[0m \u001b[0mf\u001b[0m\u001b[1;33m)\u001b[0m\u001b[1;33m\u001b[0m\u001b[1;33m\u001b[0m\u001b[0m\n\u001b[0m\u001b[0;32m   1945\u001b[0m \u001b[1;33m\u001b[0m\u001b[0m\n\u001b[0;32m   1946\u001b[0m         \u001b[1;32melif\u001b[0m \u001b[0mtarinfo\u001b[0m\u001b[1;33m.\u001b[0m\u001b[0misdir\u001b[0m\u001b[1;33m(\u001b[0m\u001b[1;33m)\u001b[0m\u001b[1;33m:\u001b[0m\u001b[1;33m\u001b[0m\u001b[1;33m\u001b[0m\u001b[0m\n",
      "\u001b[1;32m~\\.conda\\envs\\Processor\\lib\\tarfile.py\u001b[0m in \u001b[0;36maddfile\u001b[1;34m(self, tarinfo, fileobj)\u001b[0m\n\u001b[0;32m   1970\u001b[0m         \u001b[1;31m# If there's data to follow, append it.\u001b[0m\u001b[1;33m\u001b[0m\u001b[1;33m\u001b[0m\u001b[1;33m\u001b[0m\u001b[0m\n\u001b[0;32m   1971\u001b[0m         \u001b[1;32mif\u001b[0m \u001b[0mfileobj\u001b[0m \u001b[1;32mis\u001b[0m \u001b[1;32mnot\u001b[0m \u001b[1;32mNone\u001b[0m\u001b[1;33m:\u001b[0m\u001b[1;33m\u001b[0m\u001b[1;33m\u001b[0m\u001b[0m\n\u001b[1;32m-> 1972\u001b[1;33m             \u001b[0mcopyfileobj\u001b[0m\u001b[1;33m(\u001b[0m\u001b[0mfileobj\u001b[0m\u001b[1;33m,\u001b[0m \u001b[0mself\u001b[0m\u001b[1;33m.\u001b[0m\u001b[0mfileobj\u001b[0m\u001b[1;33m,\u001b[0m \u001b[0mtarinfo\u001b[0m\u001b[1;33m.\u001b[0m\u001b[0msize\u001b[0m\u001b[1;33m,\u001b[0m \u001b[0mbufsize\u001b[0m\u001b[1;33m=\u001b[0m\u001b[0mbufsize\u001b[0m\u001b[1;33m)\u001b[0m\u001b[1;33m\u001b[0m\u001b[1;33m\u001b[0m\u001b[0m\n\u001b[0m\u001b[0;32m   1973\u001b[0m             \u001b[0mblocks\u001b[0m\u001b[1;33m,\u001b[0m \u001b[0mremainder\u001b[0m \u001b[1;33m=\u001b[0m \u001b[0mdivmod\u001b[0m\u001b[1;33m(\u001b[0m\u001b[0mtarinfo\u001b[0m\u001b[1;33m.\u001b[0m\u001b[0msize\u001b[0m\u001b[1;33m,\u001b[0m \u001b[0mBLOCKSIZE\u001b[0m\u001b[1;33m)\u001b[0m\u001b[1;33m\u001b[0m\u001b[1;33m\u001b[0m\u001b[0m\n\u001b[0;32m   1974\u001b[0m             \u001b[1;32mif\u001b[0m \u001b[0mremainder\u001b[0m \u001b[1;33m>\u001b[0m \u001b[1;36m0\u001b[0m\u001b[1;33m:\u001b[0m\u001b[1;33m\u001b[0m\u001b[1;33m\u001b[0m\u001b[0m\n",
      "\u001b[1;32m~\\.conda\\envs\\Processor\\lib\\tarfile.py\u001b[0m in \u001b[0;36mcopyfileobj\u001b[1;34m(src, dst, length, exception, bufsize)\u001b[0m\n\u001b[0;32m    248\u001b[0m         \u001b[1;32mif\u001b[0m \u001b[0mlen\u001b[0m\u001b[1;33m(\u001b[0m\u001b[0mbuf\u001b[0m\u001b[1;33m)\u001b[0m \u001b[1;33m<\u001b[0m \u001b[0mbufsize\u001b[0m\u001b[1;33m:\u001b[0m\u001b[1;33m\u001b[0m\u001b[1;33m\u001b[0m\u001b[0m\n\u001b[0;32m    249\u001b[0m             \u001b[1;32mraise\u001b[0m \u001b[0mexception\u001b[0m\u001b[1;33m(\u001b[0m\u001b[1;34m\"unexpected end of data\"\u001b[0m\u001b[1;33m)\u001b[0m\u001b[1;33m\u001b[0m\u001b[1;33m\u001b[0m\u001b[0m\n\u001b[1;32m--> 250\u001b[1;33m         \u001b[0mdst\u001b[0m\u001b[1;33m.\u001b[0m\u001b[0mwrite\u001b[0m\u001b[1;33m(\u001b[0m\u001b[0mbuf\u001b[0m\u001b[1;33m)\u001b[0m\u001b[1;33m\u001b[0m\u001b[1;33m\u001b[0m\u001b[0m\n\u001b[0m\u001b[0;32m    251\u001b[0m \u001b[1;33m\u001b[0m\u001b[0m\n\u001b[0;32m    252\u001b[0m     \u001b[1;32mif\u001b[0m \u001b[0mremainder\u001b[0m \u001b[1;33m!=\u001b[0m \u001b[1;36m0\u001b[0m\u001b[1;33m:\u001b[0m\u001b[1;33m\u001b[0m\u001b[1;33m\u001b[0m\u001b[0m\n",
      "\u001b[1;32m~\\.conda\\envs\\Processor\\lib\\tarfile.py\u001b[0m in \u001b[0;36mwrite\u001b[1;34m(self, s)\u001b[0m\n\u001b[0;32m    438\u001b[0m         \u001b[0mself\u001b[0m\u001b[1;33m.\u001b[0m\u001b[0mpos\u001b[0m \u001b[1;33m+=\u001b[0m \u001b[0mlen\u001b[0m\u001b[1;33m(\u001b[0m\u001b[0ms\u001b[0m\u001b[1;33m)\u001b[0m\u001b[1;33m\u001b[0m\u001b[1;33m\u001b[0m\u001b[0m\n\u001b[0;32m    439\u001b[0m         \u001b[1;32mif\u001b[0m \u001b[0mself\u001b[0m\u001b[1;33m.\u001b[0m\u001b[0mcomptype\u001b[0m \u001b[1;33m!=\u001b[0m \u001b[1;34m\"tar\"\u001b[0m\u001b[1;33m:\u001b[0m\u001b[1;33m\u001b[0m\u001b[1;33m\u001b[0m\u001b[0m\n\u001b[1;32m--> 440\u001b[1;33m             \u001b[0ms\u001b[0m \u001b[1;33m=\u001b[0m \u001b[0mself\u001b[0m\u001b[1;33m.\u001b[0m\u001b[0mcmp\u001b[0m\u001b[1;33m.\u001b[0m\u001b[0mcompress\u001b[0m\u001b[1;33m(\u001b[0m\u001b[0ms\u001b[0m\u001b[1;33m)\u001b[0m\u001b[1;33m\u001b[0m\u001b[1;33m\u001b[0m\u001b[0m\n\u001b[0m\u001b[0;32m    441\u001b[0m         \u001b[0mself\u001b[0m\u001b[1;33m.\u001b[0m\u001b[0m__write\u001b[0m\u001b[1;33m(\u001b[0m\u001b[0ms\u001b[0m\u001b[1;33m)\u001b[0m\u001b[1;33m\u001b[0m\u001b[1;33m\u001b[0m\u001b[0m\n\u001b[0;32m    442\u001b[0m \u001b[1;33m\u001b[0m\u001b[0m\n",
      "\u001b[1;31mKeyboardInterrupt\u001b[0m: "
     ]
    }
   ],
   "source": [
    "archive_name = wkdir / \"ARCHIVE\"\n",
    "target = wkdir / \"ARCHIVE\"\n",
    "shutil.make_archive(archive_name, 'gztar', target)"
   ]
  },
  {
   "cell_type": "code",
   "execution_count": 11,
   "metadata": {},
   "outputs": [
    {
     "ename": "KeyboardInterrupt",
     "evalue": "",
     "output_type": "error",
     "traceback": [
      "\u001b[1;31m---------------------------------------------------------------------------\u001b[0m",
      "\u001b[1;31mKeyboardInterrupt\u001b[0m                         Traceback (most recent call last)",
      "\u001b[1;32m<ipython-input-11-7dfe3d5f65c1>\u001b[0m in \u001b[0;36m<module>\u001b[1;34m\u001b[0m\n\u001b[0;32m      2\u001b[0m \u001b[1;33m\u001b[0m\u001b[0m\n\u001b[0;32m      3\u001b[0m \u001b[0mtar\u001b[0m \u001b[1;33m=\u001b[0m \u001b[0mtarfile\u001b[0m\u001b[1;33m.\u001b[0m\u001b[0mopen\u001b[0m\u001b[1;33m(\u001b[0m\u001b[0mwkdir\u001b[0m \u001b[1;33m/\u001b[0m \u001b[1;34m\"Archive2.tar.gz\"\u001b[0m\u001b[1;33m,\u001b[0m \u001b[1;34m\"w:gz\"\u001b[0m\u001b[1;33m)\u001b[0m\u001b[1;33m\u001b[0m\u001b[1;33m\u001b[0m\u001b[0m\n\u001b[1;32m----> 4\u001b[1;33m \u001b[0mtar\u001b[0m\u001b[1;33m.\u001b[0m\u001b[0madd\u001b[0m\u001b[1;33m(\u001b[0m\u001b[0mwkdir\u001b[0m \u001b[1;33m/\u001b[0m \u001b[1;34m\"ARCHIVE\"\u001b[0m\u001b[1;33m,\u001b[0m \u001b[0marcname\u001b[0m\u001b[1;33m=\u001b[0m\u001b[1;34m\"ARCHIVE\"\u001b[0m\u001b[1;33m)\u001b[0m\u001b[1;33m\u001b[0m\u001b[1;33m\u001b[0m\u001b[0m\n\u001b[0m\u001b[0;32m      5\u001b[0m \u001b[0mtar\u001b[0m\u001b[1;33m.\u001b[0m\u001b[0mclose\u001b[0m\u001b[1;33m(\u001b[0m\u001b[1;33m)\u001b[0m\u001b[1;33m\u001b[0m\u001b[1;33m\u001b[0m\u001b[0m\n",
      "\u001b[1;32m~\\.conda\\envs\\Processor\\lib\\tarfile.py\u001b[0m in \u001b[0;36madd\u001b[1;34m(self, name, arcname, recursive, filter)\u001b[0m\n\u001b[0;32m   1949\u001b[0m                 \u001b[1;32mfor\u001b[0m \u001b[0mf\u001b[0m \u001b[1;32min\u001b[0m \u001b[0msorted\u001b[0m\u001b[1;33m(\u001b[0m\u001b[0mos\u001b[0m\u001b[1;33m.\u001b[0m\u001b[0mlistdir\u001b[0m\u001b[1;33m(\u001b[0m\u001b[0mname\u001b[0m\u001b[1;33m)\u001b[0m\u001b[1;33m)\u001b[0m\u001b[1;33m:\u001b[0m\u001b[1;33m\u001b[0m\u001b[1;33m\u001b[0m\u001b[0m\n\u001b[0;32m   1950\u001b[0m                     self.add(os.path.join(name, f), os.path.join(arcname, f),\n\u001b[1;32m-> 1951\u001b[1;33m                             recursive, filter=filter)\n\u001b[0m\u001b[0;32m   1952\u001b[0m \u001b[1;33m\u001b[0m\u001b[0m\n\u001b[0;32m   1953\u001b[0m         \u001b[1;32melse\u001b[0m\u001b[1;33m:\u001b[0m\u001b[1;33m\u001b[0m\u001b[1;33m\u001b[0m\u001b[0m\n",
      "\u001b[1;32m~\\.conda\\envs\\Processor\\lib\\tarfile.py\u001b[0m in \u001b[0;36madd\u001b[1;34m(self, name, arcname, recursive, filter)\u001b[0m\n\u001b[0;32m   1949\u001b[0m                 \u001b[1;32mfor\u001b[0m \u001b[0mf\u001b[0m \u001b[1;32min\u001b[0m \u001b[0msorted\u001b[0m\u001b[1;33m(\u001b[0m\u001b[0mos\u001b[0m\u001b[1;33m.\u001b[0m\u001b[0mlistdir\u001b[0m\u001b[1;33m(\u001b[0m\u001b[0mname\u001b[0m\u001b[1;33m)\u001b[0m\u001b[1;33m)\u001b[0m\u001b[1;33m:\u001b[0m\u001b[1;33m\u001b[0m\u001b[1;33m\u001b[0m\u001b[0m\n\u001b[0;32m   1950\u001b[0m                     self.add(os.path.join(name, f), os.path.join(arcname, f),\n\u001b[1;32m-> 1951\u001b[1;33m                             recursive, filter=filter)\n\u001b[0m\u001b[0;32m   1952\u001b[0m \u001b[1;33m\u001b[0m\u001b[0m\n\u001b[0;32m   1953\u001b[0m         \u001b[1;32melse\u001b[0m\u001b[1;33m:\u001b[0m\u001b[1;33m\u001b[0m\u001b[1;33m\u001b[0m\u001b[0m\n",
      "\u001b[1;32m~\\.conda\\envs\\Processor\\lib\\tarfile.py\u001b[0m in \u001b[0;36madd\u001b[1;34m(self, name, arcname, recursive, filter)\u001b[0m\n\u001b[0;32m   1942\u001b[0m         \u001b[1;32mif\u001b[0m \u001b[0mtarinfo\u001b[0m\u001b[1;33m.\u001b[0m\u001b[0misreg\u001b[0m\u001b[1;33m(\u001b[0m\u001b[1;33m)\u001b[0m\u001b[1;33m:\u001b[0m\u001b[1;33m\u001b[0m\u001b[1;33m\u001b[0m\u001b[0m\n\u001b[0;32m   1943\u001b[0m             \u001b[1;32mwith\u001b[0m \u001b[0mbltn_open\u001b[0m\u001b[1;33m(\u001b[0m\u001b[0mname\u001b[0m\u001b[1;33m,\u001b[0m \u001b[1;34m\"rb\"\u001b[0m\u001b[1;33m)\u001b[0m \u001b[1;32mas\u001b[0m \u001b[0mf\u001b[0m\u001b[1;33m:\u001b[0m\u001b[1;33m\u001b[0m\u001b[1;33m\u001b[0m\u001b[0m\n\u001b[1;32m-> 1944\u001b[1;33m                 \u001b[0mself\u001b[0m\u001b[1;33m.\u001b[0m\u001b[0maddfile\u001b[0m\u001b[1;33m(\u001b[0m\u001b[0mtarinfo\u001b[0m\u001b[1;33m,\u001b[0m \u001b[0mf\u001b[0m\u001b[1;33m)\u001b[0m\u001b[1;33m\u001b[0m\u001b[1;33m\u001b[0m\u001b[0m\n\u001b[0m\u001b[0;32m   1945\u001b[0m \u001b[1;33m\u001b[0m\u001b[0m\n\u001b[0;32m   1946\u001b[0m         \u001b[1;32melif\u001b[0m \u001b[0mtarinfo\u001b[0m\u001b[1;33m.\u001b[0m\u001b[0misdir\u001b[0m\u001b[1;33m(\u001b[0m\u001b[1;33m)\u001b[0m\u001b[1;33m:\u001b[0m\u001b[1;33m\u001b[0m\u001b[1;33m\u001b[0m\u001b[0m\n",
      "\u001b[1;32m~\\.conda\\envs\\Processor\\lib\\tarfile.py\u001b[0m in \u001b[0;36maddfile\u001b[1;34m(self, tarinfo, fileobj)\u001b[0m\n\u001b[0;32m   1970\u001b[0m         \u001b[1;31m# If there's data to follow, append it.\u001b[0m\u001b[1;33m\u001b[0m\u001b[1;33m\u001b[0m\u001b[1;33m\u001b[0m\u001b[0m\n\u001b[0;32m   1971\u001b[0m         \u001b[1;32mif\u001b[0m \u001b[0mfileobj\u001b[0m \u001b[1;32mis\u001b[0m \u001b[1;32mnot\u001b[0m \u001b[1;32mNone\u001b[0m\u001b[1;33m:\u001b[0m\u001b[1;33m\u001b[0m\u001b[1;33m\u001b[0m\u001b[0m\n\u001b[1;32m-> 1972\u001b[1;33m             \u001b[0mcopyfileobj\u001b[0m\u001b[1;33m(\u001b[0m\u001b[0mfileobj\u001b[0m\u001b[1;33m,\u001b[0m \u001b[0mself\u001b[0m\u001b[1;33m.\u001b[0m\u001b[0mfileobj\u001b[0m\u001b[1;33m,\u001b[0m \u001b[0mtarinfo\u001b[0m\u001b[1;33m.\u001b[0m\u001b[0msize\u001b[0m\u001b[1;33m,\u001b[0m \u001b[0mbufsize\u001b[0m\u001b[1;33m=\u001b[0m\u001b[0mbufsize\u001b[0m\u001b[1;33m)\u001b[0m\u001b[1;33m\u001b[0m\u001b[1;33m\u001b[0m\u001b[0m\n\u001b[0m\u001b[0;32m   1973\u001b[0m             \u001b[0mblocks\u001b[0m\u001b[1;33m,\u001b[0m \u001b[0mremainder\u001b[0m \u001b[1;33m=\u001b[0m \u001b[0mdivmod\u001b[0m\u001b[1;33m(\u001b[0m\u001b[0mtarinfo\u001b[0m\u001b[1;33m.\u001b[0m\u001b[0msize\u001b[0m\u001b[1;33m,\u001b[0m \u001b[0mBLOCKSIZE\u001b[0m\u001b[1;33m)\u001b[0m\u001b[1;33m\u001b[0m\u001b[1;33m\u001b[0m\u001b[0m\n\u001b[0;32m   1974\u001b[0m             \u001b[1;32mif\u001b[0m \u001b[0mremainder\u001b[0m \u001b[1;33m>\u001b[0m \u001b[1;36m0\u001b[0m\u001b[1;33m:\u001b[0m\u001b[1;33m\u001b[0m\u001b[1;33m\u001b[0m\u001b[0m\n",
      "\u001b[1;32m~\\.conda\\envs\\Processor\\lib\\tarfile.py\u001b[0m in \u001b[0;36mcopyfileobj\u001b[1;34m(src, dst, length, exception, bufsize)\u001b[0m\n\u001b[0;32m    248\u001b[0m         \u001b[1;32mif\u001b[0m \u001b[0mlen\u001b[0m\u001b[1;33m(\u001b[0m\u001b[0mbuf\u001b[0m\u001b[1;33m)\u001b[0m \u001b[1;33m<\u001b[0m \u001b[0mbufsize\u001b[0m\u001b[1;33m:\u001b[0m\u001b[1;33m\u001b[0m\u001b[1;33m\u001b[0m\u001b[0m\n\u001b[0;32m    249\u001b[0m             \u001b[1;32mraise\u001b[0m \u001b[0mexception\u001b[0m\u001b[1;33m(\u001b[0m\u001b[1;34m\"unexpected end of data\"\u001b[0m\u001b[1;33m)\u001b[0m\u001b[1;33m\u001b[0m\u001b[1;33m\u001b[0m\u001b[0m\n\u001b[1;32m--> 250\u001b[1;33m         \u001b[0mdst\u001b[0m\u001b[1;33m.\u001b[0m\u001b[0mwrite\u001b[0m\u001b[1;33m(\u001b[0m\u001b[0mbuf\u001b[0m\u001b[1;33m)\u001b[0m\u001b[1;33m\u001b[0m\u001b[1;33m\u001b[0m\u001b[0m\n\u001b[0m\u001b[0;32m    251\u001b[0m \u001b[1;33m\u001b[0m\u001b[0m\n\u001b[0;32m    252\u001b[0m     \u001b[1;32mif\u001b[0m \u001b[0mremainder\u001b[0m \u001b[1;33m!=\u001b[0m \u001b[1;36m0\u001b[0m\u001b[1;33m:\u001b[0m\u001b[1;33m\u001b[0m\u001b[1;33m\u001b[0m\u001b[0m\n",
      "\u001b[1;32m~\\.conda\\envs\\Processor\\lib\\gzip.py\u001b[0m in \u001b[0;36mwrite\u001b[1;34m(self, data)\u001b[0m\n\u001b[0;32m    262\u001b[0m \u001b[1;33m\u001b[0m\u001b[0m\n\u001b[0;32m    263\u001b[0m         \u001b[1;32mif\u001b[0m \u001b[0mlength\u001b[0m \u001b[1;33m>\u001b[0m \u001b[1;36m0\u001b[0m\u001b[1;33m:\u001b[0m\u001b[1;33m\u001b[0m\u001b[1;33m\u001b[0m\u001b[0m\n\u001b[1;32m--> 264\u001b[1;33m             \u001b[0mself\u001b[0m\u001b[1;33m.\u001b[0m\u001b[0mfileobj\u001b[0m\u001b[1;33m.\u001b[0m\u001b[0mwrite\u001b[0m\u001b[1;33m(\u001b[0m\u001b[0mself\u001b[0m\u001b[1;33m.\u001b[0m\u001b[0mcompress\u001b[0m\u001b[1;33m.\u001b[0m\u001b[0mcompress\u001b[0m\u001b[1;33m(\u001b[0m\u001b[0mdata\u001b[0m\u001b[1;33m)\u001b[0m\u001b[1;33m)\u001b[0m\u001b[1;33m\u001b[0m\u001b[1;33m\u001b[0m\u001b[0m\n\u001b[0m\u001b[0;32m    265\u001b[0m             \u001b[0mself\u001b[0m\u001b[1;33m.\u001b[0m\u001b[0msize\u001b[0m \u001b[1;33m+=\u001b[0m \u001b[0mlength\u001b[0m\u001b[1;33m\u001b[0m\u001b[1;33m\u001b[0m\u001b[0m\n\u001b[0;32m    266\u001b[0m             \u001b[0mself\u001b[0m\u001b[1;33m.\u001b[0m\u001b[0mcrc\u001b[0m \u001b[1;33m=\u001b[0m \u001b[0mzlib\u001b[0m\u001b[1;33m.\u001b[0m\u001b[0mcrc32\u001b[0m\u001b[1;33m(\u001b[0m\u001b[0mdata\u001b[0m\u001b[1;33m,\u001b[0m \u001b[0mself\u001b[0m\u001b[1;33m.\u001b[0m\u001b[0mcrc\u001b[0m\u001b[1;33m)\u001b[0m\u001b[1;33m\u001b[0m\u001b[1;33m\u001b[0m\u001b[0m\n",
      "\u001b[1;31mKeyboardInterrupt\u001b[0m: "
     ]
    }
   ],
   "source": [
    "tar = tarfile.open(wkdir / \"Archive3.tar.gz\", \"w:gz\")\n",
    "tar.add(wkdir / \"ARCHIVE\", arcname=\"ARCHIVE\")\n",
    "tar.close()"
   ]
  },
  {
   "cell_type": "code",
   "execution_count": 15,
   "metadata": {},
   "outputs": [
    {
     "ename": "KeyboardInterrupt",
     "evalue": "",
     "output_type": "error",
     "traceback": [
      "\u001b[1;31m---------------------------------------------------------------------------\u001b[0m",
      "\u001b[1;31mKeyboardInterrupt\u001b[0m                         Traceback (most recent call last)",
      "\u001b[1;32m<ipython-input-15-800ec24162da>\u001b[0m in \u001b[0;36m<module>\u001b[1;34m\u001b[0m\n\u001b[0;32m      1\u001b[0m \u001b[0mtar\u001b[0m \u001b[1;33m=\u001b[0m \u001b[0mtarfile\u001b[0m\u001b[1;33m.\u001b[0m\u001b[0mopen\u001b[0m\u001b[1;33m(\u001b[0m\u001b[0mwkdir\u001b[0m \u001b[1;33m/\u001b[0m \u001b[1;34m\"Archive.tar.bz2\"\u001b[0m\u001b[1;33m,\u001b[0m \u001b[1;34m\"w|bz2\"\u001b[0m\u001b[1;33m)\u001b[0m\u001b[1;33m\u001b[0m\u001b[1;33m\u001b[0m\u001b[0m\n\u001b[1;32m----> 2\u001b[1;33m \u001b[0mtar\u001b[0m\u001b[1;33m.\u001b[0m\u001b[0madd\u001b[0m\u001b[1;33m(\u001b[0m\u001b[0mwkdir\u001b[0m \u001b[1;33m/\u001b[0m \u001b[1;34m\"ARCHIVE\"\u001b[0m\u001b[1;33m)\u001b[0m\u001b[1;33m\u001b[0m\u001b[1;33m\u001b[0m\u001b[0m\n\u001b[0m\u001b[0;32m      3\u001b[0m \u001b[0mtar\u001b[0m\u001b[1;33m.\u001b[0m\u001b[0mclose\u001b[0m\u001b[1;33m(\u001b[0m\u001b[1;33m)\u001b[0m\u001b[1;33m\u001b[0m\u001b[1;33m\u001b[0m\u001b[0m\n",
      "\u001b[1;32m~\\.conda\\envs\\Processor\\lib\\tarfile.py\u001b[0m in \u001b[0;36madd\u001b[1;34m(self, name, arcname, recursive, filter)\u001b[0m\n\u001b[0;32m   1949\u001b[0m                 \u001b[1;32mfor\u001b[0m \u001b[0mf\u001b[0m \u001b[1;32min\u001b[0m \u001b[0msorted\u001b[0m\u001b[1;33m(\u001b[0m\u001b[0mos\u001b[0m\u001b[1;33m.\u001b[0m\u001b[0mlistdir\u001b[0m\u001b[1;33m(\u001b[0m\u001b[0mname\u001b[0m\u001b[1;33m)\u001b[0m\u001b[1;33m)\u001b[0m\u001b[1;33m:\u001b[0m\u001b[1;33m\u001b[0m\u001b[1;33m\u001b[0m\u001b[0m\n\u001b[0;32m   1950\u001b[0m                     self.add(os.path.join(name, f), os.path.join(arcname, f),\n\u001b[1;32m-> 1951\u001b[1;33m                             recursive, filter=filter)\n\u001b[0m\u001b[0;32m   1952\u001b[0m \u001b[1;33m\u001b[0m\u001b[0m\n\u001b[0;32m   1953\u001b[0m         \u001b[1;32melse\u001b[0m\u001b[1;33m:\u001b[0m\u001b[1;33m\u001b[0m\u001b[1;33m\u001b[0m\u001b[0m\n",
      "\u001b[1;32m~\\.conda\\envs\\Processor\\lib\\tarfile.py\u001b[0m in \u001b[0;36madd\u001b[1;34m(self, name, arcname, recursive, filter)\u001b[0m\n\u001b[0;32m   1949\u001b[0m                 \u001b[1;32mfor\u001b[0m \u001b[0mf\u001b[0m \u001b[1;32min\u001b[0m \u001b[0msorted\u001b[0m\u001b[1;33m(\u001b[0m\u001b[0mos\u001b[0m\u001b[1;33m.\u001b[0m\u001b[0mlistdir\u001b[0m\u001b[1;33m(\u001b[0m\u001b[0mname\u001b[0m\u001b[1;33m)\u001b[0m\u001b[1;33m)\u001b[0m\u001b[1;33m:\u001b[0m\u001b[1;33m\u001b[0m\u001b[1;33m\u001b[0m\u001b[0m\n\u001b[0;32m   1950\u001b[0m                     self.add(os.path.join(name, f), os.path.join(arcname, f),\n\u001b[1;32m-> 1951\u001b[1;33m                             recursive, filter=filter)\n\u001b[0m\u001b[0;32m   1952\u001b[0m \u001b[1;33m\u001b[0m\u001b[0m\n\u001b[0;32m   1953\u001b[0m         \u001b[1;32melse\u001b[0m\u001b[1;33m:\u001b[0m\u001b[1;33m\u001b[0m\u001b[1;33m\u001b[0m\u001b[0m\n",
      "\u001b[1;32m~\\.conda\\envs\\Processor\\lib\\tarfile.py\u001b[0m in \u001b[0;36madd\u001b[1;34m(self, name, arcname, recursive, filter)\u001b[0m\n\u001b[0;32m   1942\u001b[0m         \u001b[1;32mif\u001b[0m \u001b[0mtarinfo\u001b[0m\u001b[1;33m.\u001b[0m\u001b[0misreg\u001b[0m\u001b[1;33m(\u001b[0m\u001b[1;33m)\u001b[0m\u001b[1;33m:\u001b[0m\u001b[1;33m\u001b[0m\u001b[1;33m\u001b[0m\u001b[0m\n\u001b[0;32m   1943\u001b[0m             \u001b[1;32mwith\u001b[0m \u001b[0mbltn_open\u001b[0m\u001b[1;33m(\u001b[0m\u001b[0mname\u001b[0m\u001b[1;33m,\u001b[0m \u001b[1;34m\"rb\"\u001b[0m\u001b[1;33m)\u001b[0m \u001b[1;32mas\u001b[0m \u001b[0mf\u001b[0m\u001b[1;33m:\u001b[0m\u001b[1;33m\u001b[0m\u001b[1;33m\u001b[0m\u001b[0m\n\u001b[1;32m-> 1944\u001b[1;33m                 \u001b[0mself\u001b[0m\u001b[1;33m.\u001b[0m\u001b[0maddfile\u001b[0m\u001b[1;33m(\u001b[0m\u001b[0mtarinfo\u001b[0m\u001b[1;33m,\u001b[0m \u001b[0mf\u001b[0m\u001b[1;33m)\u001b[0m\u001b[1;33m\u001b[0m\u001b[1;33m\u001b[0m\u001b[0m\n\u001b[0m\u001b[0;32m   1945\u001b[0m \u001b[1;33m\u001b[0m\u001b[0m\n\u001b[0;32m   1946\u001b[0m         \u001b[1;32melif\u001b[0m \u001b[0mtarinfo\u001b[0m\u001b[1;33m.\u001b[0m\u001b[0misdir\u001b[0m\u001b[1;33m(\u001b[0m\u001b[1;33m)\u001b[0m\u001b[1;33m:\u001b[0m\u001b[1;33m\u001b[0m\u001b[1;33m\u001b[0m\u001b[0m\n",
      "\u001b[1;32m~\\.conda\\envs\\Processor\\lib\\tarfile.py\u001b[0m in \u001b[0;36maddfile\u001b[1;34m(self, tarinfo, fileobj)\u001b[0m\n\u001b[0;32m   1970\u001b[0m         \u001b[1;31m# If there's data to follow, append it.\u001b[0m\u001b[1;33m\u001b[0m\u001b[1;33m\u001b[0m\u001b[1;33m\u001b[0m\u001b[0m\n\u001b[0;32m   1971\u001b[0m         \u001b[1;32mif\u001b[0m \u001b[0mfileobj\u001b[0m \u001b[1;32mis\u001b[0m \u001b[1;32mnot\u001b[0m \u001b[1;32mNone\u001b[0m\u001b[1;33m:\u001b[0m\u001b[1;33m\u001b[0m\u001b[1;33m\u001b[0m\u001b[0m\n\u001b[1;32m-> 1972\u001b[1;33m             \u001b[0mcopyfileobj\u001b[0m\u001b[1;33m(\u001b[0m\u001b[0mfileobj\u001b[0m\u001b[1;33m,\u001b[0m \u001b[0mself\u001b[0m\u001b[1;33m.\u001b[0m\u001b[0mfileobj\u001b[0m\u001b[1;33m,\u001b[0m \u001b[0mtarinfo\u001b[0m\u001b[1;33m.\u001b[0m\u001b[0msize\u001b[0m\u001b[1;33m,\u001b[0m \u001b[0mbufsize\u001b[0m\u001b[1;33m=\u001b[0m\u001b[0mbufsize\u001b[0m\u001b[1;33m)\u001b[0m\u001b[1;33m\u001b[0m\u001b[1;33m\u001b[0m\u001b[0m\n\u001b[0m\u001b[0;32m   1973\u001b[0m             \u001b[0mblocks\u001b[0m\u001b[1;33m,\u001b[0m \u001b[0mremainder\u001b[0m \u001b[1;33m=\u001b[0m \u001b[0mdivmod\u001b[0m\u001b[1;33m(\u001b[0m\u001b[0mtarinfo\u001b[0m\u001b[1;33m.\u001b[0m\u001b[0msize\u001b[0m\u001b[1;33m,\u001b[0m \u001b[0mBLOCKSIZE\u001b[0m\u001b[1;33m)\u001b[0m\u001b[1;33m\u001b[0m\u001b[1;33m\u001b[0m\u001b[0m\n\u001b[0;32m   1974\u001b[0m             \u001b[1;32mif\u001b[0m \u001b[0mremainder\u001b[0m \u001b[1;33m>\u001b[0m \u001b[1;36m0\u001b[0m\u001b[1;33m:\u001b[0m\u001b[1;33m\u001b[0m\u001b[1;33m\u001b[0m\u001b[0m\n",
      "\u001b[1;32m~\\.conda\\envs\\Processor\\lib\\tarfile.py\u001b[0m in \u001b[0;36mcopyfileobj\u001b[1;34m(src, dst, length, exception, bufsize)\u001b[0m\n\u001b[0;32m    248\u001b[0m         \u001b[1;32mif\u001b[0m \u001b[0mlen\u001b[0m\u001b[1;33m(\u001b[0m\u001b[0mbuf\u001b[0m\u001b[1;33m)\u001b[0m \u001b[1;33m<\u001b[0m \u001b[0mbufsize\u001b[0m\u001b[1;33m:\u001b[0m\u001b[1;33m\u001b[0m\u001b[1;33m\u001b[0m\u001b[0m\n\u001b[0;32m    249\u001b[0m             \u001b[1;32mraise\u001b[0m \u001b[0mexception\u001b[0m\u001b[1;33m(\u001b[0m\u001b[1;34m\"unexpected end of data\"\u001b[0m\u001b[1;33m)\u001b[0m\u001b[1;33m\u001b[0m\u001b[1;33m\u001b[0m\u001b[0m\n\u001b[1;32m--> 250\u001b[1;33m         \u001b[0mdst\u001b[0m\u001b[1;33m.\u001b[0m\u001b[0mwrite\u001b[0m\u001b[1;33m(\u001b[0m\u001b[0mbuf\u001b[0m\u001b[1;33m)\u001b[0m\u001b[1;33m\u001b[0m\u001b[1;33m\u001b[0m\u001b[0m\n\u001b[0m\u001b[0;32m    251\u001b[0m \u001b[1;33m\u001b[0m\u001b[0m\n\u001b[0;32m    252\u001b[0m     \u001b[1;32mif\u001b[0m \u001b[0mremainder\u001b[0m \u001b[1;33m!=\u001b[0m \u001b[1;36m0\u001b[0m\u001b[1;33m:\u001b[0m\u001b[1;33m\u001b[0m\u001b[1;33m\u001b[0m\u001b[0m\n",
      "\u001b[1;32m~\\.conda\\envs\\Processor\\lib\\tarfile.py\u001b[0m in \u001b[0;36mwrite\u001b[1;34m(self, s)\u001b[0m\n\u001b[0;32m    438\u001b[0m         \u001b[0mself\u001b[0m\u001b[1;33m.\u001b[0m\u001b[0mpos\u001b[0m \u001b[1;33m+=\u001b[0m \u001b[0mlen\u001b[0m\u001b[1;33m(\u001b[0m\u001b[0ms\u001b[0m\u001b[1;33m)\u001b[0m\u001b[1;33m\u001b[0m\u001b[1;33m\u001b[0m\u001b[0m\n\u001b[0;32m    439\u001b[0m         \u001b[1;32mif\u001b[0m \u001b[0mself\u001b[0m\u001b[1;33m.\u001b[0m\u001b[0mcomptype\u001b[0m \u001b[1;33m!=\u001b[0m \u001b[1;34m\"tar\"\u001b[0m\u001b[1;33m:\u001b[0m\u001b[1;33m\u001b[0m\u001b[1;33m\u001b[0m\u001b[0m\n\u001b[1;32m--> 440\u001b[1;33m             \u001b[0ms\u001b[0m \u001b[1;33m=\u001b[0m \u001b[0mself\u001b[0m\u001b[1;33m.\u001b[0m\u001b[0mcmp\u001b[0m\u001b[1;33m.\u001b[0m\u001b[0mcompress\u001b[0m\u001b[1;33m(\u001b[0m\u001b[0ms\u001b[0m\u001b[1;33m)\u001b[0m\u001b[1;33m\u001b[0m\u001b[1;33m\u001b[0m\u001b[0m\n\u001b[0m\u001b[0;32m    441\u001b[0m         \u001b[0mself\u001b[0m\u001b[1;33m.\u001b[0m\u001b[0m__write\u001b[0m\u001b[1;33m(\u001b[0m\u001b[0ms\u001b[0m\u001b[1;33m)\u001b[0m\u001b[1;33m\u001b[0m\u001b[1;33m\u001b[0m\u001b[0m\n\u001b[0;32m    442\u001b[0m \u001b[1;33m\u001b[0m\u001b[0m\n",
      "\u001b[1;31mKeyboardInterrupt\u001b[0m: "
     ]
    }
   ],
   "source": [
    "tar = tarfile.open(wkdir / \"Archive.tar.bz2\", \"w|bz2\")\n",
    "tar.add(wkdir / \"ARCHIVE\")\n",
    "tar.close()"
   ]
  },
  {
   "cell_type": "code",
   "execution_count": 10,
   "metadata": {},
   "outputs": [],
   "source": [
    "tar = tarfile.open(wkdir / \"Archive.tar.xz\", \"w|xz\")\n",
    "tar.add(wkdir / \"PROC\")\n",
    "tar.close()"
   ]
  },
  {
   "cell_type": "code",
   "execution_count": 45,
   "metadata": {},
   "outputs": [
    {
     "output_type": "error",
     "ename": "SyntaxError",
     "evalue": "EOL while scanning string literal (<ipython-input-45-968db4db9683>, line 2)",
     "traceback": [
      "\u001b[1;36m  File \u001b[1;32m\"<ipython-input-45-968db4db9683>\"\u001b[1;36m, line \u001b[1;32m2\u001b[0m\n\u001b[1;33m    binfile = Path(r\"C:\\Users\\ucasbwh\\Desktop\\Test\\200204_144923_FS-L07_+203_252ms.bin)\u001b[0m\n\u001b[1;37m                                                                                       ^\u001b[0m\n\u001b[1;31mSyntaxError\u001b[0m\u001b[1;31m:\u001b[0m EOL while scanning string literal\n"
     ]
    }
   ],
   "source": [
    "tmpfile = Path(r\"C:\\Users\\ucasbwh\\Desktop\\Test\\PROC\\tmp_cmp.bin\")\n",
    "binfile = Path(r\"C:\\Users\\ucasbwh\\Desktop\\Test\\200204_144923_FS-L07_+203_252ms.bin)"
   ]
  },
  {
   "cell_type": "code",
   "execution_count": null,
   "metadata": {},
   "outputs": [],
   "source": []
  }
 ]
}