{
 "nbformat": 4,
 "nbformat_minor": 2,
 "metadata": {
  "language_info": {
   "name": "python",
   "codemirror_mode": {
    "name": "ipython",
    "version": 3
   },
   "version": "3.7.6-final"
  },
  "orig_nbformat": 2,
  "file_extension": ".py",
  "mimetype": "text/x-python",
  "name": "python",
  "npconvert_exporter": "python",
  "pygments_lexer": "ipython3",
  "version": 3,
  "kernelspec": {
   "name": "python37664bitprocessorconda4f323e9960824ce38e2301e05c58c044",
   "display_name": "Python 3.7.6 64-bit ('Processor': conda)"
  }
 },
 "cells": [
  {
   "cell_type": "code",
   "execution_count": 2,
   "metadata": {},
   "outputs": [
    {
     "name": "stdout",
     "output_type": "stream",
     "text": "32\n"
    }
   ],
   "source": [
    "import imageio\n",
    "import PC_Fns\n",
    "from pathlib import Path\n",
    "\n",
    "PROC_DIR = Path(r\"C:\\Users\\ucasbwh\\Desktop\\NavCam Check\")\n",
    "PGM_FILES = PC_Fns.Find_Files(PROC_DIR, \"*.PGM\")\n",
    "\n",
    "print(len(PGM_FILES))"
   ]
  },
  {
   "cell_type": "code",
   "execution_count": 7,
   "metadata": {},
   "outputs": [],
   "source": [
    "test = imageio.imread(PGM_FILES[0])\n",
    "write_filename = PGM_FILES[0].stem\n",
    "write_file = PROC_DIR / (write_filename + \".png\")\n",
    "imageio.imwrite(write_file, test)"
   ]
  }
 ]
}