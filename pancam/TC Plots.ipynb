{
 "nbformat": 4,
 "nbformat_minor": 2,
 "metadata": {
  "language_info": {
   "name": "python",
   "codemirror_mode": {
    "name": "ipython",
    "version": 3
   },
   "version": "3.7.6-final"
  },
  "orig_nbformat": 2,
  "file_extension": ".py",
  "mimetype": "text/x-python",
  "name": "python",
  "npconvert_exporter": "python",
  "pygments_lexer": "ipython3",
  "version": 3,
  "kernelspec": {
   "name": "python37664bitd19f5fc5bb3f42ae87eec491771892ef",
   "display_name": "Python 3.7.6 64-bit"
  }
 },
 "cells": [
  {
   "cell_type": "code",
   "execution_count": 13,
   "metadata": {},
   "outputs": [],
   "source": [
    "import pandas as pd\n",
    "from pathlib import Path"
   ]
  },
  {
   "cell_type": "code",
   "execution_count": 37,
   "metadata": {},
   "outputs": [],
   "source": [
    "wkdir = Path(r\"C:\\Users\\ucasbwh\\Desktop\\20191002_094601_HRC_-50C_FOCUS\\PROC\")\n",
    "file = \"Unproc_TC.pickle\""
   ]
  },
  {
   "cell_type": "code",
   "execution_count": 15,
   "metadata": {},
   "outputs": [
    {
     "output_type": "execute_result",
     "data": {
      "text/plain": "0     STIME \n1        CE \n2        PE \n3       HRC \n4       HRC \n5       HRC \n6       HRC \n7       HRC \n8       HRC \n9       HRC \n10      HRC \n11      HRC \n12      HRC \n13      HRC \n14      HRC \n15      HRC \n16      HRC \n17      HRC \n18      HRC \n19      HRC \nName: ACTION, dtype: object"
     },
     "metadata": {},
     "execution_count": 15
    }
   ],
   "source": [
    "TC = pd.read_pickle(wkdir / file)\n",
    "TC.ACTION.head(20)"
   ]
  },
  {
   "cell_type": "code",
   "execution_count": 18,
   "metadata": {},
   "outputs": [
    {
     "output_type": "stream",
     "name": "stdout",
     "text": "YUP\n"
    }
   ],
   "source": [
    "wac = TC[TC['ACTION'] == 'WAC']\n",
    "if wac.empty:\n",
    "    print(\"YUP\")"
   ]
  },
  {
   "cell_type": "code",
   "execution_count": 6,
   "metadata": {},
   "outputs": [
    {
     "output_type": "execute_result",
     "data": {
      "text/plain": "          Date           Time       Description    0  1   2  3  4   5  6  7  \\\n3   2019-08-06  14:26:32.911    PAN_TC_PIU_HRC   174  0   4  0  5   2  0  0   \n4   2019-08-06  14:26:53.241    PAN_TC_PIU_HRC   174  0   5  0  5   2  0  0   \n5   2019-08-06  14:26:54.441    PAN_TC_PIU_HRC   174  0   6  0  5   6  0  0   \n6   2019-08-06  14:26:56.841    PAN_TC_PIU_HRC   174  0   7  0  5  13  0  0   \n7   2019-08-06  14:26:58.041    PAN_TC_PIU_HRC   174  0   8  0  5   1  0  0   \n8   2019-08-06  14:27:01.042    PAN_TC_PIU_HRC   174  0   9  0  5  14  0  0   \n9   2019-08-06  14:27:08.443    PAN_TC_PIU_HRC   174  0  10  0  5   2  0  0   \n10  2019-08-06  14:27:09.643    PAN_TC_PIU_HRC   174  0  11  0  5   1  0  0   \n11  2019-08-06  14:27:12.644    PAN_TC_PIU_HRC   174  0  12  0  5  14  0  0   \n12  2019-08-06  14:27:20.049    PAN_TC_PIU_HRC   174  0  13  0  5   2  0  0   \n\n    8  9  10                      DT  BID ACTION  \n3   0  0  -1 2019-08-06 14:26:32.911  192   HRC   \n4   0  0  -1 2019-08-06 14:26:53.241  192   HRC   \n5   3  0  -1 2019-08-06 14:26:54.441  192   HRC   \n6   0  0  -1 2019-08-06 14:26:56.841  192   HRC   \n7   0  0  -1 2019-08-06 14:26:58.041  192   HRC   \n8   0  0  -1 2019-08-06 14:27:01.042  192   HRC   \n9   0  0  -1 2019-08-06 14:27:08.443  192   HRC   \n10  0  0  -1 2019-08-06 14:27:09.643  192   HRC   \n11  0  0  -1 2019-08-06 14:27:12.644  192   HRC   \n12  0  0  -1 2019-08-06 14:27:20.049  192   HRC   ",
      "text/html": "<div>\n<style scoped>\n    .dataframe tbody tr th:only-of-type {\n        vertical-align: middle;\n    }\n\n    .dataframe tbody tr th {\n        vertical-align: top;\n    }\n\n    .dataframe thead th {\n        text-align: right;\n    }\n</style>\n<table border=\"1\" class=\"dataframe\">\n  <thead>\n    <tr style=\"text-align: right;\">\n      <th></th>\n      <th>Date</th>\n      <th>Time</th>\n      <th>Description</th>\n      <th>0</th>\n      <th>1</th>\n      <th>2</th>\n      <th>3</th>\n      <th>4</th>\n      <th>5</th>\n      <th>6</th>\n      <th>7</th>\n      <th>8</th>\n      <th>9</th>\n      <th>10</th>\n      <th>DT</th>\n      <th>BID</th>\n      <th>ACTION</th>\n    </tr>\n  </thead>\n  <tbody>\n    <tr>\n      <th>3</th>\n      <td>2019-08-06</td>\n      <td>14:26:32.911</td>\n      <td>PAN_TC_PIU_HRC</td>\n      <td>174</td>\n      <td>0</td>\n      <td>4</td>\n      <td>0</td>\n      <td>5</td>\n      <td>2</td>\n      <td>0</td>\n      <td>0</td>\n      <td>0</td>\n      <td>0</td>\n      <td>-1</td>\n      <td>2019-08-06 14:26:32.911</td>\n      <td>192</td>\n      <td>HRC</td>\n    </tr>\n    <tr>\n      <th>4</th>\n      <td>2019-08-06</td>\n      <td>14:26:53.241</td>\n      <td>PAN_TC_PIU_HRC</td>\n      <td>174</td>\n      <td>0</td>\n      <td>5</td>\n      <td>0</td>\n      <td>5</td>\n      <td>2</td>\n      <td>0</td>\n      <td>0</td>\n      <td>0</td>\n      <td>0</td>\n      <td>-1</td>\n      <td>2019-08-06 14:26:53.241</td>\n      <td>192</td>\n      <td>HRC</td>\n    </tr>\n    <tr>\n      <th>5</th>\n      <td>2019-08-06</td>\n      <td>14:26:54.441</td>\n      <td>PAN_TC_PIU_HRC</td>\n      <td>174</td>\n      <td>0</td>\n      <td>6</td>\n      <td>0</td>\n      <td>5</td>\n      <td>6</td>\n      <td>0</td>\n      <td>0</td>\n      <td>3</td>\n      <td>0</td>\n      <td>-1</td>\n      <td>2019-08-06 14:26:54.441</td>\n      <td>192</td>\n      <td>HRC</td>\n    </tr>\n    <tr>\n      <th>6</th>\n      <td>2019-08-06</td>\n      <td>14:26:56.841</td>\n      <td>PAN_TC_PIU_HRC</td>\n      <td>174</td>\n      <td>0</td>\n      <td>7</td>\n      <td>0</td>\n      <td>5</td>\n      <td>13</td>\n      <td>0</td>\n      <td>0</td>\n      <td>0</td>\n      <td>0</td>\n      <td>-1</td>\n      <td>2019-08-06 14:26:56.841</td>\n      <td>192</td>\n      <td>HRC</td>\n    </tr>\n    <tr>\n      <th>7</th>\n      <td>2019-08-06</td>\n      <td>14:26:58.041</td>\n      <td>PAN_TC_PIU_HRC</td>\n      <td>174</td>\n      <td>0</td>\n      <td>8</td>\n      <td>0</td>\n      <td>5</td>\n      <td>1</td>\n      <td>0</td>\n      <td>0</td>\n      <td>0</td>\n      <td>0</td>\n      <td>-1</td>\n      <td>2019-08-06 14:26:58.041</td>\n      <td>192</td>\n      <td>HRC</td>\n    </tr>\n    <tr>\n      <th>8</th>\n      <td>2019-08-06</td>\n      <td>14:27:01.042</td>\n      <td>PAN_TC_PIU_HRC</td>\n      <td>174</td>\n      <td>0</td>\n      <td>9</td>\n      <td>0</td>\n      <td>5</td>\n      <td>14</td>\n      <td>0</td>\n      <td>0</td>\n      <td>0</td>\n      <td>0</td>\n      <td>-1</td>\n      <td>2019-08-06 14:27:01.042</td>\n      <td>192</td>\n      <td>HRC</td>\n    </tr>\n    <tr>\n      <th>9</th>\n      <td>2019-08-06</td>\n      <td>14:27:08.443</td>\n      <td>PAN_TC_PIU_HRC</td>\n      <td>174</td>\n      <td>0</td>\n      <td>10</td>\n      <td>0</td>\n      <td>5</td>\n      <td>2</td>\n      <td>0</td>\n      <td>0</td>\n      <td>0</td>\n      <td>0</td>\n      <td>-1</td>\n      <td>2019-08-06 14:27:08.443</td>\n      <td>192</td>\n      <td>HRC</td>\n    </tr>\n    <tr>\n      <th>10</th>\n      <td>2019-08-06</td>\n      <td>14:27:09.643</td>\n      <td>PAN_TC_PIU_HRC</td>\n      <td>174</td>\n      <td>0</td>\n      <td>11</td>\n      <td>0</td>\n      <td>5</td>\n      <td>1</td>\n      <td>0</td>\n      <td>0</td>\n      <td>0</td>\n      <td>0</td>\n      <td>-1</td>\n      <td>2019-08-06 14:27:09.643</td>\n      <td>192</td>\n      <td>HRC</td>\n    </tr>\n    <tr>\n      <th>11</th>\n      <td>2019-08-06</td>\n      <td>14:27:12.644</td>\n      <td>PAN_TC_PIU_HRC</td>\n      <td>174</td>\n      <td>0</td>\n      <td>12</td>\n      <td>0</td>\n      <td>5</td>\n      <td>14</td>\n      <td>0</td>\n      <td>0</td>\n      <td>0</td>\n      <td>0</td>\n      <td>-1</td>\n      <td>2019-08-06 14:27:12.644</td>\n      <td>192</td>\n      <td>HRC</td>\n    </tr>\n    <tr>\n      <th>12</th>\n      <td>2019-08-06</td>\n      <td>14:27:20.049</td>\n      <td>PAN_TC_PIU_HRC</td>\n      <td>174</td>\n      <td>0</td>\n      <td>13</td>\n      <td>0</td>\n      <td>5</td>\n      <td>2</td>\n      <td>0</td>\n      <td>0</td>\n      <td>0</td>\n      <td>0</td>\n      <td>-1</td>\n      <td>2019-08-06 14:27:20.049</td>\n      <td>192</td>\n      <td>HRC</td>\n    </tr>\n  </tbody>\n</table>\n</div>"
     },
     "metadata": {},
     "execution_count": 6
    }
   ],
   "source": [
    "hrc = TC[TC['ACTION'] == 'HRC ']\n",
    "hrc.head(10)"
   ]
  },
  {
   "cell_type": "code",
   "execution_count": 7,
   "metadata": {},
   "outputs": [],
   "source": [
    "hrc_cmd_dict = {0x00 : \"RST\",\n",
    "                0x01 : \"SID\",\n",
    "                0x02 : 'CS',\n",
    "                0x03 : 'Motor Steps',\n",
    "                0x04 : 'Motor Stop',\n",
    "                0x05 : 'Set Gains',\n",
    "                0x06 : 'Set Int',\n",
    "                0x08 : 'Reset IMG #',\n",
    "                0x09 : 'Set Win',\n",
    "                0x0A : 'Start AI',\n",
    "                0x0B : 'Start AF',\n",
    "                0x0C : 'Reg 1',\n",
    "                0x0D : 'Reg 2', \n",
    "                0x0E : 'Reg 4',\n",
    "                0x0F : 'Goto Enc',\n",
    "                0x10 : 'Reg 3',\n",
    "                0x11 : 'Set Enc', \n",
    "                0x12 : 'Load AI', \n",
    "                0x13 : 'Set Shr',\n",
    "                0x14 : 'Set Win Sz',\n",
    "                0x15 : 'Set Motor',\n",
    "                0xF5 : 'Enc Direct',\n",
    "                0xF6 : 'Enc Inver'}"
   ]
  },
  {
   "cell_type": "code",
   "execution_count": 12,
   "metadata": {},
   "outputs": [
    {
     "output_type": "execute_result",
     "data": {
      "text/plain": "         Date           Time         Description    0   1   2  3  4   5  6  \\\n0  2019-08-06  14:25:59.209    PAN_TC_PIU_STIME   168   0   1  0  6   0  8   \n1  2019-08-06  14:26:26.924       PAN_TC_PIU_CE   168   8   2  0  5   3  0   \n2  2019-08-06  14:26:27.911       PAN_TC_PIU_PE   168  16   3  0  5   3  0   \n3  2019-08-06  14:26:32.911      PAN_TC_PIU_HRC   174   0   4  0  5   2  0   \n4  2019-08-06  14:26:53.241      PAN_TC_PIU_HRC   174   0   5  0  5   2  0   \n5  2019-08-06  14:26:54.441      PAN_TC_PIU_HRC   174   0   6  0  5   6  0   \n6  2019-08-06  14:26:56.841      PAN_TC_PIU_HRC   174   0   7  0  5  13  0   \n7  2019-08-06  14:26:58.041      PAN_TC_PIU_HRC   174   0   8  0  5   1  0   \n8  2019-08-06  14:27:01.042      PAN_TC_PIU_HRC   174   0   9  0  5  14  0   \n9  2019-08-06  14:27:08.443      PAN_TC_PIU_HRC   174   0  10  0  5   2  0   \n\n     7    8  9  10                      DT  BID  ACTION  CAM_CMD  \n0  179  247  3  65 2019-08-06 14:25:59.209    0  STIME       NaN  \n1    0    0  0  -1 2019-08-06 14:26:26.924    1     CE       NaN  \n2    0    0  0  -1 2019-08-06 14:26:27.911    2     PE       NaN  \n3    0    0  0  -1 2019-08-06 14:26:32.911  192    HRC        CS  \n4    0    0  0  -1 2019-08-06 14:26:53.241  192    HRC        CS  \n5    0    3  0  -1 2019-08-06 14:26:54.441  192    HRC   Set Int  \n6    0    0  0  -1 2019-08-06 14:26:56.841  192    HRC     Reg 2  \n7    0    0  0  -1 2019-08-06 14:26:58.041  192    HRC       SID  \n8    0    0  0  -1 2019-08-06 14:27:01.042  192    HRC     Reg 4  \n9    0    0  0  -1 2019-08-06 14:27:08.443  192    HRC        CS  ",
      "text/html": "<div>\n<style scoped>\n    .dataframe tbody tr th:only-of-type {\n        vertical-align: middle;\n    }\n\n    .dataframe tbody tr th {\n        vertical-align: top;\n    }\n\n    .dataframe thead th {\n        text-align: right;\n    }\n</style>\n<table border=\"1\" class=\"dataframe\">\n  <thead>\n    <tr style=\"text-align: right;\">\n      <th></th>\n      <th>Date</th>\n      <th>Time</th>\n      <th>Description</th>\n      <th>0</th>\n      <th>1</th>\n      <th>2</th>\n      <th>3</th>\n      <th>4</th>\n      <th>5</th>\n      <th>6</th>\n      <th>7</th>\n      <th>8</th>\n      <th>9</th>\n      <th>10</th>\n      <th>DT</th>\n      <th>BID</th>\n      <th>ACTION</th>\n      <th>CAM_CMD</th>\n    </tr>\n  </thead>\n  <tbody>\n    <tr>\n      <th>0</th>\n      <td>2019-08-06</td>\n      <td>14:25:59.209</td>\n      <td>PAN_TC_PIU_STIME</td>\n      <td>168</td>\n      <td>0</td>\n      <td>1</td>\n      <td>0</td>\n      <td>6</td>\n      <td>0</td>\n      <td>8</td>\n      <td>179</td>\n      <td>247</td>\n      <td>3</td>\n      <td>65</td>\n      <td>2019-08-06 14:25:59.209</td>\n      <td>0</td>\n      <td>STIME</td>\n      <td>NaN</td>\n    </tr>\n    <tr>\n      <th>1</th>\n      <td>2019-08-06</td>\n      <td>14:26:26.924</td>\n      <td>PAN_TC_PIU_CE</td>\n      <td>168</td>\n      <td>8</td>\n      <td>2</td>\n      <td>0</td>\n      <td>5</td>\n      <td>3</td>\n      <td>0</td>\n      <td>0</td>\n      <td>0</td>\n      <td>0</td>\n      <td>-1</td>\n      <td>2019-08-06 14:26:26.924</td>\n      <td>1</td>\n      <td>CE</td>\n      <td>NaN</td>\n    </tr>\n    <tr>\n      <th>2</th>\n      <td>2019-08-06</td>\n      <td>14:26:27.911</td>\n      <td>PAN_TC_PIU_PE</td>\n      <td>168</td>\n      <td>16</td>\n      <td>3</td>\n      <td>0</td>\n      <td>5</td>\n      <td>3</td>\n      <td>0</td>\n      <td>0</td>\n      <td>0</td>\n      <td>0</td>\n      <td>-1</td>\n      <td>2019-08-06 14:26:27.911</td>\n      <td>2</td>\n      <td>PE</td>\n      <td>NaN</td>\n    </tr>\n    <tr>\n      <th>3</th>\n      <td>2019-08-06</td>\n      <td>14:26:32.911</td>\n      <td>PAN_TC_PIU_HRC</td>\n      <td>174</td>\n      <td>0</td>\n      <td>4</td>\n      <td>0</td>\n      <td>5</td>\n      <td>2</td>\n      <td>0</td>\n      <td>0</td>\n      <td>0</td>\n      <td>0</td>\n      <td>-1</td>\n      <td>2019-08-06 14:26:32.911</td>\n      <td>192</td>\n      <td>HRC</td>\n      <td>CS</td>\n    </tr>\n    <tr>\n      <th>4</th>\n      <td>2019-08-06</td>\n      <td>14:26:53.241</td>\n      <td>PAN_TC_PIU_HRC</td>\n      <td>174</td>\n      <td>0</td>\n      <td>5</td>\n      <td>0</td>\n      <td>5</td>\n      <td>2</td>\n      <td>0</td>\n      <td>0</td>\n      <td>0</td>\n      <td>0</td>\n      <td>-1</td>\n      <td>2019-08-06 14:26:53.241</td>\n      <td>192</td>\n      <td>HRC</td>\n      <td>CS</td>\n    </tr>\n    <tr>\n      <th>5</th>\n      <td>2019-08-06</td>\n      <td>14:26:54.441</td>\n      <td>PAN_TC_PIU_HRC</td>\n      <td>174</td>\n      <td>0</td>\n      <td>6</td>\n      <td>0</td>\n      <td>5</td>\n      <td>6</td>\n      <td>0</td>\n      <td>0</td>\n      <td>3</td>\n      <td>0</td>\n      <td>-1</td>\n      <td>2019-08-06 14:26:54.441</td>\n      <td>192</td>\n      <td>HRC</td>\n      <td>Set Int</td>\n    </tr>\n    <tr>\n      <th>6</th>\n      <td>2019-08-06</td>\n      <td>14:26:56.841</td>\n      <td>PAN_TC_PIU_HRC</td>\n      <td>174</td>\n      <td>0</td>\n      <td>7</td>\n      <td>0</td>\n      <td>5</td>\n      <td>13</td>\n      <td>0</td>\n      <td>0</td>\n      <td>0</td>\n      <td>0</td>\n      <td>-1</td>\n      <td>2019-08-06 14:26:56.841</td>\n      <td>192</td>\n      <td>HRC</td>\n      <td>Reg 2</td>\n    </tr>\n    <tr>\n      <th>7</th>\n      <td>2019-08-06</td>\n      <td>14:26:58.041</td>\n      <td>PAN_TC_PIU_HRC</td>\n      <td>174</td>\n      <td>0</td>\n      <td>8</td>\n      <td>0</td>\n      <td>5</td>\n      <td>1</td>\n      <td>0</td>\n      <td>0</td>\n      <td>0</td>\n      <td>0</td>\n      <td>-1</td>\n      <td>2019-08-06 14:26:58.041</td>\n      <td>192</td>\n      <td>HRC</td>\n      <td>SID</td>\n    </tr>\n    <tr>\n      <th>8</th>\n      <td>2019-08-06</td>\n      <td>14:27:01.042</td>\n      <td>PAN_TC_PIU_HRC</td>\n      <td>174</td>\n      <td>0</td>\n      <td>9</td>\n      <td>0</td>\n      <td>5</td>\n      <td>14</td>\n      <td>0</td>\n      <td>0</td>\n      <td>0</td>\n      <td>0</td>\n      <td>-1</td>\n      <td>2019-08-06 14:27:01.042</td>\n      <td>192</td>\n      <td>HRC</td>\n      <td>Reg 4</td>\n    </tr>\n    <tr>\n      <th>9</th>\n      <td>2019-08-06</td>\n      <td>14:27:08.443</td>\n      <td>PAN_TC_PIU_HRC</td>\n      <td>174</td>\n      <td>0</td>\n      <td>10</td>\n      <td>0</td>\n      <td>5</td>\n      <td>2</td>\n      <td>0</td>\n      <td>0</td>\n      <td>0</td>\n      <td>0</td>\n      <td>-1</td>\n      <td>2019-08-06 14:27:08.443</td>\n      <td>192</td>\n      <td>HRC</td>\n      <td>CS</td>\n    </tr>\n  </tbody>\n</table>\n</div>"
     },
     "metadata": {},
     "execution_count": 12
    }
   ],
   "source": [
    "TC['CAM_CMD'] = hrc[5].replace(hrc_cmd_dict)\n",
    "TC.head(10)"
   ]
  },
  {
   "cell_type": "code",
   "execution_count": 19,
   "metadata": {},
   "outputs": [
    {
     "output_type": "execute_result",
     "data": {
      "text/plain": "         Date           Time         Description    0   1  2  3  4  5  6    7  \\\n0  2019-08-06  14:25:59.209    PAN_TC_PIU_STIME   168   0  1  0  6  0  8  179   \n1  2019-08-06  14:26:26.924       PAN_TC_PIU_CE   168   8  2  0  5  3  0    0   \n2  2019-08-06  14:26:27.911       PAN_TC_PIU_PE   168  16  3  0  5  3  0    0   \n3  2019-08-06  14:26:32.911      PAN_TC_PIU_HRC   174   0  4  0  5  2  0    0   \n4  2019-08-06  14:26:53.241      PAN_TC_PIU_HRC   174   0  5  0  5  2  0    0   \n\n     8  9  10                      DT  BID  ACTION Cam_Cmd  \n0  247  3  65 2019-08-06 14:25:59.209    0  STIME      NaN  \n1    0  0  -1 2019-08-06 14:26:26.924    1     CE      NaN  \n2    0  0  -1 2019-08-06 14:26:27.911    2     PE      NaN  \n3    0  0  -1 2019-08-06 14:26:32.911  192    HRC      RCS  \n4    0  0  -1 2019-08-06 14:26:53.241  192    HRC      RCS  ",
      "text/html": "<div>\n<style scoped>\n    .dataframe tbody tr th:only-of-type {\n        vertical-align: middle;\n    }\n\n    .dataframe tbody tr th {\n        vertical-align: top;\n    }\n\n    .dataframe thead th {\n        text-align: right;\n    }\n</style>\n<table border=\"1\" class=\"dataframe\">\n  <thead>\n    <tr style=\"text-align: right;\">\n      <th></th>\n      <th>Date</th>\n      <th>Time</th>\n      <th>Description</th>\n      <th>0</th>\n      <th>1</th>\n      <th>2</th>\n      <th>3</th>\n      <th>4</th>\n      <th>5</th>\n      <th>6</th>\n      <th>7</th>\n      <th>8</th>\n      <th>9</th>\n      <th>10</th>\n      <th>DT</th>\n      <th>BID</th>\n      <th>ACTION</th>\n      <th>Cam_Cmd</th>\n    </tr>\n  </thead>\n  <tbody>\n    <tr>\n      <th>0</th>\n      <td>2019-08-06</td>\n      <td>14:25:59.209</td>\n      <td>PAN_TC_PIU_STIME</td>\n      <td>168</td>\n      <td>0</td>\n      <td>1</td>\n      <td>0</td>\n      <td>6</td>\n      <td>0</td>\n      <td>8</td>\n      <td>179</td>\n      <td>247</td>\n      <td>3</td>\n      <td>65</td>\n      <td>2019-08-06 14:25:59.209</td>\n      <td>0</td>\n      <td>STIME</td>\n      <td>NaN</td>\n    </tr>\n    <tr>\n      <th>1</th>\n      <td>2019-08-06</td>\n      <td>14:26:26.924</td>\n      <td>PAN_TC_PIU_CE</td>\n      <td>168</td>\n      <td>8</td>\n      <td>2</td>\n      <td>0</td>\n      <td>5</td>\n      <td>3</td>\n      <td>0</td>\n      <td>0</td>\n      <td>0</td>\n      <td>0</td>\n      <td>-1</td>\n      <td>2019-08-06 14:26:26.924</td>\n      <td>1</td>\n      <td>CE</td>\n      <td>NaN</td>\n    </tr>\n    <tr>\n      <th>2</th>\n      <td>2019-08-06</td>\n      <td>14:26:27.911</td>\n      <td>PAN_TC_PIU_PE</td>\n      <td>168</td>\n      <td>16</td>\n      <td>3</td>\n      <td>0</td>\n      <td>5</td>\n      <td>3</td>\n      <td>0</td>\n      <td>0</td>\n      <td>0</td>\n      <td>0</td>\n      <td>-1</td>\n      <td>2019-08-06 14:26:27.911</td>\n      <td>2</td>\n      <td>PE</td>\n      <td>NaN</td>\n    </tr>\n    <tr>\n      <th>3</th>\n      <td>2019-08-06</td>\n      <td>14:26:32.911</td>\n      <td>PAN_TC_PIU_HRC</td>\n      <td>174</td>\n      <td>0</td>\n      <td>4</td>\n      <td>0</td>\n      <td>5</td>\n      <td>2</td>\n      <td>0</td>\n      <td>0</td>\n      <td>0</td>\n      <td>0</td>\n      <td>-1</td>\n      <td>2019-08-06 14:26:32.911</td>\n      <td>192</td>\n      <td>HRC</td>\n      <td>RCS</td>\n    </tr>\n    <tr>\n      <th>4</th>\n      <td>2019-08-06</td>\n      <td>14:26:53.241</td>\n      <td>PAN_TC_PIU_HRC</td>\n      <td>174</td>\n      <td>0</td>\n      <td>5</td>\n      <td>0</td>\n      <td>5</td>\n      <td>2</td>\n      <td>0</td>\n      <td>0</td>\n      <td>0</td>\n      <td>0</td>\n      <td>-1</td>\n      <td>2019-08-06 14:26:53.241</td>\n      <td>192</td>\n      <td>HRC</td>\n      <td>RCS</td>\n    </tr>\n  </tbody>\n</table>\n</div>"
     },
     "metadata": {},
     "execution_count": 19
    }
   ],
   "source": [
    "file = \"Cal_TC.pickle\"\n",
    "cal = pd.read_pickle(wkdir / file)\n",
    "cal.head()"
   ]
  },
  {
   "cell_type": "code",
   "execution_count": 26,
   "metadata": {},
   "outputs": [
    {
     "output_type": "stream",
     "name": "stdout",
     "text": "0      1\n1      1\n2      1\n3     -1\n4     -1\n      ..\n264   -1\n265    1\n266    1\n267    1\n268    1\nName: Cam_Cmd, Length: 269, dtype: int64\n"
    }
   ],
   "source": [
    "level = cal['Cam_Cmd'].apply(lambda x: -1 if x==\"RCS\" else 1)\n",
    "print(level)"
   ]
  },
  {
   "cell_type": "code",
   "execution_count": 27,
   "metadata": {},
   "outputs": [
    {
     "output_type": "execute_result",
     "data": {
      "text/plain": "1"
     },
     "metadata": {},
     "execution_count": 27
    }
   ],
   "source": [
    "level[0]"
   ]
  },
  {
   "cell_type": "code",
   "execution_count": 30,
   "metadata": {},
   "outputs": [
    {
     "output_type": "stream",
     "name": "stdout",
     "text": "3\n"
    }
   ],
   "source": [
    "hrc_tc_cs = next(i for i,v in enumerate(level) if v==-1)\n",
    "print(hrc_tc_cs)"
   ]
  },
  {
   "cell_type": "code",
   "execution_count": 38,
   "metadata": {},
   "outputs": [
    {
     "output_type": "execute_result",
     "data": {
      "text/plain": "Index(['DT', 'Block_Type', 'TM_Criticality', 'MMS_Dest', 'Instr_ID',\n       'TM_Type_ID', 'Seq_Flag', 'Pkt_CUC', 'Data_Len', 'Volt_Ref', 'Volt_6V0',\n       'Volt_1V5', 'Temp_LFW', 'Temp_RFW', 'Temp_HRC', 'Temp_LWAC',\n       'Temp_RWAC', 'Temp_LDO', 'Temp_HRCA', 'Stat_Temp_On', 'Stat_Temp_Mo',\n       'Stat_Temp_He', 'Stat_Temp_Se', 'ERR_1_CMD', 'ERR_1_FW', 'ERR_2_LWAC',\n       'ERR_2_RWAC', 'ERR_3_HRC', 'Stat_FWL_Op', 'Stat_FWL_Ho', 'Stat_FWL_Id',\n       'Stat_FWL_Po', 'Stat_FWR_Op', 'Stat_FWR_Ho', 'Stat_FWR_Id',\n       'Stat_FWR_Po', 'FWL_ABS', 'FWR_ABS', 'FWL_REL', 'FWR_REL',\n       'Stat_PIU_En', 'Stat_PIU_Pw', 'IMG_SOL', 'IMG_Task_ID', 'IMG_Task_RNO',\n       'IMG_Cam', 'IMG_FW', 'IMG_No', 'PIU_Ver', 'FWL_RTi', 'FWL_Spe',\n       'FWR_Spe', 'FWL_Cur', 'FWR_Cur', 'FWR_RTi', 'FWL_StL', 'FWR_StR',\n       'HRC_ACK', 'HRC_CS', 'HRC_TP', 'HRC_ENC', 'HRC_EPF', 'HRC_AIF',\n       'HRC_AFF', 'HRC_MMF', 'HRC_IFC', 'HRC_GA', 'HRC_ESF', 'HRC_EIF',\n       'HRC_ERR_EN', 'HRC_ERR_AI', 'HRC_ERR_AF', 'HRC_MD_STP', 'HRC_MD_INT',\n       'HRC_MD_FXC', 'HRC_MD_FYC', 'HRC_MD_SFS', 'HRC_MD_FWZ', 'HRC_Res_CA'],\n      dtype='object')"
     },
     "metadata": {},
     "execution_count": 38
    }
   ],
   "source": [
    "file = \"RAW_HKTM.pickle\"\n",
    "hk = pd.read_pickle(wkdir / file)\n",
    "hk.columns"
   ]
  },
  {
   "cell_type": "code",
   "execution_count": 46,
   "metadata": {},
   "outputs": [
    {
     "output_type": "execute_result",
     "data": {
      "text/plain": "                        DT  TM_Type_ID  HRC_ENC\n35 2019-10-02 09:47:00.007           1      NaN\n36 2019-10-02 09:47:01.007           1      NaN\n37 2019-10-02 09:47:02.007           1      NaN\n38 2019-10-02 09:47:03.007           0      NaN\n39 2019-10-02 09:47:04.007           0     1023\n40 2019-10-02 09:47:05.007           0     1023\n41 2019-10-02 09:47:06.007           0     1023\n42 2019-10-02 09:47:07.007           0     1023\n43 2019-10-02 09:47:08.007           0     1023\n44 2019-10-02 09:47:09.007           0      NaN\n45 2019-10-02 09:47:10.007           0     1023\n46 2019-10-02 09:47:11.007           0     1023\n47 2019-10-02 09:47:12.007           0      NaN\n48 2019-10-02 09:47:13.007           0      NaN\n49 2019-10-02 09:47:14.007           0      NaN\n50 2019-10-02 09:47:15.007           0     1023\n51 2019-10-02 09:47:16.007           0     1023\n52 2019-10-02 09:47:17.007           0     1023\n53 2019-10-02 09:47:18.007           0      NaN\n54 2019-10-02 09:47:19.007           0      NaN",
      "text/html": "<div>\n<style scoped>\n    .dataframe tbody tr th:only-of-type {\n        vertical-align: middle;\n    }\n\n    .dataframe tbody tr th {\n        vertical-align: top;\n    }\n\n    .dataframe thead th {\n        text-align: right;\n    }\n</style>\n<table border=\"1\" class=\"dataframe\">\n  <thead>\n    <tr style=\"text-align: right;\">\n      <th></th>\n      <th>DT</th>\n      <th>TM_Type_ID</th>\n      <th>HRC_ENC</th>\n    </tr>\n  </thead>\n  <tbody>\n    <tr>\n      <th>35</th>\n      <td>2019-10-02 09:47:00.007</td>\n      <td>1</td>\n      <td>NaN</td>\n    </tr>\n    <tr>\n      <th>36</th>\n      <td>2019-10-02 09:47:01.007</td>\n      <td>1</td>\n      <td>NaN</td>\n    </tr>\n    <tr>\n      <th>37</th>\n      <td>2019-10-02 09:47:02.007</td>\n      <td>1</td>\n      <td>NaN</td>\n    </tr>\n    <tr>\n      <th>38</th>\n      <td>2019-10-02 09:47:03.007</td>\n      <td>0</td>\n      <td>NaN</td>\n    </tr>\n    <tr>\n      <th>39</th>\n      <td>2019-10-02 09:47:04.007</td>\n      <td>0</td>\n      <td>1023</td>\n    </tr>\n    <tr>\n      <th>40</th>\n      <td>2019-10-02 09:47:05.007</td>\n      <td>0</td>\n      <td>1023</td>\n    </tr>\n    <tr>\n      <th>41</th>\n      <td>2019-10-02 09:47:06.007</td>\n      <td>0</td>\n      <td>1023</td>\n    </tr>\n    <tr>\n      <th>42</th>\n      <td>2019-10-02 09:47:07.007</td>\n      <td>0</td>\n      <td>1023</td>\n    </tr>\n    <tr>\n      <th>43</th>\n      <td>2019-10-02 09:47:08.007</td>\n      <td>0</td>\n      <td>1023</td>\n    </tr>\n    <tr>\n      <th>44</th>\n      <td>2019-10-02 09:47:09.007</td>\n      <td>0</td>\n      <td>NaN</td>\n    </tr>\n    <tr>\n      <th>45</th>\n      <td>2019-10-02 09:47:10.007</td>\n      <td>0</td>\n      <td>1023</td>\n    </tr>\n    <tr>\n      <th>46</th>\n      <td>2019-10-02 09:47:11.007</td>\n      <td>0</td>\n      <td>1023</td>\n    </tr>\n    <tr>\n      <th>47</th>\n      <td>2019-10-02 09:47:12.007</td>\n      <td>0</td>\n      <td>NaN</td>\n    </tr>\n    <tr>\n      <th>48</th>\n      <td>2019-10-02 09:47:13.007</td>\n      <td>0</td>\n      <td>NaN</td>\n    </tr>\n    <tr>\n      <th>49</th>\n      <td>2019-10-02 09:47:14.007</td>\n      <td>0</td>\n      <td>NaN</td>\n    </tr>\n    <tr>\n      <th>50</th>\n      <td>2019-10-02 09:47:15.007</td>\n      <td>0</td>\n      <td>1023</td>\n    </tr>\n    <tr>\n      <th>51</th>\n      <td>2019-10-02 09:47:16.007</td>\n      <td>0</td>\n      <td>1023</td>\n    </tr>\n    <tr>\n      <th>52</th>\n      <td>2019-10-02 09:47:17.007</td>\n      <td>0</td>\n      <td>1023</td>\n    </tr>\n    <tr>\n      <th>53</th>\n      <td>2019-10-02 09:47:18.007</td>\n      <td>0</td>\n      <td>NaN</td>\n    </tr>\n    <tr>\n      <th>54</th>\n      <td>2019-10-02 09:47:19.007</td>\n      <td>0</td>\n      <td>NaN</td>\n    </tr>\n  </tbody>\n</table>\n</div>"
     },
     "metadata": {},
     "execution_count": 46
    }
   ],
   "source": [
    "hk[35:][['DT', 'TM_Type_ID', 'HRC_ENC']].head(20)"
   ]
  },
  {
   "cell_type": "code",
   "execution_count": null,
   "metadata": {},
   "outputs": [],
   "source": []
  }
 ]
}