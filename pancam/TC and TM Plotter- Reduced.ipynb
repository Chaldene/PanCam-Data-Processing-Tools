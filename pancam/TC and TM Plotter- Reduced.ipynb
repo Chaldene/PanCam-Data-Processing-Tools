{
 "cells": [
  {
   "cell_type": "code",
   "execution_count": 1,
   "metadata": {},
   "outputs": [
    {
     "ename": "NameError",
     "evalue": "name 'df' is not defined",
     "output_type": "error",
     "traceback": [
      "\u001b[1;31m---------------------------------------------------------------------------\u001b[0m",
      "\u001b[1;31mNameError\u001b[0m                                 Traceback (most recent call last)",
      "\u001b[1;32m<ipython-input-1-cb05c3578e21>\u001b[0m in \u001b[0;36m<module>\u001b[1;34m\u001b[0m\n\u001b[0;32m      1\u001b[0m \u001b[1;31m# Filter Wheel Speed\u001b[0m\u001b[1;33m\u001b[0m\u001b[1;33m\u001b[0m\u001b[1;33m\u001b[0m\u001b[0m\n\u001b[1;32m----> 2\u001b[1;33m \u001b[0mspd\u001b[0m \u001b[1;33m=\u001b[0m \u001b[1;33m(\u001b[0m\u001b[0mdf\u001b[0m\u001b[1;33m.\u001b[0m\u001b[0miloc\u001b[0m\u001b[1;33m[\u001b[0m\u001b[1;36m0\u001b[0m\u001b[1;33m,\u001b[0m\u001b[1;36m80\u001b[0m\u001b[1;33m:\u001b[0m\u001b[1;36m82\u001b[0m\u001b[1;33m]\u001b[0m\u001b[1;33m)\u001b[0m\u001b[1;33m\u001b[0m\u001b[1;33m\u001b[0m\u001b[0m\n\u001b[0m\u001b[0;32m      3\u001b[0m \u001b[0mspd_chn\u001b[0m \u001b[1;33m=\u001b[0m \u001b[1;33m(\u001b[0m\u001b[0mdf\u001b[0m\u001b[1;33m[\u001b[0m\u001b[1;36m80\u001b[0m\u001b[1;33m]\u001b[0m\u001b[1;33m.\u001b[0m\u001b[0mnunique\u001b[0m\u001b[1;33m(\u001b[0m\u001b[1;33m)\u001b[0m \u001b[1;33m==\u001b[0m \u001b[1;36m1\u001b[0m\u001b[1;33m)\u001b[0m \u001b[1;33m&\u001b[0m \u001b[1;33m(\u001b[0m\u001b[0mdf\u001b[0m\u001b[1;33m[\u001b[0m\u001b[1;36m81\u001b[0m\u001b[1;33m]\u001b[0m\u001b[1;33m.\u001b[0m\u001b[0mnunique\u001b[0m\u001b[1;33m(\u001b[0m\u001b[1;33m)\u001b[0m \u001b[1;33m==\u001b[0m \u001b[1;36m1\u001b[0m\u001b[1;33m)\u001b[0m\u001b[1;33m\u001b[0m\u001b[1;33m\u001b[0m\u001b[0m\n\u001b[0;32m      4\u001b[0m \u001b[0mprint\u001b[0m\u001b[1;33m(\u001b[0m\u001b[1;34m\"Fwl Speed  :\"\u001b[0m\u001b[1;33m,\u001b[0m \u001b[0mspd\u001b[0m\u001b[1;33m.\u001b[0m\u001b[0mvalues\u001b[0m\u001b[1;33m,\u001b[0m \u001b[1;34m\"\\t Unchanged: \"\u001b[0m\u001b[1;33m,\u001b[0m \u001b[0mspd_chn\u001b[0m\u001b[1;33m)\u001b[0m\u001b[1;33m\u001b[0m\u001b[1;33m\u001b[0m\u001b[0m\n\u001b[0;32m      5\u001b[0m \u001b[1;33m\u001b[0m\u001b[0m\n",
      "\u001b[1;31mNameError\u001b[0m: name 'df' is not defined"
     ]
    }
   ],
   "source": [
    "# Filter Wheel Speed\n",
    "spd = (df.iloc[0,80:82])\n",
    "spd_chn = (df[80].nunique() == 1) & (df[81].nunique() == 1)\n",
    "print(\"Fwl Speed  :\", spd.values, \"\\t Unchanged: \", spd_chn)\n",
    "\n",
    "# Filter Wheel Current\n",
    "lfw = (df.iloc[0,82:84])\n",
    "lfw_chn = (df[82].nunique() == 1) & (df[83].nunique() == 1)\n",
    "print(\"LFW Current:\", lfw.values, \"\\t Unchanged: \", lfw_chn)\n",
    "\n",
    "rfw = (df.iloc[0,84:86])\n",
    "rfw_chn = (df[84].nunique() == 1) & (df[85].nunique() == 1)\n",
    "print(\"RFW Current:\", rfw.values, \"\\t Unchanged: \", rfw_chn)\n",
    "\n",
    "# Step Level Factor\n",
    "stp = (df.iloc[0,86:88])\n",
    "stp_chn = (df[86].nunique() == 1) & (df[87].nunique() == 1)\n",
    "print(\"Step Lvl   :\", stp.values, \"\\t Unchanged: \", stp_chn)"
   ]
  },
  {
   "cell_type": "markdown",
   "metadata": {},
   "source": [
    "# WAC Decoding\n",
    "## Housekeeping"
   ]
  },
  {
   "cell_type": "code",
   "execution_count": 12,
   "metadata": {},
   "outputs": [
    {
     "name": "stdout",
     "output_type": "stream",
     "text": [
      "Start MRK always 0x1: True\n",
      "Memory Check Performed:  False\n"
     ]
    }
   ],
   "source": [
    "WHK = df[(df[44]&0xC0==0x40) & ((df[43]==0x1) | (df[43]==0x2))] # Filter HK by 01 in 1st Cam byte and PWR Mode = 1 or 2\n",
    "\n",
    "# Start Marker\n",
    "sm_chn = (WHK[44]&0x20==0x20).nunique() == 1\n",
    "print(\"Start MRK always 0x1:\", sm_chn)\n",
    "\n",
    "# Memory Checks\n",
    "mc = (WHK[44]&0x18).unique()\n",
    "mc_chn = (1 in mc) or (2 in mc)\n",
    "print(\"Memory Check Performed: \", mc_chn)\n",
    "\n",
    "if 1 in mc:\n",
    "    print(\"    Memory Check Successful Reported\")\n",
    "if 2 in mc:\n",
    "    print(\"    Memory Check Failure Reported\")"
   ]
  }
 ],
 "metadata": {
  "kernelspec": {
   "display_name": "Python 3",
   "language": "python",
   "name": "python3"
  },
  "language_info": {
   "codemirror_mode": {
    "name": "ipython",
    "version": 3
   },
   "file_extension": ".py",
   "mimetype": "text/x-python",
   "name": "python",
   "nbconvert_exporter": "python",
   "pygments_lexer": "ipython3",
   "version": "3.7.6"
  }
 },
 "nbformat": 4,
 "nbformat_minor": 2
}
