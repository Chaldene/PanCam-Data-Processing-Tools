{
 "cells": [
  {
   "cell_type": "code",
   "execution_count": 2,
   "metadata": {},
   "outputs": [],
   "source": [
    "## Extract payload information from logbook.\n",
    "from pathlib import Path\n",
    "import csv\n",
    "\n",
    "wdir = Path(r'C:\\Users\\ucasbwh\\OneDrive - University College London\\PanCam Documents\\SWIS\\200525 SWIS L2 TAS-I Candidate\\PanCam_v1.9.9\\NSVF Log')\n",
    "file = 'logbook.log'\n",
    "logbook = wdir / file"
   ]
  },
  {
   "cell_type": "code",
   "execution_count": 9,
   "metadata": {},
   "outputs": [
    {
     "output_type": "stream",
     "name": "stdout",
     "text": "['0.000000000 SRT', '01/01/1970 00:00:00.000 Epoch', '1590393030.738049000 Zulu', '0', 'exo.payloadIf', 'Created instance of PANCAM']\n['0.000000000 SRT', '01/01/1970 00:00:00.000 Epoch', '1590393030.738094000 Zulu', '0', 'exo.payloadIf', '[INFO] Registering numerical power line input PCDE-LCLA-07, source port PCDE-LCLA-07_v, destination port lclPwrLine[2], destination equipment exo.rv.eps.pcde.pdu.distributionNonRed']\n"
    }
   ],
   "source": [
    "value = 'exo.payloadIf'\n",
    "\n",
    "with open(logbook, 'r') as log:\n",
    "        reader = csv.reader(log, delimiter='\\t')\n",
    "        for row in range(503):\n",
    "            reader.__next__()\n",
    "        line = reader.__next__()\n",
    "        if line[4] == value:\n",
    "            print(line)\n",
    "        line = reader.__next__()\n",
    "        if line[4] == value:\n",
    "            print(line)"
   ]
  },
  {
   "cell_type": "code",
   "execution_count": null,
   "metadata": {},
   "outputs": [],
   "source": []
  }
 ],
 "metadata": {
  "language_info": {
   "codemirror_mode": {
    "name": "ipython",
    "version": 3
   },
   "file_extension": ".py",
   "mimetype": "text/x-python",
   "name": "python",
   "nbconvert_exporter": "python",
   "pygments_lexer": "ipython3",
   "version": "3.7.6-final"
  },
  "orig_nbformat": 2,
  "kernelspec": {
   "name": "python37664bitpancampipenv0d01ee2ab26f4337bbe2c8c126b3b8a8",
   "display_name": "Python 3.7.6 64-bit ('pancam': pipenv)"
  }
 },
 "nbformat": 4,
 "nbformat_minor": 2
}