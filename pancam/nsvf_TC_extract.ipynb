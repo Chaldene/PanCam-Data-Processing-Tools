{
 "cells": [
  {
   "cell_type": "code",
   "execution_count": 6,
   "metadata": {},
   "outputs": [],
   "source": [
    "## Extract raw TCs from the TC response list already determined.\n",
    "\n",
    "from pathlib import Path\n",
    "import csv\n",
    "\n",
    "wdir = Path(r'C:\\Users\\ucasbwh\\Desktop\\NSVF Log')\n",
    "\n",
    "packet_log = wdir / 'Router_A_packet.log'\n",
    "responses = wdir / 'PROC' / 'TC_Responses.txt'"
   ]
  },
  {
   "cell_type": "code",
   "execution_count": 7,
   "metadata": {},
   "outputs": [
    {
     "output_type": "stream",
     "name": "stdout",
     "text": "67\n[564:560:002:666]\n"
    }
   ],
   "source": [
    "with open(responses, 'r') as resp:\n",
    "    reader = csv.reader(resp, delimiter=' ')\n",
    "    row = reader.__next__()\n",
    "    row = reader.__next__()\n",
    "    trans_id = row[10]\n",
    "    trans_time = row[0]\n",
    "    print(trans_id)\n",
    "    print(trans_time)"
   ]
  },
  {
   "cell_type": "code",
   "execution_count": 8,
   "metadata": {},
   "outputs": [
    {
     "output_type": "stream",
     "name": "stdout",
     "text": "['[564:556:000:000]', '[IN=08]', '[SZ=0027]', ':', '41', '01', '7C', '31', '21', '00', '67', '00', '00', '00', '00', '00', '00', '00', '0A', '4E', 'A8', '50', '01', '00', '05', '00', '10', '40', 'C0', '00', 'FA', '[EOP]']\n"
    }
   ],
   "source": [
    "with open(packet_log, 'r') as log:\n",
    "    reader = csv.reader(log, delimiter=' ')\n",
    "    for row in reader:\n",
    "        if row[1] != '[IN=08]':\n",
    "            continue\n",
    "        if len(row) < 32:\n",
    "            continue\n",
    "        if row[10] != trans_id:\n",
    "            continue\n",
    "        print(row)"
   ]
  },
  {
   "cell_type": "code",
   "execution_count": 9,
   "metadata": {},
   "outputs": [],
   "source": [
    "tc_list = []\n",
    "\n",
    "with open(packet_log, 'r') as packets:\n",
    "    log_reader = csv.reader(packets, delimiter=' ')\n",
    "    for row in log_reader:\n",
    "        if row[1] != '[IN=08]':\n",
    "            continue\n",
    "        if len(row) < 32:\n",
    "            continue\n",
    "        tc_list.append(row)"
   ]
  },
  {
   "cell_type": "code",
   "execution_count": 18,
   "metadata": {},
   "outputs": [
    {
     "output_type": "stream",
     "name": "stdout",
     "text": "4C  :  1\n67  :  1\n58  :  1\nF1  :  1\n4A  :  1\n68  :  1\n85  :  1\n9E  :  1\n94  :  1\nAF  :  1\nF7  :  1\n1B  :  1\n5F  :  1\n7D  :  1\nA3  :  1\nFD  :  1\n18  :  1\n02  :  1\n1C  :  1\nCD  :  1\nD6  :  1\nEF  :  1\n0C  :  1\n22  :  1\n3C  :  1\nF5  :  1\n20  :  1\n74  :  1\n88  :  1\nDB  :  1\n2A  :  1\n7C  :  1\nCF  :  1\n17  :  1\n5F  :  1\n62  :  1\n7C  :  1\nD8  :  1\nFB  :  1\n"
    }
   ],
   "source": [
    "output_file = wdir / 'PROC' / 'TC.txt'\n",
    "f_acc = open(output_file, 'w', newline='')\n",
    "f_wri = csv.writer(f_acc, delimiter=' ')\n",
    "\n",
    "with open(responses, 'r') as resp:\n",
    "    reader = csv.reader(resp, delimiter=' ')\n",
    "    for tc_resp in reader:\n",
    "        trans_id = tc_resp[10]\n",
    "        trans_time = tc_resp[0][:2]\n",
    "        count = 0\n",
    "        for tc in tc_list:\n",
    "            if tc[10] != trans_id:\n",
    "                continue\n",
    "            if tc[0][:2] != trans_time:\n",
    "                continue\n",
    "            count += 1\n",
    "            f_wri.writerow(tc)\n",
    "            if count != 1:\n",
    "                print(\"More than 1\")\n",
    "        print(trans_id, ' : ', count)\n",
    "\n",
    "f_acc.close()"
   ]
  },
  {
   "cell_type": "code",
   "execution_count": 5,
   "metadata": {},
   "outputs": [
    {
     "output_type": "stream",
     "name": "stdout",
     "text": "39\n"
    }
   ],
   "source": [
    "sublist = []\n",
    "\n",
    "with open(packet_log, 'r') as log:\n",
    "    reader = csv.reader(log, delimiter=' ')\n",
    "    for row in reader:\n",
    "        if row[1] != '[IN=08]':\n",
    "            continue\n",
    "        if len(row) < 32:\n",
    "            continue\n",
    "        sublist.append(row)\n",
    "\n",
    "print(len(sublist))"
   ]
  },
  {
   "cell_type": "code",
   "execution_count": 26,
   "metadata": {},
   "outputs": [
    {
     "output_type": "execute_result",
     "data": {
      "text/plain": "           Date           Time        Description    0   1   2  3   4    5  \\\n200  2019-07-11  11:55:38.449    PAN_TC_PIU_WACR   172   0  22  0  12   97   \n201  2019-07-11  11:55:39.500    PAN_TC_PIU_WACR   172   0  23  0  12   97   \n202  2019-07-11  11:55:40.550    PAN_TC_PIU_WACR   172   0  24  0  12   97   \n203  2019-07-11  11:55:41.599    PAN_TC_PIU_WACR   172   0  25  0  12   97   \n204  2019-07-11  11:55:42.650    PAN_TC_PIU_WACR   172   0  26  0  12   97   \n205  2019-07-11  11:55:43.699    PAN_TC_PIU_WACR   172   0  27  0  12   97   \n206  2019-07-11  11:55:44.750    PAN_TC_PIU_WACR   172   0  28  0  12   97   \n207  2019-07-11  11:55:45.800    PAN_TC_PIU_WACR   172   0  29  0  12   97   \n208  2019-07-11  11:55:47.599    PAN_TC_PIU_WACR   172   0  30  0  12  161   \n209  2019-07-11  11:56:23.137    PAN_TC_PIU_ICON   168  88  31  0   5    1   \n210  2019-07-11  11:56:24.335    PAN_TC_PIU_WACR   172   0  32  0  12   97   \n211  2019-07-11  11:56:25.486    PAN_TC_PIU_WACR   172   0  33  0  12   49   \n212  2019-07-11  11:56:26.685    PAN_TC_PIU_WACR   172   0  34  0  12   97   \n213  2019-07-11  11:56:27.736    PAN_TC_PIU_WACR   172   0  35  0  12   97   \n214  2019-07-11  11:56:28.785    PAN_TC_PIU_WACR   172   0  36  0  12   97   \n215  2019-07-11  11:56:30.285    PAN_TC_PIU_WACR   172   0  37  0  12  161   \n216  2019-07-11  11:57:37.214    PAN_TC_PIU_WACR   172   0  38  0  12   97   \n217  2019-07-11  11:58:54.214    PAN_TC_PIU_WACR   172   0  39  0  12   97   \n218  2019-07-11  11:59:09.214    PAN_TC_PIU_WACR   172   0  40  0  12   97   \n\n       6    7    8    9  10                      DT  BID ACTION  \n200    0    0    0    0   0 2019-07-11 11:55:38.449  128  WACR   \n201    0    0    0    0   0 2019-07-11 11:55:39.500  128  WACR   \n202    0    0    0    0   0 2019-07-11 11:55:40.550  128  WACR   \n203    0    0    0    0   0 2019-07-11 11:55:41.599  128  WACR   \n204    0    0    0    0   0 2019-07-11 11:55:42.650  128  WACR   \n205    0    0    0    0   0 2019-07-11 11:55:43.699  128  WACR   \n206    0    0    0    0   0 2019-07-11 11:55:44.750  128  WACR   \n207    0    0    0    0   0 2019-07-11 11:55:45.800  128  WACR   \n208    0   32    0    0   0 2019-07-11 11:55:47.599  128  WACR   \n209  255   95  224    0  -1 2019-07-11 11:56:23.137   11  ICON   \n210    0    0    0  128   0 2019-07-11 11:56:24.335  128  WACR   \n211    0   21  224    3   0 2019-07-11 11:56:25.486  128  WACR   \n212    0    0    0  128   0 2019-07-11 11:56:26.685  128  WACR   \n213    0    0    0  128   0 2019-07-11 11:56:27.736  128  WACR   \n214    0    0    0  128   0 2019-07-11 11:56:28.785  128  WACR   \n215    0  128    0    0   0 2019-07-11 11:56:30.285  128  WACR   \n216    2  141  153   32   0 2019-07-11 11:57:37.214  128  WACR   \n217    2  141  153   64   0 2019-07-11 11:58:54.214  128  WACR   \n218    2  141  153   96   0 2019-07-11 11:59:09.214  128  WACR   ",
      "text/html": "<div>\n<style scoped>\n    .dataframe tbody tr th:only-of-type {\n        vertical-align: middle;\n    }\n\n    .dataframe tbody tr th {\n        vertical-align: top;\n    }\n\n    .dataframe thead th {\n        text-align: right;\n    }\n</style>\n<table border=\"1\" class=\"dataframe\">\n  <thead>\n    <tr style=\"text-align: right;\">\n      <th></th>\n      <th>Date</th>\n      <th>Time</th>\n      <th>Description</th>\n      <th>0</th>\n      <th>1</th>\n      <th>2</th>\n      <th>3</th>\n      <th>4</th>\n      <th>5</th>\n      <th>6</th>\n      <th>7</th>\n      <th>8</th>\n      <th>9</th>\n      <th>10</th>\n      <th>DT</th>\n      <th>BID</th>\n      <th>ACTION</th>\n    </tr>\n  </thead>\n  <tbody>\n    <tr>\n      <th>200</th>\n      <td>2019-07-11</td>\n      <td>11:55:38.449</td>\n      <td>PAN_TC_PIU_WACR</td>\n      <td>172</td>\n      <td>0</td>\n      <td>22</td>\n      <td>0</td>\n      <td>12</td>\n      <td>97</td>\n      <td>0</td>\n      <td>0</td>\n      <td>0</td>\n      <td>0</td>\n      <td>0</td>\n      <td>2019-07-11 11:55:38.449</td>\n      <td>128</td>\n      <td>WACR</td>\n    </tr>\n    <tr>\n      <th>201</th>\n      <td>2019-07-11</td>\n      <td>11:55:39.500</td>\n      <td>PAN_TC_PIU_WACR</td>\n      <td>172</td>\n      <td>0</td>\n      <td>23</td>\n      <td>0</td>\n      <td>12</td>\n      <td>97</td>\n      <td>0</td>\n      <td>0</td>\n      <td>0</td>\n      <td>0</td>\n      <td>0</td>\n      <td>2019-07-11 11:55:39.500</td>\n      <td>128</td>\n      <td>WACR</td>\n    </tr>\n    <tr>\n      <th>202</th>\n      <td>2019-07-11</td>\n      <td>11:55:40.550</td>\n      <td>PAN_TC_PIU_WACR</td>\n      <td>172</td>\n      <td>0</td>\n      <td>24</td>\n      <td>0</td>\n      <td>12</td>\n      <td>97</td>\n      <td>0</td>\n      <td>0</td>\n      <td>0</td>\n      <td>0</td>\n      <td>0</td>\n      <td>2019-07-11 11:55:40.550</td>\n      <td>128</td>\n      <td>WACR</td>\n    </tr>\n    <tr>\n      <th>203</th>\n      <td>2019-07-11</td>\n      <td>11:55:41.599</td>\n      <td>PAN_TC_PIU_WACR</td>\n      <td>172</td>\n      <td>0</td>\n      <td>25</td>\n      <td>0</td>\n      <td>12</td>\n      <td>97</td>\n      <td>0</td>\n      <td>0</td>\n      <td>0</td>\n      <td>0</td>\n      <td>0</td>\n      <td>2019-07-11 11:55:41.599</td>\n      <td>128</td>\n      <td>WACR</td>\n    </tr>\n    <tr>\n      <th>204</th>\n      <td>2019-07-11</td>\n      <td>11:55:42.650</td>\n      <td>PAN_TC_PIU_WACR</td>\n      <td>172</td>\n      <td>0</td>\n      <td>26</td>\n      <td>0</td>\n      <td>12</td>\n      <td>97</td>\n      <td>0</td>\n      <td>0</td>\n      <td>0</td>\n      <td>0</td>\n      <td>0</td>\n      <td>2019-07-11 11:55:42.650</td>\n      <td>128</td>\n      <td>WACR</td>\n    </tr>\n    <tr>\n      <th>205</th>\n      <td>2019-07-11</td>\n      <td>11:55:43.699</td>\n      <td>PAN_TC_PIU_WACR</td>\n      <td>172</td>\n      <td>0</td>\n      <td>27</td>\n      <td>0</td>\n      <td>12</td>\n      <td>97</td>\n      <td>0</td>\n      <td>0</td>\n      <td>0</td>\n      <td>0</td>\n      <td>0</td>\n      <td>2019-07-11 11:55:43.699</td>\n      <td>128</td>\n      <td>WACR</td>\n    </tr>\n    <tr>\n      <th>206</th>\n      <td>2019-07-11</td>\n      <td>11:55:44.750</td>\n      <td>PAN_TC_PIU_WACR</td>\n      <td>172</td>\n      <td>0</td>\n      <td>28</td>\n      <td>0</td>\n      <td>12</td>\n      <td>97</td>\n      <td>0</td>\n      <td>0</td>\n      <td>0</td>\n      <td>0</td>\n      <td>0</td>\n      <td>2019-07-11 11:55:44.750</td>\n      <td>128</td>\n      <td>WACR</td>\n    </tr>\n    <tr>\n      <th>207</th>\n      <td>2019-07-11</td>\n      <td>11:55:45.800</td>\n      <td>PAN_TC_PIU_WACR</td>\n      <td>172</td>\n      <td>0</td>\n      <td>29</td>\n      <td>0</td>\n      <td>12</td>\n      <td>97</td>\n      <td>0</td>\n      <td>0</td>\n      <td>0</td>\n      <td>0</td>\n      <td>0</td>\n      <td>2019-07-11 11:55:45.800</td>\n      <td>128</td>\n      <td>WACR</td>\n    </tr>\n    <tr>\n      <th>208</th>\n      <td>2019-07-11</td>\n      <td>11:55:47.599</td>\n      <td>PAN_TC_PIU_WACR</td>\n      <td>172</td>\n      <td>0</td>\n      <td>30</td>\n      <td>0</td>\n      <td>12</td>\n      <td>161</td>\n      <td>0</td>\n      <td>32</td>\n      <td>0</td>\n      <td>0</td>\n      <td>0</td>\n      <td>2019-07-11 11:55:47.599</td>\n      <td>128</td>\n      <td>WACR</td>\n    </tr>\n    <tr>\n      <th>209</th>\n      <td>2019-07-11</td>\n      <td>11:56:23.137</td>\n      <td>PAN_TC_PIU_ICON</td>\n      <td>168</td>\n      <td>88</td>\n      <td>31</td>\n      <td>0</td>\n      <td>5</td>\n      <td>1</td>\n      <td>255</td>\n      <td>95</td>\n      <td>224</td>\n      <td>0</td>\n      <td>-1</td>\n      <td>2019-07-11 11:56:23.137</td>\n      <td>11</td>\n      <td>ICON</td>\n    </tr>\n    <tr>\n      <th>210</th>\n      <td>2019-07-11</td>\n      <td>11:56:24.335</td>\n      <td>PAN_TC_PIU_WACR</td>\n      <td>172</td>\n      <td>0</td>\n      <td>32</td>\n      <td>0</td>\n      <td>12</td>\n      <td>97</td>\n      <td>0</td>\n      <td>0</td>\n      <td>0</td>\n      <td>128</td>\n      <td>0</td>\n      <td>2019-07-11 11:56:24.335</td>\n      <td>128</td>\n      <td>WACR</td>\n    </tr>\n    <tr>\n      <th>211</th>\n      <td>2019-07-11</td>\n      <td>11:56:25.486</td>\n      <td>PAN_TC_PIU_WACR</td>\n      <td>172</td>\n      <td>0</td>\n      <td>33</td>\n      <td>0</td>\n      <td>12</td>\n      <td>49</td>\n      <td>0</td>\n      <td>21</td>\n      <td>224</td>\n      <td>3</td>\n      <td>0</td>\n      <td>2019-07-11 11:56:25.486</td>\n      <td>128</td>\n      <td>WACR</td>\n    </tr>\n    <tr>\n      <th>212</th>\n      <td>2019-07-11</td>\n      <td>11:56:26.685</td>\n      <td>PAN_TC_PIU_WACR</td>\n      <td>172</td>\n      <td>0</td>\n      <td>34</td>\n      <td>0</td>\n      <td>12</td>\n      <td>97</td>\n      <td>0</td>\n      <td>0</td>\n      <td>0</td>\n      <td>128</td>\n      <td>0</td>\n      <td>2019-07-11 11:56:26.685</td>\n      <td>128</td>\n      <td>WACR</td>\n    </tr>\n    <tr>\n      <th>213</th>\n      <td>2019-07-11</td>\n      <td>11:56:27.736</td>\n      <td>PAN_TC_PIU_WACR</td>\n      <td>172</td>\n      <td>0</td>\n      <td>35</td>\n      <td>0</td>\n      <td>12</td>\n      <td>97</td>\n      <td>0</td>\n      <td>0</td>\n      <td>0</td>\n      <td>128</td>\n      <td>0</td>\n      <td>2019-07-11 11:56:27.736</td>\n      <td>128</td>\n      <td>WACR</td>\n    </tr>\n    <tr>\n      <th>214</th>\n      <td>2019-07-11</td>\n      <td>11:56:28.785</td>\n      <td>PAN_TC_PIU_WACR</td>\n      <td>172</td>\n      <td>0</td>\n      <td>36</td>\n      <td>0</td>\n      <td>12</td>\n      <td>97</td>\n      <td>0</td>\n      <td>0</td>\n      <td>0</td>\n      <td>128</td>\n      <td>0</td>\n      <td>2019-07-11 11:56:28.785</td>\n      <td>128</td>\n      <td>WACR</td>\n    </tr>\n    <tr>\n      <th>215</th>\n      <td>2019-07-11</td>\n      <td>11:56:30.285</td>\n      <td>PAN_TC_PIU_WACR</td>\n      <td>172</td>\n      <td>0</td>\n      <td>37</td>\n      <td>0</td>\n      <td>12</td>\n      <td>161</td>\n      <td>0</td>\n      <td>128</td>\n      <td>0</td>\n      <td>0</td>\n      <td>0</td>\n      <td>2019-07-11 11:56:30.285</td>\n      <td>128</td>\n      <td>WACR</td>\n    </tr>\n    <tr>\n      <th>216</th>\n      <td>2019-07-11</td>\n      <td>11:57:37.214</td>\n      <td>PAN_TC_PIU_WACR</td>\n      <td>172</td>\n      <td>0</td>\n      <td>38</td>\n      <td>0</td>\n      <td>12</td>\n      <td>97</td>\n      <td>2</td>\n      <td>141</td>\n      <td>153</td>\n      <td>32</td>\n      <td>0</td>\n      <td>2019-07-11 11:57:37.214</td>\n      <td>128</td>\n      <td>WACR</td>\n    </tr>\n    <tr>\n      <th>217</th>\n      <td>2019-07-11</td>\n      <td>11:58:54.214</td>\n      <td>PAN_TC_PIU_WACR</td>\n      <td>172</td>\n      <td>0</td>\n      <td>39</td>\n      <td>0</td>\n      <td>12</td>\n      <td>97</td>\n      <td>2</td>\n      <td>141</td>\n      <td>153</td>\n      <td>64</td>\n      <td>0</td>\n      <td>2019-07-11 11:58:54.214</td>\n      <td>128</td>\n      <td>WACR</td>\n    </tr>\n    <tr>\n      <th>218</th>\n      <td>2019-07-11</td>\n      <td>11:59:09.214</td>\n      <td>PAN_TC_PIU_WACR</td>\n      <td>172</td>\n      <td>0</td>\n      <td>40</td>\n      <td>0</td>\n      <td>12</td>\n      <td>97</td>\n      <td>2</td>\n      <td>141</td>\n      <td>153</td>\n      <td>96</td>\n      <td>0</td>\n      <td>2019-07-11 11:59:09.214</td>\n      <td>128</td>\n      <td>WACR</td>\n    </tr>\n  </tbody>\n</table>\n</div>"
     },
     "metadata": {},
     "execution_count": 26
    }
   ],
   "source": [
    "import pandas as pd\n",
    "\n",
    "unproc = Path(r'C:\\WDir\\PanCam EGSE\\Logs\\FS\\20190711_FFT_03\\20190711_110802_FFT_03_01\\PROC\\Unproc_TC.pickle')\n",
    "ref = pd.read_pickle(unproc)\n",
    "ref[200:].head(20)"
   ]
  },
  {
   "cell_type": "code",
   "execution_count": null,
   "metadata": {},
   "outputs": [],
   "source": [
    "# Determine DT\n",
    "# Extract BID\n",
    "# Extract ACTION\n",
    "# Split command columns"
   ]
  }
 ],
 "metadata": {
  "language_info": {
   "codemirror_mode": {
    "name": "ipython",
    "version": 3
   },
   "file_extension": ".py",
   "mimetype": "text/x-python",
   "name": "python",
   "nbconvert_exporter": "python",
   "pygments_lexer": "ipython3",
   "version": "3.7.6-final"
  },
  "orig_nbformat": 2,
  "kernelspec": {
   "name": "python37664bitpancampipenv0d01ee2ab26f4337bbe2c8c126b3b8a8",
   "display_name": "Python 3.7.6 64-bit ('pancam': pipenv)"
  }
 },
 "nbformat": 4,
 "nbformat_minor": 2
}